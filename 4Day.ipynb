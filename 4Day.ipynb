{
 "cells": [
  {
   "cell_type": "code",
   "execution_count": 11,
   "id": "c6cf16ef-25c0-4853-bec6-9c6cc2a47a47",
   "metadata": {},
   "outputs": [],
   "source": [
    "# 파일입출력 : open()함수\n",
    "# open(file, mode='r', buffering=None, encoding=None, errors=None, newline=None, closefd=True):\n",
    "f = open(\"test.txt\", \"w\", encoding =\"utf-8\" )\n",
    "f.write(\"1번째 줄입니다.\\n\");\n",
    "f.write(\"2번째 줄입니다.\\n\");\n",
    "f.write(\"3번째 줄입니다.\\n\");\n",
    "f.write(\"4번째 줄입니다.\\n\");\n",
    "f.write(\"5번째 줄입니다.\\n\");\n",
    "f.close()"
   ]
  },
  {
   "cell_type": "code",
   "execution_count": 13,
   "id": "c8c9b925-02dc-4bfc-b1b4-263e0335a7fb",
   "metadata": {},
   "outputs": [],
   "source": [
    "f = open(\"test.txt\", \"w\", encoding =\"utf-8\" )\n",
    "f.write(\"6번째 줄입니다.\\n\");\n",
    "f.write(\"7번째 줄입니다.\\n\");\n",
    "f.write(\"8번째 줄입니다.\\n\");\n",
    "f.write(\"9번째 줄입니다.\\n\");\n",
    "f.write(\"10번째 줄입니다.\\n\");\n",
    "f.close()"
   ]
  },
  {
   "cell_type": "code",
   "execution_count": 14,
   "id": "61958657-a95a-4b33-af4e-9703b3c85917",
   "metadata": {},
   "outputs": [],
   "source": [
    "f = open(\"test.txt\", \"a\", encoding =\"utf-8\" )\n",
    "for i in range(11, 21):\n",
    "    f.write(f\"{i}번째 줄입니다.\\n\");\n",
    "f.close()"
   ]
  },
  {
   "cell_type": "code",
   "execution_count": null,
   "id": "819bc520-cad6-40e4-a239-8e8f47abd750",
   "metadata": {},
   "outputs": [],
   "source": [
    "f = open(\"test.txt\", encoding =\"utf-8\")\n",
    "line = f.readline()\n",
    "print(line)"
   ]
  },
  {
   "cell_type": "code",
   "execution_count": null,
   "id": "7325440f-35aa-4dd1-bd18-8854ce0c692c",
   "metadata": {},
   "outputs": [],
   "source": [
    "line = f.readline()\n",
    "print(line)"
   ]
  },
  {
   "cell_type": "code",
   "execution_count": null,
   "id": "22921d8d-266e-4a29-acee-fc860076b0e6",
   "metadata": {},
   "outputs": [],
   "source": [
    "line = f.readline()\n",
    "print(line)\n",
    "line = f.readline()\n",
    "print(line)\n",
    "line = f.readline()\n",
    "print(line)\n",
    "line = f.readline()\n",
    "print(line)\n",
    "line = f.readline()\n",
    "print(line)\n",
    "line = f.readline()\n",
    "print(line)\n",
    "f.close()"
   ]
  },
  {
   "cell_type": "code",
   "execution_count": 50,
   "id": "302b57c6-c9d4-44b5-a72d-68bf6ac3da23",
   "metadata": {},
   "outputs": [
    {
     "name": "stdout",
     "output_type": "stream",
     "text": [
      "6번째 줄입니다.\n",
      "7번째 줄입니다.\n",
      "8번째 줄입니다.\n",
      "9번째 줄입니다.\n",
      "10번째 줄입니다.\n",
      "11번째 줄입니다.\n",
      "12번째 줄입니다.\n",
      "13번째 줄입니다.\n",
      "14번째 줄입니다.\n",
      "15번째 줄입니다.\n",
      "16번째 줄입니다.\n",
      "17번째 줄입니다.\n",
      "18번째 줄입니다.\n",
      "19번째 줄입니다.\n",
      "20번째 줄입니다.\n"
     ]
    }
   ],
   "source": [
    "f = open(\"test.txt\",\"r\",encoding =\"utf-8\")\n",
    "while True:\n",
    "    line = f.readline()\n",
    "    if not line:\n",
    "        break\n",
    "    print(line, end =\"\")\n",
    "f.close()"
   ]
  },
  {
   "cell_type": "code",
   "execution_count": 53,
   "id": "0eb473db-ed72-4c15-8001-598f0344cf5a",
   "metadata": {},
   "outputs": [
    {
     "name": "stdout",
     "output_type": "stream",
     "text": [
      "['6번째 줄입니다.\\n', '7번째 줄입니다.\\n', '8번째 줄입니다.\\n', '9번째 줄입니다.\\n', '10번째 줄입니다.\\n', '11번째 줄입니다.\\n', '12번째 줄입니다.\\n', '13번째 줄입니다.\\n', '14번째 줄입니다.\\n', '15번째 줄입니다.\\n', '16번째 줄입니다.\\n', '17번째 줄입니다.\\n', '18번째 줄입니다.\\n', '19번째 줄입니다.\\n', '20번째 줄입니다.\\n']\n",
      "6번째 줄입니다.\n",
      "7번째 줄입니다.\n",
      "8번째 줄입니다.\n",
      "9번째 줄입니다.\n",
      "10번째 줄입니다.\n",
      "11번째 줄입니다.\n",
      "12번째 줄입니다.\n",
      "13번째 줄입니다.\n",
      "14번째 줄입니다.\n",
      "15번째 줄입니다.\n",
      "16번째 줄입니다.\n",
      "17번째 줄입니다.\n",
      "18번째 줄입니다.\n",
      "19번째 줄입니다.\n",
      "20번째 줄입니다.\n",
      "\n"
     ]
    }
   ],
   "source": [
    "f = open(\"test.txt\",\"r\",encoding =\"utf-8\")\n",
    "lines = f.readlines()\n",
    "f.close()\n",
    "print(lines)\n",
    "print(\"\".join(lines))"
   ]
  },
  {
   "cell_type": "code",
   "execution_count": 54,
   "id": "8eb7fb1d-fc89-4e2c-a878-dcf903c36923",
   "metadata": {},
   "outputs": [
    {
     "name": "stdout",
     "output_type": "stream",
     "text": [
      "6번째 줄입니다.\n",
      "7번째 줄입니다.\n",
      "8번째 줄입니다.\n",
      "9번째 줄입니다.\n",
      "10번째 줄입니다.\n",
      "11번째 줄입니다.\n",
      "12번째 줄입니다.\n",
      "13번째 줄입니다.\n",
      "14번째 줄입니다.\n",
      "15번째 줄입니다.\n",
      "16번째 줄입니다.\n",
      "17번째 줄입니다.\n",
      "18번째 줄입니다.\n",
      "19번째 줄입니다.\n",
      "20번째 줄입니다.\n",
      "\n"
     ]
    }
   ],
   "source": [
    "f = open(\"test.txt\",\"r\",encoding =\"utf-8\")\n",
    "data = f.read()\n",
    "f.close()\n",
    "print(data)"
   ]
  },
  {
   "cell_type": "code",
   "execution_count": 59,
   "id": "524c8176-a918-484f-b367-78e54e71b124",
   "metadata": {},
   "outputs": [],
   "source": [
    "with open(\"test.txt\",\"w\",encoding =\"utf-8\") as f:\n",
    "    for i in range(1, 11):\n",
    "        f.write(f\"{i}번째 줄입니다.\\n\")"
   ]
  },
  {
   "cell_type": "code",
   "execution_count": 60,
   "id": "ed80907d-362b-4528-bf2f-fc5687f29bd2",
   "metadata": {},
   "outputs": [],
   "source": [
    "with open(\"test.txt\",\"a\",encoding =\"utf-8\") as f:\n",
    "    for i in range(11, 21):\n",
    "        f.write(f\"{i}번째 줄입니다.\\n\")"
   ]
  },
  {
   "cell_type": "code",
   "execution_count": null,
   "id": "9a416f53-be5f-4d05-8d78-d2527f2dfa7e",
   "metadata": {},
   "outputs": [],
   "source": [
    "with open(\"test.txt\",\"r\",encoding =\"utf-8\") as f:\n",
    "    data = f.read()\n",
    "print(data)"
   ]
  },
  {
   "cell_type": "code",
   "execution_count": 86,
   "id": "6e5e0608-5248-421f-a57a-59c709fdb969",
   "metadata": {},
   "outputs": [],
   "source": [
    "# class : 변수 ,함수를 하나로 묶은 것 \n",
    "class TestClass:\n",
    "    result = 1\n",
    "    def f(self, x):  ###메서드\n",
    "        result = 3 * x + 3\n",
    "        return result"
   ]
  },
  {
   "cell_type": "code",
   "execution_count": 87,
   "id": "b38d667a-bfb9-448a-a98b-5559090d56d0",
   "metadata": {},
   "outputs": [
    {
     "name": "stdout",
     "output_type": "stream",
     "text": [
      "1\n"
     ]
    }
   ],
   "source": [
    "i = 10\n",
    "a1 = TestClass()\n",
    "print(a1.result)\n",
    "a1.result = 10"
   ]
  },
  {
   "cell_type": "code",
   "execution_count": 88,
   "id": "27487672-14a4-4d6b-9e76-4a33e24ac8da",
   "metadata": {},
   "outputs": [
    {
     "name": "stdout",
     "output_type": "stream",
     "text": [
      "1\n"
     ]
    }
   ],
   "source": [
    "a2 = TestClass()\n",
    "print(a2.result)\n",
    "a2.result = 20"
   ]
  },
  {
   "cell_type": "code",
   "execution_count": 89,
   "id": "5f262495-26b5-4729-bc1d-489c577ddfca",
   "metadata": {},
   "outputs": [
    {
     "name": "stdout",
     "output_type": "stream",
     "text": [
      "1\n"
     ]
    }
   ],
   "source": [
    "a3 = TestClass()\n",
    "print(a3.result)\n",
    "a3.result = 30"
   ]
  },
  {
   "cell_type": "code",
   "execution_count": 82,
   "id": "23d71756-42a9-4a02-abc2-4d28c51756d7",
   "metadata": {},
   "outputs": [
    {
     "name": "stdout",
     "output_type": "stream",
     "text": [
      "10\n",
      "20\n",
      "30\n"
     ]
    }
   ],
   "source": [
    "print(a1.result)\n",
    "print(a2.result)\n",
    "print(a3.result)"
   ]
  },
  {
   "cell_type": "code",
   "execution_count": 90,
   "id": "0edcd6e0-b10b-4443-a059-5ed46f0a98c7",
   "metadata": {},
   "outputs": [
    {
     "name": "stdout",
     "output_type": "stream",
     "text": [
      "33\n",
      "63\n",
      "93\n"
     ]
    }
   ],
   "source": [
    "print(a1.f(10))\n",
    "print(a2.f(20))\n",
    "print(a3.f(30))"
   ]
  },
  {
   "cell_type": "code",
   "execution_count": 85,
   "id": "3c1939c8-13fc-4195-ae32-f18aee7ef6e6",
   "metadata": {},
   "outputs": [
    {
     "name": "stdout",
     "output_type": "stream",
     "text": [
      "10\n",
      "20\n",
      "30\n"
     ]
    }
   ],
   "source": [
    "print(a1.result)\n",
    "print(a2.result)\n",
    "print(a3.result)"
   ]
  },
  {
   "cell_type": "code",
   "execution_count": 98,
   "id": "295a99b0-b540-490e-a978-93290f737873",
   "metadata": {},
   "outputs": [],
   "source": [
    "class TestClass:\n",
    "    result = 1\n",
    "    def f(self, x):  ###메서드\n",
    "        result = 3 * x + 3\n",
    "        return result"
   ]
  },
  {
   "cell_type": "code",
   "execution_count": 99,
   "id": "628922ab-f399-4534-9d54-3be4eeed1bd6",
   "metadata": {},
   "outputs": [],
   "source": [
    "a1 = TestClass() # result f()\n",
    "a2 = TestClass() # result f()\n",
    "a3 = TestClass() # result f()"
   ]
  },
  {
   "cell_type": "code",
   "execution_count": 100,
   "id": "c1218e83-da26-4079-988b-9b449c32914a",
   "metadata": {},
   "outputs": [],
   "source": [
    "a1.result = 10\n",
    "a2.result = 20\n",
    "a3.result = 30"
   ]
  },
  {
   "cell_type": "code",
   "execution_count": 103,
   "id": "f0039396-054d-4242-8b31-188df4949e49",
   "metadata": {},
   "outputs": [
    {
     "name": "stdout",
     "output_type": "stream",
     "text": [
      "10\n",
      "20\n",
      "30\n"
     ]
    }
   ],
   "source": [
    "print(a1.result)\n",
    "print(a2.result)\n",
    "print(a3.result)"
   ]
  },
  {
   "cell_type": "code",
   "execution_count": 104,
   "id": "47a7f11c-0072-4186-befe-d537b1e270aa",
   "metadata": {},
   "outputs": [
    {
     "name": "stdout",
     "output_type": "stream",
     "text": [
      "33\n",
      "63\n",
      "93\n"
     ]
    }
   ],
   "source": [
    "print(a1.f(10))\n",
    "print(a2.f(20))\n",
    "print(a3.f(30))"
   ]
  },
  {
   "cell_type": "code",
   "execution_count": 133,
   "id": "6a1bd686-a0d7-41b1-a086-5ca771df4b40",
   "metadata": {},
   "outputs": [],
   "source": [
    "class TestClass:\n",
    "    result = 1 # 멤버필드, 클래스변수\n",
    "    def f(self, x):  ###메서드\n",
    "        self.result = 3 * x + 3\n",
    "        return self.result"
   ]
  },
  {
   "cell_type": "code",
   "execution_count": 135,
   "id": "712f8025-cf2e-41ba-93d8-6e38326cfb13",
   "metadata": {},
   "outputs": [
    {
     "name": "stdout",
     "output_type": "stream",
     "text": [
      "1\n",
      "100\n"
     ]
    }
   ],
   "source": [
    "a1 = TestClass()\n",
    "print(a1.result)\n",
    "a1.result = 100\n",
    "print(a1.result)"
   ]
  },
  {
   "cell_type": "code",
   "execution_count": 137,
   "id": "4d7a214c-193e-4ef1-a6f4-9722a6a2fab3",
   "metadata": {},
   "outputs": [],
   "source": [
    "class TestClass: # self를 주면 멤버필드를 선언하지 않아도 된다.\n",
    "    def f(self, x):  ###메서드\n",
    "        self.result = 3 * x + 3\n",
    "        return self.result"
   ]
  },
  {
   "cell_type": "code",
   "execution_count": 140,
   "id": "42711df9-8264-4075-91db-4dd9d016c53e",
   "metadata": {},
   "outputs": [
    {
     "name": "stdout",
     "output_type": "stream",
     "text": [
      "100\n"
     ]
    }
   ],
   "source": [
    "a1 = TestClass()\n",
    "#print(a1.result)\n",
    "a1.result = 100\n",
    "print(a1.result)"
   ]
  },
  {
   "cell_type": "code",
   "execution_count": 159,
   "id": "e591200c-c9d0-40bf-8901-93e33d26ec43",
   "metadata": {},
   "outputs": [],
   "source": [
    "class Calculator:\n",
    "    def setData(self, first, second): # 멤버필드를 초기화 메소드\n",
    "        self.first = first\n",
    "        self.second = second\n",
    "    def add(self ):\n",
    "        self.result = self.first + self.second\n",
    "        return self.result\n",
    "    def div(self):\n",
    "        self.result = self.first / self.second\n",
    "        return self.result"
   ]
  },
  {
   "cell_type": "code",
   "execution_count": 160,
   "id": "ce0f1962-d86d-41de-b5b3-8e648b8836b9",
   "metadata": {},
   "outputs": [
    {
     "name": "stdout",
     "output_type": "stream",
     "text": [
      "30\n"
     ]
    }
   ],
   "source": [
    "a1 = Calculator()\n",
    "#a1.first =20\n",
    "#a1.second= 10\n",
    "a1.setData(20,10)\n",
    "print(a1.add())"
   ]
  },
  {
   "cell_type": "code",
   "execution_count": 161,
   "id": "48ac8c73-254d-445f-9a2b-d12447c3e487",
   "metadata": {},
   "outputs": [],
   "source": [
    "class Calculator:\n",
    "    def __init__(self, first, second): # 객체생성시에 자동으로 실행되는 메서드 # 생성자\n",
    "        self.first = first\n",
    "        self.second = second\n",
    "    def add(self ):\n",
    "        self.result = self.first + self.second\n",
    "        return self.result\n",
    "    def div(self):\n",
    "        self.result = self.first / self.second\n",
    "        return self.result"
   ]
  },
  {
   "cell_type": "code",
   "execution_count": 163,
   "id": "b8d86b72-4d9c-41ab-831f-24bf55b31382",
   "metadata": {},
   "outputs": [
    {
     "name": "stdout",
     "output_type": "stream",
     "text": [
      "30\n"
     ]
    }
   ],
   "source": [
    "a1 = Calculator(20, 10)\n",
    "print(a1.add())"
   ]
  },
  {
   "cell_type": "code",
   "execution_count": 168,
   "id": "13cc550b-6883-4663-bd87-388dd520e6c2",
   "metadata": {},
   "outputs": [],
   "source": [
    "class FourCal(Calculator): #상속 \n",
    "    '''\n",
    "    def __init__(self, first, second): # 객체생성시에 자동으로 실행되는 메서드 # 생성자\n",
    "        self.first = first\n",
    "        self.second = second\n",
    "    def add(self ):\n",
    "        self.result = self.first + self.second\n",
    "        return self.result\n",
    "    def div(self):\n",
    "        self.result = self.first / self.second\n",
    "        return self.result\n",
    "    '''\n",
    "    def sub(self):\n",
    "        self.result = self.first - self.second\n",
    "        return self.result\n",
    "    def mul(self):\n",
    "        self.result = self.first * self.second\n",
    "        return self.result"
   ]
  },
  {
   "cell_type": "code",
   "execution_count": 172,
   "id": "de2de3b9-0905-4260-860d-2179d62f469f",
   "metadata": {},
   "outputs": [
    {
     "name": "stdout",
     "output_type": "stream",
     "text": [
      "30\n",
      "2.0\n",
      "10\n"
     ]
    }
   ],
   "source": [
    "a1 = FourCal(20, 10) # 상속받은 생성자\n",
    "print(a1.add()) # 상속받은 메서드\n",
    "print(a1.div()) # 상속받은 메서드\n",
    "print(a1.sub()) # 내가 가지고 있는 메서드"
   ]
  },
  {
   "cell_type": "code",
   "execution_count": 173,
   "id": "0090db47-e7ea-4d0c-b793-9987d264ac36",
   "metadata": {},
   "outputs": [
    {
     "name": "stdout",
     "output_type": "stream",
     "text": [
      "0.0\n"
     ]
    }
   ],
   "source": [
    "a1 = FourCal(0, 10) \n",
    "print(a1.div()) # 0 / 10 == 0 부정"
   ]
  },
  {
   "cell_type": "code",
   "execution_count": 174,
   "id": "a8a75538-fdb7-483d-b681-572a870a9b80",
   "metadata": {},
   "outputs": [
    {
     "ename": "ZeroDivisionError",
     "evalue": "division by zero",
     "output_type": "error",
     "traceback": [
      "\u001b[1;31m---------------------------------------------------------------------------\u001b[0m",
      "\u001b[1;31mZeroDivisionError\u001b[0m                         Traceback (most recent call last)",
      "Cell \u001b[1;32mIn[174], line 2\u001b[0m\n\u001b[0;32m      1\u001b[0m a1 \u001b[38;5;241m=\u001b[39m FourCal(\u001b[38;5;241m10\u001b[39m, \u001b[38;5;241m0\u001b[39m)\n\u001b[1;32m----> 2\u001b[0m \u001b[38;5;28mprint\u001b[39m(\u001b[43ma1\u001b[49m\u001b[38;5;241;43m.\u001b[39;49m\u001b[43mdiv\u001b[49m\u001b[43m(\u001b[49m\u001b[43m)\u001b[49m) \u001b[38;5;66;03m# 10 / 0 \u001b[39;00m\n",
      "Cell \u001b[1;32mIn[161], line 9\u001b[0m, in \u001b[0;36mCalculator.div\u001b[1;34m(self)\u001b[0m\n\u001b[0;32m      8\u001b[0m \u001b[38;5;28;01mdef\u001b[39;00m \u001b[38;5;21mdiv\u001b[39m(\u001b[38;5;28mself\u001b[39m):\n\u001b[1;32m----> 9\u001b[0m     \u001b[38;5;28mself\u001b[39m\u001b[38;5;241m.\u001b[39mresult \u001b[38;5;241m=\u001b[39m \u001b[38;5;28;43mself\u001b[39;49m\u001b[38;5;241;43m.\u001b[39;49m\u001b[43mfirst\u001b[49m\u001b[43m \u001b[49m\u001b[38;5;241;43m/\u001b[39;49m\u001b[43m \u001b[49m\u001b[38;5;28;43mself\u001b[39;49m\u001b[38;5;241;43m.\u001b[39;49m\u001b[43msecond\u001b[49m\n\u001b[0;32m     10\u001b[0m     \u001b[38;5;28;01mreturn\u001b[39;00m \u001b[38;5;28mself\u001b[39m\u001b[38;5;241m.\u001b[39mresult\n",
      "\u001b[1;31mZeroDivisionError\u001b[0m: division by zero"
     ]
    }
   ],
   "source": [
    "a1 = FourCal(10, 0)\n",
    "print(a1.div()) # 10 / 0 # 불능"
   ]
  },
  {
   "cell_type": "code",
   "execution_count": 176,
   "id": "be244012-4b95-4c8b-aae5-0c5e7606bf87",
   "metadata": {},
   "outputs": [],
   "source": [
    "class FourCal(Calculator): \n",
    "    def sub(self):\n",
    "        self.result = self.first - self.second\n",
    "        return self.result\n",
    "    def mul(self):\n",
    "        self.result = self.first * self.second\n",
    "        return self.result\n",
    "    # 상속 받은 메서드를 다시 정의한다. override : 재정의\n",
    "    def div(self): #부모가 가지고 있는 메서드와 같은 이름\n",
    "        if self.second == 0:\n",
    "            self.result = 0\n",
    "        else:\n",
    "            self.result = self.first / self.second\n",
    "        return self.result"
   ]
  },
  {
   "cell_type": "code",
   "execution_count": 177,
   "id": "632e3baa-0fb1-4b08-9686-c0d920cd589f",
   "metadata": {},
   "outputs": [
    {
     "name": "stdout",
     "output_type": "stream",
     "text": [
      "0\n"
     ]
    }
   ],
   "source": [
    "a1 = FourCal(10, 0) \n",
    "print(a1.div()) # override된 메서드 사용"
   ]
  },
  {
   "cell_type": "code",
   "execution_count": 180,
   "id": "9d325f90-5f6e-4e19-bc43-9dc346782683",
   "metadata": {},
   "outputs": [
    {
     "name": "stdout",
     "output_type": "stream",
     "text": [
      "3\n"
     ]
    }
   ],
   "source": [
    "# 모듈 : 변수, 상수 , 함수, 클래스를 하나로 묶은 파일  xxxx.py\n",
    "import random\n",
    "num = random.randint(1,5)\n",
    "print(num)"
   ]
  },
  {
   "cell_type": "code",
   "execution_count": 186,
   "id": "162480bb-7dc3-4a21-b2b9-9eb5c17a00aa",
   "metadata": {},
   "outputs": [
    {
     "name": "stdout",
     "output_type": "stream",
     "text": [
      "14\n"
     ]
    }
   ],
   "source": [
    "import mod1\n",
    "result = mod1.f1(3)\n",
    "print(result)"
   ]
  },
  {
   "cell_type": "code",
   "execution_count": 191,
   "id": "b3a42f15-bce2-4c67-b39f-3d84c81b44ad",
   "metadata": {},
   "outputs": [
    {
     "name": "stdout",
     "output_type": "stream",
     "text": [
      "10\n",
      "3.141592\n"
     ]
    }
   ],
   "source": [
    "print(mod1.val)\n",
    "print(mod1.PI)\n",
    "a2 = mod1.Calculator()\n"
   ]
  },
  {
   "cell_type": "code",
   "execution_count": 192,
   "id": "ce9c6686-a5ab-4a83-a36b-0189e29a1536",
   "metadata": {},
   "outputs": [
    {
     "name": "stdout",
     "output_type": "stream",
     "text": [
      "10\n"
     ]
    }
   ],
   "source": [
    "from mod1 import *\n",
    "print(val)"
   ]
  },
  {
   "cell_type": "code",
   "execution_count": 193,
   "id": "222d05bf-c6ba-4620-b195-499cb8f34195",
   "metadata": {},
   "outputs": [
    {
     "name": "stdout",
     "output_type": "stream",
     "text": [
      "10\n",
      "3.141592\n"
     ]
    }
   ],
   "source": [
    "from mod1 import val, PI\n",
    "print(val)\n",
    "print(PI)"
   ]
  },
  {
   "cell_type": "code",
   "execution_count": null,
   "id": "90a214f7-196c-4645-994e-e7b45f32f55a",
   "metadata": {},
   "outputs": [],
   "source": [
    "### 스크래핑 : 웹 문서에 있는 코드 모두를 다 가지고 오는 것\n",
    "### 크롤링 : 스크래핑한 코드에서 원하는 내용만 추출해오는 것"
   ]
  },
  {
   "cell_type": "code",
   "execution_count": 194,
   "id": "69259031-0071-4fe3-801a-c869c9583f16",
   "metadata": {},
   "outputs": [
    {
     "data": {
      "text/plain": [
       "('test.png', <http.client.HTTPMessage at 0x29e7faec8c0>)"
      ]
     },
     "execution_count": 194,
     "metadata": {},
     "output_type": "execute_result"
    }
   ],
   "source": [
    "# 스크래핑\n",
    "import urllib.request\n",
    "url = \"http://uta.pw/shodou/img/28/214.png\"\n",
    "saveFile = \"test.png\"\n",
    "urllib.request.urlretrieve(url, saveFile)"
   ]
  },
  {
   "cell_type": "code",
   "execution_count": 195,
   "id": "84ea02a0-faf8-4f6d-8df9-afbff55f2a45",
   "metadata": {},
   "outputs": [],
   "source": [
    "import urllib.request\n",
    "url = \"http://uta.pw/shodou/img/28/214.png\"\n",
    "memory = urllib.request.urlopen(url).read()\n",
    "with open(\"test1.png\", \"wb\") as f:\n",
    "    f.write(memory)"
   ]
  },
  {
   "cell_type": "code",
   "execution_count": 198,
   "id": "b155810e-741b-42f1-835f-8da76fc0c531",
   "metadata": {},
   "outputs": [
    {
     "name": "stdout",
     "output_type": "stream",
     "text": [
      "[ip]\n",
      "API_URI=http://api.aoikujira.com/ip/get.php\n",
      "REMOTE_ADDR=121.160.41.224\n",
      "REMOTE_HOST=121.160.41.224\n",
      "REMOTE_PORT=56802\n",
      "HTTP_HOST=api.aoikujira.com\n",
      "HTTP_USER_AGENT=Python-urllib/3.12\n",
      "HTTP_ACCEPT_LANGUAGE=\n",
      "HTTP_ACCEPT_CHARSET=\n",
      "SERVER_PORT=80\n",
      "FORMAT=ini\n",
      "\n",
      "\n"
     ]
    }
   ],
   "source": [
    "import urllib.request\n",
    "url = \"http://api.aoikujira.com/ip/ini\"\n",
    "memory = urllib.request.urlopen(url).read()\n",
    "text = memory.decode(\"utf-8\")\n",
    "print(text)"
   ]
  },
  {
   "cell_type": "code",
   "execution_count": null,
   "id": "511555a5-c74e-4fe2-b77c-ceefac5d7b3f",
   "metadata": {},
   "outputs": [],
   "source": [
    "# https://search.naver.com/project명/search.naver?where=nexearch&sm=top_hty&fbm=0&ie=utf8&query=스크래핑\n",
    "# <----------------------------------------------------------------------------------------------------> url \n",
    "#       <|---------------|> : 도메인        uri\n",
    "#                        <|--------------------|> <|--------------------------------------------------->쿼리스트링\n",
    "#                        <|--------|>contextPath"
   ]
  },
  {
   "cell_type": "code",
   "execution_count": null,
   "id": "d60d26e1-a03b-44af-a753-3a9321fda050",
   "metadata": {},
   "outputs": [],
   "source": [
    "import urllib.request\n",
    "url = \"http://www.kma.go.kr/weather/forecast/mid-term-rss3.jsp?stnId=108\"\n",
    "memory = urllib.request.urlopen(url).read()\n",
    "text = memory.decode(\"utf-8\")\n",
    "print(text)"
   ]
  },
  {
   "cell_type": "code",
   "execution_count": null,
   "id": "2887a10c-3f06-41bd-bcbf-8fda33baac89",
   "metadata": {},
   "outputs": [],
   "source": [
    "import urllib.request\n",
    "import urllib.parse\n",
    "API = \"http://www.kma.go.kr/weather/forecast/mid-term-rss3.jsp\"\n",
    "regionNumber = int(input(\"지역번호를 입력하세요. \"))\n",
    "queryString = {\"stnId\":regionNumber}\n",
    "param = urllib.parse.urlencode(queryString) # 딕셔너리를 쿼리스트링으로 변경 # stnId=108\n",
    "url = API + \"?\" + param # \"http://www.kma.go.kr/weather/forecast/mid-term-rss3.jsp?stnId=108\"\n",
    "memory = urllib.request.urlopen(url).read()\n",
    "text = memory.decode(\"utf-8\")\n",
    "print(text)"
   ]
  },
  {
   "cell_type": "code",
   "execution_count": 211,
   "id": "c59bdcd0-f11e-415a-b27c-4f8d9089b882",
   "metadata": {},
   "outputs": [
    {
     "name": "stdout",
     "output_type": "stream",
     "text": [
      "<h1>스크레이핑이란?</h1>\n",
      "스크레이핑이란?\n",
      "<p>웹 페이지를 분석하는 것</p>\n",
      "웹 페이지를 분석하는 것\n",
      "<p>원하는 부분을 추출하는 것</p>\n",
      "원하는 부분을 추출하는 것\n"
     ]
    }
   ],
   "source": [
    "# 스크래핑한 데이터\n",
    "html = \"\"\"  \n",
    "<html><body>\n",
    "  <h1>스크레이핑이란?</h1>\n",
    "  <p>웹 페이지를 분석하는 것</p>\n",
    "  <p>원하는 부분을 추출하는 것</p>\n",
    "</body></html>\n",
    "\"\"\"\n",
    "# 크롤링\n",
    "from bs4 import BeautifulSoup\n",
    "soup = BeautifulSoup(html,\"html.parser\") #html형식으로 변경해서 BeautifulSoup객체 생성\n",
    "h1 = soup.html.h1\n",
    "print(h1)\n",
    "print(h1.string)\n",
    "p = soup.html.p\n",
    "print(p)\n",
    "print(p.string)\n",
    "p2 =  soup.html.p.next_sibling.next_sibling\n",
    "print(p2)\n",
    "print(p2.string)"
   ]
  },
  {
   "cell_type": "code",
   "execution_count": 217,
   "id": "8475b8a7-41c0-481c-a613-84251d015aca",
   "metadata": {},
   "outputs": [
    {
     "name": "stdout",
     "output_type": "stream",
     "text": [
      "스크레이핑이란?\n",
      "스크레이핑이란?\n",
      "스크레이핑이란?\n"
     ]
    }
   ],
   "source": [
    "html = \"\"\"  \n",
    "<html><body>\n",
    "  <h1 id='title'>스크레이핑이란?</h1>\n",
    "  <p id='body'>웹 페이지를 분석하는 것</p>\n",
    "  <p>원하는 부분을 추출하는 것</p>\n",
    "</body></html>\n",
    "\"\"\"\n",
    "# 크롤링\n",
    "from bs4 import BeautifulSoup\n",
    "soup = BeautifulSoup(html,'html.parser')\n",
    "h1 = soup.html.h1\n",
    "print(h1.string)\n",
    "title = soup.find(id='title')\n",
    "print(title.string)\n",
    "h1 = soup.find(\"h1\")\n",
    "print(h1.string)"
   ]
  },
  {
   "cell_type": "code",
   "execution_count": 221,
   "id": "a3167752-301d-4c9f-88dd-f10d87d81a1f",
   "metadata": {},
   "outputs": [
    {
     "name": "stdout",
     "output_type": "stream",
     "text": [
      "<a href=\"a.html\" id=\"link\">원하는 부분을 추출하는 것</a>\n",
      "원하는 부분을 추출하는 것\n",
      "{'href': 'a.html', 'id': 'link'}\n",
      "a.html\n"
     ]
    }
   ],
   "source": [
    "html = \"\"\"  \n",
    "<html><body>\n",
    "  <h1 id='title'>스크레이핑이란?</h1>\n",
    "  <p id='body'>웹 페이지를 분석하는 것</p>\n",
    "  <p><a href='a.html' id='link'>원하는 부분을 추출하는 것</a></p>\n",
    "</body></html>\n",
    "\"\"\"\n",
    "from bs4 import BeautifulSoup\n",
    "soup = BeautifulSoup(html,'html.parser')\n",
    "a = soup.html.a\n",
    "print(a)\n",
    "print(a.string)\n",
    "attrs = a.attrs\n",
    "print(attrs)\n",
    "print(attrs['href'])"
   ]
  },
  {
   "cell_type": "code",
   "execution_count": 226,
   "id": "9aa8dd69-2984-4477-b51a-ee6dff7ee527",
   "metadata": {},
   "outputs": [
    {
     "name": "stdout",
     "output_type": "stream",
     "text": [
      "기상청 육상 중기예보\n",
      "기상청 육상 중기예보\n",
      "○ (강수) 22일(수) 오후 수도권과 강원영서에 비가 오겠고, 24일(금) 오전 전라권과 제주도에 비 또는 눈이 오겠습니다.<br />○ (기온) 21일(화)~23일(목), 27일(월)~28일(화) 아침 기온은 -1~13도, 낮 기온은 7~20도로 평년(최저기온 -2~6도, 7~15도)과 비슷하거나 조금 높겠으나,<br />          24일(금)~26일(일) 아침 기온은 -8~5도, 낮 기온은 1~14도로 평년보다 낮아 춥겠습니다.          <br />○ (해상) 23일(목)~24일(금) 전 해상에 바람이 강하게 불고, 물결이 1.0~4.0m로 매우 높게 일겠습니다.\n"
     ]
    }
   ],
   "source": [
    "import urllib.request\n",
    "from bs4 import BeautifulSoup\n",
    "## 스크래핑\n",
    "url = \"http://www.kma.go.kr/weather/forecast/mid-term-rss3.jsp\"\n",
    "memory = urllib.request.urlopen(url).read()\n",
    "#크롤링\n",
    "soup = BeautifulSoup(memory, 'html.parser')\n",
    "title = soup.title.string\n",
    "print(title)\n",
    "title = soup.find(\"title\").string\n",
    "print(title)\n",
    "wf = soup.find(\"wf\").string\n",
    "print(wf)"
   ]
  },
  {
   "cell_type": "code",
   "execution_count": 241,
   "id": "e84bc268-7885-482a-80ee-757d2cc8e369",
   "metadata": {},
   "outputs": [
    {
     "name": "stdout",
     "output_type": "stream",
     "text": [
      "위키북스 도서1111111\n",
      "위키북스 도서1111111\n",
      "<div id=\"meigen\">\n",
      "<h1>위키북스 도서</h1>\n",
      "<ul class=\"items\">\n",
      "<li>유니티 게임 이펙트 입문</li>\n",
      "<li>스위프트로 시작하는 아이폰 앱 개발 교과서</li>\n",
      "<li>모던 웹사이트 디자인의 정석</li>\n",
      "</ul>\n",
      "</div>\n",
      "위키북스 도서\n",
      "<div id=\"meigen\">\n",
      "<h1>위키북스 도서</h1>\n",
      "<ul class=\"items\">\n",
      "<li>유니티 게임 이펙트 입문</li>\n",
      "<li>스위프트로 시작하는 아이폰 앱 개발 교과서</li>\n",
      "<li>모던 웹사이트 디자인의 정석</li>\n",
      "</ul>\n",
      "</div>\n",
      "위키북스 도서\n",
      "<ul class=\"items\">\n",
      "<li>유니티 게임 이펙트 입문</li>\n",
      "<li>스위프트로 시작하는 아이폰 앱 개발 교과서</li>\n",
      "<li>모던 웹사이트 디자인의 정석</li>\n",
      "</ul>\n",
      "<li>유니티 게임 이펙트 입문</li>\n",
      "[<li>유니티 게임 이펙트 입문</li>, <li>스위프트로 시작하는 아이폰 앱 개발 교과서</li>, <li>모던 웹사이트 디자인의 정석</li>]\n",
      "유니티 게임 이펙트 입문\n",
      "스위프트로 시작하는 아이폰 앱 개발 교과서\n",
      "모던 웹사이트 디자인의 정석\n"
     ]
    }
   ],
   "source": [
    "## 스크래핑\n",
    "text = \"\"\"\n",
    "<html><body>\n",
    "<h1>위키북스 도서1111111</h1>\n",
    "<div>\n",
    "    <h1>이숭무</h1>\n",
    "</div>\n",
    "<div id=\"meigen\">\n",
    "  <h1>위키북스 도서</h1>\n",
    "  <ul class=\"items\">\n",
    "    <li>유니티 게임 이펙트 입문</li>\n",
    "    <li>스위프트로 시작하는 아이폰 앱 개발 교과서</li>\n",
    "    <li>모던 웹사이트 디자인의 정석</li>\n",
    "  </ul>\n",
    "</div>\n",
    "</body></html>\n",
    "\"\"\"\n",
    "from bs4 import BeautifulSoup\n",
    "soup = BeautifulSoup(text, \"html.parser\")\n",
    "h1 = soup.html.h1.string\n",
    "print(h1)\n",
    "h1 = soup.find('h1').string\n",
    "print(h1)\n",
    "h12 = soup.find(id='meigen')\n",
    "print(h12)\n",
    "h12 = soup.find(id='meigen').h1.string\n",
    "print(h12)\n",
    "### selector(선택자)를 이용한 크롤링\n",
    "h13 = soup.select_one('div#meigen')\n",
    "print(h13)\n",
    "h13 = soup.select_one('div#meigen > h1').string\n",
    "print(h13)\n",
    "h13 = soup.select_one('div#meigen > ul.items')\n",
    "print(h13)\n",
    "h13 = soup.select_one('div#meigen > ul.items > li')\n",
    "print(h13)\n",
    "lis = soup.select('div#meigen > ul.items > li')\n",
    "print(lis)\n",
    "for li in lis :\n",
    "    print(li.string)"
   ]
  },
  {
   "cell_type": "code",
   "execution_count": 246,
   "id": "4f1a4a8a-c7a7-4d63-9fa9-79979441506c",
   "metadata": {},
   "outputs": [
    {
     "name": "stdout",
     "output_type": "stream",
     "text": [
      "1,296.50\n",
      "1,296.50\n",
      "866.44\n",
      "1,414.35\n",
      "179.64\n",
      "149.6000\n",
      "1.0869\n",
      "1.2419\n",
      "103.7900\n",
      "76.04\n",
      "1669.26\n",
      "1984.7\n",
      "82626.85\n"
     ]
    }
   ],
   "source": [
    "import urllib.request as req # 스크래핑\n",
    "from bs4 import BeautifulSoup # 크롤링\n",
    "# 스크래핑\n",
    "url = \"https://finance.naver.com/marketindex/\"\n",
    "res = req.urlopen(url)\n",
    "# 크롤링\n",
    "soup = BeautifulSoup(res, 'html.parser')\n",
    "price = soup.select_one('#exchangeList > li.on > a.head.usd > div > span.value') # selector\n",
    "print(price.string)\n",
    "prices = soup.select(\"div > span.value\")\n",
    "#print(prices)\n",
    "for pri in prices:\n",
    "    print(pri.string)"
   ]
  },
  {
   "cell_type": "code",
   "execution_count": 268,
   "id": "6970002b-6100-433e-af90-2c685d120231",
   "metadata": {},
   "outputs": [
    {
     "name": "stderr",
     "output_type": "stream",
     "text": [
      "<>:33: SyntaxWarning: invalid escape sequence '\\W'\n",
      "<>:33: SyntaxWarning: invalid escape sequence '\\W'\n",
      "C:\\Users\\soldesk\\AppData\\Local\\Temp\\ipykernel_1788\\347344584.py:33: SyntaxWarning: invalid escape sequence '\\W'\n",
      "  font_name = mpl.font_manager.FontProperties(fname=\"C:\\Windows\\Fonts\\malgun.ttf\").get_name()\n"
     ]
    },
    {
     "data": {
      "image/png": "[encoded data removed]",
      "text/plain": [
       "<Figure size 1200x400 with 1 Axes>"
      ]
     },
     "metadata": {},
     "output_type": "display_data"
    }
   ],
   "source": [
    "import requests # 스크래핑\n",
    "from bs4 import BeautifulSoup # 크롤링\n",
    "import pandas # 데이터분석\n",
    "import matplotlib as mpl # 시각화\n",
    "import matplotlib.pyplot as plt # 시각화\n",
    "# 스크래핑\n",
    "url = \"https://www.weather.go.kr/w/obs-climate/land/city-obs.do\"\n",
    "source = requests.get(url)\n",
    "# 크롤링\n",
    "soup = BeautifulSoup(source.content, 'html.parser')\n",
    "table = soup.find(\"table\", {\"class\":\"table-col\"})\n",
    "# print(table)\n",
    "data = [] \n",
    "for tr in table.find_all('tr'):\n",
    "    tds = list(tr.find_all('td'))\n",
    "    for td in tds:\n",
    "        if td.find('a'):\n",
    "            point = td.find('a').text\n",
    "            temp = tds[5].string\n",
    "            humidity = tds[10].string\n",
    "            data.append([point, temp, humidity])\n",
    "#print(data) : 크롤링\n",
    "#모든 데이터 저장\n",
    "with open('weather.csv','w',  encoding='utf-8') as f:\n",
    "    f.write('지역,온도,습도\\n')\n",
    "    for l in data:\n",
    "        f.write(f\"{l[0]},{l[1]},{l[2]}\\n\");\n",
    "#테이터 처리\n",
    "df = pandas.read_csv(\"weather.csv\", encoding=\"utf-8\", index_col =\"지역\" )\n",
    "df\n",
    "city_df = df.loc[['서울','인천','대전','대구','광주','부산','울산']]\n",
    "#시각화\n",
    "font_name = mpl.font_manager.FontProperties(fname=\"C:\\Windows\\Fonts\\malgun.ttf\").get_name()\n",
    "mpl.rc('font', family=font_name)\n",
    "ax = city_df.plot(kind='bar' ,title='날씨' , figsize=(12,4))\n",
    "plt.show()"
   ]
  },
  {
   "cell_type": "code",
   "execution_count": 279,
   "id": "0b6e6a66-95e9-4992-9765-7b5bd9490e9e",
   "metadata": {},
   "outputs": [
    {
     "name": "stdout",
     "output_type": "stream",
     "text": [
      "0\n"
     ]
    }
   ],
   "source": [
    "# numpy\n",
    "# !pip install numpy\n",
    "# 정수 , 실수 , 문자열, 리스트, 튜플, 딕셔너리, 집합, 부울, 배열\n",
    "# 배열자료형 : 숫자만 처리하는 배열 자료형 : NUMeric PYthon\n",
    "import numpy\n",
    "num = numpy.random.randint(10)\n",
    "print(num)"
   ]
  },
  {
   "cell_type": "code",
   "execution_count": 280,
   "id": "bdd4bec9-057a-426e-be2f-674f43c2d816",
   "metadata": {},
   "outputs": [
    {
     "name": "stdout",
     "output_type": "stream",
     "text": [
      "6\n"
     ]
    }
   ],
   "source": [
    "import numpy as np\n",
    "num = np.random.randint(10)\n",
    "print(num)"
   ]
  },
  {
   "cell_type": "code",
   "execution_count": 281,
   "id": "21dc99eb-6329-4ba1-b159-9134550c6d6e",
   "metadata": {},
   "outputs": [
    {
     "name": "stdout",
     "output_type": "stream",
     "text": [
      "[1 3 1 6 6 2]\n"
     ]
    }
   ],
   "source": [
    "# 1차원 배열\n",
    "num1 = np.random.randint(10, size=6)\n",
    "print(num1)"
   ]
  },
  {
   "cell_type": "code",
   "execution_count": 285,
   "id": "99cdd416-5f65-4694-b1b5-94ddbee8d9ee",
   "metadata": {},
   "outputs": [
    {
     "name": "stdout",
     "output_type": "stream",
     "text": [
      "[1, 3, 1, 6, 6, 2]\n",
      "[1 3 1 6 6 2]\n"
     ]
    }
   ],
   "source": [
    "l = [1, 3, 1, 6, 6, 2]\n",
    "print(l)\n",
    "print(num1)"
   ]
  },
  {
   "cell_type": "code",
   "execution_count": 288,
   "id": "eb1cec82-a6e1-4e71-b1de-dd385de35ed7",
   "metadata": {},
   "outputs": [
    {
     "name": "stdout",
     "output_type": "stream",
     "text": [
      "3\n",
      "3\n",
      "[1, 6]\n",
      "[1 6]\n"
     ]
    }
   ],
   "source": [
    "#리스트 : [1, 3, 1, 6, 6, 2]\n",
    "#         0  1  2  3  4  5 : index\n",
    "# 배열  : [1  3  1  6  6  2]\n",
    "#         0  1  2  3  4  5 : 열번호\n",
    "print(l[1])  # indexing\n",
    "print(num1[1])  # slicing\n",
    "print(l[2:4]) # indexing\n",
    "print(num1[2:4]) # slicing"
   ]
  },
  {
   "cell_type": "code",
   "execution_count": 302,
   "id": "f63d0fcf-aa12-4a84-9f88-86dbb1cbe462",
   "metadata": {},
   "outputs": [
    {
     "name": "stdout",
     "output_type": "stream",
     "text": [
      "[[6 8 7 4 5 9]\n",
      " [6 3 0 8 1 8]]\n"
     ]
    }
   ],
   "source": [
    "num2 = np.random.randint(10, size=(2, 6))\n",
    "print(num2)"
   ]
  },
  {
   "cell_type": "code",
   "execution_count": 303,
   "id": "fb5c4e02-6645-44f5-8727-47d4c51fc363",
   "metadata": {},
   "outputs": [
    {
     "name": "stdout",
     "output_type": "stream",
     "text": [
      "[[6, 8, 7, 4, 5, 9], [6, 3, 0, 8, 1, 8]]\n",
      "[[6 8 7 4 5 9]\n",
      " [6 3 0 8 1 8]]\n"
     ]
    }
   ],
   "source": [
    "l2 = [[6, 8, 7, 4, 5, 9],[6, 3, 0, 8, 1, 8]]\n",
    "print(l2)\n",
    "print(num2)"
   ]
  },
  {
   "cell_type": "code",
   "execution_count": 306,
   "id": "14d52518-0621-4e13-bff7-c5e5a62772cf",
   "metadata": {},
   "outputs": [
    {
     "name": "stdout",
     "output_type": "stream",
     "text": [
      "[6, 3, 0, 8, 1, 8]\n",
      "3\n",
      "[6 3 0 8 1 8]\n",
      "3\n",
      "3\n"
     ]
    }
   ],
   "source": [
    "#리스트 : [[6, 8, 7, 4, 5, 9], [6, 3, 0, 8, 1, 8]]\n",
    "#                  0                   1           :index\n",
    "#          0  1  2  3  4  5    0  1  2  3  4  5    :index\n",
    "# 배열 :  [[6  8  7  4  5  9]  [6  3  0  8  1  8]] \n",
    "#                  0행                 1행\n",
    "#          0열1열2열3열4열5열   0열1열2열3열4열5열\n",
    "print(l2[1]) # 1index\n",
    "print(l2[1][1]) # 1index , 1index\n",
    "print(num2[1]) # 1행\n",
    "print(num2[1][1]) # 1행 1열\n",
    "print(num2[1, 1]) # 1행 1열 :배열 표기법 num2[행, 열]"
   ]
  },
  {
   "cell_type": "code",
   "execution_count": 320,
   "id": "1f966663-79f1-42b3-b3e8-c45f4741d370",
   "metadata": {},
   "outputs": [
    {
     "name": "stdout",
     "output_type": "stream",
     "text": [
      "3\n",
      "3\n",
      "[10, 6]\n",
      "[1 6]\n",
      "[1, 10, 6]\n",
      "[1 1 6]\n",
      "[1, 3, 10, 6, 6, 2]\n",
      "[1 3 1 6 6 2]\n",
      "[2, 6, 6, 10, 3, 1]\n",
      "[2 6 6 1 3 1]\n",
      "10\n",
      "[1, 3, 10, 6, 6, 2]\n",
      "1\n",
      "[ 1  3 10  6  6  2]\n"
     ]
    }
   ],
   "source": [
    "#리스트 : [1, 3, 1, 6, 6, 2]\n",
    "#         0  1  2  3  4  5 : index\n",
    "#       - 6  5  4  3  2  1\n",
    "# 배열  : [1  3  1  6  6  2]\n",
    "#         0  1  2  3  4  5 : 열번호\n",
    "#       - 6  5  4  3  2  1\n",
    "print(l[-5])\n",
    "print(num1[-5])\n",
    "print(l[2:4])\n",
    "print(num1[2:4])\n",
    "print(l[::2])\n",
    "print(num1[::2])\n",
    "print(l[:])\n",
    "print(num1[:])\n",
    "print(l[::-1])\n",
    "print(num1[::-1])\n",
    "print(l[2])\n",
    "l[2]= 10\n",
    "print(l)\n",
    "print(num1[2])\n",
    "num1[2] = 10\n",
    "print(num1)"
   ]
  },
  {
   "cell_type": "code",
   "execution_count": 333,
   "id": "8dd7be14-7120-46ca-8170-7219bfb46a1e",
   "metadata": {},
   "outputs": [
    {
     "name": "stdout",
     "output_type": "stream",
     "text": [
      "7\n",
      "7\n",
      "7\n",
      "7\n",
      "7\n",
      "7\n"
     ]
    },
    {
     "ename": "TypeError",
     "evalue": "list indices must be integers or slices, not tuple",
     "output_type": "error",
     "traceback": [
      "\u001b[1;31m---------------------------------------------------------------------------\u001b[0m",
      "\u001b[1;31mTypeError\u001b[0m                                 Traceback (most recent call last)",
      "Cell \u001b[1;32mIn[333], line 17\u001b[0m\n\u001b[0;32m     15\u001b[0m \u001b[38;5;28mprint\u001b[39m(num2[\u001b[38;5;241m-\u001b[39m\u001b[38;5;241m2\u001b[39m][\u001b[38;5;241m-\u001b[39m\u001b[38;5;241m4\u001b[39m])\n\u001b[0;32m     16\u001b[0m \u001b[38;5;28mprint\u001b[39m(num2[\u001b[38;5;241m-\u001b[39m\u001b[38;5;241m2\u001b[39m, \u001b[38;5;241m-\u001b[39m\u001b[38;5;241m4\u001b[39m])\n\u001b[1;32m---> 17\u001b[0m \u001b[38;5;28mprint\u001b[39m(\u001b[43ml2\u001b[49m\u001b[43m[\u001b[49m\u001b[38;5;241;43m-\u001b[39;49m\u001b[38;5;241;43m2\u001b[39;49m\u001b[43m,\u001b[49m\u001b[43m \u001b[49m\u001b[38;5;241;43m-\u001b[39;49m\u001b[38;5;241;43m4\u001b[39;49m\u001b[43m]\u001b[49m)\n",
      "\u001b[1;31mTypeError\u001b[0m: list indices must be integers or slices, not tuple"
     ]
    }
   ],
   "source": [
    "#리스트 : [[6, 8, 7, 4, 5, 9], [6, 3, 0, 8, 1, 8]]\n",
    "#                  0                   1           :index\n",
    "#                - 2                   1\n",
    "#          0  1  2  3  4  5    0  1  2  3  4  5    :index\n",
    "#         -6  5  4  3  2  1    6  5  4  3  2  1\n",
    "# 배열 :  [[6  8  7  4  5  9]  [6  3  0  8  1  8]] \n",
    "#                  0행                 1행\n",
    "#                 -1행                -2행\n",
    "#          0열1열2열3열4열5열   0열1열2열3열4열5열\n",
    "#         -6  5  4  3 2  1    -6  5  4  3 2  1\n",
    "print(l2[0][2])\n",
    "print(num2[0][2])\n",
    "print(num2[0, 2])\n",
    "print(l2[-2][-4])\n",
    "print(num2[-2][-4])\n",
    "print(num2[-2, -4])\n",
    "#print(l2[-2, -4])"
   ]
  },
  {
   "cell_type": "code",
   "execution_count": 433,
   "id": "9e4837b5-badc-42af-b536-7337f956240a",
   "metadata": {},
   "outputs": [
    {
     "name": "stdout",
     "output_type": "stream",
     "text": [
      "[[4 4 6 3]\n",
      " [8 2 6 4]\n",
      " [0 0 4 7]]\n"
     ]
    }
   ],
   "source": [
    "num3 = np.random.randint(10, size=(3,4))\n",
    "print(num3)"
   ]
  },
  {
   "cell_type": "code",
   "execution_count": 335,
   "id": "3a9a35ba-123e-4ccc-9d8d-3c6d2a96912e",
   "metadata": {},
   "outputs": [
    {
     "name": "stdout",
     "output_type": "stream",
     "text": [
      "[[9, 5, 4, 0], [9, 8, 6, 6], [1, 2, 6, 8]]\n"
     ]
    }
   ],
   "source": [
    "l3 = [[9, 5, 4, 0],\n",
    "      [9, 8, 6, 6],\n",
    "      [1, 2, 6, 8]]\n",
    "print(l3)"
   ]
  },
  {
   "cell_type": "code",
   "execution_count": 434,
   "id": "d4bc5a0a-4227-4275-bf31-7ec28b1588ef",
   "metadata": {},
   "outputs": [
    {
     "name": "stdout",
     "output_type": "stream",
     "text": [
      "[9, 5, 4, 0]\n",
      "[4 4 6 3]\n",
      "[9, 8, 6]\n",
      "[8 2 6]\n",
      "[8 2 6]\n",
      "[[9, 5, 4, 0], [9, 8, 6, 6]]\n",
      "[[4 4 6 3]\n",
      " [8 2 6 4]]\n",
      "[[4 4]\n",
      " [8 2]]\n",
      "[9, 5, 4, 0]\n",
      "[4 4 6 3]\n",
      "[9, 5, 4, 0]\n",
      "[4 4 6 3]\n",
      "[4 8 0]\n",
      "[4 8]\n",
      "[4 2]\n",
      "[[9, 5, 4, 0], [9, 8, 6, 6], [1, 2, 6, 8]]\n",
      "[[4 4 6 3]\n",
      " [8 2 6 4]\n",
      " [0 0 4 7]]\n",
      "[[4 4 6 3]\n",
      " [8 2 6 4]\n",
      " [0 0 4 7]]\n",
      "[[4 6]\n",
      " [8 6]\n",
      " [0 4]]\n",
      "[[4 4 6 3]\n",
      " [0 0 4 7]]\n",
      "[[4 6]\n",
      " [0 4]]\n",
      "[[3 6 4 4]\n",
      " [4 6 2 8]\n",
      " [7 4 0 0]]\n",
      "[[0 0 4 7]\n",
      " [8 2 6 4]\n",
      " [4 4 6 3]]\n",
      "[[7 4 0 0]\n",
      " [4 6 2 8]\n",
      " [3 6 4 4]]\n"
     ]
    }
   ],
   "source": [
    "'''\n",
    "2차원\n",
    "  0 1 2 3열\n",
    "[[9 5 4 0]  0행   : 1차원  \n",
    " [9 8 6 6]  1행   : 1차원\n",
    " [1 2 6 8]] 2행   : 1차원\n",
    "\n",
    "  0  1  2  3 index\n",
    "[[9, 5, 4, 0],   : 0index\n",
    " [9, 8, 6, 6],   : 1index\n",
    " [1, 2, 6, 8]]   : 2index\n",
    "'''\n",
    "print(l3[0]) # 0index\n",
    "print(num3[0])  # 0행  : 1차원\n",
    "print(l3[1][:3])\n",
    "print(num3[1][:3])\n",
    "print(num3[1 , :3])\n",
    "print(l3[0:2][0:2])\n",
    "print(num3[0:2][0:2])\n",
    "print(num3[0:2 , 0:2])\n",
    "print(l3[0])\n",
    "print(num3[0])\n",
    "print(l3[:][0])\n",
    "print(num3[:][0])\n",
    "print(num3[: , 0])\n",
    "print(num3[:2 , 0])\n",
    "print(num3[:2 , 1])\n",
    "print(l3[:][:])\n",
    "print(num3[:][:])\n",
    "print(num3[: , :])\n",
    "print(num3[:, ::2])\n",
    "print(num3[::2, :])\n",
    "print(num3[::2, ::2])\n",
    "print(num3[:, ::-1])\n",
    "print(num3[::-1, :])\n",
    "print(num3[::-1, ::-1])"
   ]
  },
  {
   "cell_type": "code",
   "execution_count": 436,
   "id": "9143172a-8793-42a4-94ba-04a40cd3159d",
   "metadata": {},
   "outputs": [
    {
     "name": "stdout",
     "output_type": "stream",
     "text": [
      "[[9, 5, 4, 0], [9, 8, 6, 6], [1, 2, 6, 8]]\n",
      "[[4 4 6 3]\n",
      " [8 2 6 4]\n",
      " [0 0 4 7]]\n"
     ]
    }
   ],
   "source": [
    "print(l3)\n",
    "print(num3)"
   ]
  },
  {
   "cell_type": "code",
   "execution_count": 443,
   "id": "26203cd8-5348-4197-b2fc-e1dbe6c28a96",
   "metadata": {},
   "outputs": [
    {
     "name": "stdout",
     "output_type": "stream",
     "text": [
      "60\n",
      "[[9, 5, 4, 0], [9, 8, 60, 6], [1, 2, 6, 8]]\n",
      "60\n",
      "[[ 4  4  6  3]\n",
      " [ 8  2 60  4]\n",
      " [ 0  0  4  7]]\n",
      "[[  4   4   6   3]\n",
      " [  8   2 600   4]\n",
      " [  0   0   4   7]]\n"
     ]
    }
   ],
   "source": [
    "print(l3[1][2])\n",
    "l3[1][2] = 60\n",
    "print(l3)\n",
    "print(num3[1][2])\n",
    "num3[1][2] = 60\n",
    "print(num3)\n",
    "num3[1 , 2] = 600\n",
    "print(num3)"
   ]
  },
  {
   "cell_type": "code",
   "execution_count": 556,
   "id": "ebf3f959-5a6a-4c3f-ba90-26a24d26c066",
   "metadata": {},
   "outputs": [
    {
     "name": "stdout",
     "output_type": "stream",
     "text": [
      "[5 5 1 1 1 2]\n",
      "[[7 6 1 6]\n",
      " [4 9 2 5]\n",
      " [7 1 7 6]]\n"
     ]
    }
   ],
   "source": [
    "### 배열을 만드는 방법\n",
    "#1. random객체를 사용하는 방법\n",
    "num = np.random.randint(10, size=6)\n",
    "print(num)\n",
    "num1 = np.random.randint(10, size=(3, 4))\n",
    "print(num1)"
   ]
  },
  {
   "cell_type": "code",
   "execution_count": 564,
   "id": "87c6c940-2d3e-4706-a6b2-6252220d4859",
   "metadata": {},
   "outputs": [
    {
     "name": "stdout",
     "output_type": "stream",
     "text": [
      "[0 1 2 3 4 5 6 7 8]\n",
      "[0 1 2 3 4 5 6 7 8]\n",
      "[[0 1 2]\n",
      " [3 4 5]\n",
      " [6 7 8]]\n",
      "[[ 0  1  2  3]\n",
      " [ 4  5  6  7]\n",
      " [ 8  9 10 11]]\n",
      "[[11 12 13 14]\n",
      " [15 16 17 18]\n",
      " [19 20 21 22]]\n",
      "[[ 0  1  2]\n",
      " [ 3  4  5]\n",
      " [ 6  7  8]\n",
      " [ 9 10 11]]\n",
      "[1 2 3]\n",
      "[[1 2 3]]\n",
      "[[1]\n",
      " [2]\n",
      " [3]]\n"
     ]
    }
   ],
   "source": [
    "# 2. arange()함수를 사용하는 방법\n",
    "print(np.arange(9)) # np.arange(0, 9)\n",
    "i2 = np.arange(9)\n",
    "print(i2)\n",
    "i3 = np.arange(9).reshape(3,3)\n",
    "print(i3)\n",
    "'''\n",
    "i3 = np.arange(9).reshape(3,4)\n",
    "print(i3)\n",
    "'''\n",
    "i4 = np.arange(12).reshape(3,4)\n",
    "print(i4)\n",
    "i5 = np.arange(11, 11 + 12).reshape(3,4)\n",
    "print(i5)\n",
    "i6 = np.arange(12).reshape(4,3)\n",
    "print(i6)\n",
    "i7 = np.arange(1,4)\n",
    "print(i7)\n",
    "i8 = np.arange(1,4).reshape(1,3) # 행이 하나인 2차원배열\n",
    "print(i8)\n",
    "i9 = np.arange(1,4).reshape(3,1)\n",
    "print(i9)"
   ]
  },
  {
   "cell_type": "code",
   "execution_count": 570,
   "id": "3cb8ba06-345a-478a-98a5-d50985ced7f1",
   "metadata": {},
   "outputs": [
    {
     "name": "stdout",
     "output_type": "stream",
     "text": [
      "[2 5 7]\n",
      "[2 5 7]\n",
      "[[1 2 3]\n",
      " [4 5 6]\n",
      " [7 8 9]]\n",
      "[[ 1.  2.  3.]\n",
      " [ 4. nan  6.]\n",
      " [ 7.  8. nan]]\n"
     ]
    }
   ],
   "source": [
    "#3. array()함수를 사용하는 방법 , 리스트와 튜플\n",
    "i9 = np.array([2,5,7])\n",
    "print(i9)\n",
    "i10 = np.array((2,5,7))\n",
    "print(i10)\n",
    "i11 = np.array([[1,2,3],[4,5,6],[7,8,9]])\n",
    "print(i11)\n",
    "# np.NaN : 결측치 : 값이 없다는 말은 아님, 무슨 값이 있는지 모른다.\n",
    "i12 = np.array([[1,2,3],[4,np.NaN,6],[7,8,np.NaN]])\n",
    "print(i12)"
   ]
  },
  {
   "cell_type": "code",
   "execution_count": null,
   "id": "b6335cfe-f642-4f14-bfcb-1014e71fd1d6",
   "metadata": {},
   "outputs": [],
   "source": []
  },
  {
   "cell_type": "code",
   "execution_count": null,
   "id": "47624b10-486b-49b1-9751-f1c7cf48ca3c",
   "metadata": {},
   "outputs": [],
   "source": []
  },
  {
   "cell_type": "code",
   "execution_count": null,
   "id": "5f238240-d430-4d02-a31e-5368441d3df6",
   "metadata": {},
   "outputs": [],
   "source": []
  },
  {
   "cell_type": "code",
   "execution_count": null,
   "id": "b843c6ad-12ce-46d0-904c-0b3afe9c6cdd",
   "metadata": {},
   "outputs": [],
   "source": []
  },
  {
   "cell_type": "code",
   "execution_count": null,
   "id": "45187533-81c0-468f-832c-4222a5ea4368",
   "metadata": {},
   "outputs": [],
   "source": []
  },
  {
   "cell_type": "code",
   "execution_count": null,
   "id": "dd7516bd-728a-45ce-9649-6b66183689fb",
   "metadata": {},
   "outputs": [],
   "source": []
  },
  {
   "cell_type": "code",
   "execution_count": null,
   "id": "74cade73-1798-49b9-8b7d-3dafd41d43c0",
   "metadata": {},
   "outputs": [],
   "source": []
  },
  {
   "cell_type": "code",
   "execution_count": null,
   "id": "abf4ee82-9c01-4966-86eb-3c172195735d",
   "metadata": {},
   "outputs": [],
   "source": []
  }
 ],
 "metadata": {
  "kernelspec": {
   "display_name": "Python 3 (ipykernel)",
   "language": "python",
   "name": "python3"
  },
  "language_info": {
   "codemirror_mode": {
    "name": "ipython",
    "version": 3
   },
   "file_extension": ".py",
   "mimetype": "text/x-python",
   "name": "python",
   "nbconvert_exporter": "python",
   "pygments_lexer": "ipython3",
   "version": "3.12.0"
  }
 },
 "nbformat": 4,
 "nbformat_minor": 5
}
