{
 "cells": [
  {
   "cell_type": "code",
   "execution_count": null,
   "id": "4739f501-5db5-4866-b89c-9b642d89214a",
   "metadata": {},
   "outputs": [],
   "source": [
    "# 조건이 여러개인 경우\n",
    "score = 76\n",
    "# score가 90이상이면 A, 80이상이면 B, 70이상이면 C, 60이상이면 D, 그렇지 않으면 F\n",
    "if score >= 90:\n",
    "    ptint(\"A\")\n",
    "else: #89이하\n",
    "    if score >= 80:\n",
    "        ptint(\"B\")\n",
    "    else: #79이하\n",
    "        if score >= 70:\n",
    "            print(\"C\")\n",
    "        else:\n",
    "            if score >= 60:\n",
    "                print(\"D\")\n",
    "            else:\n",
    "                print(\"F\")"
   ]
  },
  {
   "cell_type": "code",
   "execution_count": null,
   "id": "eaa87551-2e88-42d9-84aa-7e7151a7f708",
   "metadata": {},
   "outputs": [],
   "source": [
    "if score >= 90:\n",
    "    ptint(\"A\")\n",
    "elif score >= 80:\n",
    "    ptint(\"B\")\n",
    "elif score >= 70:\n",
    "    print(\"C\")\n",
    "elif score >= 60:\n",
    "    print(\"D\")\n",
    "else:\n",
    "    print(\"F\")\n",
    "# if ~ elif ~ ... ~ else문 "
   ]
  },
  {
   "cell_type": "code",
   "execution_count": null,
   "id": "83174b7a-8bf8-4dd8-8274-64e3cedad55e",
   "metadata": {},
   "outputs": [],
   "source": [
    "### 95이상이면 A+ 이하면 A\n",
    "### 85이상이면 B+ 이하면 B\n",
    "### 75이상이면 C+ 이하면 C\n",
    "### 65이상이면 D+ 이하면 D\n",
    "###  그렇지 않으면 F\n",
    "if score >= 90:    # 중첩 if문\n",
    "    if score >= 95:\n",
    "        ptint(\"A+\")\n",
    "    else:\n",
    "        print(\"A\")\n",
    "elif score >= 80:\n",
    "    if score >= 85:\n",
    "        ptint(\"B+\")\n",
    "    else:\n",
    "        print(\"B\")\n",
    "elif score >= 70:\n",
    "    if score >= 75:\n",
    "        ptint(\"C+\")\n",
    "    else:\n",
    "        print(\"C\")\n",
    "elif score >= 60:\n",
    "    if score >= 65:\n",
    "        ptint(\"D+\")\n",
    "    else:\n",
    "        print(\"D\")\n",
    "else:\n",
    "    print(\"F\")"
   ]
  },
  {
   "cell_type": "code",
   "execution_count": null,
   "id": "53e31fcd-a6b6-45d9-937a-6c77beab54b8",
   "metadata": {},
   "outputs": [],
   "source": [
    "'''\n",
    "score가 60이상이면 message 변수에 success를 아니면 message 에 failure를 \n",
    "저장한 후 출력\n",
    "'''\n",
    "score = 78\n",
    "if score >= 60:    #기본 문법\n",
    "    message = \"success\"\n",
    "else:\n",
    "    message = \"failure\"\n",
    "print(message)\n",
    "#파이썬에서 사용하는 방식\n",
    "message = \"success\" if score >= 60 else \"failure\"\n",
    "print(message)"
   ]
  },
  {
   "cell_type": "code",
   "execution_count": null,
   "id": "7b034966-7894-4ff3-8af4-d824b7c6c36c",
   "metadata": {},
   "outputs": [],
   "source": [
    "score = 78\n",
    "if score >= 90:\n",
    "    message = \"A\"\n",
    "else: #89이하\n",
    "    if score >= 80:\n",
    "         message =  \"B\"\n",
    "    else: #79이하\n",
    "        if score >= 70:\n",
    "             message =  \"C\"\n",
    "        else:\n",
    "            if score >= 60:\n",
    "                 message = \"D\"\n",
    "            else:\n",
    "                 message = \"F\"\n",
    "print(message)\n",
    "\n",
    "message = \"A\" if score >= 90 else ( \"B\" if score >= 80 \n",
    "                             else ( \"C\" if score >= 70\n",
    "                             else ( \"D\" if score >= 60 \n",
    "                             else   \"F\" )))\n",
    "print(message)"
   ]
  },
  {
   "cell_type": "code",
   "execution_count": null,
   "id": "8793cd16-5bc1-45a5-876d-e4420c587394",
   "metadata": {},
   "outputs": [],
   "source": [
    "# if문을 이용한 사직연산 \n",
    "a = 10; b = 20; opt = \"sub\"\n",
    "if opt == \"add\":\n",
    "    message = a + b\n",
    "elif opt == \"sub\":\n",
    "    message = a - b\n",
    "elif opt == \"mul\":\n",
    "    message = a * b\n",
    "else:\n",
    "    message = a / b\n",
    "print(message)\n",
    "# python style\n",
    "message = a + b if opt == \"add\" else ( a - b if opt == \"sub\" \n",
    "                                else ( a * b if opt == \"mul\"\n",
    "                                else   a / b ))\n",
    "print(message)"
   ]
  },
  {
   "cell_type": "code",
   "execution_count": null,
   "id": "4fd881e8-4698-4314-bfc7-ed39a0e46f7a",
   "metadata": {},
   "outputs": [],
   "source": [
    "# 반복문  :반복적으로 사용해야하는 명령어 \n",
    "print(\"나무를 1번 찍었습니다.\")\n",
    "print(\"나무를 2번 찍었습니다.\")\n",
    "print(\"나무를 3번 찍었습니다.\")\n",
    "print(\"나무를 4번 찍었습니다.\")\n",
    "print(\"나무를 5번 찍었습니다.\")\n",
    "print(\"나무를 6번 찍었습니다.\")\n",
    "print(\"나무를 7번 찍었습니다.\")\n",
    "print(\"나무를 8번 찍었습니다.\")\n",
    "print(\"나무를 9번 찍었습니다.\")\n",
    "print(\"나무를 10번 찍었습니다.\")\n",
    "print(\"나무가 넘어갑니다.\")"
   ]
  },
  {
   "cell_type": "code",
   "execution_count": null,
   "id": "ba8e7c3e-168e-4459-893e-23fcc3808c8d",
   "metadata": {},
   "outputs": [],
   "source": [
    "start = 1\n",
    "while start < 11: # 조건이 만족할 때까지 반복\n",
    "    # print(f\"나무를 {start}번 찍었습니다.\")\n",
    "    # print(\"나무를 {0}번 찍었습니다.\".format(start))\n",
    "    print(\"나무를 %d번 찍었습니다.\" % start)\n",
    "    start += 1\n",
    "print(\"나무가 넘어갑니다.\")"
   ]
  },
  {
   "cell_type": "code",
   "execution_count": null,
   "id": "773bcd3c-208e-4923-88f0-61bff04e17a2",
   "metadata": {},
   "outputs": [],
   "source": [
    "# 구구단\n",
    "'''\n",
    "8단 출력\n",
    "8  * 1 = 8   (8 * 1)\n",
    "8  * 2 = 16  (8 * 2)\n",
    "8  * 3 = 24  (8 * 3)\n",
    "8  * 4 = 32  (8 * 4)\n",
    "8  * 5 = 40  (8 * 5)\n",
    "8  * 6 = (8 * 6)\n",
    "8  * 7 = (8 * 7)\n",
    "8  * 8 = (8 * 8)\n",
    "8  * 9 = (8 * 9)\n",
    "'''\n",
    "start = 1\n",
    "while start < 10:\n",
    "    #print(f\"8  * {start} = {8 * start}\")\n",
    "    #print(\"8  * {0} = {1}\".format(start , 8 * start))\n",
    "    print(\"8  * %d = %d\" % (start , 8 * start))\n",
    "    start += 1"
   ]
  },
  {
   "cell_type": "code",
   "execution_count": null,
   "id": "53aff305-82d2-484b-b3a0-6126f7f63972",
   "metadata": {},
   "outputs": [],
   "source": [
    "dan =  int(input(\"단을 입력하세요 : \"))\n",
    "start = 1\n",
    "while start < 10:\n",
    "    print(\"%d  * %d = %d\" % (dan, start , dan * start))\n",
    "    start += 1"
   ]
  },
  {
   "cell_type": "code",
   "execution_count": null,
   "id": "dd66858f-1f85-419e-ab7f-b1260af00c07",
   "metadata": {},
   "outputs": [],
   "source": [
    "dan =  int(input(\"단을 입력하세요 : \"))\n",
    "startGop = int(input(\"시작 곱을 입력하세요 : \"))\n",
    "endGop = int(input(\"마지막 곱을 입력하세요 : \"))\n",
    "start = startGop\n",
    "while start <= endGop:\n",
    "    print(\"%d  * %d = %d\" % (dan, start , dan * start))\n",
    "    start += 1"
   ]
  },
  {
   "cell_type": "code",
   "execution_count": null,
   "id": "2d2d895a-4e66-43a9-883c-310c41793987",
   "metadata": {},
   "outputs": [],
   "source": [
    "# 로또\n",
    "l = [1,2,3,4,5,6]\n",
    "#    0 1 2 3 4 5\n",
    "print(l)\n",
    "result = l.pop(3)\n",
    "print(result)\n",
    "print(l) # [1, 2, 3, 5, 6]\n",
    "#           0  1  2  3  4 \n",
    "idx = 3\n",
    "result = l.pop(idx)\n",
    "print(result)\n",
    "print(l)"
   ]
  },
  {
   "cell_type": "code",
   "execution_count": null,
   "id": "77841939-2c1c-4379-bae8-a3de4a512105",
   "metadata": {},
   "outputs": [],
   "source": [
    "import random\n",
    "l = [1,2,3,4,5,6]\n",
    "#    0 1 2 3 4 5\n",
    "idx = random.randint(0,5) # 0 1 2 3 4 5\n",
    "print(l)\n",
    "result = l.pop(idx)\n",
    "print(\"idx : \" + str(idx))\n",
    "print(\"result : \" + str(result))\n",
    "print(l)  # [1, 2, 3, 4, 6]\n",
    "          #  0  1  2  3  4\n",
    "idx = random.randint(0,4) # 0 1 2 3 4\n",
    "print(l[idx])\n",
    "result = l.pop(idx)\n",
    "print(\"idx : \" + str(idx))\n",
    "print(\"result : \" + str(result))"
   ]
  },
  {
   "cell_type": "code",
   "execution_count": null,
   "id": "532bc8f3-9943-4c69-bef5-101c748d39d1",
   "metadata": {},
   "outputs": [],
   "source": [
    "import random\n",
    "lotto = []\n",
    "'''\n",
    "lotto.append(1)\n",
    "lotto.append(2)\n",
    "lotto.append(3)\n",
    "...\n",
    "lotto.append(45)\n",
    "'''\n",
    "i = 1   # 리스트와 반복문을 이용해서 로또프로그램\n",
    "while i <= 45:\n",
    "    lotto.append(i)\n",
    "    i += 1\n",
    "#print(lotto)\n",
    "size = len(lotto) # 45\n",
    "y = 1\n",
    "while y <= 6:\n",
    "    size -= 1 # 44 , 43, 42, 41, 40, 39\n",
    "    idx = random.randint(0, size)\n",
    "    lottoNum = lotto.pop(idx)\n",
    "    print(lottoNum, end=\" \")\n",
    "    y += 1 "
   ]
  },
  {
   "cell_type": "code",
   "execution_count": null,
   "id": "ed56b5e9-6b11-4b23-ba64-80e57d323347",
   "metadata": {},
   "outputs": [],
   "source": [
    "#3단\n",
    "start = 1\n",
    "while start <= 9:\n",
    "    print(f\"3 * {start} = {3 * start}\")\n",
    "    start += 1\n",
    "#4단\n",
    "start = 1\n",
    "while start <= 9:\n",
    "    print(f\"4 * {start} = {4 * start}\")\n",
    "    start += 1\n",
    "#5단\n",
    "start = 1\n",
    "while start <= 9:\n",
    "    print(f\"5 * {start} = {5 * start}\")\n",
    "    start += 1"
   ]
  },
  {
   "cell_type": "code",
   "execution_count": null,
   "id": "715f28d1-2065-4407-a69e-4fc201ed4fe9",
   "metadata": {},
   "outputs": [],
   "source": [
    "### 2중 반복문 : 반복문이 반복이 될 때\n",
    "dan = 3\n",
    "while dan <= 5:\n",
    "    start = 1\n",
    "    while start <= 9:\n",
    "        print(f\"{dan} * {start} = {dan * start}\")\n",
    "        start += 1\n",
    "    dan += 1"
   ]
  },
  {
   "cell_type": "code",
   "execution_count": null,
   "id": "3f2e5546-d58d-49b8-ac7b-c473955250c4",
   "metadata": {},
   "outputs": [],
   "source": [
    "startDan =  int(input(\"시작단을 입력해 주세요. : \"))\n",
    "endDan = int(input(\"마지막단을 입력해 주세요. : \"))\n",
    "startGop =  int(input(\"시작곱을 입력해 주세요. : \"))\n",
    "endGop =  int(input(\"마지막곱을 입력해 주세요. : \"))\n",
    "dan = startDan\n",
    "while dan <= endDan:\n",
    "    start = startGop\n",
    "    while start <= endGop:\n",
    "        print(f\"{dan} * {start} = {dan * start}\")\n",
    "        start += 1\n",
    "    dan += 1"
   ]
  },
  {
   "cell_type": "code",
   "execution_count": null,
   "id": "23b39aa4-6145-4a35-bd7c-e199e74f7c32",
   "metadata": {},
   "outputs": [],
   "source": [
    "import random\n",
    "lotto = []\n",
    "cnt = int(input(\"원하는 수량을 입력하세요. :\"))\n",
    "start = 1\n",
    "while start <= cnt:\n",
    "    i = 1   # 리스트와 반복문을 이용해서 로또프로그램\n",
    "    while i <= 45:\n",
    "        lotto.append(i)\n",
    "        i += 1\n",
    "    #print(lotto)\n",
    "    size = len(lotto) # 45\n",
    "    y = 1\n",
    "    while y <= 6:\n",
    "        size -= 1 # 44 , 43, 42, 41, 40, 39\n",
    "        idx = random.randint(0, size)\n",
    "        lottoNum = lotto.pop(idx)\n",
    "        print(lottoNum, end=\" \")\n",
    "        y += 1\n",
    "    print()\n",
    "    lotto.clear()\n",
    "    start += 1"
   ]
  },
  {
   "cell_type": "code",
   "execution_count": null,
   "id": "7d8bcf8c-bb59-4946-9926-90f46760ed42",
   "metadata": {},
   "outputs": [],
   "source": [
    "### 1 ~ 100까지의 합을 구하시오.\n",
    "'''\n",
    "sum = 0\n",
    "sum = sum + 1 # 0 + 1\n",
    "sum = sum + 2 # 1 + 2\n",
    "sum = sum + 3 # 3 + 3\n",
    "sum = sum + 4 # 6 + 4\n",
    "...\n",
    "sum = sum + 100\n",
    "'''\n",
    "sum = 0\n",
    "start = 1\n",
    "while start <= 100:\n",
    "    sum += start # sum = sum + start\n",
    "    start+= 1 # start = start + 1\n",
    "print(sum)\n",
    "### 짝수의 합을 구하시오\n",
    "sum = 0\n",
    "start = 1\n",
    "while start <= 100:\n",
    "    if start % 2 == 0:\n",
    "        sum += start # sum = sum + start\n",
    "    start+= 1 # start = start + 1\n",
    "print(sum)\n",
    "sum = 0\n",
    "start = 0\n",
    "while start <= 99:\n",
    "    start+= 1 # start = start + 1\n",
    "    if start % 2 != 0:\n",
    "        continue\n",
    "    sum += start # sum = sum + start\n",
    "print(sum)\n",
    "print(\"==\" * 30)\n",
    "###  홀수의 합을 구하시오\n",
    "sum = 0\n",
    "start = 1\n",
    "while start <= 100:\n",
    "    if start % 2 != 0:\n",
    "        sum += start # sum = sum + start\n",
    "    start+= 1 # start = start + 1\n",
    "print(sum)\n",
    "print(\"==\" * 30)\n",
    "sum = 0\n",
    "start = 0\n",
    "while start <= 99:\n",
    "    start+= 1 # start = start + 1\n",
    "    if start % 2 == 0:\n",
    "        continue\n",
    "    sum += start # sum = sum + start\n",
    "print(sum)"
   ]
  },
  {
   "cell_type": "code",
   "execution_count": null,
   "id": "02fbea90-f864-4476-8e15-3dc0c436867e",
   "metadata": {},
   "outputs": [],
   "source": [
    "sum = 0\n",
    "start = 1\n",
    "while True:\n",
    "    if start == 101:\n",
    "        break\n",
    "    sum += start \n",
    "    start += 1\n",
    "print(sum)  "
   ]
  },
  {
   "cell_type": "code",
   "execution_count": null,
   "id": "ac33b34a-91a7-4a48-a70a-5b245176fc35",
   "metadata": {},
   "outputs": [],
   "source": [
    "## 반복문 : while문 , for문\n",
    "l = [11,223,99,887,78,89]\n",
    "#     0   1  2   3  4  5\n",
    "#리스트에 있는 값에 합을 구하시오.\n",
    "sum = 0\n",
    "sum = sum + l[0]\n",
    "sum = sum + l[1]\n",
    "sum = sum + l[2]\n",
    "sum = sum + l[3]\n",
    "sum = sum + l[4]\n",
    "sum = sum + l[5]\n",
    "\n",
    "print(\"==\" * 30)\n",
    "sum = 0\n",
    "idx = 0\n",
    "size = len(l)\n",
    "while idx <  size:\n",
    "    sum = sum + l[idx]\n",
    "    idx += 1\n",
    "print(sum)\n",
    "\n",
    "print(\"for문으로 변경\")\n",
    "sum = 0\n",
    "for num in l: #  [11,223,99,887,78,89]\n",
    "    sum = sum + num\n",
    "print(sum)\n",
    "\n",
    "print(\"==\" * 30)\n",
    "sum = 0\n",
    "for num in [11,223,99,887,78,89]:\n",
    "    sum = sum + num\n",
    "print(sum)"
   ]
  },
  {
   "cell_type": "code",
   "execution_count": null,
   "id": "3e26042d-901d-4d19-baa8-668db0a48d7a",
   "metadata": {},
   "outputs": [],
   "source": [
    "l = [11,223,99,887,78,89] \n",
    "#    0   1   2  3  4  5\n",
    "sum =0\n",
    "for idx in range(0, len(l)): #0 ~ len(l)-1 # 0 ~ 5\n",
    "    sum = sum + l[idx] # l[0], l[1], l[2], [3], l[4], l[5]\n",
    "print(sum)"
   ]
  },
  {
   "cell_type": "code",
   "execution_count": null,
   "id": "6e1efbb7-30b7-4dd3-be7d-6a7837debc01",
   "metadata": {},
   "outputs": [],
   "source": [
    "# 1 ~ 100까지의 합을 구하시오\n",
    "sum = 0\n",
    "start = 1\n",
    "while start <= 100:\n",
    "    sum += start\n",
    "    start += 1\n",
    "print(sum)\n",
    "print(\"for문으로 변경\")\n",
    "sum = 0\n",
    "for num in range(1 , 100 + 1):\n",
    "    sum += num\n",
    "print(sum)"
   ]
  },
  {
   "cell_type": "code",
   "execution_count": null,
   "id": "5035a2a4-979d-467f-9efe-7269b52a0725",
   "metadata": {},
   "outputs": [],
   "source": [
    "# 1 ~ 100까지의 합을 구하시오\n",
    "sum = 0\n",
    "start =1 \n",
    "while start <= 100:\n",
    "    sum += start\n",
    "    start += 1\n",
    "print(sum)\n",
    "print(\"==\" * 30)\n",
    "sum = 0\n",
    "for num in range(1, 101):\n",
    "    sum += num\n",
    "print(sum)"
   ]
  },
  {
   "cell_type": "code",
   "execution_count": null,
   "id": "bc3eb5e4-8278-4d33-9954-b32200f1e753",
   "metadata": {},
   "outputs": [],
   "source": [
    "# 짝수만 구하시오\n",
    "sum = 0\n",
    "start =1\n",
    "while start <= 100:\n",
    "    if start % 2 == 0:\n",
    "        sum += start \n",
    "    start +=1\n",
    "print(sum)\n",
    "print(\"for문 변경\")\n",
    "sum = 0\n",
    "for num in range(1, 101):\n",
    "    if num % 2 == 0:\n",
    "        sum += num\n",
    "print(sum)\n",
    "print(\"continue 사용\")\n",
    "sum = 0\n",
    "start =0\n",
    "while start <= 99:\n",
    "    start +=1\n",
    "    if start % 2 != 0:\n",
    "        continue\n",
    "    sum += start \n",
    "print(sum)\n",
    "print(\"for문 변경\")\n",
    "sum = 0\n",
    "for num in range(1, 101):\n",
    "    if num % 2 != 0:\n",
    "        continue\n",
    "    sum += num\n",
    "print(sum)"
   ]
  },
  {
   "cell_type": "code",
   "execution_count": null,
   "id": "07ab4395-5c68-46b2-95c7-d07c212d5e72",
   "metadata": {},
   "outputs": [],
   "source": [
    "sum = 0\n",
    "start = 1\n",
    "while True:\n",
    "    if start == 101:\n",
    "        break\n",
    "    sum += start\n",
    "    start += 1\n",
    "print(sum)\n",
    "print(\"for\")\n",
    "sum = 0\n",
    "for num in range(1, 10000000):\n",
    "    if num == 101:\n",
    "        break\n",
    "    sum += num\n",
    "print(sum)"
   ]
  },
  {
   "cell_type": "code",
   "execution_count": null,
   "id": "ee010076-6e0e-4416-803f-dad297ff9ff8",
   "metadata": {},
   "outputs": [],
   "source": [
    "# 5단\n",
    "start =1\n",
    "while start <= 9:\n",
    "    print(f\" 5 * {start} = {5 * start}\");\n",
    "    start += 1\n",
    "print(\"for문 변경\")\n",
    "for gop in range(1, 10):\n",
    "    print(f\" 5 * {gop} = {5 * gop}\");\n",
    "\n",
    "for gop in range(1, 10):\n",
    "    print(f\" 6 * {gop} = {6 * gop}\");\n",
    "\n",
    "for gop in range(1, 10):\n",
    "    print(f\" 7 * {gop} = {7 * gop}\")"
   ]
  },
  {
   "cell_type": "code",
   "execution_count": null,
   "id": "34751476-5f62-4d97-934f-d6f4c7cdbe20",
   "metadata": {},
   "outputs": [],
   "source": [
    "dan = 5\n",
    "while dan <= 7:\n",
    "    for gop in range(1, 10):\n",
    "        print(f\" {dan} * {gop} = {dan * gop}\")\n",
    "    dan += 1\n",
    "print(\"==\" * 30)\n",
    "for dan in range(5, 7 + 1): # 2중 반복문\n",
    "    for gop in range(1, 10):\n",
    "        print(f\" {dan} * {gop} = {dan * gop}\")"
   ]
  },
  {
   "cell_type": "code",
   "execution_count": 4,
   "id": "07e65c5e-c6e1-4596-bb60-e1ec2ac10fa0",
   "metadata": {},
   "outputs": [
    {
     "name": "stdin",
     "output_type": "stream",
     "text": [
      "시작 단을 입력해주세요 :  3\n",
      "마지막 단을 입력해주세요 :  5\n",
      "시작 곱을 입력해주세요 :  2\n",
      "마지막 곱을 입력해주세요 :  4\n"
     ]
    },
    {
     "name": "stdout",
     "output_type": "stream",
     "text": [
      " 3 * 2 = 6\n",
      " 3 * 3 = 9\n",
      " 3 * 4 = 12\n",
      " 4 * 2 = 8\n",
      " 4 * 3 = 12\n",
      " 4 * 4 = 16\n",
      " 5 * 2 = 10\n",
      " 5 * 3 = 15\n",
      " 5 * 4 = 20\n"
     ]
    }
   ],
   "source": [
    "startDan = int(input(\"시작 단을 입력해주세요 : \"))\n",
    "endDan = int(input(\"마지막 단을 입력해주세요 : \"))\n",
    "startGop = int(input(\"시작 곱을 입력해주세요 : \"))\n",
    "endGop = int(input(\"마지막 곱을 입력해주세요 : \"))\n",
    "for dan in range(startDan, endDan + 1): # 2중 반복문\n",
    "    for gop in range(startGop, endGop + 1):\n",
    "        print(f\" {dan} * {gop} = {dan * gop}\")"
   ]
  },
  {
   "cell_type": "code",
   "execution_count": 8,
   "id": "00436008-0e4b-4d2b-9cfd-a9dbfe0b9768",
   "metadata": {},
   "outputs": [
    {
     "name": "stdout",
     "output_type": "stream",
     "text": [
      "12 42 4 38 7 21 \n",
      "============================================================\n",
      "6 19 37 18 41 20 "
     ]
    }
   ],
   "source": [
    "import random\n",
    "lotto = []\n",
    "i = 1  \n",
    "while i <= 45:\n",
    "    lotto.append(i)\n",
    "    i += 1\n",
    "size = len(lotto) # 45\n",
    "y = 1\n",
    "while y <= 6:\n",
    "    size -= 1 # 44 , 43, 42, 41, 40, 39\n",
    "    idx = random.randint(0, size)\n",
    "    lottoNum = lotto.pop(idx)\n",
    "    print(lottoNum, end=\" \")\n",
    "    y += 1 \n",
    "print()\n",
    "print(\"==\" * 30)\n",
    "lotto = []\n",
    "for i in range(1, 45+1):\n",
    "    lotto.append(i)\n",
    "size = len(lotto)\n",
    "for num in range(1, 6 + 1):\n",
    "    size -= 1\n",
    "    idx = random.randint(0, size)\n",
    "    lottoNum = lotto.pop(idx)\n",
    "    print(lottoNum , end=\" \")"
   ]
  },
  {
   "cell_type": "code",
   "execution_count": 11,
   "id": "61c4cf16-b237-49a1-8cb8-7e009ecdda5e",
   "metadata": {},
   "outputs": [
    {
     "name": "stdin",
     "output_type": "stream",
     "text": [
      "로또 수량을 입력해주세요 .  4\n"
     ]
    },
    {
     "name": "stdout",
     "output_type": "stream",
     "text": [
      "40 26 14 33 21 35 \n",
      "4 15 28 38 10 24 \n",
      "22 15 18 12 7 9 \n",
      "10 19 42 4 31 37 \n"
     ]
    }
   ],
   "source": [
    "cnt = int(input(\"로또 수량을 입력해주세요 . \"))\n",
    "lotto = []\n",
    "for y in range(0 , cnt):\n",
    "    for i in range(1, 45+1):\n",
    "        lotto.append(i)\n",
    "    size = len(lotto)\n",
    "    for num in range(1, 6 + 1):\n",
    "        size -= 1\n",
    "        idx = random.randint(0, size)\n",
    "        lottoNum = lotto.pop(idx)\n",
    "        print(lottoNum , end=\" \")\n",
    "    lotto.clear()\n",
    "    print()"
   ]
  },
  {
   "cell_type": "code",
   "execution_count": 20,
   "id": "538c9d19-d0fb-4fe3-b9e4-093e19d4f784",
   "metadata": {},
   "outputs": [
    {
     "name": "stdout",
     "output_type": "stream",
     "text": [
      "1\n",
      "2\n",
      "3\n",
      "4\n",
      "(1, 2)\n",
      "(3, 4)\n",
      "(5, 6)\n",
      "3\n",
      "7\n",
      "11\n",
      "1 2\n",
      "============================================================\n",
      "3\n",
      "7\n",
      "11\n",
      "============================================================\n",
      "6\n",
      "15\n",
      "24\n",
      "[1, 2, 3]\n",
      "[5, 6]\n",
      "[7, 8, 9, 10]\n"
     ]
    }
   ],
   "source": [
    "l = [1,2,3,4]\n",
    "#    0 1 2 3\n",
    "for num in l:\n",
    "    print(num)\n",
    "l1 = [(1,2),(3,4),(5,6)]\n",
    "#       0     1     2\n",
    "for num in l1:\n",
    "    print(num)\n",
    "for num in l1: # (1, 2) \n",
    "    #             0  1\n",
    "    print(num[0] + num[1])\n",
    "\n",
    "### 변수선언\n",
    "a, b = (1, 2)\n",
    "print(a, b)\n",
    "print(\"==\" * 30)\n",
    "for a , b in l1: # (1, 2) \n",
    "    print(a + b)\n",
    "print(\"==\" * 30)\n",
    "l2 = [[1,2,3],[4,5,6],[7,8,9]]\n",
    "for  a,b,c  in l2:\n",
    "    print(a + b+ c)\n",
    "'''   \n",
    "l3 = [[1,2,3],[5,6],[7,8,9,10]]\n",
    "for  a,b,c,d  in l2:\n",
    "    print(a + b+ c)\n",
    "'''\n",
    "l3 = [[1,2,3],[5,6],[7,8,9,10]]\n",
    "for  num  in l3:\n",
    "    print(num)"
   ]
  },
  {
   "cell_type": "code",
   "execution_count": 24,
   "id": "ad871f4e-ab04-4482-aed2-25ccf1402798",
   "metadata": {},
   "outputs": [
    {
     "name": "stdout",
     "output_type": "stream",
     "text": [
      "[1, 2, 3, 4, 5, 6, 7, 8, 9]\n",
      "[1, 2, 3, 4, 5, 6, 7, 8, 9]\n",
      "[1, 2, 3, 4, 5, 6, 7, 8, 9, 10, 11, 12, 13, 14, 15, 16, 17, 18, 19, 20, 21, 22, 23, 24, 25, 26, 27, 28, 29, 30, 31, 32, 33, 34, 35, 36, 37, 38, 39, 40, 41, 42, 43, 44, 45]\n",
      "[1, 2, 3, 4, 5, 6, 7, 8, 9, 10, 11, 12, 13, 14, 15, 16, 17, 18, 19, 20, 21, 22, 23, 24, 25, 26, 27, 28, 29, 30, 31, 32, 33, 34, 35, 36, 37, 38, 39, 40, 41, 42, 43, 44, 45]\n"
     ]
    }
   ],
   "source": [
    "# list comprehension\n",
    "l = []\n",
    "for num in range(1, 10):\n",
    "    l.append(num)\n",
    "print(l)\n",
    "\n",
    "l = [num for num in range(1, 10) ]\n",
    "print(l)\n",
    "\n",
    "# 로또\n",
    "lotto = []\n",
    "for num in range(1, 45 + 1):\n",
    "    lotto.append(num)\n",
    "print(lotto)\n",
    "\n",
    "lotto = [num for num in range(1, 45 + 1)]\n",
    "print(lotto)"
   ]
  },
  {
   "cell_type": "code",
   "execution_count": 26,
   "id": "0bd23d54-54c6-4a54-a0ec-a1f6661b94a1",
   "metadata": {},
   "outputs": [
    {
     "name": "stdout",
     "output_type": "stream",
     "text": [
      "[3, 6, 9, 12]\n",
      "[3, 6, 9, 12]\n"
     ]
    }
   ],
   "source": [
    "t = (1,2,3,4)\n",
    "l = [] \n",
    "# 튜플에 있는 값에 3을 곱해서 리스트에 저장해라.\n",
    "for num in t:\n",
    "    l.append(num * 3)\n",
    "print(l)\n",
    "\n",
    "l = [num * 3 for num in t]\n",
    "print(l)"
   ]
  },
  {
   "cell_type": "code",
   "execution_count": 27,
   "id": "19a7d6de-0897-4e72-99ac-641c2fcfcb44",
   "metadata": {},
   "outputs": [
    {
     "name": "stdout",
     "output_type": "stream",
     "text": [
      "[6, 12, 18, 24]\n"
     ]
    }
   ],
   "source": [
    "t = 1,2,3,4,5,6,7,8,9\n",
    "l = []\n",
    "#튜플에 있는 값중 짝수만 3을 곱해서 리스트에 저장\n",
    "for num in t:\n",
    "    if num % 2 == 0:\n",
    "        l.append(num * 3)\n",
    "\n",
    "l = [num * 3 for num in t if num % 2 == 0]\n",
    "print(l)"
   ]
  },
  {
   "cell_type": "code",
   "execution_count": 29,
   "id": "6414f9c2-5e09-41c9-8b83-e3a2bee6f92f",
   "metadata": {},
   "outputs": [
    {
     "name": "stdout",
     "output_type": "stream",
     "text": [
      "[3, 6, 9, 12, 15, 18, 21, 24, 27, 4, 8, 12, 16, 20, 24, 28, 32, 36, 5, 10, 15, 20, 25, 30, 35, 40, 45, 6, 12, 18, 24, 30, 36, 42, 48, 54]\n",
      "[3, 6, 9, 12, 15, 18, 21, 24, 27, 4, 8, 12, 16, 20, 24, 28, 32, 36, 5, 10, 15, 20, 25, 30, 35, 40, 45, 6, 12, 18, 24, 30, 36, 42, 48, 54]\n"
     ]
    }
   ],
   "source": [
    "# 3~ 6단까지의 곱의 값을 리스트에 추가\n",
    "l = []\n",
    "for dan in range(3, 6 + 1):\n",
    "    for gop in range(1, 9 + 1):\n",
    "        l.append(dan * gop)\n",
    "print(l)\n",
    "\n",
    "l = [dan * gop for dan in range(3, 6 + 1)\n",
    "               for gop in range(1, 9 + 1)]\n",
    "print(l)"
   ]
  },
  {
   "cell_type": "code",
   "execution_count": 30,
   "id": "609bbf81-cdf2-47c5-b10c-dc353aefe5ae",
   "metadata": {},
   "outputs": [
    {
     "name": "stdout",
     "output_type": "stream",
     "text": [
      "[6, 12, 18, 24, 4, 8, 12, 16, 20, 24, 28, 32, 36, 10, 20, 30, 40, 6, 12, 18, 24, 30, 36, 42, 48, 54]\n",
      "[6, 12, 18, 24, 4, 8, 12, 16, 20, 24, 28, 32, 36, 10, 20, 30, 40, 6, 12, 18, 24, 30, 36, 42, 48, 54]\n"
     ]
    }
   ],
   "source": [
    "# 3~ 6단까지의 곱의 값이 짝수만 리스트에 추가\n",
    "l = []\n",
    "for dan in range(3, 6 + 1):\n",
    "    for gop in range(1, 9 + 1):\n",
    "        if dan * gop % 2 == 0:\n",
    "            l.append(dan * gop)\n",
    "print(l)\n",
    "\n",
    "l = [dan * gop for dan in range(3, 6 + 1) \n",
    "               for gop in range(1, 9 + 1) if dan * gop % 2 == 0 ]\n",
    "print(l)"
   ]
  },
  {
   "cell_type": "code",
   "execution_count": 32,
   "id": "4a973055-b761-4714-95e3-c2865a66f688",
   "metadata": {},
   "outputs": [],
   "source": [
    "# 함수(function) : x값에 따른 y값의 변화를 알고 싶을 때\n",
    "'''\n",
    "f(x) = 2x + 3일때\n",
    "y = f(4)이면 y값은 얼마입니까? 11\n",
    "y = f(5)이면 y값은 얼마입니까? 13\n",
    "'''\n",
    "def f(x): # 피호출함수 , x는 가인자 , 매개변수(parameter)\n",
    "    return 2 * x + 3"
   ]
  },
  {
   "cell_type": "code",
   "execution_count": null,
   "id": "0f44505e-67b9-4a70-b4b1-f54dc8a90fe7",
   "metadata": {},
   "outputs": [],
   "source": [
    "y = f(4); # 호출함수 , 4는 실인자 , 인자(argument)\n",
    "print(y)"
   ]
  },
  {
   "cell_type": "code",
   "execution_count": null,
   "id": "c9e097cc-ebd8-4877-b6f9-c7ccefcb01b2",
   "metadata": {},
   "outputs": [],
   "source": [
    "y = f(5);print(y)"
   ]
  },
  {
   "cell_type": "code",
   "execution_count": 35,
   "id": "be99fa3f-eab5-4cae-96bb-b70dc32f3e45",
   "metadata": {},
   "outputs": [],
   "source": [
    "'''\n",
    "f(x1, x2) = 3x1 + 5x2 + 4일 때\n",
    "y = f(4, 5)라면 y값은?\n",
    "'''\n",
    "def f(x1, x2): # x1, x2 : 가인자, parameter\n",
    "    return 3 * x1 + 5 * x2 + 4"
   ]
  },
  {
   "cell_type": "code",
   "execution_count": 36,
   "id": "293ffe55-a795-4c76-ba4f-cd53782cf28e",
   "metadata": {},
   "outputs": [
    {
     "name": "stdout",
     "output_type": "stream",
     "text": [
      "41\n"
     ]
    }
   ],
   "source": [
    "y = f(4, 5) # 4, 5 : 실인자 , argument\n",
    "print(y)\n",
    "# argument는 parameter에게 값이 전달된다.\n",
    "# argument와 parameter는 서로 1대1 대응\n",
    "# argument와 parameter의 갯수는 같아야 한다.\n",
    "# 호출함수를 실행하기 위해서는 피 호출함수는 먼저 실행되어 있어야 한다.\n",
    "# 호출함수는 피호출함수와 같은 이름이다.\n",
    "# return문 뒤의 결과 값은 호출함수로 전달된다.\n",
    "'''\n",
    "함수의 정의 : 피호출함수 정의\n",
    "def 함수명(parameter1,parameter2,parameter3,...,parameter_n):\n",
    "    명령어1\n",
    "    명령어2\n",
    "    ...\n",
    "    명령어n\n",
    "    return 결과값\n",
    "\n",
    "변수 = 함수명(argument1,argument2,argument3,...,argument_n)\n",
    "print(변수)\n",
    "'''\n"
   ]
  },
  {
   "cell_type": "code",
   "execution_count": 38,
   "id": "bfbe5910-ff20-49ad-9c98-55140fa60ead",
   "metadata": {},
   "outputs": [],
   "source": [
    "def add(x1, x2):\n",
    "    return x1 + x2"
   ]
  },
  {
   "cell_type": "code",
   "execution_count": 39,
   "id": "9016f528-2d50-4f8d-b09f-c59ec6a6caf9",
   "metadata": {},
   "outputs": [
    {
     "name": "stdout",
     "output_type": "stream",
     "text": [
      "9\n"
     ]
    }
   ],
   "source": [
    "y = add(4, 5)\n",
    "print(y)"
   ]
  },
  {
   "cell_type": "code",
   "execution_count": 40,
   "id": "0cc4a121-8ac8-4271-9353-f0d764ca7ff0",
   "metadata": {},
   "outputs": [
    {
     "name": "stdout",
     "output_type": "stream",
     "text": [
      "3 * 1 = 3\n",
      "3 * 2 = 6\n",
      "3 * 3 = 9\n",
      "3 * 4 = 12\n",
      "3 * 5 = 15\n",
      "3 * 6 = 18\n",
      "3 * 7 = 21\n",
      "3 * 8 = 24\n",
      "3 * 9 = 27\n"
     ]
    }
   ],
   "source": [
    "#3단\n",
    "for gop in range(1, 9 + 1):\n",
    "    print(f\"3 * {gop} = {3 * gop}\")"
   ]
  },
  {
   "cell_type": "code",
   "execution_count": 41,
   "id": "744a0b3f-1a1c-4a0d-9116-7f6b24cd7f4e",
   "metadata": {},
   "outputs": [],
   "source": [
    "def gugu3():\n",
    "    for gop in range(1, 9 + 1):\n",
    "        print(f\"3 * {gop} = {3 * gop}\")"
   ]
  },
  {
   "cell_type": "code",
   "execution_count": 44,
   "id": "e1ba223a-bfac-4a00-ac0a-9cd8986b35ef",
   "metadata": {},
   "outputs": [
    {
     "name": "stdout",
     "output_type": "stream",
     "text": [
      "3 * 1 = 3\n",
      "3 * 2 = 6\n",
      "3 * 3 = 9\n",
      "3 * 4 = 12\n",
      "3 * 5 = 15\n",
      "3 * 6 = 18\n",
      "3 * 7 = 21\n",
      "3 * 8 = 24\n",
      "3 * 9 = 27\n"
     ]
    }
   ],
   "source": [
    "gugu3()"
   ]
  },
  {
   "cell_type": "code",
   "execution_count": 47,
   "id": "d632617a-ac45-4f9a-a690-293fff7a0f8b",
   "metadata": {},
   "outputs": [
    {
     "name": "stdin",
     "output_type": "stream",
     "text": [
      "단을 입력해주세요. :  4\n"
     ]
    },
    {
     "name": "stdout",
     "output_type": "stream",
     "text": [
      "4 * 1 = 4\n",
      "4 * 2 = 8\n",
      "4 * 3 = 12\n",
      "4 * 4 = 16\n",
      "4 * 5 = 20\n",
      "4 * 6 = 24\n",
      "4 * 7 = 28\n",
      "4 * 8 = 32\n",
      "4 * 9 = 36\n"
     ]
    }
   ],
   "source": [
    "dan = int(input(\"단을 입력해주세요. : \"))\n",
    "for gop in range(1, 9 + 1):\n",
    "    print(f\"{dan} * {gop} = {dan * gop}\")"
   ]
  },
  {
   "cell_type": "code",
   "execution_count": 48,
   "id": "9af660b6-dddc-44dc-92cf-ee1963ffbb79",
   "metadata": {},
   "outputs": [],
   "source": [
    "def guguDan():\n",
    "    dan = int(input(\"단을 입력해주세요. : \"))\n",
    "    for gop in range(1, 9 + 1):\n",
    "        print(f\"{dan} * {gop} = {dan * gop}\")"
   ]
  },
  {
   "cell_type": "code",
   "execution_count": 49,
   "id": "77d2c8dd-8111-4151-a69c-77a103bd61bc",
   "metadata": {},
   "outputs": [
    {
     "name": "stdin",
     "output_type": "stream",
     "text": [
      "단을 입력해주세요. :  4\n"
     ]
    },
    {
     "name": "stdout",
     "output_type": "stream",
     "text": [
      "4 * 1 = 4\n",
      "4 * 2 = 8\n",
      "4 * 3 = 12\n",
      "4 * 4 = 16\n",
      "4 * 5 = 20\n",
      "4 * 6 = 24\n",
      "4 * 7 = 28\n",
      "4 * 8 = 32\n",
      "4 * 9 = 36\n"
     ]
    }
   ],
   "source": [
    "guguDan()"
   ]
  },
  {
   "cell_type": "code",
   "execution_count": 50,
   "id": "682375ca-6b70-446a-9c27-1ea216fcb236",
   "metadata": {},
   "outputs": [],
   "source": [
    "def guguDan(dan):\n",
    "    for gop in range(1, 9 + 1):\n",
    "        print(f\"{dan} * {gop} = {dan * gop}\")"
   ]
  },
  {
   "cell_type": "code",
   "execution_count": 55,
   "id": "bf47008c-03e7-4921-beb0-68c1441b79ad",
   "metadata": {},
   "outputs": [
    {
     "name": "stdin",
     "output_type": "stream",
     "text": [
      "단을 입력해주세요. :  5\n"
     ]
    },
    {
     "name": "stdout",
     "output_type": "stream",
     "text": [
      "5 * 1 = 5\n",
      "5 * 2 = 10\n",
      "5 * 3 = 15\n",
      "5 * 4 = 20\n",
      "5 * 5 = 25\n",
      "5 * 6 = 30\n",
      "5 * 7 = 35\n",
      "5 * 8 = 40\n",
      "5 * 9 = 45\n"
     ]
    }
   ],
   "source": [
    "dan = int(input(\"단을 입력해주세요. : \"))\n",
    "guguDan(dan)"
   ]
  },
  {
   "cell_type": "code",
   "execution_count": 59,
   "id": "d2dcae9b-2c48-44de-8fab-eb4646418663",
   "metadata": {},
   "outputs": [
    {
     "name": "stdin",
     "output_type": "stream",
     "text": [
      "시작단을 입력해주세요. :  3\n",
      "마지막단을 입력해주세요. :  4\n",
      "시작곱을 입력해주세요. :  5\n",
      "마지막곱을 입력해주세요. :  6\n"
     ]
    },
    {
     "name": "stdout",
     "output_type": "stream",
     "text": [
      "3 * 5 = 15\n",
      "3 * 6 = 18\n",
      "4 * 5 = 20\n",
      "4 * 6 = 24\n"
     ]
    }
   ],
   "source": [
    "startDan = int(input(\"시작단을 입력해주세요. : \"))\n",
    "endDan = int(input(\"마지막단을 입력해주세요. : \"))\n",
    "startGop = int(input(\"시작곱을 입력해주세요. : \"))\n",
    "endGop = int(input(\"마지막곱을 입력해주세요. : \"))\n",
    "for dan in range(startDan, endDan + 1):\n",
    "    for gop in range(startGop, endGop + 1):\n",
    "        print(f\"{dan} * {gop} = {dan * gop}\")"
   ]
  },
  {
   "cell_type": "code",
   "execution_count": 60,
   "id": "49ec91d0-d1f3-4166-baa8-a7ae7111066e",
   "metadata": {},
   "outputs": [],
   "source": [
    "def guguDan1():\n",
    "    startDan = int(input(\"시작단을 입력해주세요. : \"))\n",
    "    endDan = int(input(\"마지막단을 입력해주세요. : \"))\n",
    "    startGop = int(input(\"시작곱을 입력해주세요. : \"))\n",
    "    endGop = int(input(\"마지막곱을 입력해주세요. : \"))\n",
    "    for dan in range(startDan, endDan + 1):\n",
    "        for gop in range(startGop, endGop + 1):\n",
    "            print(f\"{dan} * {gop} = {dan * gop}\")"
   ]
  },
  {
   "cell_type": "code",
   "execution_count": 61,
   "id": "fac9ea63-8e4b-4884-8d6a-8ee0b6aee2a7",
   "metadata": {},
   "outputs": [
    {
     "name": "stdin",
     "output_type": "stream",
     "text": [
      "시작단을 입력해주세요. :  3\n",
      "마지막단을 입력해주세요. :  4\n",
      "시작곱을 입력해주세요. :  5\n",
      "마지막곱을 입력해주세요. :  6\n"
     ]
    },
    {
     "name": "stdout",
     "output_type": "stream",
     "text": [
      "3 * 5 = 15\n",
      "3 * 6 = 18\n",
      "4 * 5 = 20\n",
      "4 * 6 = 24\n"
     ]
    }
   ],
   "source": [
    "guguDan1()"
   ]
  },
  {
   "cell_type": "code",
   "execution_count": 62,
   "id": "e1ea6713-2cc6-4bb6-ae35-4f1018b1c3ab",
   "metadata": {},
   "outputs": [],
   "source": [
    "def guguDan1(startDan, endDan, startGop, endGop):\n",
    "    for dan in range(startDan, endDan + 1):\n",
    "        for gop in range(startGop, endGop + 1):\n",
    "            print(f\"{dan} * {gop} = {dan * gop}\")"
   ]
  },
  {
   "cell_type": "code",
   "execution_count": 63,
   "id": "d7154ffb-7e97-4d18-99fd-142518c26564",
   "metadata": {},
   "outputs": [
    {
     "name": "stdin",
     "output_type": "stream",
     "text": [
      "시작단을 입력해주세요. :  3\n",
      "마지막단을 입력해주세요. :  4\n",
      "시작곱을 입력해주세요. :  567\n",
      "마지막곱을 입력해주세요. :  4\n"
     ]
    }
   ],
   "source": [
    "startDan = int(input(\"시작단을 입력해주세요. : \"))\n",
    "endDan = int(input(\"마지막단을 입력해주세요. : \"))\n",
    "startGop = int(input(\"시작곱을 입력해주세요. : \"))\n",
    "endGop = int(input(\"마지막곱을 입력해주세요. : \"))\n",
    "guguDan1(startDan, endDan, startGop, endGop)"
   ]
  },
  {
   "cell_type": "code",
   "execution_count": 64,
   "id": "5d80c4e8-6b71-4039-9a31-b1f479a1523b",
   "metadata": {},
   "outputs": [],
   "source": [
    "# 함수의 유형 : 4가지 유형\n",
    "# 1. 입력값(parameter)이 있고 출력값(return)도 있는 경우 :기본 유형\n",
    "def add(x1, x2):\n",
    "    result = x1 + x2\n",
    "    return result"
   ]
  },
  {
   "cell_type": "code",
   "execution_count": 67,
   "id": "c837a89e-97d1-4dc4-91a9-b3589631c752",
   "metadata": {},
   "outputs": [
    {
     "name": "stdin",
     "output_type": "stream",
     "text": [
      "숫자를 입력해주세요., 5\n",
      "숫자를 입력해주세요., 6\n"
     ]
    },
    {
     "name": "stdout",
     "output_type": "stream",
     "text": [
      "11\n"
     ]
    }
   ],
   "source": [
    "x1 = int(input(\"숫자를 입력해주세요.,\"))\n",
    "x2 = int(input(\"숫자를 입력해주세요.,\"))\n",
    "y = add(x1, x2)\n",
    "print(y)"
   ]
  },
  {
   "cell_type": "code",
   "execution_count": 71,
   "id": "ad4938a8-89e9-4082-83de-3dc665b5c1ec",
   "metadata": {},
   "outputs": [],
   "source": [
    "# 2. 입력값(parameter)은 없고 출력값(return)만 있는 경우\n",
    "def add():\n",
    "    x1 = int(input(\"숫자를 입력해주세요.,\"))\n",
    "    x2 = int(input(\"숫자를 입력해주세요.,\"))\n",
    "    result = x1 + x2\n",
    "    return result"
   ]
  },
  {
   "cell_type": "code",
   "execution_count": 72,
   "id": "948eef15-24e1-4e61-9133-4bb4b5f2a218",
   "metadata": {},
   "outputs": [
    {
     "name": "stdin",
     "output_type": "stream",
     "text": [
      "숫자를 입력해주세요., 4\n",
      "숫자를 입력해주세요., 5\n"
     ]
    },
    {
     "name": "stdout",
     "output_type": "stream",
     "text": [
      "9\n"
     ]
    }
   ],
   "source": [
    "y = add()\n",
    "print(y)"
   ]
  },
  {
   "cell_type": "code",
   "execution_count": null,
   "id": "fcd350be-064b-4c9a-8359-9b1f7a53d930",
   "metadata": {},
   "outputs": [],
   "source": [
    "# 3. 입력값(parameter)은 있고 출력값(return)이 없는 경우\n",
    "def add(x1, x2):\n",
    "    result = x1 + x2\n",
    "    print(result)"
   ]
  },
  {
   "cell_type": "code",
   "execution_count": null,
   "id": "a68f8848-c4ed-48e7-a376-a4548631a293",
   "metadata": {},
   "outputs": [],
   "source": [
    "x1 = int(input(\"숫자를 입력해주세요.,\"))\n",
    "x2 = int(input(\"숫자를 입력해주세요.,\"))\n",
    "add(x1, x2)"
   ]
  },
  {
   "cell_type": "code",
   "execution_count": 74,
   "id": "5038c407-62ea-492c-aa5a-2ce10d1e54e5",
   "metadata": {},
   "outputs": [],
   "source": [
    "# 4. 입력값(parameter)이 없고 출력값(return)도 없는 경우\n",
    "def add():\n",
    "    x1 = int(input(\"숫자를 입력해주세요.,\"))\n",
    "    x2 = int(input(\"숫자를 입력해주세요.,\"))\n",
    "    result = x1 + x2\n",
    "    print(result)"
   ]
  },
  {
   "cell_type": "code",
   "execution_count": 75,
   "id": "50dfd5e1-ced1-465d-97c2-aa4bb38cbfaf",
   "metadata": {},
   "outputs": [
    {
     "name": "stdin",
     "output_type": "stream",
     "text": [
      "숫자를 입력해주세요., 3\n",
      "숫자를 입력해주세요., 4\n"
     ]
    },
    {
     "name": "stdout",
     "output_type": "stream",
     "text": [
      "7\n"
     ]
    }
   ],
   "source": [
    "add()"
   ]
  },
  {
   "cell_type": "code",
   "execution_count": 76,
   "id": "00f7268b-569a-4bff-95e0-d49aebff278b",
   "metadata": {},
   "outputs": [],
   "source": [
    "def lottoFnc():\n",
    "    cnt = int(input(\"로또 수량을 입력해주세요 . \"))\n",
    "    lotto = []\n",
    "    for y in range(0 , cnt):\n",
    "        for i in range(1, 45+1):\n",
    "            lotto.append(i)\n",
    "        size = len(lotto)\n",
    "        for num in range(1, 6 + 1):\n",
    "            size -= 1\n",
    "            idx = random.randint(0, size)\n",
    "            lottoNum = lotto.pop(idx)\n",
    "            print(lottoNum , end=\" \")\n",
    "        lotto.clear()\n",
    "        print()"
   ]
  },
  {
   "cell_type": "code",
   "execution_count": 77,
   "id": "839fbf89-4e73-4f81-9cac-5e9accb4fbab",
   "metadata": {},
   "outputs": [
    {
     "name": "stdin",
     "output_type": "stream",
     "text": [
      "로또 수량을 입력해주세요 .  4\n"
     ]
    },
    {
     "name": "stdout",
     "output_type": "stream",
     "text": [
      "2 40 25 20 41 6 \n",
      "29 8 10 45 20 14 \n",
      "14 25 5 32 31 28 \n",
      "29 9 14 32 34 28 \n"
     ]
    }
   ],
   "source": [
    "lottoFnc()"
   ]
  },
  {
   "cell_type": "code",
   "execution_count": 78,
   "id": "577d45cb-e7ad-48c1-9ef0-c260e6e9ac76",
   "metadata": {},
   "outputs": [],
   "source": [
    "def lottoFnc(cnt):\n",
    "    lotto = []\n",
    "    for y in range(0 , cnt):\n",
    "        for i in range(1, 45+1):\n",
    "            lotto.append(i)\n",
    "        size = len(lotto)\n",
    "        for num in range(1, 6 + 1):\n",
    "            size -= 1\n",
    "            idx = random.randint(0, size)\n",
    "            lottoNum = lotto.pop(idx)\n",
    "            print(lottoNum , end=\" \")\n",
    "        lotto.clear()\n",
    "        print()"
   ]
  },
  {
   "cell_type": "code",
   "execution_count": 79,
   "id": "76d15bbe-c431-4567-9c2b-7162de99b26e",
   "metadata": {},
   "outputs": [
    {
     "name": "stdin",
     "output_type": "stream",
     "text": [
      "로또 수량을 입력해주세요 .  4\n"
     ]
    },
    {
     "name": "stdout",
     "output_type": "stream",
     "text": [
      "21 16 17 44 26 9 \n",
      "27 31 29 5 18 45 \n",
      "37 5 9 8 43 13 \n",
      "4 30 31 45 35 42 \n"
     ]
    }
   ],
   "source": [
    "cnt = int(input(\"로또 수량을 입력해주세요 . \"))\n",
    "lottoFnc(cnt)"
   ]
  },
  {
   "cell_type": "code",
   "execution_count": 81,
   "id": "043da8dd-27fa-48cf-9ca3-33f023e2b1f8",
   "metadata": {},
   "outputs": [
    {
     "name": "stdout",
     "output_type": "stream",
     "text": [
      "5050\n"
     ]
    }
   ],
   "source": [
    "# 1 ~ 100까지의 합을 구하시오.\n",
    "sum = 0\n",
    "for num in range(1, 101):\n",
    "    sum += num\n",
    "print(sum)"
   ]
  },
  {
   "cell_type": "code",
   "execution_count": 82,
   "id": "f946637b-729d-4d5d-8220-ba7f77a76615",
   "metadata": {},
   "outputs": [],
   "source": [
    "# 1유형\n",
    "def sum12(x1, x2):\n",
    "    sum = 0\n",
    "    for num in range(x1, x2 + 1):\n",
    "        sum += num\n",
    "    return sum"
   ]
  },
  {
   "cell_type": "code",
   "execution_count": 83,
   "id": "60284525-8e59-4990-8b26-3049df70ae4b",
   "metadata": {},
   "outputs": [
    {
     "name": "stdout",
     "output_type": "stream",
     "text": [
      "5050\n"
     ]
    }
   ],
   "source": [
    "y = sum12(1, 100)\n",
    "print(y)"
   ]
  },
  {
   "cell_type": "code",
   "execution_count": 84,
   "id": "a1e0f5b2-3505-4252-b074-d1b7e5c70481",
   "metadata": {},
   "outputs": [],
   "source": [
    "# 2유형\n",
    "def sum12():\n",
    "    sum = 0\n",
    "    for num in range(1, 101):\n",
    "        sum += num\n",
    "    return sum"
   ]
  },
  {
   "cell_type": "code",
   "execution_count": 85,
   "id": "125ae4f6-d568-4979-8b82-1a29a334e3a8",
   "metadata": {},
   "outputs": [
    {
     "name": "stdout",
     "output_type": "stream",
     "text": [
      "5050\n"
     ]
    }
   ],
   "source": [
    "y = sum12()\n",
    "print(y)"
   ]
  },
  {
   "cell_type": "code",
   "execution_count": 86,
   "id": "d016a2bf-5062-4995-8403-931f7e2465ef",
   "metadata": {},
   "outputs": [],
   "source": [
    "#3  유형\n",
    "def sum12(x1, x2):\n",
    "    sum = 0\n",
    "    for num in range(x1, x2 + 1):\n",
    "       sum += num\n",
    "    print(sum)"
   ]
  },
  {
   "cell_type": "code",
   "execution_count": 88,
   "id": "c423c328-9006-4e58-a4c1-5b510349724b",
   "metadata": {},
   "outputs": [
    {
     "name": "stdout",
     "output_type": "stream",
     "text": [
      "5050\n"
     ]
    }
   ],
   "source": [
    "sum12(1, 100);"
   ]
  },
  {
   "cell_type": "code",
   "execution_count": 89,
   "id": "64f433de-b6b7-4d5f-a9af-5541aee58fc3",
   "metadata": {},
   "outputs": [],
   "source": [
    "# 4유형\n",
    "def sum12():\n",
    "    sum = 0\n",
    "    for num in range(1, 100 + 1):\n",
    "       sum += num\n",
    "    print(sum)"
   ]
  },
  {
   "cell_type": "code",
   "execution_count": 90,
   "id": "2fc9c1a1-a3de-4960-9266-f673b290edb6",
   "metadata": {},
   "outputs": [
    {
     "name": "stdout",
     "output_type": "stream",
     "text": [
      "5050\n"
     ]
    }
   ],
   "source": [
    "sum12()"
   ]
  },
  {
   "cell_type": "code",
   "execution_count": 91,
   "id": "cb31211a-144b-4bde-8402-1902025fa045",
   "metadata": {},
   "outputs": [],
   "source": [
    "# parameter이름을 이용해서 값을 전달\n",
    "def sum12(start , end):\n",
    "    sum = 0\n",
    "    for num in range(start, end + 1):\n",
    "        sum += num\n",
    "    print(sum)"
   ]
  },
  {
   "cell_type": "code",
   "execution_count": 94,
   "id": "ec8c47b1-2d74-4c14-9866-381b5c9f7381",
   "metadata": {},
   "outputs": [
    {
     "name": "stdout",
     "output_type": "stream",
     "text": [
      "500455\n",
      "500455\n"
     ]
    }
   ],
   "source": [
    "sum12(10, 1000) # 순서를 준수\n",
    "sum12(end = 1000, start = 10) # 순서가 없어도 된다"
   ]
  },
  {
   "cell_type": "code",
   "execution_count": 95,
   "id": "e9459e57-cf57-4c0e-a06b-93f1be7739ee",
   "metadata": {},
   "outputs": [],
   "source": [
    "def calc(x1, x2, opt):\n",
    "    if opt == \"add\":\n",
    "        result = x1 + x2\n",
    "    elif opt == \"sub\":\n",
    "        result = x1 - x2\n",
    "    elif opt == \"mul\":\n",
    "        result = x1 * x2\n",
    "    else:\n",
    "        result = x1 / x2\n",
    "    return result"
   ]
  },
  {
   "cell_type": "code",
   "execution_count": 102,
   "id": "7a1c2014-76fc-48cd-96e8-b6dc922348cf",
   "metadata": {},
   "outputs": [
    {
     "name": "stdout",
     "output_type": "stream",
     "text": [
      "30\n",
      "10\n",
      "10\n",
      "10\n"
     ]
    }
   ],
   "source": [
    "y = calc(20, 10, \"add\")\n",
    "print(y)\n",
    "y = calc(opt=\"sub\", x1=20, x2=10)\n",
    "print(y)\n",
    "y = calc(20, opt=\"sub\", x2=10) \n",
    "print(y)\n",
    "'''\n",
    "y = calc(20, opt = \"sub\", 20)\n",
    "print(y)\n",
    "'''\n",
    "y = calc(20, 10, opt = \"sub\")\n",
    "print(y)"
   ]
  },
  {
   "cell_type": "code",
   "execution_count": 106,
   "id": "c3a8c846-7210-4749-b830-f7bcf77a0902",
   "metadata": {},
   "outputs": [],
   "source": [
    "def sum11(* para):\n",
    "    print(para)\n",
    "    result = 0 \n",
    "    for num in para:\n",
    "        result += num\n",
    "    print(result)"
   ]
  },
  {
   "cell_type": "code",
   "execution_count": 107,
   "id": "04a0df6a-d7ae-44f1-ad98-5f8b3cba3fe4",
   "metadata": {},
   "outputs": [
    {
     "name": "stdout",
     "output_type": "stream",
     "text": [
      "(1, 2)\n",
      "3\n",
      "(1, 2, 3)\n",
      "6\n",
      "(1, 2, 3, 4, 5, 6, 7)\n",
      "28\n"
     ]
    }
   ],
   "source": [
    "sum11(1,2)\n",
    "sum11(1,2,3)\n",
    "sum11(1,2,3,4,5,6,7)"
   ]
  },
  {
   "cell_type": "code",
   "execution_count": 108,
   "id": "47eb0eef-34c0-4b5c-874e-a2b901d685e7",
   "metadata": {},
   "outputs": [],
   "source": [
    "def sum14(opt , * para):\n",
    "    result = 1\n",
    "    if opt == \"add\":\n",
    "        for num in para:\n",
    "            result += num\n",
    "    elif opt == \"sub\":\n",
    "        for num in para:\n",
    "            result -= num\n",
    "    elif opt == \"mul\":\n",
    "        for num in para:\n",
    "            result *= num\n",
    "    else:\n",
    "        for num in para:\n",
    "            result /= num\n",
    "    print(result)"
   ]
  },
  {
   "cell_type": "code",
   "execution_count": 109,
   "id": "322c1481-bf49-4aa3-ba41-2b3f57a76bfa",
   "metadata": {},
   "outputs": [
    {
     "name": "stdout",
     "output_type": "stream",
     "text": [
      "25\n",
      "40320\n"
     ]
    }
   ],
   "source": [
    "sum14('add',2,4,5,6,7)\n",
    "sum14('mul',2,3,4,5,6,7,8)"
   ]
  },
  {
   "cell_type": "code",
   "execution_count": 110,
   "id": "a78d7a7d-eca4-4279-a4de-9a0485bbc03a",
   "metadata": {},
   "outputs": [],
   "source": [
    "# 함수의 기본 : 결과값은 오직 하나이어야 한다.\n",
    "def add_mul(x, y):\n",
    "    i = x + y\n",
    "    j = x * y\n",
    "    return i , j # 결과값은 하나다. 튜플"
   ]
  },
  {
   "cell_type": "code",
   "execution_count": 112,
   "id": "08b67975-a170-4eef-9326-df32719c07e9",
   "metadata": {},
   "outputs": [
    {
     "name": "stdout",
     "output_type": "stream",
     "text": [
      "(8, 15)\n",
      "8 15\n"
     ]
    }
   ],
   "source": [
    "result = add_mul(3, 5)\n",
    "print(result)\n",
    "a , b = add_mul(3, 5)\n",
    "print(a, b)\n",
    "# a , b =  (8, 15)"
   ]
  },
  {
   "cell_type": "code",
   "execution_count": 113,
   "id": "37a951cf-4ee6-4a5e-9a16-40b591881c8b",
   "metadata": {},
   "outputs": [],
   "source": [
    "def add_mul(x, y):\n",
    "    i = x + y\n",
    "    j = x * y\n",
    "    return i # 함수를 종료 한다. \n",
    "    return j # 이미 함수가 종료가 되었으므로 return 문은 실행되지 않는다."
   ]
  },
  {
   "cell_type": "code",
   "execution_count": 114,
   "id": "b3036a6e-b98a-4df6-94e5-40010ebe4c61",
   "metadata": {},
   "outputs": [
    {
     "name": "stdout",
     "output_type": "stream",
     "text": [
      "15\n"
     ]
    }
   ],
   "source": [
    "result =  add_mul(10, 5)\n",
    "print(result)"
   ]
  },
  {
   "cell_type": "code",
   "execution_count": 115,
   "id": "12775b3b-c5f8-4136-9268-bd5103980bdd",
   "metadata": {},
   "outputs": [],
   "source": [
    "def say_myself(name, old, man):\n",
    "    print(\"나의 이름은 %s입니다.\" % name)\n",
    "    print(\"나의 나이는 %d입니다.\" % old)\n",
    "    if man:\n",
    "        print(\"남자입니다.\")\n",
    "    else:\n",
    "        print(\"여자입니다.\")"
   ]
  },
  {
   "cell_type": "code",
   "execution_count": 116,
   "id": "afa2babf-2d62-488c-826b-75947b3d86db",
   "metadata": {},
   "outputs": [
    {
     "name": "stdout",
     "output_type": "stream",
     "text": [
      "나의 이름은 이숭무입니다.\n",
      "나의 나이는 35입니다.\n",
      "남자입니다.\n",
      "나의 이름은 이숭무입니다.\n",
      "나의 나이는 35입니다.\n",
      "남자입니다.\n"
     ]
    }
   ],
   "source": [
    "say_myself('이숭무', 35, True)\n",
    "say_myself(old=35, man=True, name='이숭무') # 매개변수 이름 지정하기"
   ]
  },
  {
   "cell_type": "code",
   "execution_count": 117,
   "id": "2d3c4257-6772-4144-a3f8-e39acc40aecf",
   "metadata": {},
   "outputs": [],
   "source": [
    "#### 매개변수에 초깃값 미리 설정하기 \n",
    "def say_myself(name, old, man = True):\n",
    "    print(\"나의 이름은 %s입니다.\" % name)\n",
    "    print(\"나의 나이는 %d입니다.\" % old)\n",
    "    if man:\n",
    "        print(\"남자입니다.\")\n",
    "    else:\n",
    "        print(\"여자입니다.\")"
   ]
  },
  {
   "cell_type": "code",
   "execution_count": 120,
   "id": "e63e0484-f4b1-4153-a1c4-eb99b02bb49a",
   "metadata": {},
   "outputs": [
    {
     "name": "stdout",
     "output_type": "stream",
     "text": [
      "나의 이름은 이숭무입니다.\n",
      "나의 나이는 35입니다.\n",
      "남자입니다.\n",
      "나의 이름은 오연의입니다.\n",
      "나의 나이는 45입니다.\n",
      "여자입니다.\n",
      "나의 이름은 이상범입니다.\n",
      "나의 나이는 18입니다.\n",
      "남자입니다.\n"
     ]
    }
   ],
   "source": [
    "say_myself('이숭무', 35)\n",
    "say_myself('오연의', 45, False)\n",
    "say_myself('이상범', 18, True)"
   ]
  },
  {
   "cell_type": "code",
   "execution_count": 122,
   "id": "5b744bf5-24e6-47f4-a940-b3443455d700",
   "metadata": {},
   "outputs": [],
   "source": [
    "def say_myself(name, old = 30, man = True):\n",
    "    print(\"나의 이름은 %s입니다.\" % name)\n",
    "    print(\"나의 나이는 %d입니다.\" % old)\n",
    "    if man:\n",
    "        print(\"남자입니다.\")\n",
    "    else:\n",
    "        print(\"여자입니다.\")"
   ]
  },
  {
   "cell_type": "code",
   "execution_count": 124,
   "id": "67bd80b4-a21c-47f4-83c7-e031e8cc3342",
   "metadata": {},
   "outputs": [
    {
     "name": "stdout",
     "output_type": "stream",
     "text": [
      "나의 이름은 이숭무입니다.\n",
      "나의 나이는 30입니다.\n",
      "남자입니다.\n",
      "나의 이름은 오연의입니다.\n",
      "나의 나이는 0입니다.\n",
      "남자입니다.\n",
      "나의 이름은 이상범입니다.\n",
      "나의 나이는 18입니다.\n",
      "남자입니다.\n",
      "나의 이름은 오연의입니다.\n",
      "나의 나이는 30입니다.\n",
      "여자입니다.\n"
     ]
    }
   ],
   "source": [
    "say_myself('이숭무')\n",
    "say_myself('오연의', False)\n",
    "say_myself('이상범', 18, True)\n",
    "say_myself('오연의', man=False)"
   ]
  },
  {
   "cell_type": "code",
   "execution_count": 126,
   "id": "74c0bd40-ff30-41a1-b3b5-967ace8564b6",
   "metadata": {},
   "outputs": [
    {
     "name": "stdout",
     "output_type": "stream",
     "text": [
      "오류\n"
     ]
    }
   ],
   "source": [
    "'''\n",
    "def say_myself(name, old = 30, man ):\n",
    "    print(\"나의 이름은 %s입니다.\" % name)\n",
    "    print(\"나의 나이는 %d입니다.\" % old)\n",
    "    if man:\n",
    "        print(\"남자입니다.\")\n",
    "    else:\n",
    "        print(\"여자입니다.\")\n",
    "'''\n",
    "print(\"오류\") # 매개변수 초기값은 중간에 설정 할 수 없다. 뒤에 부터 순차적으로 초기값을 주어야 한다."
   ]
  },
  {
   "cell_type": "code",
   "execution_count": 127,
   "id": "dcc13c1b-510a-4717-adcb-292f9a067de5",
   "metadata": {},
   "outputs": [],
   "source": [
    "### lambda함수 : 함수를 마치 변수처럼 선언해서 사용하는 것\n",
    "def add(a,b):\n",
    "    return a + b"
   ]
  },
  {
   "cell_type": "code",
   "execution_count": 129,
   "id": "44c73eac-13b4-4f2b-8f59-4354d256cc9b",
   "metadata": {},
   "outputs": [
    {
     "name": "stdout",
     "output_type": "stream",
     "text": [
      "8\n"
     ]
    }
   ],
   "source": [
    "y = add(3, 5)\n",
    "print(y)"
   ]
  },
  {
   "cell_type": "code",
   "execution_count": 130,
   "id": "c740e250-e3a6-424f-b5f5-9ea6dc1994b9",
   "metadata": {},
   "outputs": [],
   "source": [
    "add = lambda a,b : a + b"
   ]
  },
  {
   "cell_type": "code",
   "execution_count": 131,
   "id": "0a7d3706-9031-4cd0-b98f-ec51c57e6c84",
   "metadata": {},
   "outputs": [
    {
     "name": "stdout",
     "output_type": "stream",
     "text": [
      "8\n"
     ]
    }
   ],
   "source": [
    "y = add(3, 5)\n",
    "print(y)"
   ]
  },
  {
   "cell_type": "code",
   "execution_count": 132,
   "id": "f5e07000-7788-4091-9bef-fc3d547f2e25",
   "metadata": {},
   "outputs": [],
   "source": [
    "def add(a,b):\n",
    "    print(a + b)"
   ]
  },
  {
   "cell_type": "code",
   "execution_count": 133,
   "id": "2410b3f0-0a5f-43b5-ae28-d611f4c2656f",
   "metadata": {},
   "outputs": [
    {
     "name": "stdout",
     "output_type": "stream",
     "text": [
      "8\n"
     ]
    }
   ],
   "source": [
    "add(3, 5)"
   ]
  },
  {
   "cell_type": "code",
   "execution_count": 134,
   "id": "fe8bb351-87b1-4fb6-9979-c405b94aa950",
   "metadata": {},
   "outputs": [],
   "source": [
    "add = lambda a,b : print(a + b)"
   ]
  },
  {
   "cell_type": "code",
   "execution_count": 135,
   "id": "af1e1f5b-4b8f-4a1b-8c91-2f1659f7620e",
   "metadata": {},
   "outputs": [
    {
     "name": "stdout",
     "output_type": "stream",
     "text": [
      "8\n"
     ]
    }
   ],
   "source": [
    "add(3, 5)"
   ]
  },
  {
   "cell_type": "code",
   "execution_count": 138,
   "id": "ae7167ad-0e9a-4a06-9949-ff0b39d84f29",
   "metadata": {},
   "outputs": [],
   "source": [
    "def calu(opt , a, b):\n",
    "    if opt == \"add\":\n",
    "        print(a +b)\n",
    "    else:\n",
    "        print(a - b)"
   ]
  },
  {
   "cell_type": "code",
   "execution_count": 139,
   "id": "1b9a6a55-ecdc-4716-bcf2-3ba8728c1544",
   "metadata": {},
   "outputs": [
    {
     "name": "stdout",
     "output_type": "stream",
     "text": [
      "30\n"
     ]
    }
   ],
   "source": [
    "calu(\"add\", 20, 10)"
   ]
  },
  {
   "cell_type": "code",
   "execution_count": 140,
   "id": "32bcb7f6-0827-4984-ba36-d36506226fb6",
   "metadata": {},
   "outputs": [],
   "source": [
    "calu = lambda opt , a, b : print(a +b) if opt == \"add\" else print(a - b)"
   ]
  },
  {
   "cell_type": "code",
   "execution_count": 141,
   "id": "72f7c76c-81df-4778-9ee7-a83a71cad8dc",
   "metadata": {},
   "outputs": [
    {
     "name": "stdout",
     "output_type": "stream",
     "text": [
      "30\n"
     ]
    }
   ],
   "source": [
    "calu(\"add\", 20, 10)"
   ]
  },
  {
   "cell_type": "code",
   "execution_count": 142,
   "id": "dde68111-339a-4b08-a49d-efe66b69659f",
   "metadata": {},
   "outputs": [],
   "source": [
    "def calu(opt , a, b):\n",
    "    if opt == \"add\":\n",
    "        return a + b\n",
    "    else:\n",
    "        return a - b"
   ]
  },
  {
   "cell_type": "code",
   "execution_count": 143,
   "id": "58f4b1a0-ca89-47df-88e5-4edf34aa90e8",
   "metadata": {},
   "outputs": [],
   "source": [
    "calu = lambda opt , a, b : a + b if opt == \"add\" else a - b"
   ]
  },
  {
   "cell_type": "code",
   "execution_count": 144,
   "id": "6310f723-6aac-45b5-be3c-ae3c471c75d4",
   "metadata": {},
   "outputs": [
    {
     "name": "stdout",
     "output_type": "stream",
     "text": [
      "30\n"
     ]
    }
   ],
   "source": [
    "y = calu(\"add\", 20, 10)\n",
    "print(y)"
   ]
  },
  {
   "cell_type": "code",
   "execution_count": 147,
   "id": "067a5c28-86ba-4844-b081-4b2ff729c480",
   "metadata": {},
   "outputs": [
    {
     "name": "stdout",
     "output_type": "stream",
     "text": [
      "200\n",
      "200\n"
     ]
    }
   ],
   "source": [
    "opt = 'mul'; a = 10; b = 20 \n",
    "if opt == \"add\":\n",
    "    result = a + b\n",
    "elif opt == \"sub\":\n",
    "    result = a - b\n",
    "elif opt == \"mul\":\n",
    "    result = a * b\n",
    "else:\n",
    "    result = a / b\n",
    "print(result)\n",
    "\n",
    "result = a + b if opt == \"add\" else ( \n",
    "         a - b if opt == \"sub\" else ( \n",
    "         a * b if opt == \"mul\" else \n",
    "         a / b )) \n",
    "print(result)"
   ]
  },
  {
   "cell_type": "code",
   "execution_count": null,
   "id": "094baf3e-16f8-411b-9d9f-da3820a212df",
   "metadata": {},
   "outputs": [],
   "source": [
    "def calc(opt , a, b):\n",
    "    if opt == \"add\":\n",
    "        return a + b\n",
    "    elif opt == \"sub\":\n",
    "        return a - b\n",
    "    elif opt == \"mul\":\n",
    "        return a * b\n",
    "    else:\n",
    "        return a / b"
   ]
  },
  {
   "cell_type": "code",
   "execution_count": 148,
   "id": "89524d73-68ed-4db2-9ddf-4c0bbd1387d4",
   "metadata": {},
   "outputs": [],
   "source": [
    "calc = lambda opt , a, b : a + b if opt == \"add\" else ( \n",
    "                           a - b if opt == \"sub\" else ( \n",
    "                           a * b if opt == \"mul\" else \n",
    "                           a / b )) "
   ]
  },
  {
   "cell_type": "code",
   "execution_count": 149,
   "id": "d5f3c3c8-9a80-418f-a4b1-6d90c54545c5",
   "metadata": {},
   "outputs": [
    {
     "name": "stdout",
     "output_type": "stream",
     "text": [
      "50\n"
     ]
    }
   ],
   "source": [
    "result = calc(\"add\", 30, 20)\n",
    "print(result)"
   ]
  },
  {
   "cell_type": "code",
   "execution_count": null,
   "id": "c882702e-4487-4414-9bd1-886aa9268cda",
   "metadata": {},
   "outputs": [],
   "source": [
    "def add(a, b=4):\n",
    "    return a + b"
   ]
  },
  {
   "cell_type": "code",
   "execution_count": 152,
   "id": "c1a4bc0a-cf7d-4e5c-bec0-0a3f26bd7a31",
   "metadata": {},
   "outputs": [],
   "source": [
    "add = lambda  a, b=4 :  a + b"
   ]
  },
  {
   "cell_type": "code",
   "execution_count": 153,
   "id": "c787ff32-218c-44b1-a53a-a16515a48e73",
   "metadata": {},
   "outputs": [
    {
     "name": "stdout",
     "output_type": "stream",
     "text": [
      "7\n"
     ]
    }
   ],
   "source": [
    "result = add(3)\n",
    "print(result)"
   ]
  },
  {
   "cell_type": "code",
   "execution_count": null,
   "id": "6e031ada-388a-4fba-98de-59c6ee97b1c7",
   "metadata": {},
   "outputs": [],
   "source": [
    "#전역변수 : 프로그램 전체에서 사용 가능한 변수, 함수밖에 있는 변수\n",
    "#지역변수 : 함수안에서만 사용가능한 변수, 함수안에 정의 되어 있는 변수"
   ]
  },
  {
   "cell_type": "code",
   "execution_count": 157,
   "id": "aa617634-1580-484f-89da-3ceef6841876",
   "metadata": {},
   "outputs": [],
   "source": [
    "b = 100 # 전역변수 \n",
    "def test3():\n",
    "    ###함수 내\n",
    "    c1 = 200 # 지역변수\n",
    "    print(\"b : \" + str(b)) # 전역변수 \n",
    "    print(\"c1 : \" + str(c1)) "
   ]
  },
  {
   "cell_type": "code",
   "execution_count": 159,
   "id": "1ae0e1a9-e58c-4eac-9054-e418f854c06f",
   "metadata": {},
   "outputs": [
    {
     "name": "stdout",
     "output_type": "stream",
     "text": [
      "b : 100\n",
      "c1 : 200\n"
     ]
    }
   ],
   "source": [
    "test3()\n",
    "#print(\"c1 : \" + str(c1)) #함수 밖에서는 지역변수를 사용할 수 없다."
   ]
  },
  {
   "cell_type": "code",
   "execution_count": 163,
   "id": "de24f91b-3adb-4b8d-9581-aba9f14d84d4",
   "metadata": {},
   "outputs": [],
   "source": [
    "b = 1 # 전역변수\n",
    "def test3():\n",
    "    b = 100 # 지역변수\n",
    "    c1 = 200\n",
    "    print(\"b 함수 안: \" + str(b)) # 전역변수 \n",
    "    print(\"c1 함수 안 : \" + str(c1)) "
   ]
  },
  {
   "cell_type": "code",
   "execution_count": 165,
   "id": "d2bd589f-69eb-4f39-8597-3d77e42623a3",
   "metadata": {},
   "outputs": [
    {
     "name": "stdout",
     "output_type": "stream",
     "text": [
      "1\n",
      "b 함수 안: 100\n",
      "c1 함수 안 : 200\n",
      "1\n"
     ]
    }
   ],
   "source": [
    "print(b)\n",
    "test3()\n",
    "print(b)"
   ]
  },
  {
   "cell_type": "code",
   "execution_count": 166,
   "id": "6539c6e7-4d30-40ff-8413-e9963f3e59bf",
   "metadata": {},
   "outputs": [],
   "source": [
    "b = 1 # 전역변수\n",
    "def test3():\n",
    "    global b #전역변수임을 알려주자.\n",
    "    b = 100 # 전역변수\n",
    "    c1 = 200\n",
    "    print(\"b 함수 안: \" + str(b)) # 전역변수 \n",
    "    print(\"c1 함수 안 : \" + str(c1)) "
   ]
  },
  {
   "cell_type": "code",
   "execution_count": 167,
   "id": "d473eaa4-cbe5-4adf-8a84-4dff09a9cc85",
   "metadata": {},
   "outputs": [
    {
     "name": "stdout",
     "output_type": "stream",
     "text": [
      "1\n",
      "b 함수 안: 100\n",
      "c1 함수 안 : 200\n",
      "100\n"
     ]
    }
   ],
   "source": [
    "print(b)\n",
    "test3()\n",
    "print(b)"
   ]
  },
  {
   "cell_type": "code",
   "execution_count": null,
   "id": "6bd08179-f023-41e0-afdc-b3822ba6dacb",
   "metadata": {},
   "outputs": [],
   "source": []
  }
 ],
 "metadata": {
  "kernelspec": {
   "display_name": "Python 3 (ipykernel)",
   "language": "python",
   "name": "python3"
  },
  "language_info": {
   "codemirror_mode": {
    "name": "ipython",
    "version": 3
   },
   "file_extension": ".py",
   "mimetype": "text/x-python",
   "name": "python",
   "nbconvert_exporter": "python",
   "pygments_lexer": "ipython3",
   "version": "3.12.0"
  }
 },
 "nbformat": 4,
 "nbformat_minor": 5
}
