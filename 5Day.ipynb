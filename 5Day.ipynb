{
 "cells": [
  {
   "cell_type": "code",
   "execution_count": 4,
   "id": "de938750-dfbe-486f-bb95-6a8e4525b42c",
   "metadata": {},
   "outputs": [
    {
     "name": "stdout",
     "output_type": "stream",
     "text": [
      "[1, 2, 3, 3, 2, 1]\n",
      "[4 4 4]\n"
     ]
    }
   ],
   "source": [
    "import numpy as np\n",
    "l1 = [1,2,3]\n",
    "l2 = [3,2,1]\n",
    "result = l1 + l2\n",
    "print(result)\n",
    "x  = np.array([1,2,3])\n",
    "y = np.array([3,2,1])\n",
    "result = x + y\n",
    "print(result)"
   ]
  },
  {
   "cell_type": "code",
   "execution_count": 9,
   "id": "933098e5-4985-4f0c-8cb6-89a4537636db",
   "metadata": {},
   "outputs": [
    {
     "name": "stdout",
     "output_type": "stream",
     "text": [
      "[1 2 3]\n",
      "[3 2 1]\n",
      "[1 2 3 3 2 1]\n",
      "[ 1  2  3  3  2  1 99 99 99]\n",
      "[1 2 3 3 2 1 4 5 6]\n"
     ]
    }
   ],
   "source": [
    "# 배열을 확장하기 \n",
    "# 1차원배열\n",
    "print(x) # 배열\n",
    "print(y) # 배열\n",
    "z = np.concatenate([x, y])\n",
    "print(z)\n",
    "v = [99,99,99]\n",
    "z = np.concatenate((x,y,v))\n",
    "print(z)\n",
    "l1 = [1,2,3]\n",
    "l2 = [3,2,1]\n",
    "l3 = [4,5,6]\n",
    "z = np.concatenate((l1,l2,l3))\n",
    "print(z)"
   ]
  },
  {
   "cell_type": "code",
   "execution_count": 18,
   "id": "2b3fe644-65c1-4dd8-a7d5-490c97c14c79",
   "metadata": {},
   "outputs": [
    {
     "name": "stdout",
     "output_type": "stream",
     "text": [
      "[[9 8 7]\n",
      " [6 5 4]\n",
      " [9 8 7]\n",
      " [6 5 4]]\n",
      "[[9 8 7]\n",
      " [6 5 4]\n",
      " [9 8 7]\n",
      " [6 5 4]]\n",
      "[[9 8 7 9 8 7]\n",
      " [6 5 4 6 5 4]]\n",
      "[[1 2 3]\n",
      " [9 8 7]\n",
      " [6 5 4]]\n",
      "[[9 8 7 1 2]\n",
      " [6 5 4 3 4]]\n"
     ]
    }
   ],
   "source": [
    "# 2차원 배열 붙이기\n",
    "x2 = np.array([1, 2, 3])    # 1차원\n",
    "grid = np.array([[9, 8, 7],   # 2차원\n",
    "                 [6, 5, 4]])\n",
    "grid1 = np.array([[9, 8, 7],  # 2차원\n",
    "                 [6, 5, 4]])\n",
    "# concatenate는 배열의 차원 같아야한다.\n",
    "# z = np.concatenate((x2,grid) , axis = 0) # axis = 0 :열기준 , x축기준\n",
    "z = np.concatenate((grid,grid1)) # 열기준\n",
    "print(z)\n",
    "z = np.concatenate((grid,grid1), axis = 0) # 열기준\n",
    "print(z)\n",
    "z = np.concatenate((grid,grid1), axis = 1) # axis = 1 : 행기준 , y축기준\n",
    "print(z)                                   # axis = 2 : 면기준 , z축기준\n",
    "# 차원이 다른 경우\n",
    "z = np.vstack((x2, grid)) # x축 기준 , 열 기준\n",
    "print(z)\n",
    "grid3 = np.array([[1,2],[3,4]])\n",
    "z = np.hstack((grid1, grid3)) # y축 기준 , 행 기준 # 행의 크기가 같아야 한다.\n",
    "print(z)"
   ]
  },
  {
   "cell_type": "code",
   "execution_count": 23,
   "id": "e5570788-6c14-4ae5-a8a1-85d991db2019",
   "metadata": {},
   "outputs": [
    {
     "name": "stdout",
     "output_type": "stream",
     "text": [
      "[1, 2, 3]\n",
      "[3, 2, 1]\n",
      "[1, 2, 3, 3, 2, 1]\n",
      "[1 2 3]\n",
      "[3 2 1]\n",
      "[4 4 4]\n",
      "============================================================\n",
      "[4, 4, 4]\n"
     ]
    }
   ],
   "source": [
    "# 유니버설 함수(UFuncs)\n",
    "print(l1) #리스트\n",
    "print(l2) # 리스트\n",
    "result = l1 + l2 # 확장\n",
    "print(result)\n",
    "print(x) # 배열\n",
    "print(y) # 배열\n",
    "result = x + y  # 연산\n",
    "print(result)\n",
    "print(\"==\" * 30)\n",
    "def add(x , y):\n",
    "    l4 = []\n",
    "    i = 0\n",
    "    while i < len(x):\n",
    "        l4.append(x[i] + y[i])\n",
    "        i += 1\n",
    "    return l4\n",
    "result = add(l1, l2)\n",
    "print(result)"
   ]
  },
  {
   "cell_type": "code",
   "execution_count": 29,
   "id": "5bfeac75-2fa5-476d-ba6b-7247e3f46376",
   "metadata": {},
   "outputs": [
    {
     "name": "stdout",
     "output_type": "stream",
     "text": [
      "[1 2 3]\n",
      "[3 2 1]\n",
      "[4 4 4]\n",
      "[4 4 4]\n",
      "[-2  0  2]\n",
      "[-2  0  2]\n",
      "[3 4 3]\n",
      "[3 4 3]\n"
     ]
    }
   ],
   "source": [
    "print(x)\n",
    "print(y)\n",
    "z = x + y\n",
    "print(z)\n",
    "z = np.add(x, y)\n",
    "print(z)\n",
    "z = x - y\n",
    "print(z)\n",
    "z = np.subtract(x , y)\n",
    "print(z)\n",
    "z = x * y\n",
    "print(z)\n",
    "z = np.multiply(x , y)\n",
    "print(z)\n",
    "z  = x / y\n",
    "z = np.divide(x, y)\n",
    "print(z)\n",
    "z = x ** y\n",
    "z = x % y\n",
    "z = x // y"
   ]
  },
  {
   "cell_type": "code",
   "execution_count": 33,
   "id": "c41b63c8-ab92-4250-bd43-d540106b74e9",
   "metadata": {},
   "outputs": [
    {
     "name": "stdout",
     "output_type": "stream",
     "text": [
      "[1 2 3]\n",
      "[6 7 8]\n",
      "[[1]\n",
      " [2]\n",
      " [3]]\n",
      "[[2 3 4]\n",
      " [3 4 5]\n",
      " [4 5 6]]\n"
     ]
    }
   ],
   "source": [
    "# 브로드케스팅 #서로다른 차원 배열이 연산을 하기 위해 같은 차원으로 확장되는 것\n",
    "print(x)\n",
    "z = x + 5     # [1 2 3] + [5 5 5] \n",
    "print(z)\n",
    "y = np.array([[1],[2],[3]]) # 3행 1열짜리 2차원\n",
    "print(y)\n",
    "'''\n",
    "[1 2 3] + [[1]     [1 2 3]     [[1][1][1]\n",
    "           [2]   = [1 2 3]   +  [2][2][2]   = \n",
    "           [3]]    [1 2 3]      [3][3][3]]\n",
    "'''\n",
    "z = x + y\n",
    "print(z)"
   ]
  },
  {
   "cell_type": "code",
   "execution_count": 37,
   "id": "2befdf5d-1440-4ed4-8e88-2f55b1588432",
   "metadata": {},
   "outputs": [
    {
     "name": "stdout",
     "output_type": "stream",
     "text": [
      "[0. 0. 0.]\n",
      "[[0. 0. 0.]\n",
      " [0. 0. 0.]\n",
      " [0. 0. 0.]]\n",
      "[1. 1. 1.]\n",
      "[[1. 1. 1.]\n",
      " [1. 1. 1.]\n",
      " [1. 1. 1.]]\n"
     ]
    }
   ],
   "source": [
    "#넘파이함수\n",
    "# 제로행열\n",
    "m = np.zeros(3)\n",
    "print(m)\n",
    "m = np.zeros((3,3))\n",
    "print(m)\n",
    "# 원(1) 행열\n",
    "m = np.ones(3)\n",
    "print(m)\n",
    "m = np.ones([3, 3])\n",
    "print(m)"
   ]
  },
  {
   "cell_type": "code",
   "execution_count": 49,
   "id": "63800758-48e9-4ba4-8fcd-1fca5f4b6032",
   "metadata": {},
   "outputs": [
    {
     "name": "stdout",
     "output_type": "stream",
     "text": [
      "[0.20334612 0.00805547 0.71214209]\n",
      "10\n",
      "0.9235436771251417\n",
      "0.9235436771251417\n"
     ]
    }
   ],
   "source": [
    "# 집계 함수\n",
    "m = np.random.random(3)\n",
    "print(m)\n",
    "l = [1,2,3,4]\n",
    "print(sum(l)) #내장함수\n",
    "print(sum(m))\n",
    "print(np.sum(m))"
   ]
  },
  {
   "cell_type": "code",
   "execution_count": 50,
   "id": "30f50b8e-8c67-4eec-9462-e772226479c0",
   "metadata": {},
   "outputs": [
    {
     "name": "stdout",
     "output_type": "stream",
     "text": [
      "1.24 µs ± 6.53 ns per loop (mean ± std. dev. of 7 runs, 1,000,000 loops each)\n",
      "3.38 µs ± 34.6 ns per loop (mean ± std. dev. of 7 runs, 100,000 loops each)\n"
     ]
    }
   ],
   "source": [
    "%timeit sum(m)\n",
    "%timeit np.sum(m)"
   ]
  },
  {
   "cell_type": "code",
   "execution_count": 56,
   "id": "937c39f8-6eaf-4c00-9295-bec21407da4f",
   "metadata": {},
   "outputs": [
    {
     "name": "stdout",
     "output_type": "stream",
     "text": [
      "[[0.62251068 0.25367558 0.41497717 0.17742233]\n",
      " [0.52579332 0.66472684 0.80145271 0.10069675]\n",
      " [0.08883002 0.36262327 0.19887481 0.64269316]]\n",
      "4.854276660282056\n",
      "4.854276660282056\n",
      "0.8014527083480651\n",
      "0.8014527083480651\n",
      "0.08883002386123917\n",
      "0.08883002386123917\n"
     ]
    }
   ],
   "source": [
    "m = np.random.random((3,4))\n",
    "print(m)\n",
    "print(np.sum(m))\n",
    "print(m.sum())\n",
    "print(np.max(m))\n",
    "print(m.max())\n",
    "print(np.min(m))\n",
    "print(m.min())"
   ]
  },
  {
   "cell_type": "code",
   "execution_count": 65,
   "id": "68f3e4ba-571c-4285-843e-1e3fb985bb10",
   "metadata": {},
   "outputs": [
    {
     "name": "stdout",
     "output_type": "stream",
     "text": [
      "7549\n",
      "최소값 :  163\n",
      "25% :  174.25\n",
      "중위값(중앙값) :  182.0\n",
      "평균:  179.73809523809524\n",
      "75% :  183.0\n",
      "최대값 :  193\n",
      "표준편차 :  6.931843442745892\n"
     ]
    }
   ],
   "source": [
    "import pandas as pd\n",
    "df = pd.read_csv(\"https://raw.githubusercontent.com/SoongMoo/soldesk20231105/main/%EC%B0%B8%EA%B3%A0%EC%9E%90%EB%A3%8C/NumPy/data/president_heights.csv\")\n",
    "heights  = np.array(df['height(cm)'])\n",
    "heights\n",
    "#print(np.sum(heights))\n",
    "print(heights.sum())\n",
    "print('최소값 : ', heights.min()) # 0사분위\n",
    "print('25% : ', np.percentile(heights , 25)) # 1사분위\n",
    "print('중위값(중앙값) : ', np.median(heights)) # 2사분위\n",
    "print('평균: ', heights.mean()) # 평균\n",
    "print('75% : ', np.percentile(heights , 75)) # 3사분위\n",
    "print('최대값 : ', heights.max()) # 4사분위\n",
    "print('표준편차 : ' , heights.std())"
   ]
  },
  {
   "cell_type": "code",
   "execution_count": 66,
   "id": "a67bc89e-4740-4bf9-8f56-e0d1a2b0b09f",
   "metadata": {},
   "outputs": [
    {
     "data": {
      "text/plain": [
       "(array([ 1.,  2.,  3.,  5.,  3.,  6., 12.,  3.,  5.,  2.]),\n",
       " array([163., 166., 169., 172., 175., 178., 181., 184., 187., 190., 193.]),\n",
       " <BarContainer object of 10 artists>)"
      ]
     },
     "execution_count": 66,
     "metadata": {},
     "output_type": "execute_result"
    },
    {
     "data": {
      "image/png": "[encoded data removed]",
      "text/plain": [
       "<Figure size 640x480 with 1 Axes>"
      ]
     },
     "metadata": {},
     "output_type": "display_data"
    }
   ],
   "source": [
    "import matplotlib.pyplot as plt\n",
    "plt.hist(heights)"
   ]
  },
  {
   "cell_type": "code",
   "execution_count": 78,
   "id": "6aac13b8-14de-4092-b105-dd8e2e9baf02",
   "metadata": {},
   "outputs": [
    {
     "name": "stdout",
     "output_type": "stream",
     "text": [
      "[1 5 3 2 4]\n",
      "5\n",
      "[5 3]\n",
      "[1 2]\n",
      "[ True False False  True False]\n",
      "[1 2]\n",
      "3\n",
      "3\n"
     ]
    }
   ],
   "source": [
    "# 팬시 index, 마스크\n",
    "# [1,     2,     3,      4,     5]\n",
    "#  0      1      2       3      4 :  index\n",
    "#  True  False False   True   True : 팬시 index :비교(관계)연산자\n",
    "x = np.array([1,5,3,2,4])\n",
    "print(x)\n",
    "print(x[1])\n",
    "print(x[1:3])\n",
    "## 3보다 작은 값을 출력\n",
    "[True,False,False,True,False]\n",
    "print(x[[True,False,False,True,False]])\n",
    "print(x < 3) # [False  True False False  True] 팬시 index \n",
    "print(x[x < 3]) # 마스크\n",
    "print(x[x < 3].sum())\n",
    "print(np.sum(x[x < 3]))"
   ]
  },
  {
   "cell_type": "code",
   "execution_count": 83,
   "id": "4b59346c-0bc7-4b84-bd72-45548792bd91",
   "metadata": {},
   "outputs": [
    {
     "name": "stdout",
     "output_type": "stream",
     "text": [
      "[False  True False False  True]\n",
      "[ True False False  True False]\n",
      "[ True False  True  True False]\n",
      "[False  True  True False  True]\n",
      "[False False  True False False]\n",
      "[ True  True False  True  True]\n",
      "[1 5 2 4]\n"
     ]
    }
   ],
   "source": [
    "#팬시 index : 관계(비교)연산자\n",
    "print(x > 3)\n",
    "print(x < 3)\n",
    "print(x <= 3)\n",
    "print(x >= 3)\n",
    "print(x == 3)\n",
    "print(x != 3)\n",
    "print(x[x != 3])"
   ]
  },
  {
   "cell_type": "code",
   "execution_count": 90,
   "id": "217bd3c4-5d45-448d-b877-37a3b2392352",
   "metadata": {},
   "outputs": [
    {
     "name": "stdout",
     "output_type": "stream",
     "text": [
      "[[False False False]\n",
      " [False  True  True]\n",
      " [ True  True  True]]\n",
      "[6 7 6 7 8]\n",
      "34\n",
      "34\n"
     ]
    }
   ],
   "source": [
    "x1 = np.array([[2,3,4],\n",
    "              [4,6,7],\n",
    "              [6,7,8]])\n",
    "x1\n",
    "print(x1 > 5)\n",
    "print(x1[x1 > 5])\n",
    "print(x1[x1 > 5].sum())\n",
    "print(np.sum(x1[x1 > 5]))"
   ]
  },
  {
   "cell_type": "code",
   "execution_count": 112,
   "id": "17309907-ed1c-4df9-b9ab-fc41a45d9e37",
   "metadata": {},
   "outputs": [
    {
     "name": "stdout",
     "output_type": "stream",
     "text": [
      "39\n",
      "30.795275590551178\n",
      "39\n",
      "326\n",
      "17.74015748031496\n"
     ]
    },
    {
     "data": {
      "text/plain": [
       "150"
      ]
     },
     "execution_count": 112,
     "metadata": {},
     "output_type": "execute_result"
    }
   ],
   "source": [
    "rainfall = pd.read_csv(\"https://raw.githubusercontent.com/SoongMoo/soldesk20231105/main/%EC%B0%B8%EA%B3%A0%EC%9E%90%EB%A3%8C/NumPy/data/Seattle2014.csv\")\n",
    "rainfall\n",
    "rainfall['PRCP']\n",
    "inches = np.array(rainfall['PRCP'] / 254)\n",
    "# 0.5인치이상 온 날은 몇일입니까?\n",
    "print(np.sum(inches >= 0.5)) # False : 0, True : 1 \n",
    "# 0.5인치이상 온 날의  총 강수량은?\n",
    "print(inches[inches >= 0.5].sum())\n",
    "# 강수량이 0.5에서 0.8 사이인 날은 몇일이나 되나요?\n",
    "print(((inches >= 0.5) & (inches <= 8)).sum())\n",
    "#강수량이 0.5미만 0.8초과한 날은?\n",
    "#print((~((inches >= 0.5) & (inches <= 8))).sum())\n",
    "print(((inches < 0.5) | (inches > 8)).sum())\n",
    "#강수량이 0.5미만 0.8초과한 날의 강수량은?\n",
    "print(inches[((inches < 0.5) | (inches > 8))].sum())\n",
    "#비가 안온 날\n",
    "(inches==0).sum()\n",
    "#비가 온 날\n",
    "(inches!=0).sum()"
   ]
  },
  {
   "cell_type": "code",
   "execution_count": 114,
   "id": "ad52dafd-189b-4a9e-84e9-4831a71b0af3",
   "metadata": {},
   "outputs": [
    {
     "data": {
      "text/plain": [
       "(array([245.,  14.,  13.,  17.,   8.,   6.,   5.,   6.,   4.,   3.,   7.,\n",
       "          6.,   3.,   3.,   3.,   4.,   4.,   2.,   4.,   0.,   0.,   1.,\n",
       "          1.,   1.,   0.,   0.,   0.,   2.,   1.,   1.,   0.,   0.,   0.,\n",
       "          0.,   0.,   0.,   0.,   0.,   0.,   1.]),\n",
       " array([0.        , 0.04596457, 0.09192913, 0.1378937 , 0.18385827,\n",
       "        0.22982283, 0.2757874 , 0.32175197, 0.36771654, 0.4136811 ,\n",
       "        0.45964567, 0.50561024, 0.5515748 , 0.59753937, 0.64350394,\n",
       "        0.6894685 , 0.73543307, 0.78139764, 0.8273622 , 0.87332677,\n",
       "        0.91929134, 0.96525591, 1.01122047, 1.05718504, 1.10314961,\n",
       "        1.14911417, 1.19507874, 1.24104331, 1.28700787, 1.33297244,\n",
       "        1.37893701, 1.42490157, 1.47086614, 1.51683071, 1.56279528,\n",
       "        1.60875984, 1.65472441, 1.70068898, 1.74665354, 1.79261811,\n",
       "        1.83858268]),\n",
       " <BarContainer object of 40 artists>)"
      ]
     },
     "execution_count": 114,
     "metadata": {},
     "output_type": "execute_result"
    },
    {
     "data": {
      "image/png": "[encoded data removed]",
      "text/plain": [
       "<Figure size 640x480 with 1 Axes>"
      ]
     },
     "metadata": {},
     "output_type": "display_data"
    }
   ],
   "source": [
    "plt.hist(inches, 40)"
   ]
  },
  {
   "cell_type": "code",
   "execution_count": 116,
   "id": "7825b3b1-1dff-467c-8369-036b9f446ed2",
   "metadata": {},
   "outputs": [
    {
     "name": "stdout",
     "output_type": "stream",
     "text": [
      "[2 3 5 6 7]\n"
     ]
    },
    {
     "data": {
      "text/plain": [
       "array([3, 6, 2, 7, 5])"
      ]
     },
     "execution_count": 116,
     "metadata": {},
     "output_type": "execute_result"
    }
   ],
   "source": [
    "# 정렬\n",
    "x = np.array([3,6,2,7,5])\n",
    "print(np.sort(x))\n",
    "x"
   ]
  },
  {
   "cell_type": "code",
   "execution_count": 117,
   "id": "b1ba5ecc-520a-41b0-8c75-0d52998183b4",
   "metadata": {},
   "outputs": [
    {
     "data": {
      "text/plain": [
       "array([[0, 3, 7, 0, 2, 2],\n",
       "       [1, 4, 7, 5, 4, 4],\n",
       "       [6, 9, 8, 3, 7, 1],\n",
       "       [1, 7, 0, 6, 4, 8]])"
      ]
     },
     "execution_count": 117,
     "metadata": {},
     "output_type": "execute_result"
    }
   ],
   "source": [
    "x = np.random.randint(0, 10,(4, 6))\n",
    "x"
   ]
  },
  {
   "cell_type": "code",
   "execution_count": 121,
   "id": "b8c0b4b8-a9c3-4d92-95a1-1b6d98c703b0",
   "metadata": {},
   "outputs": [
    {
     "name": "stdout",
     "output_type": "stream",
     "text": [
      "[[0 0 2 2 3 7]\n",
      " [1 4 4 4 5 7]\n",
      " [1 3 6 7 8 9]\n",
      " [0 1 4 6 7 8]]\n",
      "[[0 0 2 2 3 7]\n",
      " [1 4 4 4 5 7]\n",
      " [1 3 6 7 8 9]\n",
      " [0 1 4 6 7 8]]\n",
      "[[0 3 0 0 2 1]\n",
      " [1 4 7 3 4 2]\n",
      " [1 7 7 5 4 4]\n",
      " [6 9 8 6 7 8]]\n"
     ]
    }
   ],
   "source": [
    "print(np.sort(x))# 행기준 : y축 기준, axis = 1\n",
    "print(np.sort(x, axis = 1))# 행기준 : y축 기준\n",
    "print(np.sort(x, axis = 0)) # 열 기준 : x축 기준"
   ]
  },
  {
   "cell_type": "code",
   "execution_count": 125,
   "id": "798d7b78-1e64-496f-aef3-f902d18e0cdd",
   "metadata": {},
   "outputs": [
    {
     "name": "stdout",
     "output_type": "stream",
     "text": [
      "[[0 3 7 0 2 2]\n",
      " [1 4 7 5 4 4]\n",
      " [6 9 8 3 7 1]\n",
      " [1 7 0 6 4 8]]\n",
      "[[0 0 2 2 3 7]\n",
      " [4 1 4 4 5 7]\n",
      " [3 1 6 7 8 9]\n",
      " [0 1 4 6 7 8]]\n",
      "[[0 0 2 2 3 7]\n",
      " [4 1 4 4 5 7]\n",
      " [3 1 6 7 8 9]\n",
      " [0 1 4 6 7 8]]\n",
      "[[0 3 0 0 2 1]\n",
      " [1 4 7 3 4 2]\n",
      " [1 7 7 5 4 4]\n",
      " [6 9 8 6 7 8]]\n"
     ]
    }
   ],
   "source": [
    "# 파티션 나누기 : 작은 값은 왼쪽 또는 위로 \n",
    "#                큰값은 오른쪽 또는 아래로 나누는 것 : 정렬은 아니다.\n",
    "print(x)\n",
    "# 작은 수 3개를 앞으로 나머지는 뒤로\n",
    "print(np.partition(x, 3))\n",
    "print(np.partition(x, 3 , axis = 1))\n",
    "\n",
    "# 작은 수 2개를 위로 나머지는 아래로\n",
    "print(np.partition(x, 2 , axis = 0))"
   ]
  },
  {
   "cell_type": "code",
   "execution_count": 126,
   "id": "4e95b6a2-5429-44e8-9460-8eb61c75d5ce",
   "metadata": {},
   "outputs": [
    {
     "data": {
      "text/html": [
       "<div>\n",
       "<style scoped>\n",
       "    .dataframe tbody tr th:only-of-type {\n",
       "        vertical-align: middle;\n",
       "    }\n",
       "\n",
       "    .dataframe tbody tr th {\n",
       "        vertical-align: top;\n",
       "    }\n",
       "\n",
       "    .dataframe thead th {\n",
       "        text-align: right;\n",
       "    }\n",
       "</style>\n",
       "<table border=\"1\" class=\"dataframe\">\n",
       "  <thead>\n",
       "    <tr style=\"text-align: right;\">\n",
       "      <th></th>\n",
       "      <th>STATION</th>\n",
       "      <th>STATION_NAME</th>\n",
       "      <th>DATE</th>\n",
       "      <th>PRCP</th>\n",
       "      <th>SNWD</th>\n",
       "      <th>SNOW</th>\n",
       "      <th>TMAX</th>\n",
       "      <th>TMIN</th>\n",
       "      <th>AWND</th>\n",
       "      <th>WDF2</th>\n",
       "      <th>WDF5</th>\n",
       "      <th>WSF2</th>\n",
       "      <th>WSF5</th>\n",
       "      <th>WT01</th>\n",
       "      <th>WT05</th>\n",
       "      <th>WT02</th>\n",
       "      <th>WT03</th>\n",
       "    </tr>\n",
       "  </thead>\n",
       "  <tbody>\n",
       "    <tr>\n",
       "      <th>0</th>\n",
       "      <td>GHCND:USW00024233</td>\n",
       "      <td>SEATTLE TACOMA INTERNATIONAL AIRPORT WA US</td>\n",
       "      <td>20140101</td>\n",
       "      <td>0</td>\n",
       "      <td>0</td>\n",
       "      <td>0</td>\n",
       "      <td>72</td>\n",
       "      <td>33</td>\n",
       "      <td>12</td>\n",
       "      <td>340</td>\n",
       "      <td>310</td>\n",
       "      <td>36</td>\n",
       "      <td>40</td>\n",
       "      <td>-9999</td>\n",
       "      <td>-9999</td>\n",
       "      <td>-9999</td>\n",
       "      <td>-9999</td>\n",
       "    </tr>\n",
       "    <tr>\n",
       "      <th>1</th>\n",
       "      <td>GHCND:USW00024233</td>\n",
       "      <td>SEATTLE TACOMA INTERNATIONAL AIRPORT WA US</td>\n",
       "      <td>20140102</td>\n",
       "      <td>41</td>\n",
       "      <td>0</td>\n",
       "      <td>0</td>\n",
       "      <td>106</td>\n",
       "      <td>61</td>\n",
       "      <td>32</td>\n",
       "      <td>190</td>\n",
       "      <td>200</td>\n",
       "      <td>94</td>\n",
       "      <td>116</td>\n",
       "      <td>-9999</td>\n",
       "      <td>-9999</td>\n",
       "      <td>-9999</td>\n",
       "      <td>-9999</td>\n",
       "    </tr>\n",
       "    <tr>\n",
       "      <th>2</th>\n",
       "      <td>GHCND:USW00024233</td>\n",
       "      <td>SEATTLE TACOMA INTERNATIONAL AIRPORT WA US</td>\n",
       "      <td>20140103</td>\n",
       "      <td>15</td>\n",
       "      <td>0</td>\n",
       "      <td>0</td>\n",
       "      <td>89</td>\n",
       "      <td>28</td>\n",
       "      <td>26</td>\n",
       "      <td>30</td>\n",
       "      <td>50</td>\n",
       "      <td>63</td>\n",
       "      <td>72</td>\n",
       "      <td>1</td>\n",
       "      <td>-9999</td>\n",
       "      <td>-9999</td>\n",
       "      <td>-9999</td>\n",
       "    </tr>\n",
       "    <tr>\n",
       "      <th>3</th>\n",
       "      <td>GHCND:USW00024233</td>\n",
       "      <td>SEATTLE TACOMA INTERNATIONAL AIRPORT WA US</td>\n",
       "      <td>20140104</td>\n",
       "      <td>0</td>\n",
       "      <td>0</td>\n",
       "      <td>0</td>\n",
       "      <td>78</td>\n",
       "      <td>6</td>\n",
       "      <td>27</td>\n",
       "      <td>40</td>\n",
       "      <td>40</td>\n",
       "      <td>45</td>\n",
       "      <td>58</td>\n",
       "      <td>1</td>\n",
       "      <td>-9999</td>\n",
       "      <td>-9999</td>\n",
       "      <td>-9999</td>\n",
       "    </tr>\n",
       "    <tr>\n",
       "      <th>4</th>\n",
       "      <td>GHCND:USW00024233</td>\n",
       "      <td>SEATTLE TACOMA INTERNATIONAL AIRPORT WA US</td>\n",
       "      <td>20140105</td>\n",
       "      <td>0</td>\n",
       "      <td>0</td>\n",
       "      <td>0</td>\n",
       "      <td>83</td>\n",
       "      <td>-5</td>\n",
       "      <td>37</td>\n",
       "      <td>10</td>\n",
       "      <td>10</td>\n",
       "      <td>67</td>\n",
       "      <td>76</td>\n",
       "      <td>-9999</td>\n",
       "      <td>-9999</td>\n",
       "      <td>-9999</td>\n",
       "      <td>-9999</td>\n",
       "    </tr>\n",
       "    <tr>\n",
       "      <th>...</th>\n",
       "      <td>...</td>\n",
       "      <td>...</td>\n",
       "      <td>...</td>\n",
       "      <td>...</td>\n",
       "      <td>...</td>\n",
       "      <td>...</td>\n",
       "      <td>...</td>\n",
       "      <td>...</td>\n",
       "      <td>...</td>\n",
       "      <td>...</td>\n",
       "      <td>...</td>\n",
       "      <td>...</td>\n",
       "      <td>...</td>\n",
       "      <td>...</td>\n",
       "      <td>...</td>\n",
       "      <td>...</td>\n",
       "      <td>...</td>\n",
       "    </tr>\n",
       "    <tr>\n",
       "      <th>360</th>\n",
       "      <td>GHCND:USW00024233</td>\n",
       "      <td>SEATTLE TACOMA INTERNATIONAL AIRPORT WA US</td>\n",
       "      <td>20141227</td>\n",
       "      <td>33</td>\n",
       "      <td>0</td>\n",
       "      <td>0</td>\n",
       "      <td>94</td>\n",
       "      <td>44</td>\n",
       "      <td>49</td>\n",
       "      <td>210</td>\n",
       "      <td>210</td>\n",
       "      <td>112</td>\n",
       "      <td>161</td>\n",
       "      <td>1</td>\n",
       "      <td>-9999</td>\n",
       "      <td>-9999</td>\n",
       "      <td>-9999</td>\n",
       "    </tr>\n",
       "    <tr>\n",
       "      <th>361</th>\n",
       "      <td>GHCND:USW00024233</td>\n",
       "      <td>SEATTLE TACOMA INTERNATIONAL AIRPORT WA US</td>\n",
       "      <td>20141228</td>\n",
       "      <td>41</td>\n",
       "      <td>0</td>\n",
       "      <td>0</td>\n",
       "      <td>67</td>\n",
       "      <td>28</td>\n",
       "      <td>18</td>\n",
       "      <td>50</td>\n",
       "      <td>30</td>\n",
       "      <td>58</td>\n",
       "      <td>72</td>\n",
       "      <td>1</td>\n",
       "      <td>-9999</td>\n",
       "      <td>-9999</td>\n",
       "      <td>-9999</td>\n",
       "    </tr>\n",
       "    <tr>\n",
       "      <th>362</th>\n",
       "      <td>GHCND:USW00024233</td>\n",
       "      <td>SEATTLE TACOMA INTERNATIONAL AIRPORT WA US</td>\n",
       "      <td>20141229</td>\n",
       "      <td>0</td>\n",
       "      <td>0</td>\n",
       "      <td>0</td>\n",
       "      <td>61</td>\n",
       "      <td>6</td>\n",
       "      <td>43</td>\n",
       "      <td>350</td>\n",
       "      <td>350</td>\n",
       "      <td>76</td>\n",
       "      <td>103</td>\n",
       "      <td>1</td>\n",
       "      <td>-9999</td>\n",
       "      <td>-9999</td>\n",
       "      <td>-9999</td>\n",
       "    </tr>\n",
       "    <tr>\n",
       "      <th>363</th>\n",
       "      <td>GHCND:USW00024233</td>\n",
       "      <td>SEATTLE TACOMA INTERNATIONAL AIRPORT WA US</td>\n",
       "      <td>20141230</td>\n",
       "      <td>0</td>\n",
       "      <td>0</td>\n",
       "      <td>0</td>\n",
       "      <td>33</td>\n",
       "      <td>-21</td>\n",
       "      <td>36</td>\n",
       "      <td>90</td>\n",
       "      <td>70</td>\n",
       "      <td>63</td>\n",
       "      <td>76</td>\n",
       "      <td>-9999</td>\n",
       "      <td>-9999</td>\n",
       "      <td>-9999</td>\n",
       "      <td>-9999</td>\n",
       "    </tr>\n",
       "    <tr>\n",
       "      <th>364</th>\n",
       "      <td>GHCND:USW00024233</td>\n",
       "      <td>SEATTLE TACOMA INTERNATIONAL AIRPORT WA US</td>\n",
       "      <td>20141231</td>\n",
       "      <td>0</td>\n",
       "      <td>0</td>\n",
       "      <td>0</td>\n",
       "      <td>33</td>\n",
       "      <td>-27</td>\n",
       "      <td>30</td>\n",
       "      <td>30</td>\n",
       "      <td>-9999</td>\n",
       "      <td>58</td>\n",
       "      <td>-9999</td>\n",
       "      <td>-9999</td>\n",
       "      <td>-9999</td>\n",
       "      <td>-9999</td>\n",
       "      <td>-9999</td>\n",
       "    </tr>\n",
       "  </tbody>\n",
       "</table>\n",
       "<p>365 rows × 17 columns</p>\n",
       "</div>"
      ],
      "text/plain": [
       "               STATION                                STATION_NAME      DATE  \\\n",
       "0    GHCND:USW00024233  SEATTLE TACOMA INTERNATIONAL AIRPORT WA US  20140101   \n",
       "1    GHCND:USW00024233  SEATTLE TACOMA INTERNATIONAL AIRPORT WA US  20140102   \n",
       "2    GHCND:USW00024233  SEATTLE TACOMA INTERNATIONAL AIRPORT WA US  20140103   \n",
       "3    GHCND:USW00024233  SEATTLE TACOMA INTERNATIONAL AIRPORT WA US  20140104   \n",
       "4    GHCND:USW00024233  SEATTLE TACOMA INTERNATIONAL AIRPORT WA US  20140105   \n",
       "..                 ...                                         ...       ...   \n",
       "360  GHCND:USW00024233  SEATTLE TACOMA INTERNATIONAL AIRPORT WA US  20141227   \n",
       "361  GHCND:USW00024233  SEATTLE TACOMA INTERNATIONAL AIRPORT WA US  20141228   \n",
       "362  GHCND:USW00024233  SEATTLE TACOMA INTERNATIONAL AIRPORT WA US  20141229   \n",
       "363  GHCND:USW00024233  SEATTLE TACOMA INTERNATIONAL AIRPORT WA US  20141230   \n",
       "364  GHCND:USW00024233  SEATTLE TACOMA INTERNATIONAL AIRPORT WA US  20141231   \n",
       "\n",
       "     PRCP  SNWD  SNOW  TMAX  TMIN  AWND  WDF2  WDF5  WSF2  WSF5  WT01  WT05  \\\n",
       "0       0     0     0    72    33    12   340   310    36    40 -9999 -9999   \n",
       "1      41     0     0   106    61    32   190   200    94   116 -9999 -9999   \n",
       "2      15     0     0    89    28    26    30    50    63    72     1 -9999   \n",
       "3       0     0     0    78     6    27    40    40    45    58     1 -9999   \n",
       "4       0     0     0    83    -5    37    10    10    67    76 -9999 -9999   \n",
       "..    ...   ...   ...   ...   ...   ...   ...   ...   ...   ...   ...   ...   \n",
       "360    33     0     0    94    44    49   210   210   112   161     1 -9999   \n",
       "361    41     0     0    67    28    18    50    30    58    72     1 -9999   \n",
       "362     0     0     0    61     6    43   350   350    76   103     1 -9999   \n",
       "363     0     0     0    33   -21    36    90    70    63    76 -9999 -9999   \n",
       "364     0     0     0    33   -27    30    30 -9999    58 -9999 -9999 -9999   \n",
       "\n",
       "     WT02  WT03  \n",
       "0   -9999 -9999  \n",
       "1   -9999 -9999  \n",
       "2   -9999 -9999  \n",
       "3   -9999 -9999  \n",
       "4   -9999 -9999  \n",
       "..    ...   ...  \n",
       "360 -9999 -9999  \n",
       "361 -9999 -9999  \n",
       "362 -9999 -9999  \n",
       "363 -9999 -9999  \n",
       "364 -9999 -9999  \n",
       "\n",
       "[365 rows x 17 columns]"
      ]
     },
     "execution_count": 126,
     "metadata": {},
     "output_type": "execute_result"
    }
   ],
   "source": [
    "# 기본자료형 : 정수, 실수, 문자열, 부울\n",
    "# 파이썬 자료형 : 리스트, 튜플, 딕셔너리, 집합\n",
    "# numpy : 배열 자료형 : 숫자 : 다차원 ==> 리스트\n",
    "# pandas : DataFrame자료형 : 딕셔너리 , Series자료형 집합체\n",
    "#          Series자료형 : 리스트 (1차원)\n",
    "import pandas as pd\n",
    "df = pd.read_csv(\"https://raw.githubusercontent.com/SoongMoo/soldesk20231105/main/%EC%B0%B8%EA%B3%A0%EC%9E%90%EB%A3%8C/NumPy/data/Seattle2014.csv\")\n",
    "df # DataFrame"
   ]
  },
  {
   "cell_type": "code",
   "execution_count": 127,
   "id": "7534d2b8-716c-493e-804e-2b5c5e5e4348",
   "metadata": {},
   "outputs": [
    {
     "data": {
      "text/html": [
       "<div>\n",
       "<style scoped>\n",
       "    .dataframe tbody tr th:only-of-type {\n",
       "        vertical-align: middle;\n",
       "    }\n",
       "\n",
       "    .dataframe tbody tr th {\n",
       "        vertical-align: top;\n",
       "    }\n",
       "\n",
       "    .dataframe thead th {\n",
       "        text-align: right;\n",
       "    }\n",
       "</style>\n",
       "<table border=\"1\" class=\"dataframe\">\n",
       "  <thead>\n",
       "    <tr style=\"text-align: right;\">\n",
       "      <th></th>\n",
       "      <th>country</th>\n",
       "      <th>continent</th>\n",
       "      <th>year</th>\n",
       "      <th>lifeExp</th>\n",
       "      <th>pop</th>\n",
       "      <th>gdpPercap</th>\n",
       "    </tr>\n",
       "  </thead>\n",
       "  <tbody>\n",
       "    <tr>\n",
       "      <th>0</th>\n",
       "      <td>Afghanistan</td>\n",
       "      <td>Asia</td>\n",
       "      <td>1952</td>\n",
       "      <td>28.801</td>\n",
       "      <td>8425333</td>\n",
       "      <td>779.445314</td>\n",
       "    </tr>\n",
       "    <tr>\n",
       "      <th>1</th>\n",
       "      <td>Afghanistan</td>\n",
       "      <td>Asia</td>\n",
       "      <td>1957</td>\n",
       "      <td>30.332</td>\n",
       "      <td>9240934</td>\n",
       "      <td>820.853030</td>\n",
       "    </tr>\n",
       "    <tr>\n",
       "      <th>2</th>\n",
       "      <td>Afghanistan</td>\n",
       "      <td>Asia</td>\n",
       "      <td>1962</td>\n",
       "      <td>31.997</td>\n",
       "      <td>10267083</td>\n",
       "      <td>853.100710</td>\n",
       "    </tr>\n",
       "    <tr>\n",
       "      <th>3</th>\n",
       "      <td>Afghanistan</td>\n",
       "      <td>Asia</td>\n",
       "      <td>1967</td>\n",
       "      <td>34.020</td>\n",
       "      <td>11537966</td>\n",
       "      <td>836.197138</td>\n",
       "    </tr>\n",
       "    <tr>\n",
       "      <th>4</th>\n",
       "      <td>Afghanistan</td>\n",
       "      <td>Asia</td>\n",
       "      <td>1972</td>\n",
       "      <td>36.088</td>\n",
       "      <td>13079460</td>\n",
       "      <td>739.981106</td>\n",
       "    </tr>\n",
       "    <tr>\n",
       "      <th>...</th>\n",
       "      <td>...</td>\n",
       "      <td>...</td>\n",
       "      <td>...</td>\n",
       "      <td>...</td>\n",
       "      <td>...</td>\n",
       "      <td>...</td>\n",
       "    </tr>\n",
       "    <tr>\n",
       "      <th>1699</th>\n",
       "      <td>Zimbabwe</td>\n",
       "      <td>Africa</td>\n",
       "      <td>1987</td>\n",
       "      <td>62.351</td>\n",
       "      <td>9216418</td>\n",
       "      <td>706.157306</td>\n",
       "    </tr>\n",
       "    <tr>\n",
       "      <th>1700</th>\n",
       "      <td>Zimbabwe</td>\n",
       "      <td>Africa</td>\n",
       "      <td>1992</td>\n",
       "      <td>60.377</td>\n",
       "      <td>10704340</td>\n",
       "      <td>693.420786</td>\n",
       "    </tr>\n",
       "    <tr>\n",
       "      <th>1701</th>\n",
       "      <td>Zimbabwe</td>\n",
       "      <td>Africa</td>\n",
       "      <td>1997</td>\n",
       "      <td>46.809</td>\n",
       "      <td>11404948</td>\n",
       "      <td>792.449960</td>\n",
       "    </tr>\n",
       "    <tr>\n",
       "      <th>1702</th>\n",
       "      <td>Zimbabwe</td>\n",
       "      <td>Africa</td>\n",
       "      <td>2002</td>\n",
       "      <td>39.989</td>\n",
       "      <td>11926563</td>\n",
       "      <td>672.038623</td>\n",
       "    </tr>\n",
       "    <tr>\n",
       "      <th>1703</th>\n",
       "      <td>Zimbabwe</td>\n",
       "      <td>Africa</td>\n",
       "      <td>2007</td>\n",
       "      <td>43.487</td>\n",
       "      <td>12311143</td>\n",
       "      <td>469.709298</td>\n",
       "    </tr>\n",
       "  </tbody>\n",
       "</table>\n",
       "<p>1704 rows × 6 columns</p>\n",
       "</div>"
      ],
      "text/plain": [
       "          country continent  year  lifeExp       pop   gdpPercap\n",
       "0     Afghanistan      Asia  1952   28.801   8425333  779.445314\n",
       "1     Afghanistan      Asia  1957   30.332   9240934  820.853030\n",
       "2     Afghanistan      Asia  1962   31.997  10267083  853.100710\n",
       "3     Afghanistan      Asia  1967   34.020  11537966  836.197138\n",
       "4     Afghanistan      Asia  1972   36.088  13079460  739.981106\n",
       "...           ...       ...   ...      ...       ...         ...\n",
       "1699     Zimbabwe    Africa  1987   62.351   9216418  706.157306\n",
       "1700     Zimbabwe    Africa  1992   60.377  10704340  693.420786\n",
       "1701     Zimbabwe    Africa  1997   46.809  11404948  792.449960\n",
       "1702     Zimbabwe    Africa  2002   39.989  11926563  672.038623\n",
       "1703     Zimbabwe    Africa  2007   43.487  12311143  469.709298\n",
       "\n",
       "[1704 rows x 6 columns]"
      ]
     },
     "execution_count": 127,
     "metadata": {},
     "output_type": "execute_result"
    }
   ],
   "source": [
    "import pandas\n",
    "df = pandas.read_csv(\"https://raw.githubusercontent.com/SoongMoo/soldesk20231105/main/data/gapminder.tsv\", sep=\"\\t\")\n",
    "df # DataFrame"
   ]
  },
  {
   "cell_type": "code",
   "execution_count": 135,
   "id": "bdf4eedf-4dc5-44dc-ab9e-fc3491f14ccd",
   "metadata": {},
   "outputs": [
    {
     "name": "stdout",
     "output_type": "stream",
     "text": [
      "이숭무\n",
      "['Afghanistan', 'Zimbabwe']\n"
     ]
    }
   ],
   "source": [
    "dic = {\"a\":\"이숭무\", \n",
    "       \"b\":\"이장범\"}\n",
    "dic\n",
    "print(dic['a'])\n",
    "dic = {\"country\":[\"Afghanistan\",\"Zimbabwe\"],\n",
    "      \"continent\":[\"Asia\",\"Africa\"]}\n",
    "dic\n",
    "print(dic['country'])"
   ]
  },
  {
   "cell_type": "code",
   "execution_count": 141,
   "id": "5420000e-23a4-493d-9449-b738bef8186a",
   "metadata": {},
   "outputs": [
    {
     "data": {
      "text/plain": [
       "0    Afghanistan\n",
       "1    Afghanistan\n",
       "2    Afghanistan\n",
       "3    Afghanistan\n",
       "4    Afghanistan\n",
       "Name: country, dtype: object"
      ]
     },
     "execution_count": 141,
     "metadata": {},
     "output_type": "execute_result"
    }
   ],
   "source": [
    "df['country']\n",
    "df['country'].head()\n",
    "df['country'].head(n=7)\n",
    "df['country'].head(7)\n",
    "df['country'].head(n = 5)"
   ]
  },
  {
   "cell_type": "code",
   "execution_count": 145,
   "id": "49018a8f-bbeb-49e2-9d12-e26af4f0b29e",
   "metadata": {},
   "outputs": [
    {
     "data": {
      "text/plain": [
       "1699    Zimbabwe\n",
       "1700    Zimbabwe\n",
       "1701    Zimbabwe\n",
       "1702    Zimbabwe\n",
       "1703    Zimbabwe\n",
       "Name: country, dtype: object"
      ]
     },
     "execution_count": 145,
     "metadata": {},
     "output_type": "execute_result"
    }
   ],
   "source": [
    "df['country'].tail()\n",
    "df['country'].tail(7)\n",
    "df['country'].tail(n = 7)\n",
    "df['country'].tail(n = 5)"
   ]
  },
  {
   "cell_type": "code",
   "execution_count": 159,
   "id": "50e0e413-6e94-4c30-81ac-9dce8856938d",
   "metadata": {},
   "outputs": [
    {
     "name": "stdout",
     "output_type": "stream",
     "text": [
      "<class 'list'>\n",
      "<class 'str'>\n",
      "<class 'int'>\n",
      "<class 'float'>\n",
      "<class 'pandas.core.frame.DataFrame'>\n",
      "<class 'pandas.core.series.Series'>\n",
      "<class 'pandas.core.frame.DataFrame'>\n"
     ]
    }
   ],
   "source": [
    "# 자료형 확인하기\n",
    "l = [1,2,3]\n",
    "str1= \"문자\"\n",
    "i = 10\n",
    "f = 10.5\n",
    "print(type(l)) #<class 'list'>\n",
    "print(type(str1)) # <class 'str'>\n",
    "print(type(i)) # <class 'int'>\n",
    "print(type(f)) # <class 'float'>\n",
    "df\n",
    "print(type(df)) # <class 'pandas.core.frame.DataFrame'>\n",
    "se = df['country']\n",
    "se\n",
    "print(type(se)) # <class 'pandas.core.series.Series'>\n",
    "df\n",
    "d1 = df[['country','continent']]\n",
    "d1\n",
    "print(type(d1)) # <class 'pandas.core.frame.DataFrame'>"
   ]
  },
  {
   "cell_type": "code",
   "execution_count": 173,
   "id": "8bc9ae50-4faf-445f-9d5e-0f10627133b6",
   "metadata": {
    "scrolled": true
   },
   "outputs": [
    {
     "name": "stdout",
     "output_type": "stream",
     "text": [
      "3\n",
      "2\n",
      "2\n",
      "1704\n",
      "(1704, 6)\n",
      "1704\n",
      "6\n",
      "1704\n",
      "dict_keys(['country', 'continent'])\n",
      "Index(['country', 'continent', 'year', 'lifeExp', 'pop', 'gdpPercap'], dtype='object')\n",
      "country       object\n",
      "continent     object\n",
      "year           int64\n",
      "lifeExp      float64\n",
      "pop            int64\n",
      "gdpPercap    float64\n",
      "dtype: object\n",
      "<class 'pandas.core.frame.DataFrame'>\n",
      "RangeIndex: 1704 entries, 0 to 1703\n",
      "Data columns (total 6 columns):\n",
      " #   Column     Non-Null Count  Dtype  \n",
      "---  ------     --------------  -----  \n",
      " 0   country    1704 non-null   object \n",
      " 1   continent  1704 non-null   object \n",
      " 2   year       1704 non-null   int64  \n",
      " 3   lifeExp    1704 non-null   float64\n",
      " 4   pop        1704 non-null   int64  \n",
      " 5   gdpPercap  1704 non-null   float64\n",
      "dtypes: float64(2), int64(2), object(2)\n",
      "memory usage: 80.0+ KB\n",
      "None\n"
     ]
    }
   ],
   "source": [
    "# 자료형의 크기 확인\n",
    "print(len(l)) \n",
    "print(len(str1)) \n",
    "print(len(dic))\n",
    "print(len(df)) # 행\n",
    "print(df.shape) # (1704, 6) : (행, 열)\n",
    "#행의 크기\n",
    "print(df.shape[0])\n",
    "# 열의 크기\n",
    "print(df.shape[1])\n",
    "print(len(df['country']))\n",
    "## 키나 컬럼명을 가져오기\n",
    "print(dic.keys()) \n",
    "print(df.columns) ## 딕셔너리에 있는 키가 데이터프레임에서는 컬럼이 된다.\n",
    "# 각 컬럼의 타입\n",
    "print(df.dtypes) ### object자료형은  문자열을 말한다.\n",
    "#데이터 프레임의 전체 정보 확인\n",
    "print(df.info())"
   ]
  },
  {
   "cell_type": "code",
   "execution_count": 186,
   "id": "1caafc95-2b40-46c6-b802-a514e895ded4",
   "metadata": {},
   "outputs": [
    {
     "name": "stdout",
     "output_type": "stream",
     "text": [
      "{'country': ['Afghanistan', 'Zimbabwe'], 'continent': ['Asia', 'Africa'], 'year': [1952, 1957]}\n",
      "['Afghanistan', 'Zimbabwe']\n",
      "          country continent\n",
      "0     Afghanistan      Asia\n",
      "1     Afghanistan      Asia\n",
      "2     Afghanistan      Asia\n",
      "3     Afghanistan      Asia\n",
      "4     Afghanistan      Asia\n",
      "...           ...       ...\n",
      "1699     Zimbabwe    Africa\n",
      "1700     Zimbabwe    Africa\n",
      "1701     Zimbabwe    Africa\n",
      "1702     Zimbabwe    Africa\n",
      "1703     Zimbabwe    Africa\n",
      "\n",
      "[1704 rows x 2 columns]\n",
      "       country continent\n",
      "0  Afghanistan      Asia\n",
      "1  Afghanistan      Asia\n",
      "2  Afghanistan      Asia\n",
      "3  Afghanistan      Asia\n",
      "4  Afghanistan      Asia\n",
      "       country continent\n",
      "1699  Zimbabwe    Africa\n",
      "1700  Zimbabwe    Africa\n",
      "1701  Zimbabwe    Africa\n",
      "1702  Zimbabwe    Africa\n",
      "1703  Zimbabwe    Africa\n"
     ]
    }
   ],
   "source": [
    "df\n",
    "dic  = {\"country\": [\"Afghanistan\",\"Zimbabwe\"],\n",
    "       \"continent\" : [\"Asia\",\"Africa\"],\n",
    "       \"year\":[1952,1957]}\n",
    "print(dic)\n",
    "print(dic['country'])\n",
    "# print(dic['country','continent']) # 딕셔너리는 하나의 키의 값만 가져온다.\n",
    "# print(dic['country'].head())\n",
    "df\n",
    "print(df[['country','continent']])\n",
    "print(df[['country','continent']].head())\n",
    "print(df[['country','continent']].tail())"
   ]
  },
  {
   "cell_type": "code",
   "execution_count": 202,
   "id": "a1188430-fd8b-4131-bbb8-55f30826d893",
   "metadata": {},
   "outputs": [
    {
     "name": "stdout",
     "output_type": "stream",
     "text": [
      "       country continent  year\n",
      "0  Afghanistan      Asia  1952\n",
      "1     Zimbabwe    Africa  1957\n",
      "       country continent  year\n",
      "0  Afghanistan      Asia  1952\n",
      "1     Zimbabwe    Africa  1957\n",
      "Afghanistan\n",
      "Afghanistan\n",
      "Africa\n"
     ]
    }
   ],
   "source": [
    "dic  = {\"country\": [\"Afghanistan\",\"Zimbabwe\"],\n",
    "       \"continent\" : [\"Asia\",\"Africa\"],\n",
    "       \"year\":[1952,1957]}\n",
    "df1 = pd.DataFrame(dic)\n",
    "print(df1)\n",
    "df2 = pd.DataFrame({\"country\": [\"Afghanistan\",\"Zimbabwe\"],\n",
    "                   \"continent\" : [\"Asia\",\"Africa\"],\n",
    "                   \"year\":[1952,1957]})\n",
    "print(df2)\n",
    "print(dic['country'][0])\n",
    "print(df2['country'][0])\n",
    "print(df2['continent'][1])"
   ]
  },
  {
   "cell_type": "code",
   "execution_count": null,
   "id": "7995c958-b2b0-4d14-99b8-895629ff5e14",
   "metadata": {},
   "outputs": [],
   "source": [
    "df3 = pd.DataFrame({0 : [\"Afghanistan\",\"Zimbabwe\"],\n",
    "                    1 : [\"Asia\",\"Africa\"],\n",
    "                    2 : [1952,1957]})\n",
    "df3\n",
    "print(df3[0]) # 열\n",
    "print(df3[0][0])\n",
    "print(df3[1])  # 열\n",
    "print(df3[1][0])\n",
    "print(df3[2]) # 열 \n",
    "print(df3[2][1]) # df3[열][행]\n",
    "print(df3.loc[0]) # loc는 행을 나타내 준다.\n",
    "df3"
   ]
  },
  {
   "cell_type": "code",
   "execution_count": 231,
   "id": "681a9a49-c4b2-439f-82be-23ddd68df617",
   "metadata": {},
   "outputs": [
    {
     "name": "stdout",
     "output_type": "stream",
     "text": [
      "       country continent  year\n",
      "0  Afghanistan      Asia  1952\n",
      "1     Zimbabwe    Africa  1957\n",
      "============================================================\n",
      "0    Afghanistan\n",
      "1       Zimbabwe\n",
      "Name: country, dtype: object\n",
      "============================================================\n",
      "Afghanistan\n",
      "============================================================\n",
      "country      Afghanistan\n",
      "continent           Asia\n",
      "year                1952\n",
      "Name: 0, dtype: object\n",
      "Afghanistan\n",
      "Afghanistan\n",
      "Afghanistan\n"
     ]
    }
   ],
   "source": [
    "print(df2)\n",
    "print(\"==\" * 30)\n",
    "print(df2['country']) #  열 출력\n",
    "print(\"==\" * 30)\n",
    "print(df2['country'][0]) # [열][행]\n",
    "print(\"==\" * 30)\n",
    "print(df2.loc[0])  # loc는 행을 나타내 준다.\n",
    "print(df2.loc[0]['country']) #df3.loc[행][열]\n",
    "print(df2.loc[0 , 'country'])\n",
    "print(df2['country'][0])  # df3[열][행]"
   ]
  },
  {
   "cell_type": "code",
   "execution_count": 243,
   "id": "bc14f707-63b6-4588-b5c7-5f88e2fcda4e",
   "metadata": {},
   "outputs": [
    {
     "name": "stdout",
     "output_type": "stream",
     "text": [
      "0    Afghanistan\n",
      "1       Zimbabwe\n",
      "Name: country, dtype: object\n",
      "country      Afghanistan\n",
      "continent           Asia\n",
      "year                1952\n",
      "Name: 0, dtype: object\n",
      "============================================================\n",
      "<class 'pandas.core.series.Series'>\n",
      "<class 'pandas.core.series.Series'>\n",
      "============================================================\n",
      "       country continent\n",
      "0  Afghanistan      Asia\n",
      "1     Zimbabwe    Africa\n",
      "       country continent  year\n",
      "0  Afghanistan      Asia  1952\n",
      "1     Zimbabwe    Africa  1957\n",
      "============================================================\n",
      "<class 'pandas.core.frame.DataFrame'>\n",
      "<class 'pandas.core.frame.DataFrame'>\n"
     ]
    }
   ],
   "source": [
    "print(df1['country'])\n",
    "print(df1.loc[0])\n",
    "print(\"==\" * 30)\n",
    "print(type(df1['country'])) # <class 'pandas.core.series.Series'>\n",
    "print(type(df1.loc[0])) # <class 'pandas.core.series.Series'>\n",
    "print(\"==\" * 30)\n",
    "print(df1[['country','continent']])\n",
    "print(df1.loc[[0,1]])\n",
    "print(\"==\" * 30)\n",
    "print(type(df1[['country','continent']])) # <class 'pandas.core.frame.DataFrame'>\n",
    "print(type(df1.loc[[0,1]])) # <class 'pandas.core.frame.DataFrame'>"
   ]
  },
  {
   "cell_type": "code",
   "execution_count": 249,
   "id": "4da6e779-fa10-4a54-89ab-da21d4a2474a",
   "metadata": {},
   "outputs": [
    {
     "name": "stdout",
     "output_type": "stream",
     "text": [
      "country        Zimbabwe\n",
      "continent        Africa\n",
      "year               2007\n",
      "lifeExp          43.487\n",
      "pop            12311143\n",
      "gdpPercap    469.709298\n",
      "Name: 1703, dtype: object\n",
      "(1704, 6)\n",
      "country        Zimbabwe\n",
      "continent        Africa\n",
      "year               2007\n",
      "lifeExp          43.487\n",
      "pop            12311143\n",
      "gdpPercap    469.709298\n",
      "Name: 1703, dtype: object\n",
      "country        Zimbabwe\n",
      "continent        Africa\n",
      "year               2007\n",
      "lifeExp          43.487\n",
      "pop            12311143\n",
      "gdpPercap    469.709298\n",
      "Name: 1703, dtype: object\n"
     ]
    }
   ],
   "source": [
    "# 마지막 행을 출력하세요.\n",
    "print(df.loc[1703])\n",
    "print(df.shape) # (1704, 6)\n",
    "print(df.loc[df.shape[0] -1])\n",
    "print(df.loc[len(df) -1])"
   ]
  },
  {
   "cell_type": "code",
   "execution_count": 262,
   "id": "7b6b198e-c7bb-4a69-9917-ebc1b516799d",
   "metadata": {},
   "outputs": [
    {
     "name": "stdout",
     "output_type": "stream",
     "text": [
      "country      Afghanistan\n",
      "continent           Asia\n",
      "year                1952\n",
      "Name: 0, dtype: object\n",
      "country      Afghanistan\n",
      "continent           Asia\n",
      "year                1952\n",
      "Name: 0, dtype: object\n",
      "country        Zimbabwe\n",
      "continent        Africa\n",
      "year               2007\n",
      "lifeExp          43.487\n",
      "pop            12311143\n",
      "gdpPercap    469.709298\n",
      "Name: 1703, dtype: object\n",
      "country      Afghanistan\n",
      "continent           Asia\n",
      "year                1952\n",
      "lifeExp           28.801\n",
      "pop              8425333\n",
      "gdpPercap     779.445314\n",
      "Name: 0, dtype: object\n",
      "country      Afghanistan\n",
      "continent           Asia\n",
      "year                1952\n",
      "lifeExp           28.801\n",
      "pop              8425333\n",
      "gdpPercap     779.445314\n",
      "Name: 0, dtype: object\n",
      "country      Afghanistan\n",
      "continent           Asia\n",
      "year                1952\n",
      "lifeExp           28.801\n",
      "pop              8425333\n",
      "gdpPercap     779.445314\n",
      "Name: 0, dtype: object\n",
      "country      Afghanistan\n",
      "continent           Asia\n",
      "year                1952\n",
      "lifeExp           28.801\n",
      "pop              8425333\n",
      "gdpPercap     779.445314\n",
      "Name: 0, dtype: object\n"
     ]
    }
   ],
   "source": [
    "l = [1,2,3,4,5]\n",
    "#    0 1 2 3 4  : 암시적\n",
    "#   -5 4 3 2 1\n",
    "df.loc[0] # 명시적 index\n",
    "l[0] # 암시적 index\n",
    "l[-1] #암시적 indexc\n",
    "print(df1.iloc[-2])\n",
    "print(df1.iloc[0])\n",
    "print(df.iloc[-1])\n",
    "# df에서 맨 첫 행을 출력하세요.\n",
    "print(df.loc[0])\n",
    "print(df.iloc[-1704])\n",
    "print(df.iloc[-df.shape[0]])\n",
    "print(df.iloc[-len(df)])"
   ]
  },
  {
   "cell_type": "code",
   "execution_count": 271,
   "id": "b676f39a-6b12-4529-becc-9d95f4afd514",
   "metadata": {},
   "outputs": [
    {
     "name": "stdout",
     "output_type": "stream",
     "text": [
      "       country continent  year\n",
      "0  Afghanistan      Asia  1952\n",
      "1     Zimbabwe    Africa  1957\n",
      "       country continent  year\n",
      "a  Afghanistan      Asia  1952\n",
      "b     Zimbabwe    Africa  1957\n",
      "country      Afghanistan\n",
      "continent           Asia\n",
      "year                1952\n",
      "Name: 0, dtype: object\n",
      "country      Afghanistan\n",
      "continent           Asia\n",
      "year                1952\n",
      "Name: a, dtype: object\n",
      "country      Afghanistan\n",
      "continent           Asia\n",
      "year                1952\n",
      "Name: a, dtype: object\n",
      "country      Afghanistan\n",
      "continent           Asia\n",
      "year                1952\n",
      "Name: a, dtype: object\n",
      "country      Afghanistan\n",
      "continent           Asia\n",
      "year                1952\n",
      "Name: 0, dtype: object\n",
      "country      Afghanistan\n",
      "continent           Asia\n",
      "year                1952\n",
      "Name: 0, dtype: object\n",
      "country      Afghanistan\n",
      "continent           Asia\n",
      "year                1952\n",
      "Name: 0, dtype: object\n"
     ]
    }
   ],
   "source": [
    "df4 = pd.DataFrame({\"country\": [\"Afghanistan\",\"Zimbabwe\"],\n",
    "                   \"continent\" : [\"Asia\",\"Africa\"],\n",
    "                   \"year\":[1952,1957]},\n",
    "                  index=['a','b'])\n",
    "print(df2)\n",
    "print(df4)\n",
    "print(df2.loc[0])\n",
    "print(df4.loc['a'])\n",
    "'''\n",
    "       country continent  year\n",
    "a  Afghanistan      Asia  1952   -2   0\n",
    "b     Zimbabwe    Africa  1957   -1   1\n",
    "'''\n",
    "print(df4.loc['a'])\n",
    "print(df4.iloc[0])\n",
    "print(df4.iloc[-2])\n",
    "'''\n",
    "       country continent  year\n",
    "0  Afghanistan      Asia  1952   -2   0\n",
    "1     Zimbabwe    Africa  1957   -1   1\n",
    "''' \n",
    "print(df2.loc[0])\n",
    "print(df2.iloc[0])\n",
    "print(df2.iloc[-2])"
   ]
  },
  {
   "cell_type": "code",
   "execution_count": 279,
   "id": "01b80e12-efc5-494d-aade-43ccc60ed033",
   "metadata": {},
   "outputs": [
    {
     "name": "stdout",
     "output_type": "stream",
     "text": [
      "Afghanistan\n",
      "Afghanistan\n"
     ]
    }
   ],
   "source": [
    "df2\n",
    "df2['country'][0]\n",
    "df2.loc[0 , 'country']\n",
    "'''\n",
    "       -3      -2        -1\n",
    "       0        1        2\n",
    "\tcountry\tcontinent\tyear\n",
    "0\tAfghanistan\tAsia\t1952   0  -2\n",
    "1\tZimbabwe\tAfrica\t1957   1  -1\n",
    "'''\n",
    "# print(df2.iloc[-2, 'country']) :암시적 index와 명시적 index는 같이 사용할 수 없다.\n",
    "print(df2.iloc[-2 , 0])\n",
    "print(df2.iloc[-2 , -3])"
   ]
  },
  {
   "cell_type": "code",
   "execution_count": 289,
   "id": "1624c4e8-52fa-4765-b625-3b9cbb582eaa",
   "metadata": {},
   "outputs": [
    {
     "name": "stdout",
     "output_type": "stream",
     "text": [
      "==같은 결과==\n"
     ]
    },
    {
     "data": {
      "text/plain": [
       "1      Afghanistan\n",
       "10     Afghanistan\n",
       "100     Bangladesh\n",
       "Name: country, dtype: object"
      ]
     },
     "execution_count": 289,
     "metadata": {},
     "output_type": "execute_result"
    }
   ],
   "source": [
    "df\n",
    "df[['country','year','lifeExp']]\n",
    "df.loc[[1, 10, 100]]\n",
    "print(\"==같은 결과==\")\n",
    "df.loc[[1, 10, 100]]['country']\n",
    "df['country'][[1, 10, 100]]"
   ]
  },
  {
   "cell_type": "code",
   "execution_count": 310,
   "id": "976b9569-f36e-4b60-9a5a-4a62c7fb2ece",
   "metadata": {},
   "outputs": [
    {
     "data": {
      "text/plain": [
       "1962"
      ]
     },
     "execution_count": 310,
     "metadata": {},
     "output_type": "execute_result"
    }
   ],
   "source": [
    "# slicing\n",
    "l = [1,2,3,4,5]\n",
    "l[1:1+3]\n",
    "\"같은 결과\"\n",
    "df.loc[1 : 10] # 명시적\n",
    "df.iloc[1 : 11] # 암시적\n",
    "df.loc[1 : 10, : ] \n",
    "df.iloc[1 : 11 , :]\n",
    "\"같은 결과\"\n",
    "df.loc[1 : 10][['country','continent','year']]\n",
    "df.loc[1 : 10 , ['country','continent','year']]\n",
    "df[['country','continent','year']][1:11]\n",
    "df.iloc[1 : 11 , 0 : 3] \n",
    "df.iloc[1 : 11 , [0, 1, 2]] \n",
    "\"같은 결과\"\n",
    "df.loc[: , ['country','continent','year']]\n",
    "df.iloc[: , [0, 1, 2]]\n",
    "df.iloc[: , 0:3]\n",
    "\"같은 결과\"\n",
    "df.loc[2, 'year']\n",
    "df.iloc[2, 2]\n",
    "df.iloc[-1702, 2]"
   ]
  },
  {
   "cell_type": "code",
   "execution_count": 324,
   "id": "38949dba-8781-4c15-bcfc-7ffb657b6f58",
   "metadata": {},
   "outputs": [
    {
     "data": {
      "text/html": [
       "<div>\n",
       "<style scoped>\n",
       "    .dataframe tbody tr th:only-of-type {\n",
       "        vertical-align: middle;\n",
       "    }\n",
       "\n",
       "    .dataframe tbody tr th {\n",
       "        vertical-align: top;\n",
       "    }\n",
       "\n",
       "    .dataframe thead th {\n",
       "        text-align: right;\n",
       "    }\n",
       "</style>\n",
       "<table border=\"1\" class=\"dataframe\">\n",
       "  <thead>\n",
       "    <tr style=\"text-align: right;\">\n",
       "      <th></th>\n",
       "      <th>country</th>\n",
       "      <th>continent</th>\n",
       "      <th>year</th>\n",
       "      <th>lifeExp</th>\n",
       "      <th>pop</th>\n",
       "      <th>gdpPercap</th>\n",
       "    </tr>\n",
       "  </thead>\n",
       "  <tbody>\n",
       "    <tr>\n",
       "      <th>0</th>\n",
       "      <td>Afghanistan</td>\n",
       "      <td>Asia</td>\n",
       "      <td>1952</td>\n",
       "      <td>28.801</td>\n",
       "      <td>8425333</td>\n",
       "      <td>779.445314</td>\n",
       "    </tr>\n",
       "    <tr>\n",
       "      <th>3</th>\n",
       "      <td>Afghanistan</td>\n",
       "      <td>Asia</td>\n",
       "      <td>1967</td>\n",
       "      <td>34.020</td>\n",
       "      <td>11537966</td>\n",
       "      <td>836.197138</td>\n",
       "    </tr>\n",
       "    <tr>\n",
       "      <th>6</th>\n",
       "      <td>Afghanistan</td>\n",
       "      <td>Asia</td>\n",
       "      <td>1982</td>\n",
       "      <td>39.854</td>\n",
       "      <td>12881816</td>\n",
       "      <td>978.011439</td>\n",
       "    </tr>\n",
       "    <tr>\n",
       "      <th>9</th>\n",
       "      <td>Afghanistan</td>\n",
       "      <td>Asia</td>\n",
       "      <td>1997</td>\n",
       "      <td>41.763</td>\n",
       "      <td>22227415</td>\n",
       "      <td>635.341351</td>\n",
       "    </tr>\n",
       "    <tr>\n",
       "      <th>12</th>\n",
       "      <td>Albania</td>\n",
       "      <td>Europe</td>\n",
       "      <td>1952</td>\n",
       "      <td>55.230</td>\n",
       "      <td>1282697</td>\n",
       "      <td>1601.056136</td>\n",
       "    </tr>\n",
       "    <tr>\n",
       "      <th>...</th>\n",
       "      <td>...</td>\n",
       "      <td>...</td>\n",
       "      <td>...</td>\n",
       "      <td>...</td>\n",
       "      <td>...</td>\n",
       "      <td>...</td>\n",
       "    </tr>\n",
       "    <tr>\n",
       "      <th>1689</th>\n",
       "      <td>Zambia</td>\n",
       "      <td>Africa</td>\n",
       "      <td>1997</td>\n",
       "      <td>40.238</td>\n",
       "      <td>9417789</td>\n",
       "      <td>1071.353818</td>\n",
       "    </tr>\n",
       "    <tr>\n",
       "      <th>1692</th>\n",
       "      <td>Zimbabwe</td>\n",
       "      <td>Africa</td>\n",
       "      <td>1952</td>\n",
       "      <td>48.451</td>\n",
       "      <td>3080907</td>\n",
       "      <td>406.884115</td>\n",
       "    </tr>\n",
       "    <tr>\n",
       "      <th>1695</th>\n",
       "      <td>Zimbabwe</td>\n",
       "      <td>Africa</td>\n",
       "      <td>1967</td>\n",
       "      <td>53.995</td>\n",
       "      <td>4995432</td>\n",
       "      <td>569.795071</td>\n",
       "    </tr>\n",
       "    <tr>\n",
       "      <th>1698</th>\n",
       "      <td>Zimbabwe</td>\n",
       "      <td>Africa</td>\n",
       "      <td>1982</td>\n",
       "      <td>60.363</td>\n",
       "      <td>7636524</td>\n",
       "      <td>788.855041</td>\n",
       "    </tr>\n",
       "    <tr>\n",
       "      <th>1701</th>\n",
       "      <td>Zimbabwe</td>\n",
       "      <td>Africa</td>\n",
       "      <td>1997</td>\n",
       "      <td>46.809</td>\n",
       "      <td>11404948</td>\n",
       "      <td>792.449960</td>\n",
       "    </tr>\n",
       "  </tbody>\n",
       "</table>\n",
       "<p>568 rows × 6 columns</p>\n",
       "</div>"
      ],
      "text/plain": [
       "          country continent  year  lifeExp       pop    gdpPercap\n",
       "0     Afghanistan      Asia  1952   28.801   8425333   779.445314\n",
       "3     Afghanistan      Asia  1967   34.020  11537966   836.197138\n",
       "6     Afghanistan      Asia  1982   39.854  12881816   978.011439\n",
       "9     Afghanistan      Asia  1997   41.763  22227415   635.341351\n",
       "12        Albania    Europe  1952   55.230   1282697  1601.056136\n",
       "...           ...       ...   ...      ...       ...          ...\n",
       "1689       Zambia    Africa  1997   40.238   9417789  1071.353818\n",
       "1692     Zimbabwe    Africa  1952   48.451   3080907   406.884115\n",
       "1695     Zimbabwe    Africa  1967   53.995   4995432   569.795071\n",
       "1698     Zimbabwe    Africa  1982   60.363   7636524   788.855041\n",
       "1701     Zimbabwe    Africa  1997   46.809  11404948   792.449960\n",
       "\n",
       "[568 rows x 6 columns]"
      ]
     },
     "execution_count": 324,
     "metadata": {},
     "output_type": "execute_result"
    }
   ],
   "source": [
    "# 3부터 6행\n",
    "df[3:6] \n",
    "df[3:6]['country'] \n",
    "df[3:6][['country','continent']]\n",
    "# df[3:6 , ['country','continent']] (x)\n",
    "# df[3:6 , 'country'] (x)\n",
    "df.loc[3:5]\n",
    "df.iloc[3:6]\n",
    "# 모든 행에서 3열부터 5열까지\n",
    "df.iloc[: , 3 : 6]\n",
    "df.iloc[: , range(3, 6)]\n",
    "# 열을 0부터 5까지중 한칸씩 띄어서 가져오시오.\n",
    "df.iloc[: , 3 : 6 :2]\n",
    "df.iloc[: , range(3, 6, 2)]\n",
    "#행을 0부터 20개를 가져오고 열을 0부터 5까지 가져올 때 행과 열을 한칸씩 띄어서 가져오시오\n",
    "df.iloc[ 0: 20:2 ,  0: 6 :2]\n",
    "# 열을 두칸씩\n",
    "df.iloc[ : ,  ::3]\n",
    "# 모든행을 두칸씩\n",
    "df.iloc[ ::3 ,  :]"
   ]
  },
  {
   "cell_type": "code",
   "execution_count": 333,
   "id": "5ce03907-8d43-4c28-a298-7005396f536b",
   "metadata": {},
   "outputs": [
    {
     "data": {
      "text/html": [
       "<div>\n",
       "<style scoped>\n",
       "    .dataframe tbody tr th:only-of-type {\n",
       "        vertical-align: middle;\n",
       "    }\n",
       "\n",
       "    .dataframe tbody tr th {\n",
       "        vertical-align: top;\n",
       "    }\n",
       "\n",
       "    .dataframe thead th {\n",
       "        text-align: right;\n",
       "    }\n",
       "</style>\n",
       "<table border=\"1\" class=\"dataframe\">\n",
       "  <thead>\n",
       "    <tr style=\"text-align: right;\">\n",
       "      <th></th>\n",
       "      <th>lifeExp</th>\n",
       "      <th>gdpPercap</th>\n",
       "    </tr>\n",
       "  </thead>\n",
       "  <tbody>\n",
       "    <tr>\n",
       "      <th>0</th>\n",
       "      <td>28.801</td>\n",
       "      <td>779.445314</td>\n",
       "    </tr>\n",
       "    <tr>\n",
       "      <th>12</th>\n",
       "      <td>55.230</td>\n",
       "      <td>1601.056136</td>\n",
       "    </tr>\n",
       "    <tr>\n",
       "      <th>24</th>\n",
       "      <td>43.077</td>\n",
       "      <td>2449.008185</td>\n",
       "    </tr>\n",
       "    <tr>\n",
       "      <th>36</th>\n",
       "      <td>30.015</td>\n",
       "      <td>3520.610273</td>\n",
       "    </tr>\n",
       "    <tr>\n",
       "      <th>48</th>\n",
       "      <td>62.485</td>\n",
       "      <td>5911.315053</td>\n",
       "    </tr>\n",
       "    <tr>\n",
       "      <th>...</th>\n",
       "      <td>...</td>\n",
       "      <td>...</td>\n",
       "    </tr>\n",
       "    <tr>\n",
       "      <th>1644</th>\n",
       "      <td>40.412</td>\n",
       "      <td>605.066492</td>\n",
       "    </tr>\n",
       "    <tr>\n",
       "      <th>1656</th>\n",
       "      <td>43.160</td>\n",
       "      <td>1515.592329</td>\n",
       "    </tr>\n",
       "    <tr>\n",
       "      <th>1668</th>\n",
       "      <td>32.548</td>\n",
       "      <td>781.717576</td>\n",
       "    </tr>\n",
       "    <tr>\n",
       "      <th>1680</th>\n",
       "      <td>42.038</td>\n",
       "      <td>1147.388831</td>\n",
       "    </tr>\n",
       "    <tr>\n",
       "      <th>1692</th>\n",
       "      <td>48.451</td>\n",
       "      <td>406.884115</td>\n",
       "    </tr>\n",
       "  </tbody>\n",
       "</table>\n",
       "<p>142 rows × 2 columns</p>\n",
       "</div>"
      ],
      "text/plain": [
       "      lifeExp    gdpPercap\n",
       "0      28.801   779.445314\n",
       "12     55.230  1601.056136\n",
       "24     43.077  2449.008185\n",
       "36     30.015  3520.610273\n",
       "48     62.485  5911.315053\n",
       "...       ...          ...\n",
       "1644   40.412   605.066492\n",
       "1656   43.160  1515.592329\n",
       "1668   32.548   781.717576\n",
       "1680   42.038  1147.388831\n",
       "1692   48.451   406.884115\n",
       "\n",
       "[142 rows x 2 columns]"
      ]
     },
     "execution_count": 333,
     "metadata": {},
     "output_type": "execute_result"
    }
   ],
   "source": [
    "# 팬시 index , 마스크\n",
    "df\n",
    "# 1952년도 데이터\n",
    "df['year'] == 1952 # 팬시 index\n",
    "df[df['year'] == 1952]\n",
    "# 1952년도 데이터의 수는 \n",
    "np.sum(df['year'] == 1952)\n",
    "# 1952년도 lifeExp 데이터만 출력\n",
    "df[df['year'] == 1952]['lifeExp']\n",
    "# 1952년도 lifeExp, gdpPercap 데이터만 출력\n",
    "df[df['year'] == 1952][['lifeExp','gdpPercap']]"
   ]
  },
  {
   "cell_type": "code",
   "execution_count": 340,
   "id": "4ed04c46-f87a-44ba-939f-52b26fc21e3c",
   "metadata": {},
   "outputs": [
    {
     "data": {
      "text/plain": [
       "49.057619718309866"
      ]
     },
     "execution_count": 340,
     "metadata": {},
     "output_type": "execute_result"
    }
   ],
   "source": [
    "#1952년도 데이터에서 lifeExp의 집계\n",
    "df['year']==1952\n",
    "df[df['year']==1952]['lifeExp']\n",
    "df[df['year']==1952]['lifeExp'].sum()\n",
    "df[df['year']==1952]['lifeExp'].min()\n",
    "df[df['year']==1952]['lifeExp'].max()\n",
    "df[df['year']==1952]['lifeExp'].mean() # 1952평균 수명의 평균"
   ]
  },
  {
   "cell_type": "code",
   "execution_count": 351,
   "id": "309a9b99-e93f-4002-878b-77e2305c1974",
   "metadata": {
    "scrolled": true
   },
   "outputs": [
    {
     "data": {
      "text/plain": [
       "continent\n",
       "Africa      52\n",
       "Americas    25\n",
       "Asia        33\n",
       "Europe      30\n",
       "Oceania      2\n",
       "Name: country, dtype: int64"
      ]
     },
     "execution_count": 351,
     "metadata": {},
     "output_type": "execute_result"
    }
   ],
   "source": [
    "# 1952평균 수명의 평균\n",
    "df[df['year']==1952]['lifeExp'].mean()\n",
    "# 1957평균 수명의 평균\n",
    "df[df['year']==1957]['lifeExp'].mean()\n",
    "# 1962평균 수명의 평균\n",
    "df[df['year']==1962]['lifeExp'].mean()\n",
    "# 각년도 별 평균수명의 평균\n",
    "df.groupby('year')['lifeExp'].mean()\n",
    "# 각년도별  최대값인 평균수명 \n",
    "df.groupby('year')['lifeExp'].max()\n",
    "# 각년도별  최소값인 평균수명 \n",
    "df.groupby('year')['lifeExp'].min()\n",
    "# 각년도별  최소값인 평균수명에 1952\n",
    "df.groupby('year')['lifeExp'].min()[1952] # year가 index\n",
    "# 년도별 각 대륙의 평균 수명중 최소값\n",
    "df.groupby(['year','continent'])['lifeExp'].min()\n",
    "## 대륙에 대한 나라의 갯수\n",
    "df.groupby('continent')['country'].nunique()"
   ]
  },
  {
   "cell_type": "code",
   "execution_count": null,
   "id": "213357c5-ae57-4780-9cbf-705c32e2f030",
   "metadata": {},
   "outputs": [],
   "source": [
    "# 년도에 따른 평균수명의  평균의 추이를 확인\n",
    "import matplotlib as plt\n",
    "df.groupby('year')['lifeExp'].mean().plot()"
   ]
  },
  {
   "cell_type": "code",
   "execution_count": 355,
   "id": "ebcc43a8-01a9-4f61-b8ba-2fe60c00f861",
   "metadata": {},
   "outputs": [],
   "source": [
    "# 년도에 따른 gdp평균의 추이를 확인\n",
    "df.groupby('year')['gdpPercap'].mean().plot()"
   ]
  },
  {
   "cell_type": "code",
   "execution_count": 361,
   "id": "ab3e488f-107f-47da-ab64-94b9dd9abef0",
   "metadata": {},
   "outputs": [
    {
     "name": "stdout",
     "output_type": "stream",
     "text": [
      "0    banana\n",
      "1         1\n",
      "2         2\n",
      "3         3\n",
      "dtype: object\n",
      "0    banana\n",
      "1         1\n",
      "2         2\n",
      "3         3\n",
      "dtype: object\n",
      "banana\n",
      "a    banana\n",
      "b         1\n",
      "c         2\n",
      "d         3\n",
      "dtype: object\n",
      "banana\n"
     ]
    }
   ],
   "source": [
    "# Series : 리스트 \n",
    "l = ['banana',1,2,3]\n",
    "s = pd.Series(l)\n",
    "print(s)\n",
    "s = pd.Series(['banana',1,2,3])\n",
    "print(s)\n",
    "print(s[0])\n",
    "s = pd.Series(['banana',1,2,3], index=['a','b','c','d'])\n",
    "print(s)\n",
    "print(s['a'])"
   ]
  },
  {
   "cell_type": "code",
   "execution_count": 367,
   "id": "e0a3955f-caad-4154-9879-494fd110c97f",
   "metadata": {},
   "outputs": [
    {
     "data": {
      "text/plain": [
       "RangeIndex(start=0, stop=3, step=1)"
      ]
     },
     "execution_count": 367,
     "metadata": {},
     "output_type": "execute_result"
    }
   ],
   "source": [
    "# DataFrame : 딕셔너리\n",
    "dic = {'Name' : ['이숭무',     '이상범',      '이장범'   ],\n",
    "       'Age' :  [  50,           19,            18     ],\n",
    "       'Born' : ['1988-10-10','2000-02-23','2001-09-08']}\n",
    "df10 = pd.DataFrame(dic)\n",
    "df10\n",
    "df10['Name']\n",
    "df10.index"
   ]
  },
  {
   "cell_type": "code",
   "execution_count": 368,
   "id": "c68105b9-c1aa-4897-99e7-4729895ee4cd",
   "metadata": {},
   "outputs": [
    {
     "data": {
      "text/html": [
       "<div>\n",
       "<style scoped>\n",
       "    .dataframe tbody tr th:only-of-type {\n",
       "        vertical-align: middle;\n",
       "    }\n",
       "\n",
       "    .dataframe tbody tr th {\n",
       "        vertical-align: top;\n",
       "    }\n",
       "\n",
       "    .dataframe thead th {\n",
       "        text-align: right;\n",
       "    }\n",
       "</style>\n",
       "<table border=\"1\" class=\"dataframe\">\n",
       "  <thead>\n",
       "    <tr style=\"text-align: right;\">\n",
       "      <th></th>\n",
       "      <th>Name</th>\n",
       "      <th>Age</th>\n",
       "      <th>Born</th>\n",
       "    </tr>\n",
       "  </thead>\n",
       "  <tbody>\n",
       "    <tr>\n",
       "      <th>0</th>\n",
       "      <td>이숭무</td>\n",
       "      <td>50</td>\n",
       "      <td>1988-10-10</td>\n",
       "    </tr>\n",
       "    <tr>\n",
       "      <th>1</th>\n",
       "      <td>이상범</td>\n",
       "      <td>19</td>\n",
       "      <td>2000-02-23</td>\n",
       "    </tr>\n",
       "    <tr>\n",
       "      <th>2</th>\n",
       "      <td>이장범</td>\n",
       "      <td>18</td>\n",
       "      <td>2001-09-08</td>\n",
       "    </tr>\n",
       "  </tbody>\n",
       "</table>\n",
       "</div>"
      ],
      "text/plain": [
       "  Name  Age        Born\n",
       "0  이숭무   50  1988-10-10\n",
       "1  이상범   19  2000-02-23\n",
       "2  이장범   18  2001-09-08"
      ]
     },
     "execution_count": 368,
     "metadata": {},
     "output_type": "execute_result"
    }
   ],
   "source": [
    "df10 = pd.DataFrame({'Name' : ['이숭무',     '이상범',      '이장범'   ],\n",
    "                       'Age' :  [  50,           19,            18     ],\n",
    "                       'Born' : ['1988-10-10','2000-02-23','2001-09-08']})\n",
    "df10"
   ]
  },
  {
   "cell_type": "code",
   "execution_count": 369,
   "id": "94740970-bdc8-4664-ac30-8e85ebc8a1ea",
   "metadata": {},
   "outputs": [
    {
     "data": {
      "text/html": [
       "<div>\n",
       "<style scoped>\n",
       "    .dataframe tbody tr th:only-of-type {\n",
       "        vertical-align: middle;\n",
       "    }\n",
       "\n",
       "    .dataframe tbody tr th {\n",
       "        vertical-align: top;\n",
       "    }\n",
       "\n",
       "    .dataframe thead th {\n",
       "        text-align: right;\n",
       "    }\n",
       "</style>\n",
       "<table border=\"1\" class=\"dataframe\">\n",
       "  <thead>\n",
       "    <tr style=\"text-align: right;\">\n",
       "      <th></th>\n",
       "      <th>Name</th>\n",
       "      <th>Age</th>\n",
       "      <th>Born</th>\n",
       "    </tr>\n",
       "  </thead>\n",
       "  <tbody>\n",
       "    <tr>\n",
       "      <th>a</th>\n",
       "      <td>이숭무</td>\n",
       "      <td>50</td>\n",
       "      <td>1988-10-10</td>\n",
       "    </tr>\n",
       "    <tr>\n",
       "      <th>b</th>\n",
       "      <td>이상범</td>\n",
       "      <td>19</td>\n",
       "      <td>2000-02-23</td>\n",
       "    </tr>\n",
       "    <tr>\n",
       "      <th>c</th>\n",
       "      <td>이장범</td>\n",
       "      <td>18</td>\n",
       "      <td>2001-09-08</td>\n",
       "    </tr>\n",
       "  </tbody>\n",
       "</table>\n",
       "</div>"
      ],
      "text/plain": [
       "  Name  Age        Born\n",
       "a  이숭무   50  1988-10-10\n",
       "b  이상범   19  2000-02-23\n",
       "c  이장범   18  2001-09-08"
      ]
     },
     "execution_count": 369,
     "metadata": {},
     "output_type": "execute_result"
    }
   ],
   "source": [
    "df10 = pd.DataFrame({'Name' : ['이숭무',     '이상범',      '이장범'   ],\n",
    "                       'Age' :  [  50,           19,            18     ],\n",
    "                       'Born' : ['1988-10-10','2000-02-23','2001-09-08']},\n",
    "                   index=['a','b','c'])\n",
    "df10"
   ]
  },
  {
   "cell_type": "code",
   "execution_count": null,
   "id": "fadcdc28-eab6-446d-9544-6ff08d756ac9",
   "metadata": {},
   "outputs": [],
   "source": [
    "df10 = pd.DataFrame({'Name' : ['이숭무',     '이상범',      '이장범'   ],\n",
    "                       'Age' :  [  50,           19,            18     ],\n",
    "                       'Born' : ['1988-10-10','2000-02-23','2001-09-08']},\n",
    "                   index=['a','b','c'],\n",
    "                   columns=['Born','Name','Age'])\n",
    "df10"
   ]
  },
  {
   "cell_type": "code",
   "execution_count": 376,
   "id": "4d2e90b8-8a38-4788-b901-23f517e9850f",
   "metadata": {},
   "outputs": [
    {
     "data": {
      "text/plain": [
       "Index(['Born', 'Name', 'Age'], dtype='object')"
      ]
     },
     "execution_count": 376,
     "metadata": {},
     "output_type": "execute_result"
    }
   ],
   "source": [
    "df10 = pd.DataFrame(index=['a','b','c'],\n",
    "                   columns=['Born','Name','Age'],\n",
    "                   data = {'Name' : ['이숭무',     '이상범',      '이장범'   ],\n",
    "                       'Age' :  [  50,           19,            18     ],\n",
    "                       'Born' : ['1988-10-10','2000-02-23','2001-09-08']})\n",
    "df10\n",
    "df10.index\n",
    "df10.columns\n",
    "df10.keys()"
   ]
  },
  {
   "cell_type": "code",
   "execution_count": 394,
   "id": "f7d6ee76-c08b-4806-a9e5-6c84424cb488",
   "metadata": {},
   "outputs": [
    {
     "data": {
      "text/plain": [
       "1    61\n",
       "2    90\n",
       "3    66\n",
       "7    77\n",
       "Name: Age, dtype: int64"
      ]
     },
     "execution_count": 394,
     "metadata": {},
     "output_type": "execute_result"
    }
   ],
   "source": [
    "# 팬시index과 마스크\n",
    "df = pd.read_csv(\"https://raw.githubusercontent.com/SoongMoo/soldesk20231105/main/data/scientists.csv\")\n",
    "df\n",
    "df[['Name','Age']]\n",
    "# 나이의 평균\n",
    "df['Age'].mean()\n",
    "df['Age'].max()\n",
    "df['Age'].min()\n",
    "### 제일 오래 산 과학자는?\n",
    "df['Age'] == df['Age'].max() #팬시 index\n",
    "df[df['Age'] == df['Age'].max()]\n",
    "## 일찍 돌아가신 분은?\n",
    "df['Age'] == df['Age'].min() #팬시 index\n",
    "df[df['Age'] == df['Age'].min()]\n",
    "# 평균수명과 같은 나이인 과학자는?\n",
    "df['Age'] == df['Age'].mean() #팬시 index\n",
    "df[df['Age'] == df['Age'].mean()]\n",
    "# 평균수명보다 오래 산 과학자.\n",
    "df['Age'] > df['Age'].mean() #팬시 index\n",
    "df[df['Age'] > df['Age'].mean()]\n",
    "# 평균보다 오래산 사람의 나이\n",
    "df[df['Age'] > df['Age'].mean()]['Age']\n",
    "df['Age'][df['Age'] > df['Age'].mean()]"
   ]
  },
  {
   "cell_type": "code",
   "execution_count": null,
   "id": "e76635e3-bda4-4cb6-9170-37431ec4b0ea",
   "metadata": {},
   "outputs": [],
   "source": [
    "# 브로드케이스팅\n",
    "x = np.array([1, 2, 3] )\n",
    "z =  x + 5 # [1, 2, 3] + [5 5 5]"
   ]
  },
  {
   "cell_type": "code",
   "execution_count": 397,
   "id": "36ff2f66-f68d-4e9a-b152-da499a3a031a",
   "metadata": {},
   "outputs": [
    {
     "data": {
      "text/plain": [
       "0     57\n",
       "1     81\n",
       "2    110\n",
       "3     86\n",
       "4     76\n",
       "5     65\n",
       "6     61\n",
       "7     97\n",
       "Name: Age, dtype: int64"
      ]
     },
     "execution_count": 397,
     "metadata": {},
     "output_type": "execute_result"
    }
   ],
   "source": [
    "#Series와 정수 연산\n",
    "'''\n",
    "0    37   + 20\n",
    "1    61   + 20\n",
    "2    90   + 20\n",
    "3    66   + 20\n",
    "4    56   + 20\n",
    "5    45   + 20\n",
    "6    41   + 20\n",
    "7    77   + 20\n",
    "'''\n",
    "df['Age'] + 20"
   ]
  },
  {
   "cell_type": "code",
   "execution_count": 401,
   "id": "26341f51-b73b-4d9c-b41d-3f06e9d7ee2a",
   "metadata": {},
   "outputs": [
    {
     "data": {
      "text/plain": [
       "0    37.0\n",
       "1    62.0\n",
       "2    92.0\n",
       "3    69.0\n",
       "4    60.0\n",
       "5    50.0\n",
       "6    47.0\n",
       "7    84.0\n",
       "8     NaN\n",
       "dtype: float64"
      ]
     },
     "execution_count": 401,
     "metadata": {},
     "output_type": "execute_result"
    }
   ],
   "source": [
    "#Series와 Series의 연산\n",
    "df['Age']\n",
    "s = pd.Series(range(9))\n",
    "s\n",
    "'''\n",
    "0     57  + 0    0\n",
    "1     81  + 1    1\n",
    "2    110  + 2    2\n",
    "3     86  + 3    3\n",
    "4     76  + 4    4\n",
    "5     65  + 5    5\n",
    "6     61  + 6    6\n",
    "7     97  + 7    7\n",
    "8     NaN + 8    8\n",
    "'''\n",
    "df['Age'] + s"
   ]
  },
  {
   "cell_type": "code",
   "execution_count": 403,
   "id": "e6f325ac-7d14-46a6-9a01-4e6b3eced8fd",
   "metadata": {},
   "outputs": [
    {
     "data": {
      "text/plain": [
       "0     38.0\n",
       "1    161.0\n",
       "2      NaN\n",
       "3      NaN\n",
       "4      NaN\n",
       "5      NaN\n",
       "6      NaN\n",
       "7      NaN\n",
       "dtype: float64"
      ]
     },
     "execution_count": 403,
     "metadata": {},
     "output_type": "execute_result"
    }
   ],
   "source": [
    "s1 = pd.Series([1, 100])\n",
    "s1\n",
    "'''\n",
    "0     57 +  0      1\n",
    "1     81 +  1    100\n",
    "2    110 +  2    NaN\n",
    "3     86 +  3    NaN\n",
    "4     76 +  4    NaN\n",
    "5     65 +  5    NaN\n",
    "6     61 +  6    NaN\n",
    "7     97 +  7    NaN\n",
    "'''\n",
    "df['Age'] + s1"
   ]
  },
  {
   "cell_type": "code",
   "execution_count": 407,
   "id": "7b979ee2-bd91-460e-97a8-88ee4a695143",
   "metadata": {},
   "outputs": [
    {
     "data": {
      "text/plain": [
       "0     74\n",
       "1    122\n",
       "2    180\n",
       "3    132\n",
       "4    112\n",
       "5     90\n",
       "6     82\n",
       "7    154\n",
       "Name: Age, dtype: int64"
      ]
     },
     "execution_count": 407,
     "metadata": {},
     "output_type": "execute_result"
    }
   ],
   "source": [
    "df['Age']\n",
    "ev_df = df['Age'].sort_index(ascending=False)\n",
    "ev_df\n",
    "'''\n",
    "0    37   +  7    77\n",
    "1    61   +  6    41\n",
    "2    90   +  5    45\n",
    "3    66   +  4    56\n",
    "4    56   +  3    66\n",
    "5    45   +  2    90\n",
    "6    41   +  1    61\n",
    "7    77   +  0    37\n",
    "'''\n",
    "ev_df + df['Age'] # Series 와 Series의 연산은  순서와 상관없이 index끼리의 연산"
   ]
  },
  {
   "cell_type": "code",
   "execution_count": 409,
   "id": "e1144a6e-c428-4454-89d8-3e212a82ef52",
   "metadata": {},
   "outputs": [
    {
     "data": {
      "text/html": [
       "<div>\n",
       "<style scoped>\n",
       "    .dataframe tbody tr th:only-of-type {\n",
       "        vertical-align: middle;\n",
       "    }\n",
       "\n",
       "    .dataframe tbody tr th {\n",
       "        vertical-align: top;\n",
       "    }\n",
       "\n",
       "    .dataframe thead th {\n",
       "        text-align: right;\n",
       "    }\n",
       "</style>\n",
       "<table border=\"1\" class=\"dataframe\">\n",
       "  <thead>\n",
       "    <tr style=\"text-align: right;\">\n",
       "      <th></th>\n",
       "      <th>Name</th>\n",
       "      <th>Born</th>\n",
       "      <th>Died</th>\n",
       "      <th>Age</th>\n",
       "      <th>Occupation</th>\n",
       "    </tr>\n",
       "  </thead>\n",
       "  <tbody>\n",
       "    <tr>\n",
       "      <th>0</th>\n",
       "      <td>Rosaline FranklinRosaline Franklin</td>\n",
       "      <td>1920-07-251920-07-25</td>\n",
       "      <td>1958-04-161958-04-16</td>\n",
       "      <td>74</td>\n",
       "      <td>ChemistChemist</td>\n",
       "    </tr>\n",
       "    <tr>\n",
       "      <th>1</th>\n",
       "      <td>William GossetWilliam Gosset</td>\n",
       "      <td>1876-06-131876-06-13</td>\n",
       "      <td>1937-10-161937-10-16</td>\n",
       "      <td>122</td>\n",
       "      <td>StatisticianStatistician</td>\n",
       "    </tr>\n",
       "    <tr>\n",
       "      <th>2</th>\n",
       "      <td>Florence NightingaleFlorence Nightingale</td>\n",
       "      <td>1820-05-121820-05-12</td>\n",
       "      <td>1910-08-131910-08-13</td>\n",
       "      <td>180</td>\n",
       "      <td>NurseNurse</td>\n",
       "    </tr>\n",
       "    <tr>\n",
       "      <th>3</th>\n",
       "      <td>Marie CurieMarie Curie</td>\n",
       "      <td>1867-11-071867-11-07</td>\n",
       "      <td>1934-07-041934-07-04</td>\n",
       "      <td>132</td>\n",
       "      <td>ChemistChemist</td>\n",
       "    </tr>\n",
       "    <tr>\n",
       "      <th>4</th>\n",
       "      <td>Rachel CarsonRachel Carson</td>\n",
       "      <td>1907-05-271907-05-27</td>\n",
       "      <td>1964-04-141964-04-14</td>\n",
       "      <td>112</td>\n",
       "      <td>BiologistBiologist</td>\n",
       "    </tr>\n",
       "    <tr>\n",
       "      <th>5</th>\n",
       "      <td>John SnowJohn Snow</td>\n",
       "      <td>1813-03-151813-03-15</td>\n",
       "      <td>1858-06-161858-06-16</td>\n",
       "      <td>90</td>\n",
       "      <td>PhysicianPhysician</td>\n",
       "    </tr>\n",
       "    <tr>\n",
       "      <th>6</th>\n",
       "      <td>Alan TuringAlan Turing</td>\n",
       "      <td>1912-06-231912-06-23</td>\n",
       "      <td>1954-06-071954-06-07</td>\n",
       "      <td>82</td>\n",
       "      <td>Computer ScientistComputer Scientist</td>\n",
       "    </tr>\n",
       "    <tr>\n",
       "      <th>7</th>\n",
       "      <td>Johann GaussJohann Gauss</td>\n",
       "      <td>1777-04-301777-04-30</td>\n",
       "      <td>1855-02-231855-02-23</td>\n",
       "      <td>154</td>\n",
       "      <td>MathematicianMathematician</td>\n",
       "    </tr>\n",
       "  </tbody>\n",
       "</table>\n",
       "</div>"
      ],
      "text/plain": [
       "                                       Name                  Born  \\\n",
       "0        Rosaline FranklinRosaline Franklin  1920-07-251920-07-25   \n",
       "1              William GossetWilliam Gosset  1876-06-131876-06-13   \n",
       "2  Florence NightingaleFlorence Nightingale  1820-05-121820-05-12   \n",
       "3                    Marie CurieMarie Curie  1867-11-071867-11-07   \n",
       "4                Rachel CarsonRachel Carson  1907-05-271907-05-27   \n",
       "5                        John SnowJohn Snow  1813-03-151813-03-15   \n",
       "6                    Alan TuringAlan Turing  1912-06-231912-06-23   \n",
       "7                  Johann GaussJohann Gauss  1777-04-301777-04-30   \n",
       "\n",
       "                   Died  Age                            Occupation  \n",
       "0  1958-04-161958-04-16   74                        ChemistChemist  \n",
       "1  1937-10-161937-10-16  122              StatisticianStatistician  \n",
       "2  1910-08-131910-08-13  180                            NurseNurse  \n",
       "3  1934-07-041934-07-04  132                        ChemistChemist  \n",
       "4  1964-04-141964-04-14  112                    BiologistBiologist  \n",
       "5  1858-06-161858-06-16   90                    PhysicianPhysician  \n",
       "6  1954-06-071954-06-07   82  Computer ScientistComputer Scientist  \n",
       "7  1855-02-231855-02-23  154            MathematicianMathematician  "
      ]
     },
     "execution_count": 409,
     "metadata": {},
     "output_type": "execute_result"
    }
   ],
   "source": [
    "## 데이터프레임 연산 : 브로드케스팅\n",
    "# 데이터프레임과 정수 연산\n",
    "'''\n",
    "\tName\tBorn\tDied\tAge\tOccupation\n",
    "0\tRosaline Franklin\t1920-07-25\t1958-04-16\t37\tChemist      * 2 2 2 2 2 2\n",
    "1\tWilliam Gosset\t1876-06-13\t1937-10-16\t61\tStatistician     * 2 2 2 2 2 2\n",
    "2\tFlorence Nightingale\t1820-05-12\t1910-08-13\t90\tNurse    * 2 2 2 2 2 2\n",
    "3\tMarie Curie\t1867-11-07\t1934-07-04\t66\tChemist              * 2 2 2 2 2 2\n",
    "4\tRachel Carson\t1907-05-27\t1964-04-14\t56\tBiologist        * 2 2 2 2 2 2\n",
    "5\tJohn Snow\t1813-03-15\t1858-06-16\t45\tPhysician            * 2 2 2 2 2 2\n",
    "6\tAlan Turing\t1912-06-23\t1954-06-07\t41\tComputer Scientist   * 2 2 2 2 2 2\n",
    "7\tJohann Gauss\t1777-04-30\t1855-02-23\t77\tMathematician    * 2 2 2 2 2 2\n",
    "'''\n",
    "df * 2"
   ]
  },
  {
   "cell_type": "code",
   "execution_count": 420,
   "id": "d209627e-c597-4091-8375-234507021edf",
   "metadata": {},
   "outputs": [
    {
     "data": {
      "text/plain": [
       "0   37 days 18:00:59.178082191\n",
       "1   61 days 09:08:23.013698630\n",
       "2   90 days 07:29:45.205479452\n",
       "3   66 days 16:46:01.643835616\n",
       "4   56 days 22:09:32.054794520\n",
       "5   45 days 06:50:18.082191780\n",
       "6   41 days 23:36:19.726027397\n",
       "7   77 days 20:50:37.808219178\n",
       "dtype: timedelta64[ns]"
      ]
     },
     "execution_count": 420,
     "metadata": {},
     "output_type": "execute_result"
    }
   ],
   "source": [
    "#날짜연산\n",
    "df\n",
    "df['Died'] # object : 문자열\n",
    "df['Born'] # object : 문자열\n",
    "#df['Died'] - df['Born'] \n",
    "Born = pd.to_datetime(df['Born'] , format=\"%Y-%m-%d\") #문자열의 날짜 형식을 적어준다.\n",
    "Born #  datetime64[ns]\n",
    "Died = pd.to_datetime(df['Died'] , format=\"%Y-%m-%d\")\n",
    "Died # datetime64[ns]\n",
    "(Died - Born) / 365"
   ]
  },
  {
   "cell_type": "code",
   "execution_count": 426,
   "id": "9305ae68-13c5-4181-8b86-27e3731ead83",
   "metadata": {},
   "outputs": [
    {
     "data": {
      "text/html": [
       "<div>\n",
       "<style scoped>\n",
       "    .dataframe tbody tr th:only-of-type {\n",
       "        vertical-align: middle;\n",
       "    }\n",
       "\n",
       "    .dataframe tbody tr th {\n",
       "        vertical-align: top;\n",
       "    }\n",
       "\n",
       "    .dataframe thead th {\n",
       "        text-align: right;\n",
       "    }\n",
       "</style>\n",
       "<table border=\"1\" class=\"dataframe\">\n",
       "  <thead>\n",
       "    <tr style=\"text-align: right;\">\n",
       "      <th></th>\n",
       "      <th>Name</th>\n",
       "      <th>Born</th>\n",
       "      <th>Died</th>\n",
       "      <th>Age</th>\n",
       "      <th>Occupation</th>\n",
       "      <th>age_days_dt</th>\n",
       "      <th>Died_dt</th>\n",
       "      <th>Born_dt</th>\n",
       "    </tr>\n",
       "  </thead>\n",
       "  <tbody>\n",
       "    <tr>\n",
       "      <th>0</th>\n",
       "      <td>Rosaline Franklin</td>\n",
       "      <td>1920-07-25</td>\n",
       "      <td>1958-04-16</td>\n",
       "      <td>37</td>\n",
       "      <td>Chemist</td>\n",
       "      <td>37 days 18:00:59.178082191</td>\n",
       "      <td>1958-04-16</td>\n",
       "      <td>1920-07-25</td>\n",
       "    </tr>\n",
       "    <tr>\n",
       "      <th>1</th>\n",
       "      <td>William Gosset</td>\n",
       "      <td>1876-06-13</td>\n",
       "      <td>1937-10-16</td>\n",
       "      <td>61</td>\n",
       "      <td>Statistician</td>\n",
       "      <td>61 days 09:08:23.013698630</td>\n",
       "      <td>1937-10-16</td>\n",
       "      <td>1876-06-13</td>\n",
       "    </tr>\n",
       "    <tr>\n",
       "      <th>2</th>\n",
       "      <td>Florence Nightingale</td>\n",
       "      <td>1820-05-12</td>\n",
       "      <td>1910-08-13</td>\n",
       "      <td>90</td>\n",
       "      <td>Nurse</td>\n",
       "      <td>90 days 07:29:45.205479452</td>\n",
       "      <td>1910-08-13</td>\n",
       "      <td>1820-05-12</td>\n",
       "    </tr>\n",
       "    <tr>\n",
       "      <th>3</th>\n",
       "      <td>Marie Curie</td>\n",
       "      <td>1867-11-07</td>\n",
       "      <td>1934-07-04</td>\n",
       "      <td>66</td>\n",
       "      <td>Chemist</td>\n",
       "      <td>66 days 16:46:01.643835616</td>\n",
       "      <td>1934-07-04</td>\n",
       "      <td>1867-11-07</td>\n",
       "    </tr>\n",
       "    <tr>\n",
       "      <th>4</th>\n",
       "      <td>Rachel Carson</td>\n",
       "      <td>1907-05-27</td>\n",
       "      <td>1964-04-14</td>\n",
       "      <td>56</td>\n",
       "      <td>Biologist</td>\n",
       "      <td>56 days 22:09:32.054794520</td>\n",
       "      <td>1964-04-14</td>\n",
       "      <td>1907-05-27</td>\n",
       "    </tr>\n",
       "    <tr>\n",
       "      <th>5</th>\n",
       "      <td>John Snow</td>\n",
       "      <td>1813-03-15</td>\n",
       "      <td>1858-06-16</td>\n",
       "      <td>45</td>\n",
       "      <td>Physician</td>\n",
       "      <td>45 days 06:50:18.082191780</td>\n",
       "      <td>1858-06-16</td>\n",
       "      <td>1813-03-15</td>\n",
       "    </tr>\n",
       "    <tr>\n",
       "      <th>6</th>\n",
       "      <td>Alan Turing</td>\n",
       "      <td>1912-06-23</td>\n",
       "      <td>1954-06-07</td>\n",
       "      <td>41</td>\n",
       "      <td>Computer Scientist</td>\n",
       "      <td>41 days 23:36:19.726027397</td>\n",
       "      <td>1954-06-07</td>\n",
       "      <td>1912-06-23</td>\n",
       "    </tr>\n",
       "    <tr>\n",
       "      <th>7</th>\n",
       "      <td>Johann Gauss</td>\n",
       "      <td>1777-04-30</td>\n",
       "      <td>1855-02-23</td>\n",
       "      <td>77</td>\n",
       "      <td>Mathematician</td>\n",
       "      <td>77 days 20:50:37.808219178</td>\n",
       "      <td>1855-02-23</td>\n",
       "      <td>1777-04-30</td>\n",
       "    </tr>\n",
       "  </tbody>\n",
       "</table>\n",
       "</div>"
      ],
      "text/plain": [
       "                   Name        Born        Died  Age          Occupation  \\\n",
       "0     Rosaline Franklin  1920-07-25  1958-04-16   37             Chemist   \n",
       "1        William Gosset  1876-06-13  1937-10-16   61        Statistician   \n",
       "2  Florence Nightingale  1820-05-12  1910-08-13   90               Nurse   \n",
       "3           Marie Curie  1867-11-07  1934-07-04   66             Chemist   \n",
       "4         Rachel Carson  1907-05-27  1964-04-14   56           Biologist   \n",
       "5             John Snow  1813-03-15  1858-06-16   45           Physician   \n",
       "6           Alan Turing  1912-06-23  1954-06-07   41  Computer Scientist   \n",
       "7          Johann Gauss  1777-04-30  1855-02-23   77       Mathematician   \n",
       "\n",
       "                 age_days_dt    Died_dt    Born_dt  \n",
       "0 37 days 18:00:59.178082191 1958-04-16 1920-07-25  \n",
       "1 61 days 09:08:23.013698630 1937-10-16 1876-06-13  \n",
       "2 90 days 07:29:45.205479452 1910-08-13 1820-05-12  \n",
       "3 66 days 16:46:01.643835616 1934-07-04 1867-11-07  \n",
       "4 56 days 22:09:32.054794520 1964-04-14 1907-05-27  \n",
       "5 45 days 06:50:18.082191780 1858-06-16 1813-03-15  \n",
       "6 41 days 23:36:19.726027397 1954-06-07 1912-06-23  \n",
       "7 77 days 20:50:37.808219178 1855-02-23 1777-04-30  "
      ]
     },
     "execution_count": 426,
     "metadata": {},
     "output_type": "execute_result"
    }
   ],
   "source": [
    "dic = {0:'이',1:'숭'}\n",
    "dic[0] = '박'\n",
    "dic\n",
    "dic[3] = '무'\n",
    "dic\n",
    "df\n",
    "df['age_days_dt'] = (Died - Born) / 365\n",
    "df\n",
    "df['Died_dt'] , df['Born_dt'] = Died, Born\n",
    "df"
   ]
  },
  {
   "cell_type": "code",
   "execution_count": 434,
   "id": "48c653f1-52ae-4a7b-82aa-700c706914bb",
   "metadata": {
    "scrolled": true
   },
   "outputs": [
    {
     "data": {
      "text/html": [
       "<div>\n",
       "<style scoped>\n",
       "    .dataframe tbody tr th:only-of-type {\n",
       "        vertical-align: middle;\n",
       "    }\n",
       "\n",
       "    .dataframe tbody tr th {\n",
       "        vertical-align: top;\n",
       "    }\n",
       "\n",
       "    .dataframe thead th {\n",
       "        text-align: right;\n",
       "    }\n",
       "</style>\n",
       "<table border=\"1\" class=\"dataframe\">\n",
       "  <thead>\n",
       "    <tr style=\"text-align: right;\">\n",
       "      <th></th>\n",
       "      <th>Name</th>\n",
       "      <th>Born</th>\n",
       "      <th>Died</th>\n",
       "      <th>Age</th>\n",
       "      <th>Occupation</th>\n",
       "      <th>age_days_dt</th>\n",
       "      <th>Died_dt</th>\n",
       "      <th>Born_dt</th>\n",
       "    </tr>\n",
       "  </thead>\n",
       "  <tbody>\n",
       "    <tr>\n",
       "      <th>0</th>\n",
       "      <td>Rosaline Franklin</td>\n",
       "      <td>1920-07-25</td>\n",
       "      <td>1958-04-16</td>\n",
       "      <td>37</td>\n",
       "      <td>Chemist</td>\n",
       "      <td>37 days 18:00:59.178082191</td>\n",
       "      <td>1958-04-16</td>\n",
       "      <td>1920-07-25</td>\n",
       "    </tr>\n",
       "    <tr>\n",
       "      <th>1</th>\n",
       "      <td>William Gosset</td>\n",
       "      <td>1876-06-13</td>\n",
       "      <td>1937-10-16</td>\n",
       "      <td>61</td>\n",
       "      <td>Statistician</td>\n",
       "      <td>61 days 09:08:23.013698630</td>\n",
       "      <td>1937-10-16</td>\n",
       "      <td>1876-06-13</td>\n",
       "    </tr>\n",
       "    <tr>\n",
       "      <th>2</th>\n",
       "      <td>Florence Nightingale</td>\n",
       "      <td>1820-05-12</td>\n",
       "      <td>1910-08-13</td>\n",
       "      <td>90</td>\n",
       "      <td>Nurse</td>\n",
       "      <td>90 days 07:29:45.205479452</td>\n",
       "      <td>1910-08-13</td>\n",
       "      <td>1820-05-12</td>\n",
       "    </tr>\n",
       "    <tr>\n",
       "      <th>3</th>\n",
       "      <td>Marie Curie</td>\n",
       "      <td>1867-11-07</td>\n",
       "      <td>1934-07-04</td>\n",
       "      <td>66</td>\n",
       "      <td>Chemist</td>\n",
       "      <td>66 days 16:46:01.643835616</td>\n",
       "      <td>1934-07-04</td>\n",
       "      <td>1867-11-07</td>\n",
       "    </tr>\n",
       "    <tr>\n",
       "      <th>4</th>\n",
       "      <td>Rachel Carson</td>\n",
       "      <td>1907-05-27</td>\n",
       "      <td>1964-04-14</td>\n",
       "      <td>56</td>\n",
       "      <td>Biologist</td>\n",
       "      <td>56 days 22:09:32.054794520</td>\n",
       "      <td>1964-04-14</td>\n",
       "      <td>1907-05-27</td>\n",
       "    </tr>\n",
       "    <tr>\n",
       "      <th>5</th>\n",
       "      <td>John Snow</td>\n",
       "      <td>1813-03-15</td>\n",
       "      <td>1858-06-16</td>\n",
       "      <td>45</td>\n",
       "      <td>Physician</td>\n",
       "      <td>45 days 06:50:18.082191780</td>\n",
       "      <td>1858-06-16</td>\n",
       "      <td>1813-03-15</td>\n",
       "    </tr>\n",
       "    <tr>\n",
       "      <th>6</th>\n",
       "      <td>Alan Turing</td>\n",
       "      <td>1912-06-23</td>\n",
       "      <td>1954-06-07</td>\n",
       "      <td>41</td>\n",
       "      <td>Computer Scientist</td>\n",
       "      <td>41 days 23:36:19.726027397</td>\n",
       "      <td>1954-06-07</td>\n",
       "      <td>1912-06-23</td>\n",
       "    </tr>\n",
       "    <tr>\n",
       "      <th>7</th>\n",
       "      <td>Johann Gauss</td>\n",
       "      <td>1777-04-30</td>\n",
       "      <td>1855-02-23</td>\n",
       "      <td>77</td>\n",
       "      <td>Mathematician</td>\n",
       "      <td>77 days 20:50:37.808219178</td>\n",
       "      <td>1855-02-23</td>\n",
       "      <td>1777-04-30</td>\n",
       "    </tr>\n",
       "  </tbody>\n",
       "</table>\n",
       "</div>"
      ],
      "text/plain": [
       "                   Name        Born        Died  Age          Occupation  \\\n",
       "0     Rosaline Franklin  1920-07-25  1958-04-16   37             Chemist   \n",
       "1        William Gosset  1876-06-13  1937-10-16   61        Statistician   \n",
       "2  Florence Nightingale  1820-05-12  1910-08-13   90               Nurse   \n",
       "3           Marie Curie  1867-11-07  1934-07-04   66             Chemist   \n",
       "4         Rachel Carson  1907-05-27  1964-04-14   56           Biologist   \n",
       "5             John Snow  1813-03-15  1858-06-16   45           Physician   \n",
       "6           Alan Turing  1912-06-23  1954-06-07   41  Computer Scientist   \n",
       "7          Johann Gauss  1777-04-30  1855-02-23   77       Mathematician   \n",
       "\n",
       "                 age_days_dt    Died_dt    Born_dt  \n",
       "0 37 days 18:00:59.178082191 1958-04-16 1920-07-25  \n",
       "1 61 days 09:08:23.013698630 1937-10-16 1876-06-13  \n",
       "2 90 days 07:29:45.205479452 1910-08-13 1820-05-12  \n",
       "3 66 days 16:46:01.643835616 1934-07-04 1867-11-07  \n",
       "4 56 days 22:09:32.054794520 1964-04-14 1907-05-27  \n",
       "5 45 days 06:50:18.082191780 1858-06-16 1813-03-15  \n",
       "6 41 days 23:36:19.726027397 1954-06-07 1912-06-23  \n",
       "7 77 days 20:50:37.808219178 1855-02-23 1777-04-30  "
      ]
     },
     "execution_count": 434,
     "metadata": {},
     "output_type": "execute_result"
    }
   ],
   "source": [
    "# DataFrame에서 열 삭제\n",
    "df_drop = df.drop(['age_days_dt'], axis= 1)\n",
    "df_drop\n",
    "df"
   ]
  },
  {
   "cell_type": "code",
   "execution_count": 437,
   "id": "d4d44bfc-8767-4e69-bcfe-ebe587a2871a",
   "metadata": {
    "scrolled": true
   },
   "outputs": [
    {
     "data": {
      "text/html": [
       "<div>\n",
       "<style scoped>\n",
       "    .dataframe tbody tr th:only-of-type {\n",
       "        vertical-align: middle;\n",
       "    }\n",
       "\n",
       "    .dataframe tbody tr th {\n",
       "        vertical-align: top;\n",
       "    }\n",
       "\n",
       "    .dataframe thead th {\n",
       "        text-align: right;\n",
       "    }\n",
       "</style>\n",
       "<table border=\"1\" class=\"dataframe\">\n",
       "  <thead>\n",
       "    <tr style=\"text-align: right;\">\n",
       "      <th></th>\n",
       "      <th>Name</th>\n",
       "      <th>Born</th>\n",
       "      <th>Died</th>\n",
       "      <th>Age</th>\n",
       "      <th>Occupation</th>\n",
       "      <th>age_days_dt</th>\n",
       "      <th>Died_dt</th>\n",
       "      <th>Born_dt</th>\n",
       "    </tr>\n",
       "  </thead>\n",
       "  <tbody>\n",
       "    <tr>\n",
       "      <th>1</th>\n",
       "      <td>William Gosset</td>\n",
       "      <td>1876-06-13</td>\n",
       "      <td>1937-10-16</td>\n",
       "      <td>61</td>\n",
       "      <td>Statistician</td>\n",
       "      <td>61 days 09:08:23.013698630</td>\n",
       "      <td>1937-10-16</td>\n",
       "      <td>1876-06-13</td>\n",
       "    </tr>\n",
       "    <tr>\n",
       "      <th>2</th>\n",
       "      <td>Florence Nightingale</td>\n",
       "      <td>1820-05-12</td>\n",
       "      <td>1910-08-13</td>\n",
       "      <td>90</td>\n",
       "      <td>Nurse</td>\n",
       "      <td>90 days 07:29:45.205479452</td>\n",
       "      <td>1910-08-13</td>\n",
       "      <td>1820-05-12</td>\n",
       "    </tr>\n",
       "    <tr>\n",
       "      <th>3</th>\n",
       "      <td>Marie Curie</td>\n",
       "      <td>1867-11-07</td>\n",
       "      <td>1934-07-04</td>\n",
       "      <td>66</td>\n",
       "      <td>Chemist</td>\n",
       "      <td>66 days 16:46:01.643835616</td>\n",
       "      <td>1934-07-04</td>\n",
       "      <td>1867-11-07</td>\n",
       "    </tr>\n",
       "    <tr>\n",
       "      <th>4</th>\n",
       "      <td>Rachel Carson</td>\n",
       "      <td>1907-05-27</td>\n",
       "      <td>1964-04-14</td>\n",
       "      <td>56</td>\n",
       "      <td>Biologist</td>\n",
       "      <td>56 days 22:09:32.054794520</td>\n",
       "      <td>1964-04-14</td>\n",
       "      <td>1907-05-27</td>\n",
       "    </tr>\n",
       "    <tr>\n",
       "      <th>5</th>\n",
       "      <td>John Snow</td>\n",
       "      <td>1813-03-15</td>\n",
       "      <td>1858-06-16</td>\n",
       "      <td>45</td>\n",
       "      <td>Physician</td>\n",
       "      <td>45 days 06:50:18.082191780</td>\n",
       "      <td>1858-06-16</td>\n",
       "      <td>1813-03-15</td>\n",
       "    </tr>\n",
       "    <tr>\n",
       "      <th>6</th>\n",
       "      <td>Alan Turing</td>\n",
       "      <td>1912-06-23</td>\n",
       "      <td>1954-06-07</td>\n",
       "      <td>41</td>\n",
       "      <td>Computer Scientist</td>\n",
       "      <td>41 days 23:36:19.726027397</td>\n",
       "      <td>1954-06-07</td>\n",
       "      <td>1912-06-23</td>\n",
       "    </tr>\n",
       "    <tr>\n",
       "      <th>7</th>\n",
       "      <td>Johann Gauss</td>\n",
       "      <td>1777-04-30</td>\n",
       "      <td>1855-02-23</td>\n",
       "      <td>77</td>\n",
       "      <td>Mathematician</td>\n",
       "      <td>77 days 20:50:37.808219178</td>\n",
       "      <td>1855-02-23</td>\n",
       "      <td>1777-04-30</td>\n",
       "    </tr>\n",
       "  </tbody>\n",
       "</table>\n",
       "</div>"
      ],
      "text/plain": [
       "                   Name        Born        Died  Age          Occupation  \\\n",
       "1        William Gosset  1876-06-13  1937-10-16   61        Statistician   \n",
       "2  Florence Nightingale  1820-05-12  1910-08-13   90               Nurse   \n",
       "3           Marie Curie  1867-11-07  1934-07-04   66             Chemist   \n",
       "4         Rachel Carson  1907-05-27  1964-04-14   56           Biologist   \n",
       "5             John Snow  1813-03-15  1858-06-16   45           Physician   \n",
       "6           Alan Turing  1912-06-23  1954-06-07   41  Computer Scientist   \n",
       "7          Johann Gauss  1777-04-30  1855-02-23   77       Mathematician   \n",
       "\n",
       "                 age_days_dt    Died_dt    Born_dt  \n",
       "1 61 days 09:08:23.013698630 1937-10-16 1876-06-13  \n",
       "2 90 days 07:29:45.205479452 1910-08-13 1820-05-12  \n",
       "3 66 days 16:46:01.643835616 1934-07-04 1867-11-07  \n",
       "4 56 days 22:09:32.054794520 1964-04-14 1907-05-27  \n",
       "5 45 days 06:50:18.082191780 1858-06-16 1813-03-15  \n",
       "6 41 days 23:36:19.726027397 1954-06-07 1912-06-23  \n",
       "7 77 days 20:50:37.808219178 1855-02-23 1777-04-30  "
      ]
     },
     "execution_count": 437,
     "metadata": {},
     "output_type": "execute_result"
    }
   ],
   "source": [
    "# DataFrame에서 행 삭제\n",
    "df_drop_row = df.drop([0], axis = 0) \n",
    "# 열이 모여 행이된 것이므로 열들을 삭제 하는것이 행을 삭제하는 것이므로 열기준이어야 한다.\n",
    "df_drop_row"
   ]
  },
  {
   "cell_type": "code",
   "execution_count": 440,
   "id": "140d671b-a074-4450-98b7-13610e0f4f57",
   "metadata": {},
   "outputs": [
    {
     "data": {
      "text/html": [
       "<div>\n",
       "<style scoped>\n",
       "    .dataframe tbody tr th:only-of-type {\n",
       "        vertical-align: middle;\n",
       "    }\n",
       "\n",
       "    .dataframe tbody tr th {\n",
       "        vertical-align: top;\n",
       "    }\n",
       "\n",
       "    .dataframe thead th {\n",
       "        text-align: right;\n",
       "    }\n",
       "</style>\n",
       "<table border=\"1\" class=\"dataframe\">\n",
       "  <thead>\n",
       "    <tr style=\"text-align: right;\">\n",
       "      <th></th>\n",
       "      <th>Name</th>\n",
       "      <th>Born</th>\n",
       "      <th>Died</th>\n",
       "      <th>Age</th>\n",
       "      <th>Occupation</th>\n",
       "      <th>age_days_dt</th>\n",
       "      <th>Died_dt</th>\n",
       "      <th>Born_dt</th>\n",
       "    </tr>\n",
       "  </thead>\n",
       "  <tbody>\n",
       "    <tr>\n",
       "      <th>1</th>\n",
       "      <td>William Gosset</td>\n",
       "      <td>1876-06-13</td>\n",
       "      <td>1937-10-16</td>\n",
       "      <td>61</td>\n",
       "      <td>Statistician</td>\n",
       "      <td>61 days 09:08:23.013698630</td>\n",
       "      <td>1937-10-16</td>\n",
       "      <td>1876-06-13</td>\n",
       "    </tr>\n",
       "    <tr>\n",
       "      <th>2</th>\n",
       "      <td>Florence Nightingale</td>\n",
       "      <td>1820-05-12</td>\n",
       "      <td>1910-08-13</td>\n",
       "      <td>90</td>\n",
       "      <td>Nurse</td>\n",
       "      <td>90 days 07:29:45.205479452</td>\n",
       "      <td>1910-08-13</td>\n",
       "      <td>1820-05-12</td>\n",
       "    </tr>\n",
       "    <tr>\n",
       "      <th>4</th>\n",
       "      <td>Rachel Carson</td>\n",
       "      <td>1907-05-27</td>\n",
       "      <td>1964-04-14</td>\n",
       "      <td>56</td>\n",
       "      <td>Biologist</td>\n",
       "      <td>56 days 22:09:32.054794520</td>\n",
       "      <td>1964-04-14</td>\n",
       "      <td>1907-05-27</td>\n",
       "    </tr>\n",
       "    <tr>\n",
       "      <th>6</th>\n",
       "      <td>Alan Turing</td>\n",
       "      <td>1912-06-23</td>\n",
       "      <td>1954-06-07</td>\n",
       "      <td>41</td>\n",
       "      <td>Computer Scientist</td>\n",
       "      <td>41 days 23:36:19.726027397</td>\n",
       "      <td>1954-06-07</td>\n",
       "      <td>1912-06-23</td>\n",
       "    </tr>\n",
       "    <tr>\n",
       "      <th>7</th>\n",
       "      <td>Johann Gauss</td>\n",
       "      <td>1777-04-30</td>\n",
       "      <td>1855-02-23</td>\n",
       "      <td>77</td>\n",
       "      <td>Mathematician</td>\n",
       "      <td>77 days 20:50:37.808219178</td>\n",
       "      <td>1855-02-23</td>\n",
       "      <td>1777-04-30</td>\n",
       "    </tr>\n",
       "  </tbody>\n",
       "</table>\n",
       "</div>"
      ],
      "text/plain": [
       "                   Name        Born        Died  Age          Occupation  \\\n",
       "1        William Gosset  1876-06-13  1937-10-16   61        Statistician   \n",
       "2  Florence Nightingale  1820-05-12  1910-08-13   90               Nurse   \n",
       "4         Rachel Carson  1907-05-27  1964-04-14   56           Biologist   \n",
       "6           Alan Turing  1912-06-23  1954-06-07   41  Computer Scientist   \n",
       "7          Johann Gauss  1777-04-30  1855-02-23   77       Mathematician   \n",
       "\n",
       "                 age_days_dt    Died_dt    Born_dt  \n",
       "1 61 days 09:08:23.013698630 1937-10-16 1876-06-13  \n",
       "2 90 days 07:29:45.205479452 1910-08-13 1820-05-12  \n",
       "4 56 days 22:09:32.054794520 1964-04-14 1907-05-27  \n",
       "6 41 days 23:36:19.726027397 1954-06-07 1912-06-23  \n",
       "7 77 days 20:50:37.808219178 1855-02-23 1777-04-30  "
      ]
     },
     "execution_count": 440,
     "metadata": {},
     "output_type": "execute_result"
    }
   ],
   "source": [
    "df_drop_rows = df.drop([0, 3,5] , axis = 0)\n",
    "df_drop_rows"
   ]
  },
  {
   "cell_type": "code",
   "execution_count": 441,
   "id": "108e2acb-a0e1-49ed-bde9-544eb7398b36",
   "metadata": {},
   "outputs": [
    {
     "data": {
      "text/plain": [
       "(    A   B   C   D\n",
       " 0  a0  b0  c0  d0\n",
       " 1  a1  b1  c1  d1\n",
       " 2  a2  b2  c2  d2\n",
       " 3  a3  b3  c3  d3,\n",
       "     A   B   C   D\n",
       " 0  a4  b4  c4  d4\n",
       " 1  a5  b5  c5  d5\n",
       " 2  a6  b6  c6  d6\n",
       " 3  a7  b7  c7  d7,\n",
       "      A    B    C    D\n",
       " 0   a8   b8   c8   d8\n",
       " 1   a9   b9   c9   d9\n",
       " 2  a10  b10  c10  d10\n",
       " 3  a11  b11  c11  d11)"
      ]
     },
     "execution_count": 441,
     "metadata": {},
     "output_type": "execute_result"
    }
   ],
   "source": [
    "#누락 값(NaN)처리\n",
    "df1 = pd.read_csv(\"https://raw.githubusercontent.com/SoongMoo/soldesk20231105/main/data/concat_1.csv\")\n",
    "df2 = pd.read_csv(\"https://raw.githubusercontent.com/SoongMoo/soldesk20231105/main/data/concat_2.csv\")\n",
    "df3 = pd.read_csv(\"https://raw.githubusercontent.com/SoongMoo/soldesk20231105/main/data/concat_3.csv\")\n",
    "df1, df2, df3"
   ]
  },
  {
   "cell_type": "code",
   "execution_count": 442,
   "id": "e2ba8a61-2834-4cd0-acf1-17edf11b1194",
   "metadata": {},
   "outputs": [
    {
     "data": {
      "text/html": [
       "<div>\n",
       "<style scoped>\n",
       "    .dataframe tbody tr th:only-of-type {\n",
       "        vertical-align: middle;\n",
       "    }\n",
       "\n",
       "    .dataframe tbody tr th {\n",
       "        vertical-align: top;\n",
       "    }\n",
       "\n",
       "    .dataframe thead th {\n",
       "        text-align: right;\n",
       "    }\n",
       "</style>\n",
       "<table border=\"1\" class=\"dataframe\">\n",
       "  <thead>\n",
       "    <tr style=\"text-align: right;\">\n",
       "      <th></th>\n",
       "      <th>A</th>\n",
       "      <th>B</th>\n",
       "      <th>C</th>\n",
       "      <th>D</th>\n",
       "    </tr>\n",
       "  </thead>\n",
       "  <tbody>\n",
       "    <tr>\n",
       "      <th>0</th>\n",
       "      <td>a0</td>\n",
       "      <td>b0</td>\n",
       "      <td>c0</td>\n",
       "      <td>d0</td>\n",
       "    </tr>\n",
       "    <tr>\n",
       "      <th>1</th>\n",
       "      <td>a1</td>\n",
       "      <td>b1</td>\n",
       "      <td>c1</td>\n",
       "      <td>d1</td>\n",
       "    </tr>\n",
       "    <tr>\n",
       "      <th>2</th>\n",
       "      <td>a2</td>\n",
       "      <td>b2</td>\n",
       "      <td>c2</td>\n",
       "      <td>d2</td>\n",
       "    </tr>\n",
       "    <tr>\n",
       "      <th>3</th>\n",
       "      <td>a3</td>\n",
       "      <td>b3</td>\n",
       "      <td>c3</td>\n",
       "      <td>d3</td>\n",
       "    </tr>\n",
       "    <tr>\n",
       "      <th>0</th>\n",
       "      <td>a4</td>\n",
       "      <td>b4</td>\n",
       "      <td>c4</td>\n",
       "      <td>d4</td>\n",
       "    </tr>\n",
       "    <tr>\n",
       "      <th>1</th>\n",
       "      <td>a5</td>\n",
       "      <td>b5</td>\n",
       "      <td>c5</td>\n",
       "      <td>d5</td>\n",
       "    </tr>\n",
       "    <tr>\n",
       "      <th>2</th>\n",
       "      <td>a6</td>\n",
       "      <td>b6</td>\n",
       "      <td>c6</td>\n",
       "      <td>d6</td>\n",
       "    </tr>\n",
       "    <tr>\n",
       "      <th>3</th>\n",
       "      <td>a7</td>\n",
       "      <td>b7</td>\n",
       "      <td>c7</td>\n",
       "      <td>d7</td>\n",
       "    </tr>\n",
       "    <tr>\n",
       "      <th>0</th>\n",
       "      <td>a8</td>\n",
       "      <td>b8</td>\n",
       "      <td>c8</td>\n",
       "      <td>d8</td>\n",
       "    </tr>\n",
       "    <tr>\n",
       "      <th>1</th>\n",
       "      <td>a9</td>\n",
       "      <td>b9</td>\n",
       "      <td>c9</td>\n",
       "      <td>d9</td>\n",
       "    </tr>\n",
       "    <tr>\n",
       "      <th>2</th>\n",
       "      <td>a10</td>\n",
       "      <td>b10</td>\n",
       "      <td>c10</td>\n",
       "      <td>d10</td>\n",
       "    </tr>\n",
       "    <tr>\n",
       "      <th>3</th>\n",
       "      <td>a11</td>\n",
       "      <td>b11</td>\n",
       "      <td>c11</td>\n",
       "      <td>d11</td>\n",
       "    </tr>\n",
       "  </tbody>\n",
       "</table>\n",
       "</div>"
      ],
      "text/plain": [
       "     A    B    C    D\n",
       "0   a0   b0   c0   d0\n",
       "1   a1   b1   c1   d1\n",
       "2   a2   b2   c2   d2\n",
       "3   a3   b3   c3   d3\n",
       "0   a4   b4   c4   d4\n",
       "1   a5   b5   c5   d5\n",
       "2   a6   b6   c6   d6\n",
       "3   a7   b7   c7   d7\n",
       "0   a8   b8   c8   d8\n",
       "1   a9   b9   c9   d9\n",
       "2  a10  b10  c10  d10\n",
       "3  a11  b11  c11  d11"
      ]
     },
     "execution_count": 442,
     "metadata": {},
     "output_type": "execute_result"
    }
   ],
   "source": [
    "row_concat = pd.concat([df1, df2, df3]) # axis=0\n",
    "row_concat  # 열이름이 같은 것끼리 연결"
   ]
  },
  {
   "cell_type": "code",
   "execution_count": 443,
   "id": "01aa638b-5781-4330-9b11-3f72e02c64d3",
   "metadata": {},
   "outputs": [
    {
     "data": {
      "text/html": [
       "<div>\n",
       "<style scoped>\n",
       "    .dataframe tbody tr th:only-of-type {\n",
       "        vertical-align: middle;\n",
       "    }\n",
       "\n",
       "    .dataframe tbody tr th {\n",
       "        vertical-align: top;\n",
       "    }\n",
       "\n",
       "    .dataframe thead th {\n",
       "        text-align: right;\n",
       "    }\n",
       "</style>\n",
       "<table border=\"1\" class=\"dataframe\">\n",
       "  <thead>\n",
       "    <tr style=\"text-align: right;\">\n",
       "      <th></th>\n",
       "      <th>A</th>\n",
       "      <th>B</th>\n",
       "      <th>C</th>\n",
       "      <th>D</th>\n",
       "      <th>A</th>\n",
       "      <th>B</th>\n",
       "      <th>C</th>\n",
       "      <th>D</th>\n",
       "      <th>A</th>\n",
       "      <th>B</th>\n",
       "      <th>C</th>\n",
       "      <th>D</th>\n",
       "    </tr>\n",
       "  </thead>\n",
       "  <tbody>\n",
       "    <tr>\n",
       "      <th>0</th>\n",
       "      <td>a0</td>\n",
       "      <td>b0</td>\n",
       "      <td>c0</td>\n",
       "      <td>d0</td>\n",
       "      <td>a4</td>\n",
       "      <td>b4</td>\n",
       "      <td>c4</td>\n",
       "      <td>d4</td>\n",
       "      <td>a8</td>\n",
       "      <td>b8</td>\n",
       "      <td>c8</td>\n",
       "      <td>d8</td>\n",
       "    </tr>\n",
       "    <tr>\n",
       "      <th>1</th>\n",
       "      <td>a1</td>\n",
       "      <td>b1</td>\n",
       "      <td>c1</td>\n",
       "      <td>d1</td>\n",
       "      <td>a5</td>\n",
       "      <td>b5</td>\n",
       "      <td>c5</td>\n",
       "      <td>d5</td>\n",
       "      <td>a9</td>\n",
       "      <td>b9</td>\n",
       "      <td>c9</td>\n",
       "      <td>d9</td>\n",
       "    </tr>\n",
       "    <tr>\n",
       "      <th>2</th>\n",
       "      <td>a2</td>\n",
       "      <td>b2</td>\n",
       "      <td>c2</td>\n",
       "      <td>d2</td>\n",
       "      <td>a6</td>\n",
       "      <td>b6</td>\n",
       "      <td>c6</td>\n",
       "      <td>d6</td>\n",
       "      <td>a10</td>\n",
       "      <td>b10</td>\n",
       "      <td>c10</td>\n",
       "      <td>d10</td>\n",
       "    </tr>\n",
       "    <tr>\n",
       "      <th>3</th>\n",
       "      <td>a3</td>\n",
       "      <td>b3</td>\n",
       "      <td>c3</td>\n",
       "      <td>d3</td>\n",
       "      <td>a7</td>\n",
       "      <td>b7</td>\n",
       "      <td>c7</td>\n",
       "      <td>d7</td>\n",
       "      <td>a11</td>\n",
       "      <td>b11</td>\n",
       "      <td>c11</td>\n",
       "      <td>d11</td>\n",
       "    </tr>\n",
       "  </tbody>\n",
       "</table>\n",
       "</div>"
      ],
      "text/plain": [
       "    A   B   C   D   A   B   C   D    A    B    C    D\n",
       "0  a0  b0  c0  d0  a4  b4  c4  d4   a8   b8   c8   d8\n",
       "1  a1  b1  c1  d1  a5  b5  c5  d5   a9   b9   c9   d9\n",
       "2  a2  b2  c2  d2  a6  b6  c6  d6  a10  b10  c10  d10\n",
       "3  a3  b3  c3  d3  a7  b7  c7  d7  a11  b11  c11  d11"
      ]
     },
     "execution_count": 443,
     "metadata": {},
     "output_type": "execute_result"
    }
   ],
   "source": [
    "# 행번호 기준\n",
    "col_concat = pd.concat([df1,df2,df3] ,axis = 1)\n",
    "col_concat # 행번호가 같은 것 끼리 연결"
   ]
  },
  {
   "cell_type": "code",
   "execution_count": null,
   "id": "de3bfc4a-c5e3-4c90-a981-9233cb6eb292",
   "metadata": {},
   "outputs": [],
   "source": [
    "df4 = pd.DataFrame({'A':['n1','n2','n3'],\n",
    "                    'C':['n11','n12','n13'],\n",
    "                    'E':['n21','n22','n23'],\n",
    "                    'F':['n31','n32','n33']},\n",
    "                     index=[0,2,4])\n",
    "df4"
   ]
  },
  {
   "cell_type": "code",
   "execution_count": null,
   "id": "cb6c151d-5a66-4ff5-8572-74c83846c6e0",
   "metadata": {},
   "outputs": [],
   "source": [
    "df1_df4_row_concat = pd.concat([df1, df4] ,axis=0)\n",
    "# 열 이름이 다르다면 브로드케팅이 된다. 결측치(NaN)가 만들어 진다.\n",
    "df1_df4_row_concat #  열이름이 같은 것 끼리 연결 "
   ]
  },
  {
   "cell_type": "code",
   "execution_count": null,
   "id": "86e583e6-1f06-4619-80f8-1432b5f840e4",
   "metadata": {},
   "outputs": [],
   "source": [
    "# 행번호가 같은 것끼리 연결\n",
    "df1_df4_col_concat  =  pd.concat([df1,df4] , axis= 1)\n",
    "df1_df4_col_concat \n",
    "# 행번호가 없는 경우 브로드케스트가 발생하여 결측치가 만들어진다."
   ]
  },
  {
   "cell_type": "code",
   "execution_count": null,
   "id": "18ff4737-4407-45fd-a65c-60c22abdc249",
   "metadata": {},
   "outputs": [],
   "source": [
    "# Series와 DataFrame을 합치기\n",
    "new_row_series = pd.Series(['n1', 'n2', 'n3', 'n4'])\n",
    "new_row_series, df1\n",
    "# 행이름이 같은 것끼리연결\n",
    "df1_series_col  = pd.concat([df1, new_row_series] , axis = 1)\n",
    "df1_series_col\n",
    "# 열이름이 같은 것끼리 연결\n",
    "df1_series_row = pd.concat([df1,new_row_series ] , axis = 0)\n",
    "df1_series_row"
   ]
  },
  {
   "cell_type": "code",
   "execution_count": null,
   "id": "3a8f2ae1-7ae9-49ee-aee6-cf2c926dfd2a",
   "metadata": {},
   "outputs": [],
   "source": [
    "## 행 1개로 구성된 데이터프레임 생성\n",
    "df5 = pd.DataFrame([['n1','n2','n3','n4']])\n",
    "df5 , df1\n",
    "# 행이름 기준으로 \n",
    "df1_df5_row = pd.concat([df1,df5 ], axis =1)\n",
    "df1_df5_row\n",
    "# 열이름 기준으로 \n",
    "df1_df5_col = pd.concat([df1,df5 ], axis =0)\n",
    "df1_df5_col"
   ]
  },
  {
   "cell_type": "code",
   "execution_count": null,
   "id": "62070266-1e92-4d62-830b-34e2413969f3",
   "metadata": {},
   "outputs": [],
   "source": [
    "df1,df2,df3\n",
    "df2.columns = ['E','F','G','H']\n",
    "df3.columns = ['A','C','F','H']\n",
    "df1,df2,df3"
   ]
  },
  {
   "cell_type": "code",
   "execution_count": null,
   "id": "1552bb43-4e47-4dc7-a092-f74e174a6dd3",
   "metadata": {},
   "outputs": [],
   "source": [
    "#열이름이 같은 것 끼리만 출력하고 열이름이 같지 않은 것은 제외시키자.\n",
    "# 누락값은 제외해서 출력\n",
    "row_concat2 = pd.concat([df1, df2, df3] , axis = 0)\n",
    "row_concat2\n",
    "row_concat2 = pd.concat([df1, df2, df3] , axis = 0, join = 'inner')\n",
    "row_concat2\n",
    "df6 = pd.concat([df1, df3] ,axis  =0 )\n",
    "df6\n",
    "df6 = pd.concat([df1, df3] ,axis  =0 , join = 'inner')\n",
    "df6\n",
    "df6 = pd.concat([df1, df3] ,axis  =0 , join = 'inner' , ignore_index=True)\n",
    "df6"
   ]
  },
  {
   "cell_type": "code",
   "execution_count": null,
   "id": "a2c4d5e6-8df8-4b1a-a48e-7f8b85b20ea1",
   "metadata": {},
   "outputs": [],
   "source": [
    "df2,df3\n",
    "df2.index = [4, 5, 6, 7]\n",
    "df3.index = [0, 2, 5, 7]\n",
    "df2,df3"
   ]
  },
  {
   "cell_type": "code",
   "execution_count": 472,
   "id": "1d0c4583-74b6-41d6-adab-3542ee543196",
   "metadata": {},
   "outputs": [
    {
     "data": {
      "text/html": [
       "<div>\n",
       "<style scoped>\n",
       "    .dataframe tbody tr th:only-of-type {\n",
       "        vertical-align: middle;\n",
       "    }\n",
       "\n",
       "    .dataframe tbody tr th {\n",
       "        vertical-align: top;\n",
       "    }\n",
       "\n",
       "    .dataframe thead th {\n",
       "        text-align: right;\n",
       "    }\n",
       "</style>\n",
       "<table border=\"1\" class=\"dataframe\">\n",
       "  <thead>\n",
       "    <tr style=\"text-align: right;\">\n",
       "      <th></th>\n",
       "      <th>0</th>\n",
       "      <th>1</th>\n",
       "      <th>2</th>\n",
       "      <th>3</th>\n",
       "      <th>4</th>\n",
       "      <th>5</th>\n",
       "      <th>6</th>\n",
       "      <th>7</th>\n",
       "    </tr>\n",
       "  </thead>\n",
       "  <tbody>\n",
       "    <tr>\n",
       "      <th>5</th>\n",
       "      <td>a5</td>\n",
       "      <td>b5</td>\n",
       "      <td>c5</td>\n",
       "      <td>d5</td>\n",
       "      <td>a10</td>\n",
       "      <td>b10</td>\n",
       "      <td>c10</td>\n",
       "      <td>d10</td>\n",
       "    </tr>\n",
       "    <tr>\n",
       "      <th>7</th>\n",
       "      <td>a7</td>\n",
       "      <td>b7</td>\n",
       "      <td>c7</td>\n",
       "      <td>d7</td>\n",
       "      <td>a11</td>\n",
       "      <td>b11</td>\n",
       "      <td>c11</td>\n",
       "      <td>d11</td>\n",
       "    </tr>\n",
       "  </tbody>\n",
       "</table>\n",
       "</div>"
      ],
      "text/plain": [
       "    0   1   2   3    4    5    6    7\n",
       "5  a5  b5  c5  d5  a10  b10  c10  d10\n",
       "7  a7  b7  c7  d7  a11  b11  c11  d11"
      ]
     },
     "execution_count": 472,
     "metadata": {},
     "output_type": "execute_result"
    }
   ],
   "source": [
    "df7 = pd.concat([df2,df3] , axis= 1 )\n",
    "df7\n",
    "df7 = pd.concat([df2,df3] , axis= 1, join = 'inner' )\n",
    "df7\n",
    "df7 = pd.concat([df2,df3] , axis= 1, join = 'inner',ignore_index=True )\n",
    "df7"
   ]
  },
  {
   "cell_type": "code",
   "execution_count": null,
   "id": "d7c3e8c1-15cd-4070-bc0a-6f0e96b07114",
   "metadata": {},
   "outputs": [],
   "source": []
  },
  {
   "cell_type": "code",
   "execution_count": null,
   "id": "64be6c49-0a13-47ab-bda9-8cb58d4e71bf",
   "metadata": {},
   "outputs": [],
   "source": []
  },
  {
   "cell_type": "code",
   "execution_count": null,
   "id": "4a0d6569-fa6c-44e5-9ff9-f21c24f3e9ce",
   "metadata": {},
   "outputs": [],
   "source": [
    "'''site와 name이 같다면 병합 \n",
    " 0    619   DR-1  1927-02-08  DR-1 -49.85 -128.57\n",
    " 1    622   DR-1  1927-02-10  DR-1 -49.85 -128.57\n",
    " 2    734   DR-3  1939-01-07  DR-3 -47.15 -126.72\n",
    " 3    735   DR-3  1930-01-12  DR-3 -47.15 -126.72\n",
    " 4    751   DR-3  1930-02-26  DR-3 -47.15 -126.72\n",
    " 5    752   DR-3         NaN  DR-3 -47.15 -126.72\n",
    " 6    837  MSK-4  1932-01-14  MSK-4 -48.87 -123.40,\n",
    " 7    844   DR-1  1932-03-22  MSK-4 -48.87 -123.40,\n",
    " \n",
    " select ident,   site,  dated, name,    lat,    long\n",
    " from site inner join  visited\n",
    " on site.name = visited.site       \n",
    "'''\n",
    "site, visited\n",
    "site_visited = site.merge(visited,left_on='name', right_on = 'site' )\n",
    "site_visited"
   ]
  },
  {
   "cell_type": "code",
   "execution_count": null,
   "id": "f5af5600-36b9-421f-a7e6-7eb60680785f",
   "metadata": {},
   "outputs": [],
   "source": [
    "person, survey\n",
    "'''\n",
    "select ident,  personal,  family, taken, person, quant , reading\n",
    "from person inner join survey\n",
    "on person.ident = survey.person\n",
    "'''\n",
    "person_survey = person.merge(survey, left_on = 'ident', right_on='person' )\n",
    "person_survey"
   ]
  },
  {
   "cell_type": "code",
   "execution_count": null,
   "id": "c1a011af-c59f-4a4d-8a90-6dc65ed1dd05",
   "metadata": {},
   "outputs": [],
   "source": [
    "'''\n",
    "select ident,  personal,  family, taken, person, quant , reading\n",
    "from person left outter join survey\n",
    "on person.ident = survey.person\n",
    "'''\n",
    "# 누락값을 더 출력\n",
    "person_survey = person.merge(survey, left_on = 'ident', right_on='person', how=\"right\")\n",
    "person_survey\n",
    "# how : left, right, inner, outer\n",
    "\n",
    "visited, survey\n",
    "visited_survey = visited.merge(survey, left_on = 'ident', right_on='taken')\n",
    "visited_survey"
   ]
  },
  {
   "cell_type": "code",
   "execution_count": null,
   "id": "338b5ef1-4772-4759-bc90-81bedd2181d0",
   "metadata": {},
   "outputs": [],
   "source": [
    "'''\n",
    "select v.ident,  v.site,   v.dated, v.taken, v.person, v.quant,  v.reading,\n",
    "       p.ident,   p.personal,   p.family,  p.taken, p.person, p.quant,  p/reading\n",
    "from visited_survey v join person_survey p\n",
    "on v.ident = p.person\n",
    "and v.taken =  p.ident\n",
    "and v.quant =p.quant\n",
    "and v.reading = p.reading\n",
    "'''\n",
    "visited_survey, person_survey\n",
    "ps_vs = person_survey.merge(visited_survey, left_on=[\"ident\",\"taken\",\"quant\",\"reading\"],\n",
    "                                           right_on=[\"person\",\"ident\",\"quant\",\"reading\"])\n",
    "ps_vs"
   ]
  },
  {
   "cell_type": "code",
   "execution_count": null,
   "id": "1e27a0bb-2fa4-4892-818c-5f8db47228a5",
   "metadata": {},
   "outputs": [],
   "source": [
    "from numpy import NaN, NAN, nan # null : 누락값 : 알 수 없는 값\n",
    "print(NaN == True)\n",
    "print(NAN == True)\n",
    "print(nan == True)"
   ]
  },
  {
   "cell_type": "code",
   "execution_count": null,
   "id": "3f7d192d-8170-4bfc-bdd1-fb376bac7899",
   "metadata": {},
   "outputs": [],
   "source": [
    "print(NaN == False)\n",
    "print(NAN == False)\n",
    "print(nan == False)"
   ]
  },
  {
   "cell_type": "code",
   "execution_count": null,
   "id": "363eccd9-4f65-4884-b2cd-0459dc8c7f62",
   "metadata": {},
   "outputs": [],
   "source": [
    "print(NaN == 0)\n",
    "print(NAN == '')\n",
    "print(nan == None)\n",
    "print(NaN == nan) # 값은 있으나 알 수 없는 값이라 같다라고 할 수 없다.\n",
    "print(nan == False)\n",
    "print(None == False)"
   ]
  },
  {
   "cell_type": "code",
   "execution_count": null,
   "id": "99cb4bdf-22b2-4b9a-89c8-e5a692b72c56",
   "metadata": {},
   "outputs": [],
   "source": [
    "print(pd.isnull(NaN))\n",
    "print(pd.isnull(30))\n",
    "print(pd.notnull(30))"
   ]
  },
  {
   "cell_type": "code",
   "execution_count": null,
   "id": "0e5576c0-d10a-4bcf-a5f9-7c7e71fb22a3",
   "metadata": {},
   "outputs": [],
   "source": [
    "site\n",
    "site.count()\n",
    "visited\n",
    "visited.count() # 갯수에는 NaN 이 포함되지 않는다.\n",
    "visited.shape\n",
    "visited.shape[0]\n",
    "visited_nan = visited.shape[0] - visited.count() \n",
    "visited_nan"
   ]
  },
  {
   "cell_type": "code",
   "execution_count": null,
   "id": "f341bb1a-c2da-4b9d-8fa6-2fd0a0a2541c",
   "metadata": {},
   "outputs": [],
   "source": [
    "num_legs = pd.Series({'a':4,'b':NaN})\n",
    "num_legs\n",
    "df_nan = pd.DataFrame({'Name':[NaN,'이숭무','이상범'],\n",
    "                       'Age':[50, NaN, 30],\n",
    "                       'Born':[NaN,'2002-10-09',NAN],\n",
    "                       'missing':[NAN,NAN,NAN]})\n",
    "df_nan"
   ]
  },
  {
   "cell_type": "code",
   "execution_count": null,
   "id": "48c5439b-9b7c-437a-8b07-a8f8a5c240ba",
   "metadata": {},
   "outputs": [],
   "source": [
    "df = pd.read_csv(\"https://raw.githubusercontent.com/SoongMoo/soldesk202302/main/data/gapminder.tsv\",sep=\"\\t\")\n",
    "df\n",
    "df.count()"
   ]
  },
  {
   "cell_type": "code",
   "execution_count": null,
   "id": "09cc54ab-7ade-4911-a122-78c0cfedf85e",
   "metadata": {},
   "outputs": [],
   "source": [
    "### 년도별 평균수명의 평균?\n",
    "life_Exp = df.groupby('year')['lifeExp'].mean()\n",
    "life_Exp = df.groupby('year').lifeExp.mean()\n",
    "life_Exp = df.groupby('year').mean().lifeExp\n",
    "life_Exp\n",
    "life_Exp[1957]\n",
    "life_Exp.index\n",
    "life_Exp[1982]"
   ]
  },
  {
   "cell_type": "code",
   "execution_count": null,
   "id": "45ff96a6-4ee5-4293-ac19-3fdb83ab8925",
   "metadata": {},
   "outputs": [],
   "source": [
    "#### 2000년도 이전의 평균 수명\n",
    "#### index에서 팬시  index를 만들어서 사용\n",
    "life_Exp.index < 2000\n",
    "life_Exp[life_Exp.index < 2000]\n",
    "#### 2000년도 이후의 평균 수명\n",
    "life_Exp.index >= 2000\n",
    "life_Exp[life_Exp.index >= 2000]"
   ]
  },
  {
   "cell_type": "code",
   "execution_count": null,
   "id": "93c8c501-a54f-4e0f-b9e6-32265790b8f0",
   "metadata": {},
   "outputs": [],
   "source": [
    "ebola = pd.read_csv(\"https://raw.githubusercontent.com/SoongMoo/soldesk202302/main/data/country_timeseries.csv\")\n",
    "ebola"
   ]
  },
  {
   "cell_type": "code",
   "execution_count": null,
   "id": "df5c9767-6c6c-4a76-aaac-24d9dccbbdf4",
   "metadata": {},
   "outputs": [],
   "source": [
    "### 누락 값에 갯수를 출력하시오\n",
    "ebola.shape # (122, 18)\n",
    "ebola.count()\n",
    "ebola.shape[0] - ebola.count()\n",
    "# 누락 값의 총 갯수\n",
    "import numpy as np\n",
    "print(np.count_nonzero(ebola.isnull()))\n",
    "print(122 * 18)\n",
    "ebola.count()\n",
    "ebola['Cases_Liberia'].isnull()\n",
    "np.count_nonzero(ebola['Cases_Liberia'].isnull())"
   ]
  },
  {
   "cell_type": "code",
   "execution_count": null,
   "id": "12c09fcf-1429-413b-81e7-22e3fc683d17",
   "metadata": {},
   "outputs": [],
   "source": [
    "#### 누락값이 있는 경우 특정 값으로 채우기\n",
    "### fillna()라는 함수를 이용해서  누락값을 대체\n",
    "ebola.iloc[0:10, 0:5]\n",
    "ebola.iloc[0:10, 0:5].fillna(0)\n",
    "ebola_fillna_0 = ebola.fillna(0)\n",
    "ebola_fillna_0\n",
    "np.count_nonzero(ebola_fillna_0.isnull())\n",
    "ebola_fillna_0.iloc[0:10, 0:5]\n",
    "ebola.iloc[0:10, 0:5].fillna(100)\n",
    "ebola_fillna_100 = ebola.fillna(100)\n",
    "ebola_fillna_100\n",
    "np.count_nonzero(ebola_fillna_100.isnull())"
   ]
  },
  {
   "cell_type": "code",
   "execution_count": null,
   "id": "cf6eb0b9-8bd0-4888-a71a-236f2c4ac92d",
   "metadata": {},
   "outputs": [],
   "source": [
    "# 누락값을 평균 값으로 변경\n",
    "ebola.mean()\n",
    "ebola_fillna_mean  = ebola.fillna(ebola.mean())\n",
    "ebola_fillna_mean\n",
    "ebola_fillna_mean.iloc[0:10, 0:5]\n",
    "ebola.iloc[0:10, 0:5]"
   ]
  },
  {
   "cell_type": "code",
   "execution_count": null,
   "id": "b7de5601-672a-4530-86b2-61859b4e6718",
   "metadata": {},
   "outputs": [],
   "source": [
    "#위 행에 있는 값으로 적용\n",
    "ebola.fillna(method='ffill').iloc[0:10,0:5]\n",
    "np.count_nonzero(ebola.fillna(method='ffill').isnull())\n",
    "ebola.iloc[0:10, 0:5]"
   ]
  },
  {
   "cell_type": "code",
   "execution_count": null,
   "id": "67dcf11d-8b77-493a-9e3a-de7657af4f4b",
   "metadata": {},
   "outputs": [],
   "source": [
    "ebola.fillna(method='bfill').iloc[0:10,0:5]\n",
    "np.count_nonzero(ebola.fillna(method='bfill').isnull())"
   ]
  },
  {
   "cell_type": "code",
   "execution_count": null,
   "id": "1620dd50-c8a1-4df3-9518-7a43595e27b8",
   "metadata": {},
   "outputs": [],
   "source": [
    "ebola.interpolate().iloc[0:10,0:5]\n",
    "np.count_nonzero(ebola.interpolate().isnull())"
   ]
  },
  {
   "cell_type": "code",
   "execution_count": null,
   "id": "a51dfe10-8852-4bd7-b0ca-c9099ea69890",
   "metadata": {},
   "outputs": [],
   "source": [
    "# 누락값을 가진 행을 모두 삭제\n",
    "ebola_drop = ebola.dropna()\n",
    "ebola_drop\n",
    "np.count_nonzero(ebola_drop.isnull())"
   ]
  },
  {
   "cell_type": "code",
   "execution_count": null,
   "id": "1dce239e-1a5e-4741-ae20-f261bd2458a3",
   "metadata": {},
   "outputs": [],
   "source": [
    "# Cases_Guinea라는 열의 nan이 있는 열의 행만 삭제\n",
    "ebola['Cases_Guinea'].count()\n",
    "ebola_drop_Cases_Guinea = ebola.dropna(subset=['Cases_Guinea'])\n",
    "ebola_drop_Cases_Guinea"
   ]
  },
  {
   "cell_type": "code",
   "execution_count": null,
   "id": "39fdee8d-1b3d-4aec-b464-bb993ce67d74",
   "metadata": {},
   "outputs": [],
   "source": [
    "### Cases_Guinea열에 대한 합계 값을 구하시오.\n",
    "print(ebola['Cases_Guinea'].count())  \n",
    "# 누락값을 제외한 나머지의 합계\n",
    "print(ebola['Cases_Guinea'].sum())\n",
    "print(ebola.Cases_Guinea.sum())\n",
    "# 누락값을 제외한 나머지의 평균\n",
    "print(ebola['Cases_Guinea'].mean())\n",
    "print(ebola.Cases_Guinea.mean())\n",
    "\n",
    "# 각 컬럼에 대한 합계값을 구하시오\n",
    "print(ebola.mean())\n",
    "print(ebola.sum())\n",
    "print(ebola.min())\n",
    "print(ebola.max())"
   ]
  },
  {
   "cell_type": "code",
   "execution_count": null,
   "id": "cf9ec72e-006f-4bd3-95cc-4a2a2deb867e",
   "metadata": {},
   "outputs": [],
   "source": [
    "###  누락값에 0으로 대체한 후 합계를 구하시오.\n",
    "print(ebola.fillna(0).sum())\n",
    "print(ebola.fillna(0).sum(skipna=True))\n",
    "#  누락값을 각 컬럼의 평균으로 대체한 후 합계값을 구하시오.\n",
    "print(ebola.fillna(ebola.mean()).sum())"
   ]
  },
  {
   "cell_type": "code",
   "execution_count": null,
   "id": "0b5d8519-8bff-48dc-8e09-a21b7196fb7b",
   "metadata": {},
   "outputs": [],
   "source": [
    "#### Cases_Guinea컬럼에 누락값을 0으로 대체한 후 합계값을 구하시오.\n",
    "print(ebola['Cases_Guinea'].fillna(0).sum())\n",
    "print(ebola.Cases_Guinea.fillna(0).sum())\n",
    "\n",
    "### Cases_Guinea컬럼에 누락값을 Cases_Guinea의 평균값으로 대체한 후 합계값을 구하시오.\n",
    "print(ebola['Cases_Guinea'].fillna(ebola.Cases_Guinea.mean()).sum())\n",
    "print(ebola.Cases_Guinea.fillna(ebola.Cases_Guinea.mean()).sum())"
   ]
  },
  {
   "cell_type": "code",
   "execution_count": null,
   "id": "43d440a9-36ca-4a6f-bd06-4f497d2ff5ca",
   "metadata": {},
   "outputs": [],
   "source": [
    "print(ebola['Cases_Guinea'])\n",
    "### 위아래 평균 값으로 대체한 후 합계 값을 구하시오.\n",
    "print(ebola['Cases_Guinea'].interpolate().sum())\n",
    "print(ebola.Cases_Guinea.interpolate().sum())"
   ]
  },
  {
   "cell_type": "code",
   "execution_count": null,
   "id": "61d189a2-7e2e-4741-8d3a-9bb8e765ee19",
   "metadata": {},
   "outputs": [],
   "source": []
  },
  {
   "cell_type": "code",
   "execution_count": null,
   "id": "84d4b2dd-f0cd-4112-8cb0-7e6d1a13519c",
   "metadata": {},
   "outputs": [],
   "source": []
  },
  {
   "cell_type": "code",
   "execution_count": null,
   "id": "bfff115c-5e66-4fdf-b599-54f7a2941ee3",
   "metadata": {},
   "outputs": [],
   "source": []
  },
  {
   "cell_type": "code",
   "execution_count": null,
   "id": "a5be30b7-f5e4-4685-a92f-caaf4f20217d",
   "metadata": {},
   "outputs": [],
   "source": []
  },
  {
   "cell_type": "code",
   "execution_count": null,
   "id": "dad05b58-0553-4820-9535-169b662bf301",
   "metadata": {},
   "outputs": [],
   "source": []
  },
  {
   "cell_type": "code",
   "execution_count": null,
   "id": "31abd931-3c64-4612-9ade-fb4eb9149480",
   "metadata": {},
   "outputs": [],
   "source": []
  }
 ],
 "metadata": {
  "kernelspec": {
   "display_name": "Python 3 (ipykernel)",
   "language": "python",
   "name": "python3"
  },
  "language_info": {
   "codemirror_mode": {
    "name": "ipython",
    "version": 3
   },
   "file_extension": ".py",
   "mimetype": "text/x-python",
   "name": "python",
   "nbconvert_exporter": "python",
   "pygments_lexer": "ipython3",
   "version": "3.12.0"
  }
 },
 "nbformat": 4,
 "nbformat_minor": 5
}
