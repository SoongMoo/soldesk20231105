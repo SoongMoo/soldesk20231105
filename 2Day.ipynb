{
 "cells": [
  {
   "cell_type": "code",
   "execution_count": 7,
   "id": "9496350c-23d3-4fff-a90f-9cf779a5f82d",
   "metadata": {},
   "outputs": [
    {
     "name": "stdout",
     "output_type": "stream",
     "text": [
      "10\n",
      "20\n",
      "10.5\n",
      "1.5\n",
      "이숭무\n",
      "10\n",
      "20\n"
     ]
    }
   ],
   "source": [
    "#자료형 : 기본자료형 : \n",
    "#            리터널 : 정수 : 10 \n",
    "#                    실수 : 10.5\n",
    "#                    문자 : \"a\", '이숭무' , \"10\"(문자) , \"10.5\"(문자) , y : 변수\n",
    "#       : 파이썬 : 리스트 : [] : 여러개의 값을 저장  : \n",
    "i = 10\n",
    "print(i)\n",
    "i = 20 # 한개 값만 저장한다는 단점\n",
    "print(i)\n",
    "f = 10.5\n",
    "print(f)\n",
    "f = 1.5\n",
    "print(f)\n",
    "str1 = \"이숭무\"\n",
    "print(str1)\n",
    "i1 = 10\n",
    "print(i1)\n",
    "print(i)"
   ]
  },
  {
   "cell_type": "code",
   "execution_count": 8,
   "id": "369359e5-2d0f-4fca-be83-76dbe8e3caaf",
   "metadata": {},
   "outputs": [
    {
     "name": "stdout",
     "output_type": "stream",
     "text": [
      "['Life', 'is', 'too', 'short']\n"
     ]
    }
   ],
   "source": [
    "str1 = \"Life is too short\"\n",
    "result = str1.split() \n",
    "print(result)"
   ]
  },
  {
   "cell_type": "code",
   "execution_count": 9,
   "id": "5169063d-d717-4b52-b81f-cd14e10d3efd",
   "metadata": {},
   "outputs": [
    {
     "name": "stdout",
     "output_type": "stream",
     "text": [
      "['Life', 'is', 'too', 'short']\n"
     ]
    }
   ],
   "source": [
    "l = ['Life', 'is', 'too', 'short']\n",
    "print(l)"
   ]
  },
  {
   "cell_type": "code",
   "execution_count": 10,
   "id": "079ed3c4-9ce9-44e9-a9ed-309253192e9f",
   "metadata": {},
   "outputs": [],
   "source": [
    "# 리스트 형식\n",
    "l = [] # 빈 리스트\n",
    "l = [1,2,3,4] #정수형 리스트\n",
    "l = [\"이숭무\", \"이상범\", \"이장범\"] # 문자열형 리스트\n",
    "l = [10, \"이숭무\", 10.5] #혼합형 리스트\n",
    "l = [10, \"이숭무\", 10.5,[1,2,3]] # 리스트를 포함한 혼합형 리스트\n",
    "l = [[1,2,3,4] , [5,6,7,8]] #리스트를 포함한 리스트"
   ]
  },
  {
   "cell_type": "code",
   "execution_count": 17,
   "id": "6ce75caa-136a-48a6-9209-8e19d07362b8",
   "metadata": {},
   "outputs": [
    {
     "name": "stdout",
     "output_type": "stream",
     "text": [
      "f\n",
      "이숭무\n",
      "이상범\n",
      "이장범\n",
      "L\n",
      "i\n",
      "f\n",
      "L\n",
      "i\n",
      "f\n",
      "이숭무\n",
      "이상범\n",
      "이장범\n"
     ]
    }
   ],
   "source": [
    "# indexing \n",
    "str1 = \"Life is too short\"\n",
    "#                 1\n",
    "#       01234567890123456\n",
    "#       11111111\n",
    "#      -76543210987654321\n",
    "print(str1[2])\n",
    "l = [\"이숭무\", \"이상범\", \"이장범\"] \n",
    "#       0         1         2 index\n",
    "#      -3         2         1\n",
    "print(l[0])\n",
    "print(l[1])\n",
    "print(l[2])\n",
    "print(str1[0])\n",
    "print(str1[1])\n",
    "print(str1[2])\n",
    "print(str1[-17])\n",
    "print(str1[-16])\n",
    "print(str1[-15])\n",
    "print(l[-3])\n",
    "print(l[-2])\n",
    "print(l[-1])"
   ]
  },
  {
   "cell_type": "code",
   "execution_count": 35,
   "id": "7e7b6026-e235-4aaf-90be-8b0696d1cb4f",
   "metadata": {},
   "outputs": [
    {
     "name": "stdout",
     "output_type": "stream",
     "text": [
      "1\n",
      "Life\n",
      "[3, 4, 5]\n",
      "[1]\n",
      "0.5\n",
      "30\n",
      "3\n",
      "Lifeis\n",
      "tootoo\n",
      "32\n",
      "130\n"
     ]
    }
   ],
   "source": [
    "l=[1 , 2 , 'Life' , 'is', [3,4,5] , 'too' , [1] , 0.5 , 'short', \"30\"]\n",
    "#    0   1    2       3      4        5     6     7       8      9  \n",
    "print(l[0]) # 정수\n",
    "print(l[2]) # 문자\n",
    "print(l[4]) # 리스트\n",
    "print(l[6]) # 리스트\n",
    "print(l[7]) # 실수\n",
    "print(l[9]) # 문자\n",
    "# 리스트를  indexing을 했더니 결과 값은 요소의 본연의 자료형으로 가져온다.\n",
    "print(l[0] + l[1])\n",
    "print(l[2] + l[3])\n",
    "print(l[5] * l[1])  # 자료형이 가진 연산자를 사용할 수 있다.\n",
    "print(l[1] +  int(l[9]))\n",
    "print(str(l[0]) + l[9] )"
   ]
  },
  {
   "cell_type": "code",
   "execution_count": 44,
   "id": "1a89e282-07ed-4190-bea7-93bee66f4ac2",
   "metadata": {},
   "outputs": [
    {
     "name": "stdout",
     "output_type": "stream",
     "text": [
      "[1, 2, 3, ['a', 'b', 'c']]\n",
      "['a', 'b', 'c']\n",
      "b\n",
      "b\n",
      "c\n",
      "b\n",
      "b\n"
     ]
    }
   ],
   "source": [
    "a = [1, 2, 3, ['a', 'b', 'c']]\n",
    "#    0  1  2         3\n",
    "#               0    1    2\n",
    "#   -4  3  2         1\n",
    "#              -3    2    1\n",
    "print(a)\n",
    "l1 = a[3]\n",
    "print(l1)  # ['a', 'b', 'c']\n",
    "#              0    1    2\n",
    "print(l1[1])\n",
    "print(a[3][1])\n",
    "print(a[3][2])\n",
    "\n",
    "print(a[-1][-2])\n",
    "print(a[3][-2])"
   ]
  },
  {
   "cell_type": "code",
   "execution_count": 49,
   "id": "07c380eb-c984-4911-a244-351fa3b01dc4",
   "metadata": {},
   "outputs": [
    {
     "name": "stdout",
     "output_type": "stream",
     "text": [
      "['a', 'b', ['life', 'is']]\n",
      "['a', 'b', ['life', 'is']]\n",
      "['life', 'is']\n",
      "life\n",
      "i\n"
     ]
    }
   ],
   "source": [
    "a = [1, 2, 3, ['a', 'b', ['life', 'is'] ] ]\n",
    "#    0  1  2             3\n",
    "#               0     1         2   \n",
    "#                            0      1\n",
    "print(a[3]) # ['a', 'b', ['life', 'is']]\n",
    "#               0    1         3\n",
    "b = a[3] \n",
    "print(b) # ['a', 'b', ['life', 'is']]\n",
    "#            0    1          2\n",
    "c  = b[2]  # ['life', 'is']\n",
    "#               0       1\n",
    "print(c) \n",
    "print(a[3][2][0]) # life : 문자\n",
    "#                   0123\n",
    "print(a[3][2][0][1]) # i"
   ]
  },
  {
   "cell_type": "code",
   "execution_count": 65,
   "id": "3ff5cc56-e66e-4c77-8fc5-53ae70e27f9e",
   "metadata": {},
   "outputs": [
    {
     "name": "stdout",
     "output_type": "stream",
     "text": [
      "Life\n",
      "too\n",
      "2\n",
      "[1, 2, 3]\n",
      "[2, 3, 4]\n",
      "[2, 3, 4]\n",
      "============================================================\n",
      "2\n",
      "[2, 3]\n",
      "3\n",
      "[3]\n",
      "7\n"
     ]
    }
   ],
   "source": [
    "# slicing\n",
    "str1 ='Life is too short'\n",
    "#      01234567890123456\n",
    "#                1\n",
    "print(str1[0:4])\n",
    "print(str1[8:8+3])\n",
    "l = [1, 2, 3, 4]\n",
    "#    0  1  2  3\n",
    "print(l[1])\n",
    "print(l[0:0+3])\n",
    "print(l[1:1+3])\n",
    "print(l[1:4])\n",
    "print(\"==\" * 30)\n",
    "print(l[1]) # indexing을 하는 경우에는  요소가지고 있는 자료형으로 출력\n",
    "print(l[1:1+2]) # slicing을 하면 리스트로 출력이 된다.\n",
    "print(l[2])\n",
    "print(l[2:2+1])\n",
    "\n",
    "print(l[2] + l[3])\n",
    "# print(l[2:2+1] + l[3])\n",
    "# print(int(l[2:2+1]) + l[3])"
   ]
  },
  {
   "cell_type": "code",
   "execution_count": 73,
   "id": "7497f456-b60a-4ba8-9316-710e57277ad1",
   "metadata": {},
   "outputs": [
    {
     "name": "stdout",
     "output_type": "stream",
     "text": [
      "['Life', 'is', 'too', 'short']\n",
      "Life\n",
      "is\n",
      "['is', 'too']\n",
      "['is']\n",
      "Lifeis\n"
     ]
    }
   ],
   "source": [
    "result = ['Life', 'is', 'too', 'short'] \n",
    "#           0      1       2      3\n",
    "print(result)\n",
    "print(result[0])\n",
    "print(result[1]) # indexing\n",
    "print(result[1: 1+2])\n",
    "print(result[1: 1+1]) # slicing\n",
    "print(result[0] + result[1])\n",
    "# print(result[1: 1+1] + result[0])"
   ]
  },
  {
   "cell_type": "code",
   "execution_count": 104,
   "id": "defb7b78-bb8e-44a9-991f-4ccd1fa73124",
   "metadata": {},
   "outputs": [
    {
     "name": "stdout",
     "output_type": "stream",
     "text": [
      "3\n",
      "Lifeis\n",
      "[1, 2]\n",
      "[1, 2, 3, 'Life', 'is', 'too']\n",
      "[4, 'Life', 'is']\n",
      "3\n",
      "[4, 'Life', 'is', 4, 'Life', 'is', 4, 'Life', 'is']\n",
      "Life is too short\n",
      "Life is too shor\n",
      "============================================================\n",
      "\n",
      "\n",
      "============================================================\n",
      "Life is too short\n",
      "============================================================\n",
      "trohs oot si efiL\n",
      "[1, 2, 3, 4, 'Life', 'is', 'too', 'short']\n",
      "[1, 2, 3, 4, 'Life', 'is', 'too', 'short']\n",
      "['short', 'too', 'is', 'Life', 4, 3, 2, 1]\n",
      "============================================================\n",
      "e is \n",
      " si e\n",
      "[4, 'Life', 'is', 'too', 'short']\n",
      "['short', 'too', 'is', 'Life', 4]\n"
     ]
    }
   ],
   "source": [
    "# 리스트의 연산자 : + , *\n",
    "l = [1,2,3,4,'Life', 'is', 'too', 'short']\n",
    "print(l[0] + l[1])\n",
    "print(l[4] + l[5])\n",
    "print(l[0:0+1] + l[1:1+1]) # [0] + [1] # 연결\n",
    "print(l[0:0+3] + l[4:4+3]) # [1,2,3] + ['Life', 'is', 'too']\n",
    "print(l[3:3+3])\n",
    "print(l[2])\n",
    "print(l[3:3+3] * l[2]) # 리스트 * 정수\n",
    "str1 = \"Life is too short\"\n",
    "#                     -21\n",
    "print(str1[0:])\n",
    "print(str1[0: -1])\n",
    "print(\"==\" * 30)\n",
    "print(str1[0: 0 + 0])\n",
    "print(str1[1: 1 + 0])\n",
    "print(\"==\" * 30)\n",
    "print(str1[:])\n",
    "print(\"==\" * 30)\n",
    "print(str1[::-1])\n",
    "print(l)\n",
    "print(l[:])\n",
    "print(l[::-1])\n",
    "print(\"==\" * 30)\n",
    "print(str1[3:8])\n",
    "print(str1[7:2:-1])\n",
    "print(l[3:8])  # [4, 'Life', 'is', 'too', 'short']\n",
    "print(l[7:2:-1]) # ['short', 'too', 'is', 'Life', 4]"
   ]
  },
  {
   "cell_type": "code",
   "execution_count": 111,
   "id": "4ab03c8b-9eab-4879-bf59-35abbf9446ed",
   "metadata": {},
   "outputs": [
    {
     "name": "stdout",
     "output_type": "stream",
     "text": [
      "y\n",
      "Life is too short\n",
      "Lyfe\n",
      "['Life', 'is', 'too', 'short']\n",
      "t\n",
      "short\n"
     ]
    }
   ],
   "source": [
    "str1 = 'Lyfe is too short'\n",
    "print(str1[1])\n",
    "# str1[1] = \"i\"\n",
    "str1 = str1.replace(\"Lyfe\", \"Life\")\n",
    "print(str1)\n",
    "c = ['Lyfe', 'is', 'too', 'short'] \n",
    "print(c[0])\n",
    "c[0] = \"Life\" # 리스트는  index를 이용해서 요소의 값을 변경할 수 있다.\n",
    "print(c)\n",
    "print(str1[len(str1) -1])\n",
    "print(c[len(c) -1])"
   ]
  },
  {
   "cell_type": "code",
   "execution_count": 125,
   "id": "1c0f8c9b-35e1-494a-92ad-6dd15b75909c",
   "metadata": {},
   "outputs": [
    {
     "name": "stdout",
     "output_type": "stream",
     "text": [
      "['Life', 'is', 'too']\n",
      "['Life', 'is', 'too']\n",
      "['Life', 'is', 'too', 'short']\n",
      "['Life', 'is', 'too', 'short', 3]\n",
      "['Life', 'short']\n",
      "['Life', 'is', 'short']\n",
      "['Life', 'is', 'too', 'short']\n",
      "[1, 2, 3, 4, 5, 6]\n",
      "[1, 2, 3, 4, 5, 6, 4, 5, 6]\n"
     ]
    }
   ],
   "source": [
    "# 리스트 함수\n",
    "# 리스트에 요소 추가 \n",
    "#append()\n",
    "l1 = ['Life','is']\n",
    "print(l1 + ['too'])\n",
    "l1 = l1 + ['too']\n",
    "print(l1)\n",
    "l1.append('short')\n",
    "print(l1)\n",
    "l1.append(3)\n",
    "print(l1)\n",
    "# 원하는 위치에 요소 삽입하기\n",
    "#insert\n",
    "l1 = ['Life','short']\n",
    "#       0      1\n",
    "print(l1)\n",
    "l1.insert(1, 'is')\n",
    "print(l1)\n",
    "l1.insert(2, 'too')\n",
    "print(l1)\n",
    "# extend\n",
    "a = [1,2,3]\n",
    "b = [4,5,6]\n",
    "a = a + b\n",
    "print(a)\n",
    "a.extend(b)\n",
    "print(a)"
   ]
  },
  {
   "cell_type": "code",
   "execution_count": 165,
   "id": "2957e502-50b2-44f7-8f87-c826ae96cab1",
   "metadata": {},
   "outputs": [
    {
     "name": "stdout",
     "output_type": "stream",
     "text": [
      "['Life', 'is', 'too', 'short']\n",
      "['Life', 'is', 'short']\n",
      "['Life']\n",
      "============================================================\n",
      "['Life', 'is', 'short']\n",
      "['Life', 'short']\n",
      "None\n",
      "['Life', 'is', 'too']\n",
      "short\n",
      "['Life', 'too']\n",
      "is\n"
     ]
    }
   ],
   "source": [
    "#요소 삭제\n",
    "l1 = ['Life', 'is', 'too', 'short']\n",
    "print(l1) # ['Life', 'is', 'too', 'short']\n",
    "#              0      1      2       3\n",
    "#index를 이용해서 삭제 : del\n",
    "del l1[2] # indexing\n",
    "print(l1)  # ['Life', 'is', 'short']\n",
    "del l1[1:1+2] # slicing\n",
    "print(l1)\n",
    "print(\"==\" * 30)\n",
    "# 요소를 이용해서 삭제 : remove\n",
    "l1 = ['Life', 'is', 'too', 'short']\n",
    "l1.remove(\"too\")\n",
    "print(l1)\n",
    "l1.remove(\"is\")\n",
    "print(l1)\n",
    "result = l1.remove(\"Life\") # 삭제만 한다.\n",
    "print(result) # None #삭제한 값을 알 수 없다.\n",
    "### 삭제한 값을 다시 받아오도록 : pop\n",
    "l1 = ['Life', 'is', 'too', 'short']\n",
    "#        0     1      2       3\n",
    "result = l1.pop() # 마지막요소 값을 가지고 오면서 삭제\n",
    "print(l1) # ['Life', 'is', 'too']\n",
    "print(result) # 'short'\n",
    "result = l1.pop(1) # index를 이용해서 요소 삭제\n",
    "print(l1) # ['Life', 'is']\n",
    "#              0       1\n",
    "print(result) \n",
    "# pop : 삭제 한 값을 알 수 있으므로 로또프로그램 : 비복원추출 프로그램을 만들 수 있다. \n",
    "# 주사위 : 복원추출\n",
    "# 리스트에서 요소삭제할 수 있는 명령어는 : \n",
    "# del, remove() # 삭제만 함 \n",
    "# pop() # 삭제한 값이 무엇인지 알려줌"
   ]
  },
  {
   "cell_type": "code",
   "execution_count": 190,
   "id": "26b27e34-0a53-4d03-ba86-844253d09227",
   "metadata": {},
   "outputs": [
    {
     "name": "stdout",
     "output_type": "stream",
     "text": [
      "[1, 2, 3, 4, 5]\n",
      "[5, 4, 3, 2, 1]\n",
      "['a', 'b', 'c']\n",
      "['c', 'b', 'a']\n",
      "['가', '나', '다']\n",
      "['a', 'b', 'c', '가', '나', '다']\n",
      "\n"
     ]
    }
   ],
   "source": [
    "# 정렬 -- 오름차순, 내림차순\n",
    "l = [4,2,5,1,3]\n",
    "# 오름차순\n",
    "l.sort()\n",
    "print(l)\n",
    "l = [4,2,5,1,3]\n",
    "# 내림차순\n",
    "l.sort(reverse=True)\n",
    "print(l)\n",
    "l = ['b','a','c']\n",
    "l.sort()\n",
    "print(l)\n",
    "l.sort(reverse=True)\n",
    "print(l)\n",
    "l = ['다','가','나']\n",
    "l.sort() # 사전\n",
    "print(l)\n",
    "l = ['b','a','c','다','가','나']\n",
    "l.sort() # 사전\n",
    "print(l)\n",
    "''' 주석\n",
    "l = ['b','a','c',3,1,2]\n",
    "l.sort() # 문자열과 숫자가 혼합된 리스트는 정렬 (x):\n",
    "print(l) \n",
    "'''\n",
    "print()"
   ]
  },
  {
   "cell_type": "code",
   "execution_count": 194,
   "id": "3dbca402-53ff-43eb-b137-0dcde33c79e4",
   "metadata": {},
   "outputs": [
    {
     "name": "stdout",
     "output_type": "stream",
     "text": [
      "['is', 'too', 'short']\n",
      "1\n",
      "3\n"
     ]
    }
   ],
   "source": [
    "print(l1)\n",
    "idx = l1.index('too') # 요소의 index를 가져옴\n",
    "print(idx)\n",
    "# idx = l1.find('too') # 'list' object has no attribute 'find'\n",
    "length = len(l1)\n",
    "print(length)"
   ]
  },
  {
   "cell_type": "code",
   "execution_count": 204,
   "id": "a5173af9-789f-49d9-bc03-83a92e7c9504",
   "metadata": {},
   "outputs": [
    {
     "name": "stdout",
     "output_type": "stream",
     "text": [
      "(1, 2, 3, 4, 5)\n",
      "[1, 2, 3, 4, 5]\n",
      "[1, 2, 3, 4]\n",
      "(1, 2, 3, 4)\n",
      "[1]\n",
      "21\n",
      "1\n",
      "(1,)\n",
      "(1, 2)\n"
     ]
    }
   ],
   "source": [
    "# 자료형 : \n",
    "#  정수 : 10\n",
    "#  실수 : 10.5 \n",
    "#  문자 : \"\", '', \"\"\"\"\"\", '''''';\n",
    "# 파이썬의 자료형\n",
    "#  리스트 : [] , [1], [10.5, 1.5] [1.2 ,'a']\n",
    "#  튜플 : (), (1,),  (10.5, 1.5) (1.2 ,'a')\n",
    "l = [1,2,3,4] # 리스트\n",
    "t = (1,2,3,4) # 튜플\n",
    "print((1,2,3,4,5))\n",
    "print([1,2,3,4,5])\n",
    "print(l)\n",
    "print(t)\n",
    "print([1])\n",
    "print(3 * (5 + 2)) # 21 ():최우선 연산자.\n",
    "print((1)) # 최우선 연산자\n",
    "print((1,)) #튜플 : 요소가 하나인 경우\n",
    "print((1,2))"
   ]
  },
  {
   "cell_type": "code",
   "execution_count": 207,
   "id": "6ffbecc9-0da4-45fe-a9a3-61e57117f021",
   "metadata": {},
   "outputs": [
    {
     "name": "stdout",
     "output_type": "stream",
     "text": [
      "(1, 2, 3, 4, 5, 6)\n",
      "[1, 2, 3, 1.2, 4.6, '이상범', '이장범', (1, 2, 34), [1, 2, 34]]\n"
     ]
    }
   ],
   "source": [
    "l = [] # 빈 리스트\n",
    "t = () #빈 튜플\n",
    "l = [1] #  요소가 하나인 리스트\n",
    "t = (1,) #  요소가 하나인 튜플\n",
    "l = [1,2,3,4,5,6] # 정수형 리스트\n",
    "t = (1,2,3,4,5) # 정수형 튜플\n",
    "t = (1.2, 4.6, 10.5) # 실수형 튜플\n",
    "t = (\"이숭무\", \"이상범\", \"이장범\") #문자형 튜플\n",
    "t = (1,2,3, 1.2, 4.6, \"이상범\", \"이장범\") # 혼합형 튜플\n",
    "t = (1,2,3, 1.2, 4.6, \"이상범\", \"이장범\", [1,2,34]) # 혼합형 튜플\n",
    "t = (1,2,3, 1.2, 4.6, \"이상범\", \"이장범\", (1,2,34) ) # 튜플을 포함한 튜플\n",
    "t = (1,2,3, 1.2, 4.6, \"이상범\", \"이장범\", (1,2,34), [1,2,34] )\n",
    "l = [1,2,3, 1.2, 4.6, \"이상범\", \"이장범\", (1,2,34), [1,2,34] ]\n",
    "\n",
    "t = 1,2,3,4,5,6 # 튜플을 만들 때 소괄호를 사용하지 않아도 된다.\n",
    "print(t)\n",
    "print(l)"
   ]
  },
  {
   "cell_type": "code",
   "execution_count": 230,
   "id": "37735da1-b3fb-425f-80c7-267f6f1a78b9",
   "metadata": {},
   "outputs": [
    {
     "name": "stdout",
     "output_type": "stream",
     "text": [
      "f\n",
      "too\n",
      "too\n",
      "fe is too short\n",
      "['too', 'short']\n",
      "('too', 'short')\n",
      "fe\n",
      "['too', 'short']\n",
      "('too', 'short')\n",
      "============================================================\n",
      "Life is too short\n",
      "f\n",
      "LiFe is too short\n",
      "['Life', 'is', 'too', 'short']\n",
      "Life\n",
      "['LiFe', 'is', 'too', 'short']\n",
      "('Life', 'is', 'too', 'short')\n",
      "Life\n"
     ]
    }
   ],
   "source": [
    "str1 = \"Life is too short\"\n",
    "#       01234567890123456\n",
    "#                 1\n",
    "print(str1[2])\n",
    "l1= ['Life','is', 'too', 'short']\n",
    "print(l1[2])\n",
    "t1= ('Life','is', 'too', 'short')\n",
    "print(t1[2])\n",
    "print(str1[2:])\n",
    "print(l1[2:])\n",
    "print(t1[2:])\n",
    "print(str1[2:2+2])\n",
    "print(l1[2:2+2])\n",
    "print(t1[2:2+2])\n",
    "\n",
    "print(\"==\" * 30)\n",
    "print(str1)\n",
    "print(str1[2])\n",
    "# str1[2] = 'F'\n",
    "str1 = str1.replace(\"Life\",\"LiFe\")\n",
    "print(str1)\n",
    "print(l1) # ['Life', 'is', 'too', 'short']\n",
    "print(l1[0])\n",
    "l1[0] = 'LiFe'\n",
    "print(l1)\n",
    "print(t1) # ('Life', 'is', 'too', 'short')\n",
    "print(t1[0]) # Life\n",
    "# t1[0] = 'LiFe'\n",
    "# 튜플과 리스트의 차이는 : 여러개의 값을 저장\n",
    "#리스트는 index를 이용해서 요소의 값을 변경할 수 있지만 \n",
    "#튜플은 index 를 이용해서 요소의 값을 변경 할 수 없다."
   ]
  },
  {
   "cell_type": "code",
   "execution_count": 236,
   "id": "951ef11b-f8cb-4d25-9966-ebb4ed0a3516",
   "metadata": {},
   "outputs": [
    {
     "name": "stdout",
     "output_type": "stream",
     "text": [
      "['is', 'too', 'short']\n",
      "('LiFe', 'is', 'too', 'short')\n",
      "1\n",
      "2\n",
      "3\n",
      "4\n"
     ]
    }
   ],
   "source": [
    "l1 = ['LiFe', 'is', 'too', 'short']\n",
    "del l1[0]\n",
    "print(l1)\n",
    "t1 = ('LiFe', 'is', 'too', 'short')\n",
    "#del t1[0]  # 'tuple' object doesn't support item deletion\n",
    "print(t1)\n",
    "#튜플은 한번 저장된 값을 변경하지 않게 하기 위해 만들어진 자료형\n",
    "print(l1.index(\"too\"))\n",
    "print(t1.index(\"too\"))\n",
    "print(len(l1))\n",
    "print(len(t1))"
   ]
  },
  {
   "cell_type": "code",
   "execution_count": null,
   "id": "f5d7e5bd-3d0b-4267-abeb-32b56fee58b6",
   "metadata": {},
   "outputs": [],
   "source": []
  },
  {
   "cell_type": "code",
   "execution_count": null,
   "id": "ff73112a-9e58-4bf1-bb95-90fe640c8f58",
   "metadata": {},
   "outputs": [],
   "source": []
  },
  {
   "cell_type": "code",
   "execution_count": null,
   "id": "b6ea5f20-9120-4b37-8d23-3e5a9c4f4964",
   "metadata": {},
   "outputs": [],
   "source": []
  },
  {
   "cell_type": "code",
   "execution_count": null,
   "id": "90045f7c-f71e-4c61-90e0-c4edef358017",
   "metadata": {},
   "outputs": [],
   "source": []
  },
  {
   "cell_type": "code",
   "execution_count": null,
   "id": "2f0cf068-f9d5-4eb8-801b-b8664469d9dd",
   "metadata": {},
   "outputs": [],
   "source": []
  },
  {
   "cell_type": "code",
   "execution_count": null,
   "id": "51426d20-4ad9-49fc-abfe-7c50005c4988",
   "metadata": {},
   "outputs": [],
   "source": []
  },
  {
   "cell_type": "code",
   "execution_count": null,
   "id": "7729e1e2-1d66-4518-b637-89c4efa5a8d8",
   "metadata": {},
   "outputs": [],
   "source": []
  },
  {
   "cell_type": "code",
   "execution_count": null,
   "id": "30f48a40-ad13-4e79-8c3b-a8bd828a3eeb",
   "metadata": {},
   "outputs": [],
   "source": []
  },
  {
   "cell_type": "code",
   "execution_count": null,
   "id": "2d383a9a-d9a9-4190-8626-ea0c16685efd",
   "metadata": {},
   "outputs": [],
   "source": []
  },
  {
   "cell_type": "code",
   "execution_count": null,
   "id": "164d2cb6-670a-4ca7-b61f-4fa6df401c67",
   "metadata": {},
   "outputs": [],
   "source": []
  }
 ],
 "metadata": {
  "kernelspec": {
   "display_name": "Python 3 (ipykernel)",
   "language": "python",
   "name": "python3"
  },
  "language_info": {
   "codemirror_mode": {
    "name": "ipython",
    "version": 3
   },
   "file_extension": ".py",
   "mimetype": "text/x-python",
   "name": "python",
   "nbconvert_exporter": "python",
   "pygments_lexer": "ipython3",
   "version": "3.12.0"
  }
 },
 "nbformat": 4,
 "nbformat_minor": 5
}
