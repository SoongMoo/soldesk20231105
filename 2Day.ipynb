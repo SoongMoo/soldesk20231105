{
 "cells": [
  {
   "cell_type": "code",
   "execution_count": 7,
   "id": "9496350c-23d3-4fff-a90f-9cf779a5f82d",
   "metadata": {},
   "outputs": [
    {
     "name": "stdout",
     "output_type": "stream",
     "text": [
      "10\n",
      "20\n",
      "10.5\n",
      "1.5\n",
      "이숭무\n",
      "10\n",
      "20\n"
     ]
    }
   ],
   "source": [
    "#자료형 : 기본자료형 : \n",
    "#            리터널 : 정수 : 10 \n",
    "#                    실수 : 10.5\n",
    "#                    문자 : \"a\", '이숭무' , \"10\"(문자) , \"10.5\"(문자) , y : 변수\n",
    "#       : 파이썬 : 리스트 : [] : 여러개의 값을 저장  : \n",
    "i = 10\n",
    "print(i)\n",
    "i = 20 # 한개 값만 저장한다는 단점\n",
    "print(i)\n",
    "f = 10.5\n",
    "print(f)\n",
    "f = 1.5\n",
    "print(f)\n",
    "str1 = \"이숭무\"\n",
    "print(str1)\n",
    "i1 = 10\n",
    "print(i1)\n",
    "print(i)"
   ]
  },
  {
   "cell_type": "code",
   "execution_count": 8,
   "id": "369359e5-2d0f-4fca-be83-76dbe8e3caaf",
   "metadata": {},
   "outputs": [
    {
     "name": "stdout",
     "output_type": "stream",
     "text": [
      "['Life', 'is', 'too', 'short']\n"
     ]
    }
   ],
   "source": [
    "str1 = \"Life is too short\"\n",
    "result = str1.split() \n",
    "print(result)"
   ]
  },
  {
   "cell_type": "code",
   "execution_count": 9,
   "id": "5169063d-d717-4b52-b81f-cd14e10d3efd",
   "metadata": {},
   "outputs": [
    {
     "name": "stdout",
     "output_type": "stream",
     "text": [
      "['Life', 'is', 'too', 'short']\n"
     ]
    }
   ],
   "source": [
    "l = ['Life', 'is', 'too', 'short']\n",
    "print(l)"
   ]
  },
  {
   "cell_type": "code",
   "execution_count": 10,
   "id": "079ed3c4-9ce9-44e9-a9ed-309253192e9f",
   "metadata": {},
   "outputs": [],
   "source": [
    "# 리스트 형식\n",
    "l = [] # 빈 리스트\n",
    "l = [1,2,3,4] #정수형 리스트\n",
    "l = [\"이숭무\", \"이상범\", \"이장범\"] # 문자열형 리스트\n",
    "l = [10, \"이숭무\", 10.5] #혼합형 리스트\n",
    "l = [10, \"이숭무\", 10.5,[1,2,3]] # 리스트를 포함한 혼합형 리스트\n",
    "l = [[1,2,3,4] , [5,6,7,8]] #리스트를 포함한 리스트"
   ]
  },
  {
   "cell_type": "code",
   "execution_count": 17,
   "id": "6ce75caa-136a-48a6-9209-8e19d07362b8",
   "metadata": {},
   "outputs": [
    {
     "name": "stdout",
     "output_type": "stream",
     "text": [
      "f\n",
      "이숭무\n",
      "이상범\n",
      "이장범\n",
      "L\n",
      "i\n",
      "f\n",
      "L\n",
      "i\n",
      "f\n",
      "이숭무\n",
      "이상범\n",
      "이장범\n"
     ]
    }
   ],
   "source": [
    "# indexing \n",
    "str1 = \"Life is too short\"\n",
    "#                 1\n",
    "#       01234567890123456\n",
    "#       11111111\n",
    "#      -76543210987654321\n",
    "print(str1[2])\n",
    "l = [\"이숭무\", \"이상범\", \"이장범\"] \n",
    "#       0         1         2 index\n",
    "#      -3         2         1\n",
    "print(l[0])\n",
    "print(l[1])\n",
    "print(l[2])\n",
    "print(str1[0])\n",
    "print(str1[1])\n",
    "print(str1[2])\n",
    "print(str1[-17])\n",
    "print(str1[-16])\n",
    "print(str1[-15])\n",
    "print(l[-3])\n",
    "print(l[-2])\n",
    "print(l[-1])"
   ]
  },
  {
   "cell_type": "code",
   "execution_count": 35,
   "id": "7e7b6026-e235-4aaf-90be-8b0696d1cb4f",
   "metadata": {},
   "outputs": [
    {
     "name": "stdout",
     "output_type": "stream",
     "text": [
      "1\n",
      "Life\n",
      "[3, 4, 5]\n",
      "[1]\n",
      "0.5\n",
      "30\n",
      "3\n",
      "Lifeis\n",
      "tootoo\n",
      "32\n",
      "130\n"
     ]
    }
   ],
   "source": [
    "l=[1 , 2 , 'Life' , 'is', [3,4,5] , 'too' , [1] , 0.5 , 'short', \"30\"]\n",
    "#    0   1    2       3      4        5     6     7       8      9  \n",
    "print(l[0]) # 정수\n",
    "print(l[2]) # 문자\n",
    "print(l[4]) # 리스트\n",
    "print(l[6]) # 리스트\n",
    "print(l[7]) # 실수\n",
    "print(l[9]) # 문자\n",
    "# 리스트를  indexing을 했더니 결과 값은 요소의 본연의 자료형으로 가져온다.\n",
    "print(l[0] + l[1])\n",
    "print(l[2] + l[3])\n",
    "print(l[5] * l[1])  # 자료형이 가진 연산자를 사용할 수 있다.\n",
    "print(l[1] +  int(l[9]))\n",
    "print(str(l[0]) + l[9] )"
   ]
  },
  {
   "cell_type": "code",
   "execution_count": 44,
   "id": "1a89e282-07ed-4190-bea7-93bee66f4ac2",
   "metadata": {},
   "outputs": [
    {
     "name": "stdout",
     "output_type": "stream",
     "text": [
      "[1, 2, 3, ['a', 'b', 'c']]\n",
      "['a', 'b', 'c']\n",
      "b\n",
      "b\n",
      "c\n",
      "b\n",
      "b\n"
     ]
    }
   ],
   "source": [
    "a = [1, 2, 3, ['a', 'b', 'c']]\n",
    "#    0  1  2         3\n",
    "#               0    1    2\n",
    "#   -4  3  2         1\n",
    "#              -3    2    1\n",
    "print(a)\n",
    "l1 = a[3]\n",
    "print(l1)  # ['a', 'b', 'c']\n",
    "#              0    1    2\n",
    "print(l1[1])\n",
    "print(a[3][1])\n",
    "print(a[3][2])\n",
    "\n",
    "print(a[-1][-2])\n",
    "print(a[3][-2])"
   ]
  },
  {
   "cell_type": "code",
   "execution_count": 49,
   "id": "07c380eb-c984-4911-a244-351fa3b01dc4",
   "metadata": {},
   "outputs": [
    {
     "name": "stdout",
     "output_type": "stream",
     "text": [
      "['a', 'b', ['life', 'is']]\n",
      "['a', 'b', ['life', 'is']]\n",
      "['life', 'is']\n",
      "life\n",
      "i\n"
     ]
    }
   ],
   "source": [
    "a = [1, 2, 3, ['a', 'b', ['life', 'is'] ] ]\n",
    "#    0  1  2             3\n",
    "#               0     1         2   \n",
    "#                            0      1\n",
    "print(a[3]) # ['a', 'b', ['life', 'is']]\n",
    "#               0    1         3\n",
    "b = a[3] \n",
    "print(b) # ['a', 'b', ['life', 'is']]\n",
    "#            0    1          2\n",
    "c  = b[2]  # ['life', 'is']\n",
    "#               0       1\n",
    "print(c) \n",
    "print(a[3][2][0]) # life : 문자\n",
    "#                   0123\n",
    "print(a[3][2][0][1]) # i"
   ]
  },
  {
   "cell_type": "code",
   "execution_count": 65,
   "id": "3ff5cc56-e66e-4c77-8fc5-53ae70e27f9e",
   "metadata": {},
   "outputs": [
    {
     "name": "stdout",
     "output_type": "stream",
     "text": [
      "Life\n",
      "too\n",
      "2\n",
      "[1, 2, 3]\n",
      "[2, 3, 4]\n",
      "[2, 3, 4]\n",
      "============================================================\n",
      "2\n",
      "[2, 3]\n",
      "3\n",
      "[3]\n",
      "7\n"
     ]
    }
   ],
   "source": [
    "# slicing\n",
    "str1 ='Life is too short'\n",
    "#      01234567890123456\n",
    "#                1\n",
    "print(str1[0:4])\n",
    "print(str1[8:8+3])\n",
    "l = [1, 2, 3, 4]\n",
    "#    0  1  2  3\n",
    "print(l[1])\n",
    "print(l[0:0+3])\n",
    "print(l[1:1+3])\n",
    "print(l[1:4])\n",
    "print(\"==\" * 30)\n",
    "print(l[1]) # indexing을 하는 경우에는  요소가지고 있는 자료형으로 출력\n",
    "print(l[1:1+2]) # slicing을 하면 리스트로 출력이 된다.\n",
    "print(l[2])\n",
    "print(l[2:2+1])\n",
    "\n",
    "print(l[2] + l[3])\n",
    "# print(l[2:2+1] + l[3])\n",
    "# print(int(l[2:2+1]) + l[3])"
   ]
  },
  {
   "cell_type": "code",
   "execution_count": 73,
   "id": "7497f456-b60a-4ba8-9316-710e57277ad1",
   "metadata": {},
   "outputs": [
    {
     "name": "stdout",
     "output_type": "stream",
     "text": [
      "['Life', 'is', 'too', 'short']\n",
      "Life\n",
      "is\n",
      "['is', 'too']\n",
      "['is']\n",
      "Lifeis\n"
     ]
    }
   ],
   "source": [
    "result = ['Life', 'is', 'too', 'short'] \n",
    "#           0      1       2      3\n",
    "print(result)\n",
    "print(result[0])\n",
    "print(result[1]) # indexing\n",
    "print(result[1: 1+2])\n",
    "print(result[1: 1+1]) # slicing\n",
    "print(result[0] + result[1])\n",
    "# print(result[1: 1+1] + result[0])"
   ]
  },
  {
   "cell_type": "code",
   "execution_count": 104,
   "id": "defb7b78-bb8e-44a9-991f-4ccd1fa73124",
   "metadata": {},
   "outputs": [
    {
     "name": "stdout",
     "output_type": "stream",
     "text": [
      "3\n",
      "Lifeis\n",
      "[1, 2]\n",
      "[1, 2, 3, 'Life', 'is', 'too']\n",
      "[4, 'Life', 'is']\n",
      "3\n",
      "[4, 'Life', 'is', 4, 'Life', 'is', 4, 'Life', 'is']\n",
      "Life is too short\n",
      "Life is too shor\n",
      "============================================================\n",
      "\n",
      "\n",
      "============================================================\n",
      "Life is too short\n",
      "============================================================\n",
      "trohs oot si efiL\n",
      "[1, 2, 3, 4, 'Life', 'is', 'too', 'short']\n",
      "[1, 2, 3, 4, 'Life', 'is', 'too', 'short']\n",
      "['short', 'too', 'is', 'Life', 4, 3, 2, 1]\n",
      "============================================================\n",
      "e is \n",
      " si e\n",
      "[4, 'Life', 'is', 'too', 'short']\n",
      "['short', 'too', 'is', 'Life', 4]\n"
     ]
    }
   ],
   "source": [
    "# 리스트의 연산자 : + , *\n",
    "l = [1,2,3,4,'Life', 'is', 'too', 'short']\n",
    "print(l[0] + l[1])\n",
    "print(l[4] + l[5])\n",
    "print(l[0:0+1] + l[1:1+1]) # [0] + [1] # 연결\n",
    "print(l[0:0+3] + l[4:4+3]) # [1,2,3] + ['Life', 'is', 'too']\n",
    "print(l[3:3+3])\n",
    "print(l[2])\n",
    "print(l[3:3+3] * l[2]) # 리스트 * 정수\n",
    "str1 = \"Life is too short\"\n",
    "#                     -21\n",
    "print(str1[0:])\n",
    "print(str1[0: -1])\n",
    "print(\"==\" * 30)\n",
    "print(str1[0: 0 + 0])\n",
    "print(str1[1: 1 + 0])\n",
    "print(\"==\" * 30)\n",
    "print(str1[:])\n",
    "print(\"==\" * 30)\n",
    "print(str1[::-1])\n",
    "print(l)\n",
    "print(l[:])\n",
    "print(l[::-1])\n",
    "print(\"==\" * 30)\n",
    "print(str1[3:8])\n",
    "print(str1[7:2:-1])\n",
    "print(l[3:8])  # [4, 'Life', 'is', 'too', 'short']\n",
    "print(l[7:2:-1]) # ['short', 'too', 'is', 'Life', 4]"
   ]
  },
  {
   "cell_type": "code",
   "execution_count": 111,
   "id": "4ab03c8b-9eab-4879-bf59-35abbf9446ed",
   "metadata": {},
   "outputs": [
    {
     "name": "stdout",
     "output_type": "stream",
     "text": [
      "y\n",
      "Life is too short\n",
      "Lyfe\n",
      "['Life', 'is', 'too', 'short']\n",
      "t\n",
      "short\n"
     ]
    }
   ],
   "source": [
    "str1 = 'Lyfe is too short'\n",
    "print(str1[1])\n",
    "# str1[1] = \"i\"\n",
    "str1 = str1.replace(\"Lyfe\", \"Life\")\n",
    "print(str1)\n",
    "c = ['Lyfe', 'is', 'too', 'short'] \n",
    "print(c[0])\n",
    "c[0] = \"Life\" # 리스트는  index를 이용해서 요소의 값을 변경할 수 있다.\n",
    "print(c)\n",
    "print(str1[len(str1) -1])\n",
    "print(c[len(c) -1])"
   ]
  },
  {
   "cell_type": "code",
   "execution_count": 125,
   "id": "1c0f8c9b-35e1-494a-92ad-6dd15b75909c",
   "metadata": {},
   "outputs": [
    {
     "name": "stdout",
     "output_type": "stream",
     "text": [
      "['Life', 'is', 'too']\n",
      "['Life', 'is', 'too']\n",
      "['Life', 'is', 'too', 'short']\n",
      "['Life', 'is', 'too', 'short', 3]\n",
      "['Life', 'short']\n",
      "['Life', 'is', 'short']\n",
      "['Life', 'is', 'too', 'short']\n",
      "[1, 2, 3, 4, 5, 6]\n",
      "[1, 2, 3, 4, 5, 6, 4, 5, 6]\n"
     ]
    }
   ],
   "source": [
    "# 리스트 함수\n",
    "# 리스트에 요소 추가 \n",
    "#append()\n",
    "l1 = ['Life','is']\n",
    "print(l1 + ['too'])\n",
    "l1 = l1 + ['too']\n",
    "print(l1)\n",
    "l1.append('short')\n",
    "print(l1)\n",
    "l1.append(3)\n",
    "print(l1)\n",
    "# 원하는 위치에 요소 삽입하기\n",
    "#insert\n",
    "l1 = ['Life','short']\n",
    "#       0      1\n",
    "print(l1)\n",
    "l1.insert(1, 'is')\n",
    "print(l1)\n",
    "l1.insert(2, 'too')\n",
    "print(l1)\n",
    "# extend\n",
    "a = [1,2,3]\n",
    "b = [4,5,6]\n",
    "a = a + b\n",
    "print(a)\n",
    "a.extend(b)\n",
    "print(a)"
   ]
  },
  {
   "cell_type": "code",
   "execution_count": 165,
   "id": "2957e502-50b2-44f7-8f87-c826ae96cab1",
   "metadata": {},
   "outputs": [
    {
     "name": "stdout",
     "output_type": "stream",
     "text": [
      "['Life', 'is', 'too', 'short']\n",
      "['Life', 'is', 'short']\n",
      "['Life']\n",
      "============================================================\n",
      "['Life', 'is', 'short']\n",
      "['Life', 'short']\n",
      "None\n",
      "['Life', 'is', 'too']\n",
      "short\n",
      "['Life', 'too']\n",
      "is\n"
     ]
    }
   ],
   "source": [
    "#요소 삭제\n",
    "l1 = ['Life', 'is', 'too', 'short']\n",
    "print(l1) # ['Life', 'is', 'too', 'short']\n",
    "#              0      1      2       3\n",
    "#index를 이용해서 삭제 : del\n",
    "del l1[2] # indexing\n",
    "print(l1)  # ['Life', 'is', 'short']\n",
    "del l1[1:1+2] # slicing\n",
    "print(l1)\n",
    "print(\"==\" * 30)\n",
    "# 요소를 이용해서 삭제 : remove\n",
    "l1 = ['Life', 'is', 'too', 'short']\n",
    "l1.remove(\"too\")\n",
    "print(l1)\n",
    "l1.remove(\"is\")\n",
    "print(l1)\n",
    "result = l1.remove(\"Life\") # 삭제만 한다.\n",
    "print(result) # None #삭제한 값을 알 수 없다.\n",
    "### 삭제한 값을 다시 받아오도록 : pop\n",
    "l1 = ['Life', 'is', 'too', 'short']\n",
    "#        0     1      2       3\n",
    "result = l1.pop() # 마지막요소 값을 가지고 오면서 삭제\n",
    "print(l1) # ['Life', 'is', 'too']\n",
    "print(result) # 'short'\n",
    "result = l1.pop(1) # index를 이용해서 요소 삭제\n",
    "print(l1) # ['Life', 'is']\n",
    "#              0       1\n",
    "print(result) \n",
    "# pop : 삭제 한 값을 알 수 있으므로 로또프로그램 : 비복원추출 프로그램을 만들 수 있다. \n",
    "# 주사위 : 복원추출\n",
    "# 리스트에서 요소삭제할 수 있는 명령어는 : \n",
    "# del, remove() # 삭제만 함 \n",
    "# pop() # 삭제한 값이 무엇인지 알려줌"
   ]
  },
  {
   "cell_type": "code",
   "execution_count": 190,
   "id": "26b27e34-0a53-4d03-ba86-844253d09227",
   "metadata": {},
   "outputs": [
    {
     "name": "stdout",
     "output_type": "stream",
     "text": [
      "[1, 2, 3, 4, 5]\n",
      "[5, 4, 3, 2, 1]\n",
      "['a', 'b', 'c']\n",
      "['c', 'b', 'a']\n",
      "['가', '나', '다']\n",
      "['a', 'b', 'c', '가', '나', '다']\n",
      "\n"
     ]
    }
   ],
   "source": [
    "# 정렬 -- 오름차순, 내림차순\n",
    "l = [4,2,5,1,3]\n",
    "# 오름차순\n",
    "l.sort()\n",
    "print(l)\n",
    "l = [4,2,5,1,3]\n",
    "# 내림차순\n",
    "l.sort(reverse=True)\n",
    "print(l)\n",
    "l = ['b','a','c']\n",
    "l.sort()\n",
    "print(l)\n",
    "l.sort(reverse=True)\n",
    "print(l)\n",
    "l = ['다','가','나']\n",
    "l.sort() # 사전\n",
    "print(l)\n",
    "l = ['b','a','c','다','가','나']\n",
    "l.sort() # 사전\n",
    "print(l)\n",
    "''' 주석\n",
    "l = ['b','a','c',3,1,2]\n",
    "l.sort() # 문자열과 숫자가 혼합된 리스트는 정렬 (x):\n",
    "print(l) \n",
    "'''\n",
    "print()"
   ]
  },
  {
   "cell_type": "code",
   "execution_count": 194,
   "id": "3dbca402-53ff-43eb-b137-0dcde33c79e4",
   "metadata": {},
   "outputs": [
    {
     "name": "stdout",
     "output_type": "stream",
     "text": [
      "['is', 'too', 'short']\n",
      "1\n",
      "3\n"
     ]
    }
   ],
   "source": [
    "print(l1)\n",
    "idx = l1.index('too') # 요소의 index를 가져옴\n",
    "print(idx)\n",
    "# idx = l1.find('too') # 'list' object has no attribute 'find'\n",
    "length = len(l1)\n",
    "print(length)"
   ]
  },
  {
   "cell_type": "code",
   "execution_count": 204,
   "id": "a5173af9-789f-49d9-bc03-83a92e7c9504",
   "metadata": {},
   "outputs": [
    {
     "name": "stdout",
     "output_type": "stream",
     "text": [
      "(1, 2, 3, 4, 5)\n",
      "[1, 2, 3, 4, 5]\n",
      "[1, 2, 3, 4]\n",
      "(1, 2, 3, 4)\n",
      "[1]\n",
      "21\n",
      "1\n",
      "(1,)\n",
      "(1, 2)\n"
     ]
    }
   ],
   "source": [
    "# 자료형 : \n",
    "#  정수 : 10\n",
    "#  실수 : 10.5 \n",
    "#  문자 : \"\", '', \"\"\"\"\"\", '''''';\n",
    "# 파이썬의 자료형\n",
    "#  리스트 : [] , [1], [10.5, 1.5] [1.2 ,'a']\n",
    "#  튜플 : (), (1,),  (10.5, 1.5) (1.2 ,'a')\n",
    "l = [1,2,3,4] # 리스트\n",
    "t = (1,2,3,4) # 튜플\n",
    "print((1,2,3,4,5))\n",
    "print([1,2,3,4,5])\n",
    "print(l)\n",
    "print(t)\n",
    "print([1])\n",
    "print(3 * (5 + 2)) # 21 ():최우선 연산자.\n",
    "print((1)) # 최우선 연산자\n",
    "print((1,)) #튜플 : 요소가 하나인 경우\n",
    "print((1,2))"
   ]
  },
  {
   "cell_type": "code",
   "execution_count": 207,
   "id": "6ffbecc9-0da4-45fe-a9a3-61e57117f021",
   "metadata": {},
   "outputs": [
    {
     "name": "stdout",
     "output_type": "stream",
     "text": [
      "(1, 2, 3, 4, 5, 6)\n",
      "[1, 2, 3, 1.2, 4.6, '이상범', '이장범', (1, 2, 34), [1, 2, 34]]\n"
     ]
    }
   ],
   "source": [
    "l = [] # 빈 리스트\n",
    "t = () #빈 튜플\n",
    "l = [1] #  요소가 하나인 리스트\n",
    "t = (1,) #  요소가 하나인 튜플\n",
    "l = [1,2,3,4,5,6] # 정수형 리스트\n",
    "t = (1,2,3,4,5) # 정수형 튜플\n",
    "t = (1.2, 4.6, 10.5) # 실수형 튜플\n",
    "t = (\"이숭무\", \"이상범\", \"이장범\") #문자형 튜플\n",
    "t = (1,2,3, 1.2, 4.6, \"이상범\", \"이장범\") # 혼합형 튜플\n",
    "t = (1,2,3, 1.2, 4.6, \"이상범\", \"이장범\", [1,2,34]) # 혼합형 튜플\n",
    "t = (1,2,3, 1.2, 4.6, \"이상범\", \"이장범\", (1,2,34) ) # 튜플을 포함한 튜플\n",
    "t = (1,2,3, 1.2, 4.6, \"이상범\", \"이장범\", (1,2,34), [1,2,34] )\n",
    "l = [1,2,3, 1.2, 4.6, \"이상범\", \"이장범\", (1,2,34), [1,2,34] ]\n",
    "\n",
    "t = 1,2,3,4,5,6 # 튜플을 만들 때 소괄호를 사용하지 않아도 된다.\n",
    "print(t)\n",
    "print(l)"
   ]
  },
  {
   "cell_type": "code",
   "execution_count": 230,
   "id": "37735da1-b3fb-425f-80c7-267f6f1a78b9",
   "metadata": {},
   "outputs": [
    {
     "name": "stdout",
     "output_type": "stream",
     "text": [
      "f\n",
      "too\n",
      "too\n",
      "fe is too short\n",
      "['too', 'short']\n",
      "('too', 'short')\n",
      "fe\n",
      "['too', 'short']\n",
      "('too', 'short')\n",
      "============================================================\n",
      "Life is too short\n",
      "f\n",
      "LiFe is too short\n",
      "['Life', 'is', 'too', 'short']\n",
      "Life\n",
      "['LiFe', 'is', 'too', 'short']\n",
      "('Life', 'is', 'too', 'short')\n",
      "Life\n"
     ]
    }
   ],
   "source": [
    "str1 = \"Life is too short\"\n",
    "#       01234567890123456\n",
    "#                 1\n",
    "print(str1[2])\n",
    "l1= ['Life','is', 'too', 'short']\n",
    "print(l1[2])\n",
    "t1= ('Life','is', 'too', 'short')\n",
    "print(t1[2])\n",
    "print(str1[2:])\n",
    "print(l1[2:])\n",
    "print(t1[2:])\n",
    "print(str1[2:2+2])\n",
    "print(l1[2:2+2])\n",
    "print(t1[2:2+2])\n",
    "\n",
    "print(\"==\" * 30)\n",
    "print(str1)\n",
    "print(str1[2])\n",
    "# str1[2] = 'F'\n",
    "str1 = str1.replace(\"Life\",\"LiFe\")\n",
    "print(str1)\n",
    "print(l1) # ['Life', 'is', 'too', 'short']\n",
    "print(l1[0])\n",
    "l1[0] = 'LiFe'\n",
    "print(l1)\n",
    "print(t1) # ('Life', 'is', 'too', 'short')\n",
    "print(t1[0]) # Life\n",
    "# t1[0] = 'LiFe'\n",
    "# 튜플과 리스트의 차이는 : 여러개의 값을 저장\n",
    "#리스트는 index를 이용해서 요소의 값을 변경할 수 있지만 \n",
    "#튜플은 index 를 이용해서 요소의 값을 변경 할 수 없다."
   ]
  },
  {
   "cell_type": "code",
   "execution_count": 252,
   "id": "951ef11b-f8cb-4d25-9966-ebb4ed0a3516",
   "metadata": {},
   "outputs": [
    {
     "name": "stdout",
     "output_type": "stream",
     "text": [
      "['is', 'too', 'short']\n",
      "('LiFe', 'is', 'too', 'short')\n",
      "1\n",
      "2\n",
      "3\n",
      "4\n",
      "3\n",
      "3\n"
     ]
    }
   ],
   "source": [
    "l1 = ['LiFe', 'is', 'too', 'short']\n",
    "del l1[0]\n",
    "print(l1)\n",
    "t1 = ('LiFe', 'is', 'too', 'short')\n",
    "#del t1[0]  # 'tuple' object doesn't support item deletion\n",
    "print(t1)\n",
    "#튜플은 한번 저장된 값을 변경하지 않게 하기 위해 만들어진 자료형\n",
    "print(l1.index(\"too\"))\n",
    "print(t1.index(\"too\"))\n",
    "print(len(l1))\n",
    "print(len(t1))\n",
    "l2 = [1,2,3,3,4,5,3]\n",
    "print(l2.count(3))\n",
    "t2 = (1,2,3,3,4,5,3)\n",
    "print(t2.count(3))"
   ]
  },
  {
   "cell_type": "code",
   "execution_count": 250,
   "id": "f5d7e5bd-3d0b-4267-abeb-32b56fee58b6",
   "metadata": {},
   "outputs": [
    {
     "name": "stdout",
     "output_type": "stream",
     "text": [
      "Life\n",
      "Life\n",
      "['is', 'too']\n",
      "('is', 'too')\n",
      "['is', 'too']\n",
      "['too', 'short']\n",
      "['is', 'too', 'too', 'short']\n",
      "('is', 'too')\n",
      "('too', 'short')\n",
      "('is', 'too', 'too', 'short')\n",
      "['is', 'too', 'is', 'too', 'is', 'too']\n",
      "('is', 'too', 'is', 'too', 'is', 'too')\n"
     ]
    }
   ],
   "source": [
    "l1 = ['Life', 'is', 'too', 'short']\n",
    "t1 = ('Life', 'is', 'too', 'short')\n",
    "print(l1[0])\n",
    "print(t1[0])\n",
    "print(l1[1:3])\n",
    "print(t1[1:3])\n",
    "# 튜플 연산자. + , *\n",
    "print(l1[1:3])\n",
    "print(l1[2:4])\n",
    "print(l1[1:3] + l1[2:4])\n",
    "print(t1[1:3])\n",
    "print(t1[2:4])\n",
    "print(t1[1:3] + t1[2:4])\n",
    "print(l1[1:3] * 3)\n",
    "print(t1[1:3] * 3)"
   ]
  },
  {
   "cell_type": "code",
   "execution_count": 263,
   "id": "ff73112a-9e58-4bf1-bb95-90fe640c8f58",
   "metadata": {},
   "outputs": [
    {
     "name": "stdout",
     "output_type": "stream",
     "text": [
      "['h', 'e', 'l', 'l', 'o']\n",
      "('h', 'e', 'l', 'l', 'o')\n",
      "['h', 'e', 'l', 'l', 'o']\n",
      "('h', 'e', 'l', 'l', 'o')\n",
      "============================================================\n",
      "30\n",
      "2010\n",
      "31.0\n",
      "10.0\n",
      "10\n"
     ]
    }
   ],
   "source": [
    "# 형변환\n",
    "str2 = \"hello\"\n",
    "l2 = list(str2)\n",
    "print(l2)\n",
    "t2 = tuple(str2)\n",
    "print(t2)\n",
    "l3 = list(t2)\n",
    "print(l3)\n",
    "t3 = tuple(l2)\n",
    "print(t3)\n",
    "\n",
    "print(\"==\" * 30)\n",
    "\n",
    "i = int(\"10\")\n",
    "print( 20 + i)\n",
    "s = str(10)\n",
    "print(\"20\" + s)\n",
    "f = float(\"10.5\")\n",
    "print(20.5 + f)\n",
    "f1 = float(i)\n",
    "print(f1)\n",
    "i1 = int(10.5)\n",
    "print(i1)"
   ]
  },
  {
   "cell_type": "code",
   "execution_count": 270,
   "id": "b6ea5f20-9120-4b37-8d23-3e5a9c4f4964",
   "metadata": {},
   "outputs": [
    {
     "name": "stdout",
     "output_type": "stream",
     "text": [
      "['h', 'e', 'l', 'l', 'o']\n",
      "['h', 'e', 'l', 'l', 'o']\n"
     ]
    }
   ],
   "source": [
    "l3  = list(\"hello\")\n",
    "print(l3)\n",
    "s3 = str(l3) # 리스트는 str함수를 이용해서  문자로 형변환이 안된다.\n",
    "print(s3)"
   ]
  },
  {
   "cell_type": "code",
   "execution_count": 273,
   "id": "90045f7c-f71e-4c61-90e0-c4edef358017",
   "metadata": {},
   "outputs": [
    {
     "name": "stdout",
     "output_type": "stream",
     "text": [
      "hello\n",
      "('h', 'e', 'l', 'l', 'o')\n",
      "hello\n"
     ]
    }
   ],
   "source": [
    "# 리스트나 튜플를 문자로 형변환\n",
    "s4 = \"\".join(l3)\n",
    "print(s4)\n",
    "print(t3)\n",
    "s4 = \"\".join(t3)\n",
    "print(s4)"
   ]
  },
  {
   "cell_type": "code",
   "execution_count": 285,
   "id": "2f0cf068-f9d5-4eb8-801b-b8664469d9dd",
   "metadata": {},
   "outputs": [
    {
     "name": "stdout",
     "output_type": "stream",
     "text": [
      "['Life', 'is', 'too', 'short']\n",
      "('Life', 'is', 'too', 'short')\n",
      "Life is too short\n",
      "Life is too short\n",
      "Life:is:too:short\n",
      "Life:is:too:short\n",
      "h,e,l,l,o\n"
     ]
    }
   ],
   "source": [
    "l = ['Life', 'is', 'too', 'short' ]\n",
    "t = ('Life', 'is', 'too', 'short' )\n",
    "print(l)\n",
    "print(t)\n",
    "print(\" \".join(l))\n",
    "print(\" \".join(t))\n",
    "print(\":\".join(l))\n",
    "print(\":\".join(t))\n",
    "s4 = \"hello\"\n",
    "print(\",\".join(s4))"
   ]
  },
  {
   "cell_type": "code",
   "execution_count": 288,
   "id": "51426d20-4ad9-49fc-abfe-7c50005c4988",
   "metadata": {},
   "outputs": [
    {
     "name": "stdout",
     "output_type": "stream",
     "text": [
      "{'name': '이숭무', 'age': 30, 'height': 173.5}\n",
      "이숭무\n",
      "30\n",
      "173.5\n"
     ]
    }
   ],
   "source": [
    "# 자료형 : 정수, 실수, 문자, 리스트, 튜플\n",
    "# 딕셔너리(사전) : {key1 : value1, key2 : value2, key3 : value3, ..., key_n : value_n}\n",
    "#{키 : 값, 키 : 값} :json # 자바 : Map\n",
    "l = [] # 빈 리스트\n",
    "t = () # 빈 튜플\n",
    "d = {} # 빈 딕셔너리\n",
    "dic = {'name':'이숭무', 'age': 30, 'height': 173.5}\n",
    "print(dic) # {'name': '이숭무', 'age': 30, 'height': 173.5}\n",
    "print(dic['name'])\n",
    "print(dic['age'])\n",
    "print(dic['height'])"
   ]
  },
  {
   "cell_type": "code",
   "execution_count": 301,
   "id": "7729e1e2-1d66-4518-b637-89c4efa5a8d8",
   "metadata": {},
   "outputs": [
    {
     "name": "stdout",
     "output_type": "stream",
     "text": [
      "1\n",
      "1\n",
      "173.5\n",
      "이숭무\n",
      "30\n",
      "[1, 12, 3, 4]\n",
      "{1: '김찬중', 2: 30, 0: 173.5}\n",
      "{1: '김찬중', 2: 30, 0: 173.5}\n",
      "{1: '김찬중', 2: 30, 0: 173.5, 3: '이상범'}\n",
      "{1: '숭'}\n",
      "{1: '숭'}\n"
     ]
    }
   ],
   "source": [
    "l = [1,2,3,4]\n",
    "#    0 1 2 3\n",
    "print(l[0])\n",
    "t = (1,2,3,4)\n",
    "#    0 1 2 3\n",
    "print(t[0])\n",
    "dic = {1: '이숭무', 2: 30 , 0 : 173.5} # 딕셔너라에서는 index를 사용하지 않는다.\n",
    "#      0           1       2  (x)\n",
    "print(dic[0])\n",
    "print(dic[1])\n",
    "print(dic[2])\n",
    "\n",
    "l[1] = 12\n",
    "print(l)  # [1, 12, 3, 4]\n",
    "#            0   1  2  3\n",
    "dic[1] = \"김찬중\"\n",
    "print(dic)\n",
    "# l[4] = 40 # index가 없는 경우에는 오류 발생\n",
    "print(dic) #{1: '김찬중', 2: 30, 0: 173.5}\n",
    "dic[3] = '이상범'\n",
    "print(dic) # {1: '김찬중', 2: 30, 0: 173.5, 3: '이상범'}\n",
    "# 딕셔너리는 키가 있으면 수정하고 키가없으면 추가를 한다.\n",
    "# 딕셔너리는 중복키를 허용하지 않는다.\n",
    "dic3 = {1:'이', 1: '숭'}\n",
    "print(dic3)\n",
    "dic3 = {1:'이'}\n",
    "dic3[1] = '숭'\n",
    "print(dic3)"
   ]
  },
  {
   "cell_type": "code",
   "execution_count": 315,
   "id": "30f48a40-ad13-4e79-8c3b-a8bd828a3eeb",
   "metadata": {},
   "outputs": [
    {
     "name": "stdout",
     "output_type": "stream",
     "text": [
      "[1, 3, 4]\n",
      "{'age': 35, 'height': 175.5}\n",
      "dict_keys(['age', 'height'])\n",
      "dict_values([35, 175.5])\n",
      "dict_items([('age', 35), ('height', 175.5)])\n",
      "[1, 2, 3, 4, 5]\n",
      "[]\n",
      "[]\n",
      "{'age': 35, 'height': 175.5}\n",
      "{}\n"
     ]
    }
   ],
   "source": [
    "# 딕셔너리 함수 \n",
    "dic1 = {'name':'이숭무', 'age':35, 'height':175.5}\n",
    "l = [1,2,3,4]\n",
    "#    0 1 2 3 : index\n",
    "#요소 삭제\n",
    "del l[1]\n",
    "print(l)\n",
    "del dic1['name']\n",
    "print(dic1)\n",
    "# 딕셔너리에 있는 키를 가져오기\n",
    "print(dic1.keys())\n",
    "# 딕셔너리에 있는 값를 가져오기\n",
    "print(dic1.values())\n",
    "# 키와 값을 튜플로 묶어서 가져오기\n",
    "print(dic1.items())\n",
    "# print(dic1.items()[0]) : dict_items\n",
    "# 요소를 모두 삭제하기\n",
    "l = [1,2,3,4,5]\n",
    "print(l[:])\n",
    "del l[:]\n",
    "print(l)\n",
    "l = [1,2,3,4,5]\n",
    "l.clear() \n",
    "print(l)\n",
    "print(dic1)\n",
    "dic1.clear()\n",
    "print(dic1)"
   ]
  },
  {
   "cell_type": "code",
   "execution_count": 360,
   "id": "2d383a9a-d9a9-4190-8626-ea0c16685efd",
   "metadata": {},
   "outputs": [
    {
     "name": "stdout",
     "output_type": "stream",
     "text": [
      "{'name': 'pey', 'phone': '0119993323', 'birth': '19991118'}\n",
      "pey\n",
      "pey\n",
      "None\n",
      "서울\n",
      "1000\n",
      "1400\n",
      "900\n",
      "1000\n",
      "1400\n"
     ]
    }
   ],
   "source": [
    "dic = {'name': 'pey', 'phone': '0119993323', 'birth': '19991118'}\n",
    "print(dic)\n",
    "print(dic['name'])\n",
    "print(dic.get('name'))\n",
    "\n",
    "#print(dic['addr']) # 키가 없으면 오류 발생\n",
    "print(dic.get('addr'))  # None\n",
    "print(dic.get('addr', '서울'))\n",
    "\n",
    "dic1 = {'classic':500, 'pop' : 700 , 'jazz' : 900}\n",
    "dic2 = {'classic':500, 'pop' : 700 }\n",
    "print(dic1['classic'] + dic2['classic'] )\n",
    "print(dic1['pop'] + dic2['pop'] )\n",
    "# print(dic1['jazz'] + dic2['jazz'] )\n",
    "print(dic1.get('jazz') + dic2.get('jazz', 0) )\n",
    "print(dic1.get('classic',0) + dic2.get('classic',0) )\n",
    "print(dic1.get('pop', 0) + dic2.get('pop', 100) )"
   ]
  },
  {
   "cell_type": "code",
   "execution_count": 339,
   "id": "164d2cb6-670a-4ca7-b61f-4fa6df401c67",
   "metadata": {},
   "outputs": [
    {
     "name": "stdout",
     "output_type": "stream",
     "text": [
      "{1, 2, 3, 4, 5, 6}\n",
      "{1}\n",
      "{1, 2, 3, 4, 5}\n",
      "{1, 2, 3, 4}\n",
      "{1, 2, 3, 4}\n",
      "{'h', 'l', 'o', 'e'}\n"
     ]
    }
   ],
   "source": [
    "# 정수, 실수 문자 리스트 튜플 \n",
    "# 딕셔너리 {키 : 값}, {}\n",
    "# 집합  : 합집합 , 교집합, 차집합\n",
    "ss = {1,2,3,4,5,6}\n",
    "print(ss)\n",
    "ss = {1}\n",
    "print(ss)\n",
    "ss = {1,1,2,2,3,3,4,4,5}\n",
    "print(ss) # 중복데이터를 허용하지 않는다. 집합에는 순서가 없다.\n",
    "l1 = [1,2,3,4]\n",
    "t1 = (1,2,3,4)\n",
    "s1 = set(l1) # set은 집합자료형으로 형변환하는 함수\n",
    "print(s1)\n",
    "s1 = set(t1)\n",
    "print(s1)\n",
    "str2 = \"hello\"\n",
    "s1 = set(str2)\n",
    "print(s1)"
   ]
  },
  {
   "cell_type": "code",
   "execution_count": 343,
   "id": "51de6718-931b-4106-8be3-1e1c39be4ebd",
   "metadata": {},
   "outputs": [
    {
     "name": "stdout",
     "output_type": "stream",
     "text": [
      "{3, 4}\n",
      "{3, 4}\n",
      "{1, 2, 3, 4, 5, 6}\n",
      "{1, 2, 3, 4, 5, 6}\n",
      "{1, 2}\n",
      "{5, 6}\n",
      "{1, 2}\n"
     ]
    }
   ],
   "source": [
    "s1 = {1,2,3,4}\n",
    "s2 = {3,4,5,6}\n",
    "# 교집합\n",
    "print(s1 & s2)\n",
    "print(s1.intersection(s2))\n",
    "# 합집합 \n",
    "print(s1 | s2)\n",
    "print(s1.union(s2))\n",
    "# 차집합\n",
    "print(s1 - s2) # s1에서 교집합을 빼라 1,2\n",
    "print(s2 - s1) # s2에서 교집합을 빼라 5,6\n",
    "print(s1.difference(s2))"
   ]
  },
  {
   "cell_type": "code",
   "execution_count": 358,
   "id": "8d993433-d65a-47dc-b8b9-8cdac6c9c0f0",
   "metadata": {},
   "outputs": [
    {
     "name": "stdout",
     "output_type": "stream",
     "text": [
      "{1, 2, 3, 4}\n",
      "{1, 2, 3, 4, 7}\n",
      "{1, 2, 3, 4, 7, 9}\n",
      "{1, 2, 3, 4, 'a', 7, 9}\n",
      "{1, 2, 3, 4, 'a', 7, 9}\n",
      "{1, 2, 3, 4, 'a', 7, 9, 10, 11, 12}\n",
      "{1, 2, 3, 4, 'a', 7, 9, 10, 11, 12}\n",
      "{1, 2, 3, 4, 7, 9, 10, 11, 12}\n"
     ]
    }
   ],
   "source": [
    "# 하나의 요소 추가\n",
    "s1 = {1, 2, 3, 4}\n",
    "print(s1)\n",
    "s1.add(7)\n",
    "print(s1)\n",
    "s1.add(9)\n",
    "print(s1)\n",
    "s1.add('a')\n",
    "print(s1)\n",
    "#s1에 10,11,12를 추가\n",
    "#s1.add(10,11,12)\n",
    "#s1.add((10,11,12))\n",
    "print(s1)\n",
    "# 여러개의 요소 추가\n",
    "s1.update((10,11,12))\n",
    "print(s1)\n",
    "s1.update([10,11,12])\n",
    "print(s1)\n",
    "# 삭제 \n",
    "s1.remove('a')\n",
    "print(s1)\n",
    "# s1.remove((1,2,3)) 여러개의 요소를 같이 삭제 할 수 없다."
   ]
  },
  {
   "cell_type": "code",
   "execution_count": 365,
   "id": "9f89ecb2-9b9e-47c9-9ce8-6612ece8233f",
   "metadata": {},
   "outputs": [
    {
     "name": "stdout",
     "output_type": "stream",
     "text": [
      "True\n",
      "False\n",
      "true\n",
      "True\n"
     ]
    }
   ],
   "source": [
    "# 정수, 실수, 문자, 부울 :  참/거짓\n",
    "# 파이썬 자료형 : 리스트, 튜플, 딕셔너리, 집합\n",
    "bl = True\n",
    "print(bl)\n",
    "bl = False\n",
    "print(bl)\n",
    "#bl = true # name 'true' is not defined\n",
    "bl = 'true'\n",
    "print(bl)\n",
    "bl = 'True'\n",
    "print(bl)"
   ]
  },
  {
   "cell_type": "code",
   "execution_count": 374,
   "id": "9e05bdcc-36f3-4515-a0e1-30b74d8a3d7a",
   "metadata": {},
   "outputs": [
    {
     "name": "stdout",
     "output_type": "stream",
     "text": [
      "True\n",
      "False\n",
      "True\n",
      "True\n",
      "True\n",
      "합격\n",
      "합격\n"
     ]
    }
   ],
   "source": [
    "# 부울 타입을 사용하는 때\n",
    "# 논리연산\n",
    "print(True and True)\n",
    "print(True and False)\n",
    "print(True or False)\n",
    "# 부울 타입타입으로 연산하기 위해서는 결과가 불타입이어야 한다.\n",
    "# 관계연산(비교연산)의 결과는 부울타입\n",
    "print( 10 > 9)\n",
    "# 논리연산을 하기 위해서는 결과가 부울타입이 와야 하므로 관계연산하고 같이 연산을 하는 경우가 많다.\n",
    "mat = 40\n",
    "eng = 80\n",
    "#각 과목이 40점이상이고 평균이 60점 이상이면 True 아니면 Fasle\n",
    "result = mat >= 40 and eng >= 40 and (mat + eng) / 2 == 60\n",
    "print(result)\n",
    "if result:\n",
    "    print('합격')\n",
    "else:\n",
    "    print('불합격')    \n",
    "\n",
    "if mat >= 40 and eng >= 40 and (mat + eng) / 2 == 60:\n",
    "    print('합격')\n",
    "else:\n",
    "    print('불합격') "
   ]
  },
  {
   "cell_type": "code",
   "execution_count": 388,
   "id": "75a129e1-d328-457b-8cd9-0b5529d54e57",
   "metadata": {},
   "outputs": [
    {
     "name": "stdout",
     "output_type": "stream",
     "text": [
      "True\n",
      "False\n",
      "True\n",
      "True\n",
      "False\n",
      "False\n",
      "True\n",
      "False\n",
      "True\n",
      "False\n",
      "True\n",
      "False\n",
      "True\n",
      "False\n"
     ]
    }
   ],
   "source": [
    "### 형변환함수 : int(), str(), float(),list(),tuple(),set() , bool() : 참/거짓\n",
    "print(bool('이숭무'))\n",
    "print(bool(''))\n",
    "print(bool(-1))\n",
    "print(bool(100))\n",
    "print(bool(0))\n",
    "print(bool(0.0))\n",
    "print(bool(0.1))\n",
    "print(bool([]))\n",
    "print(bool([1,2,3,4]))\n",
    "print(bool(()))\n",
    "print(bool((1,2,3,4)))\n",
    "print(bool({}))\n",
    "print(bool({1:'이숭무'}))\n",
    "print(bool(None))"
   ]
  },
  {
   "cell_type": "code",
   "execution_count": null,
   "id": "24c0394c-1f86-4d1a-836b-752709b5d886",
   "metadata": {},
   "outputs": [],
   "source": [
    "# 정수 , 실수 , 문자, 리스트, 튜플, 딕셔너리, 집합, 부울"
   ]
  },
  {
   "cell_type": "code",
   "execution_count": 391,
   "id": "245f9fd6-daa8-40fb-bea7-7984fe39518a",
   "metadata": {},
   "outputs": [
    {
     "name": "stdout",
     "output_type": "stream",
     "text": [
      "<class 'int'>\n",
      "<class 'str'>\n",
      "<class 'float'>\n",
      "<class 'list'>\n",
      "<class 'tuple'>\n",
      "<class 'dict'>\n",
      "<class 'set'>\n",
      "<class 'bool'>\n"
     ]
    }
   ],
   "source": [
    "# 변수가 가지고 있는 자료형을 확인\n",
    "str1 = 'hello' #문자열형 변수 <class 'str'>\n",
    "i = 10 # 정수형변수 <class 'int'>\n",
    "f = 10.5\n",
    "l = [1,2,3,4]\n",
    "t = (1,2,3,4)\n",
    "dic = {1:'이'}\n",
    "s = {1,2,3,4}\n",
    "b = True\n",
    "print(type(i))\n",
    "print(type(str1))\n",
    "print(type(f)) # <class 'float'>\n",
    "print(type(l))\n",
    "print(type(t))\n",
    "print(type(dic))\n",
    "print(type(s))\n",
    "print(type(b))"
   ]
  },
  {
   "cell_type": "code",
   "execution_count": 400,
   "id": "d185dd28-fe75-4feb-aa7b-39350e5bf1a4",
   "metadata": {},
   "outputs": [
    {
     "name": "stdout",
     "output_type": "stream",
     "text": [
      "10 20 30\n",
      "10 20 30\n",
      "10 20 30\n",
      "10 20 30\n",
      "10 20 30\n",
      "10 20 30\n",
      "10 20 30\n",
      "10 20 이숭무\n"
     ]
    }
   ],
   "source": [
    "#변수를 만드는 여러 가지 방법\n",
    "a = 10\n",
    "l = [1,2,3,4]\n",
    "a , b, c = 10, 20, 30\n",
    "print(a,b,c)\n",
    "a , b, c = (10, 20, 30)\n",
    "print(a,b,c)\n",
    "a , b, c = [10, 20, 30]\n",
    "print(a,b,c)\n",
    "(a , b, c) = 10, 20, 30\n",
    "print(a,b,c)\n",
    "[a , b, c] = 10, 20, 30\n",
    "print(a,b,c)\n",
    "(a , b, c) = (10, 20, 30)\n",
    "print(a,b,c)\n",
    "[a , b, c] = [10, 20, 30]\n",
    "print(a,b,c)\n",
    "a , b, c = 10, 20, '이숭무'\n",
    "print(a,b,c)\n",
    "# a , b, c = 10, 20\n",
    "# print(a,b,c)"
   ]
  },
  {
   "cell_type": "code",
   "execution_count": 404,
   "id": "e2d5b6f7-6443-4d59-b21e-7fe25393164f",
   "metadata": {},
   "outputs": [
    {
     "name": "stdout",
     "output_type": "stream",
     "text": [
      "일반적인 형식\n",
      "20 10\n",
      "==========================================================================================\n",
      "python방식\n",
      "10 20\n"
     ]
    }
   ],
   "source": [
    "# 값 서로 교환하기\n",
    "a = 10; b = 20\n",
    "print(\"일반적인 형식\")\n",
    "temp = b\n",
    "b = a\n",
    "a = temp\n",
    "print(a, b)\n",
    "print(\"===\" * 30)\n",
    "print(\"python방식\")\n",
    "a , b = b, a\n",
    "print(a, b)"
   ]
  },
  {
   "cell_type": "code",
   "execution_count": 407,
   "id": "901fbd38-93ea-4d8f-9de3-c1126ae9f7b2",
   "metadata": {},
   "outputs": [
    {
     "name": "stdout",
     "output_type": "stream",
     "text": [
      "참\n",
      "거짓\n",
      "참\n",
      "\n"
     ]
    }
   ],
   "source": [
    "# 제어문 : 조건문, 반복문\n",
    "# bool타입을 이용해서 원하는 결과를 가져오기 윈한 작업: 비교연산 , 논리연산\n",
    "# 제어문을 사용하려면 참 / 거짓인 결과를 가져와야 한다.\n",
    "if True:\n",
    "    print(\"참\")\n",
    "    \n",
    "if False:\n",
    "    pass\n",
    "else:\n",
    "    print(\"거짓\")\n",
    "# 조건식이란  참 또는 거짓인 결과를 가지고 오는 비교연산과 논리 연산을 말한다.\n",
    "# if문 안에 있는 명령어를 실행 시키기 위해서는 들여쓰기가 되어야 한다.\n",
    "# 들여쓰기는 tab키나 space를 사용할 수 있는데 두가지를 동시에 사용할 수 없다\n",
    "if True:\n",
    "    print(\"참\")\n",
    "else:\n",
    "    print(\"거짓\")     \n",
    "# tab을 많이 사용한다.\n",
    "# 조건식 뒤에는 :이 와야한다.\n",
    "'''\n",
    "if 조건식 :\n",
    "    명령어1\n",
    "    명령어2\n",
    "    ...\n",
    "    명령어n\n",
    "명령어\n",
    "'''\n",
    "print()"
   ]
  },
  {
   "cell_type": "code",
   "execution_count": 416,
   "id": "491a6e40-61d6-4199-9d05-261179c2a8fb",
   "metadata": {},
   "outputs": [
    {
     "name": "stdout",
     "output_type": "stream",
     "text": [
      "실행끝\n",
      "a는 20보다 작습니다\n",
      "실행끝\n"
     ]
    }
   ],
   "source": [
    "#  단일 if\n",
    "a = 10\n",
    "if a > 20:\n",
    "    print(\"a는 20보다 큽니다\")\n",
    "\n",
    "    print(\"안녕\")\n",
    "print(\"실행끝\")\n",
    "if a < 20:\n",
    "    print(\"a는 20보다 작습니다\")\n",
    "print(\"실행끝\")"
   ]
  },
  {
   "cell_type": "code",
   "execution_count": 418,
   "id": "38ea4c40-9bce-4b1f-bd8c-45b67337b2a9",
   "metadata": {},
   "outputs": [
    {
     "name": "stdout",
     "output_type": "stream",
     "text": [
      "걸어가시오\n"
     ]
    }
   ],
   "source": [
    "money = 2000\n",
    "if money >= 2000:\n",
    "    print(\"차를타고 가시오\")\n",
    "if money < 2000:\n",
    "    print(\"걸어가시오\")"
   ]
  },
  {
   "cell_type": "code",
   "execution_count": 426,
   "id": "7b0e10dc-91cc-4499-8e6e-38a038708b7a",
   "metadata": {},
   "outputs": [
    {
     "name": "stdout",
     "output_type": "stream",
     "text": [
      "차를타고 가시오\n",
      "차를타고 가시오\n",
      "차를타고 가시오\n",
      "차를타고 가시오\n",
      "차를타고 가시오\n",
      "x와 y는 다르다\n",
      "x와 y는 다르다\n",
      "True\n",
      "합격\n",
      "합격\n"
     ]
    }
   ],
   "source": [
    "### if ~ else\n",
    "money = 2000\n",
    "if money >= 2000: #True\n",
    "    print(\"차를타고 가시오\")\n",
    "    print(\"차를타고 가시오\")\n",
    "    print(\"차를타고 가시오\")\n",
    "    print(\"차를타고 가시오\")\n",
    "    print(\"차를타고 가시오\")\n",
    "else: # False\n",
    "    print(\"걸어가시오\")\n",
    "x = 10; y = 20\n",
    "if x == y:\n",
    "    print(\"x와 y는 같다\")\n",
    "else:\n",
    "    print(\"x와 y는 다르다\")\n",
    "\n",
    "if x != y:\n",
    "    print(\"x와 y는 다르다\")\n",
    "else:\n",
    "    print(\"x와 y는 같다\")\n",
    "\n",
    "mat = 40\n",
    "eng = 60\n",
    "kor = 80 \n",
    "# 이때 각 과목의 점수는 40이상이어야 하며 평균은 60점이상 이어야 한다.\n",
    "# 조건에 만족하면 합격 아니면 불합격\n",
    "result = mat >= 40 and eng >= 40 and kor >= 40 and (eng+kor+mat) / 3 >= 60\n",
    "print(result)\n",
    "if result:\n",
    "    print(\"합격\")\n",
    "else:\n",
    "    print(\"불합격\")\n",
    "\n",
    "if mat >= 40 and eng >= 40 and kor >= 40 and (eng + kor + mat) / 3 >= 60:\n",
    "    print(\"합격\")\n",
    "else:\n",
    "    print(\"불합격\")"
   ]
  },
  {
   "cell_type": "code",
   "execution_count": 440,
   "id": "3ec60a81-1651-443b-a33b-fc796f17d6c3",
   "metadata": {},
   "outputs": [
    {
     "name": "stdout",
     "output_type": "stream",
     "text": [
      "True\n",
      "False\n",
      "True\n",
      "True\n",
      "False\n",
      "True\n",
      "True\n",
      "False\n",
      "True\n",
      "True\n",
      "False\n",
      "True\n",
      "True\n",
      "True\n",
      "False\n",
      "True\n"
     ]
    }
   ],
   "source": [
    "#in연산자 사용하기\n",
    "print (1 in [1,2,3,4])\n",
    "print (7 in [1,2,3,4])\n",
    "l = [1,2,3,4]\n",
    "print( 3 in l)\n",
    "print (1 in (1,2,3,4))\n",
    "print (7 in (1,2,3,4))\n",
    "t = (1,2,3,4)\n",
    "print( 3 in t)\n",
    "print (7 not in (1,2,3,4))\n",
    "print( 3 not in l )\n",
    "print( 'y' in \"python\")\n",
    "print( 'th' in \"python\")\n",
    "print( '이숭무' in \"python\")\n",
    "print( '이숭무' not in \"python\")\n",
    "\n",
    "print( 1 in {1:'이', 2:'숭'}) #키가 있는지\n",
    "dic = {1:'이', 2:'숭'}\n",
    "print( 1 in dic)\n",
    "print( 1 not in dic)\n",
    "print( 3 not in dic)"
   ]
  },
  {
   "cell_type": "code",
   "execution_count": 443,
   "id": "e163fac2-ea73-4c8d-b9a5-0303a82a2ad1",
   "metadata": {},
   "outputs": [
    {
     "name": "stdout",
     "output_type": "stream",
     "text": [
      "k가 없습니다.\n",
      "k가 없습니다.\n",
      "리스트에 6이 있습니다.\n",
      "리스트에 6이 있습니다.\n"
     ]
    }
   ],
   "source": [
    "if \"k\"  in \"python\":\n",
    "    print(\"k가 있습니다\")\n",
    "else:\n",
    "    print(\"k가 없습니다.\")\n",
    "\n",
    "str1 = \"python\"\n",
    "if \"k\"  in str1:\n",
    "    print(\"k가 있습니다\")\n",
    "else:\n",
    "    print(\"k가 없습니다.\")\n",
    "\n",
    "l = [1,2,3,4,5,6]\n",
    "if 6 in l:\n",
    "     print(\"리스트에 6이 있습니다.\")\n",
    "else:\n",
    "     print(\"리스트에 6이 없습니다.\")\n",
    "\n",
    "if 6 not in l:\n",
    "    print(\"리스트에 6이 없습니다.\") \n",
    "else:\n",
    "    print(\"리스트에 6이 있습니다.\") \n",
    "\n",
    "pocket = ['paper', 'cellphone', 'money']\n",
    "if \"money\" in  pocket:\n",
    "    print('주머니에 돈이 있어요.')\n",
    "else:\n",
    "    print('주머니에 돈이 없어요.')\n",
    "\n",
    "if \"money\" not in  pocket:\n",
    "    print('주머니에 돈이 없어요.')\n",
    "else:\n",
    "    print('주머니에 돈이 있어요.')"
   ]
  },
  {
   "cell_type": "code",
   "execution_count": null,
   "id": "f76c87d7-76e1-4ac5-b498-790ff9a85b68",
   "metadata": {},
   "outputs": [],
   "source": []
  },
  {
   "cell_type": "code",
   "execution_count": null,
   "id": "f1f1263a-4691-4a21-aa16-4a4a506f9e77",
   "metadata": {},
   "outputs": [],
   "source": []
  },
  {
   "cell_type": "code",
   "execution_count": null,
   "id": "7d5032c4-b15e-4323-916d-2637abac8144",
   "metadata": {},
   "outputs": [],
   "source": []
  },
  {
   "cell_type": "code",
   "execution_count": null,
   "id": "2126001a-540d-4378-94d8-32d3b6efb5a8",
   "metadata": {},
   "outputs": [],
   "source": []
  },
  {
   "cell_type": "code",
   "execution_count": null,
   "id": "e0ba01bb-73d5-425e-b63f-a0f7c5299003",
   "metadata": {},
   "outputs": [],
   "source": []
  },
  {
   "cell_type": "code",
   "execution_count": null,
   "id": "2af775fd-1e5a-40f3-9e00-26177c4a4aab",
   "metadata": {},
   "outputs": [],
   "source": []
  },
  {
   "cell_type": "code",
   "execution_count": null,
   "id": "2796cefc-f36d-46e3-8e4e-fff931730bd7",
   "metadata": {},
   "outputs": [],
   "source": []
  }
 ],
 "metadata": {
  "kernelspec": {
   "display_name": "Python 3 (ipykernel)",
   "language": "python",
   "name": "python3"
  },
  "language_info": {
   "codemirror_mode": {
    "name": "ipython",
    "version": 3
   },
   "file_extension": ".py",
   "mimetype": "text/x-python",
   "name": "python",
   "nbconvert_exporter": "python",
   "pygments_lexer": "ipython3",
   "version": "3.12.0"
  }
 },
 "nbformat": 4,
 "nbformat_minor": 5
}
