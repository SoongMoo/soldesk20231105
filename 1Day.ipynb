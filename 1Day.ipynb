{
 "cells": [
  {
   "cell_type": "code",
   "execution_count": 2,
   "id": "0ebd9a21-9a3e-4ea3-b18f-21b840dc8c6b",
   "metadata": {},
   "outputs": [
    {
     "name": "stderr",
     "output_type": "stream",
     "text": [
      "C:\\Users\\soldesk\\AppData\\Local\\Temp\\ipykernel_10648\\1014303460.py:1: DeprecationWarning: Importing display from IPython.core.display is deprecated since IPython 7.14, please import from IPython display\n",
      "  from IPython.core.display import display, HTML\n"
     ]
    },
    {
     "data": {
      "text/html": [
       "<style>\n",
       "div.container { width:100% !important; }\n",
       "div.CodeMirror {font-family: Consolas; font-size: 30pt;}\n",
       "div.output { font-size: 20pt; font-weight: bold;}\n",
       "div.input { font-family: Consolas; font-size: 30pt;}\n",
       "div.prompt { min-width: 100px;}\n",
       "</style>\n"
      ],
      "text/plain": [
       "<IPython.core.display.HTML object>"
      ]
     },
     "metadata": {},
     "output_type": "display_data"
    }
   ],
   "source": [
    "pip install jupyter  #설치\n",
    "pip uninstall jupyter #삭제\n",
    "\n",
    "juoyter notbook"
   ]
  },
  {
   "cell_type": "code",
   "execution_count": 9,
   "id": "01b7bec3-3bb3-47b9-a19a-25eb6ff54daf",
   "metadata": {},
   "outputs": [
    {
     "name": "stdout",
     "output_type": "stream",
     "text": [
      "8\n"
     ]
    }
   ],
   "source": [
    "print(3 + 5)"
   ]
  },
  {
   "cell_type": "code",
   "execution_count": 11,
   "id": "1f4f0e3d-46ee-4642-aa2a-21eafdebe520",
   "metadata": {},
   "outputs": [
    {
     "name": "stdout",
     "output_type": "stream",
     "text": [
      "8\n",
      "15\n"
     ]
    }
   ],
   "source": [
    "print(3 +5) # 행단위 언어\n",
    "print(3 * 5)"
   ]
  },
  {
   "cell_type": "code",
   "execution_count": 12,
   "id": "1836ab85-92e6-43fb-a152-b2c359e33c8b",
   "metadata": {},
   "outputs": [
    {
     "name": "stdout",
     "output_type": "stream",
     "text": [
      "8\n",
      "15\n"
     ]
    }
   ],
   "source": [
    "print(3 + 5);print(3 * 5)"
   ]
  },
  {
   "cell_type": "code",
   "execution_count": 13,
   "id": "96bdeeff-889a-4018-aef8-53935b7084f9",
   "metadata": {},
   "outputs": [
    {
     "name": "stdout",
     "output_type": "stream",
     "text": [
      "작다\n",
      "끝\n"
     ]
    }
   ],
   "source": [
    "i = 10\n",
    "if i <= 20:\n",
    "    print(\"작다\")\n",
    "\n",
    "print(\"끝\")\n"
   ]
  },
  {
   "cell_type": "code",
   "execution_count": 16,
   "id": "665169ff-8fae-4b88-bcd1-6a6cb8172ed9",
   "metadata": {},
   "outputs": [
    {
     "name": "stdout",
     "output_type": "stream",
     "text": [
      "9\n",
      "10\n",
      "10\n"
     ]
    }
   ],
   "source": [
    "# 파이썬 기본 자료형\n",
    "# 리터널 : 숫자 : 정수 : 10, 5, 100 \n",
    "#                 실수: 10.5, 0.6\n",
    "#          문자 : 한국어, 일본어 중국어, 영어, : 가, apple\n",
    "# 정수 리터널\n",
    "print(3 + 6)\n",
    "i = 10 # i : 변수 : 10이라는 정수리터널을 가지고 있는 변수\n",
    "print(i) # 10\n",
    "print(10)\n",
    "# 변수는 오로지 하나의 값만 가진다."
   ]
  },
  {
   "cell_type": "code",
   "execution_count": 17,
   "id": "a267bd4b-0406-43b3-80e6-792ad9fd3b60",
   "metadata": {},
   "outputs": [
    {
     "name": "stdout",
     "output_type": "stream",
     "text": [
      "20\n"
     ]
    }
   ],
   "source": [
    "i = 20\n",
    "print(i) "
   ]
  },
  {
   "cell_type": "code",
   "execution_count": 20,
   "id": "9ae9f830-852f-40a8-8df6-ece1a0590d3d",
   "metadata": {},
   "outputs": [
    {
     "name": "stdout",
     "output_type": "stream",
     "text": [
      "30\n"
     ]
    }
   ],
   "source": [
    "# 변수는 초기값을 가져야 한다.\n",
    "i1 = 30\n",
    "print(i1)"
   ]
  },
  {
   "cell_type": "code",
   "execution_count": 21,
   "id": "57efe5cd-fde6-4f35-b578-fd6374573d33",
   "metadata": {},
   "outputs": [
    {
     "ename": "NameError",
     "evalue": "name 'i2' is not defined",
     "output_type": "error",
     "traceback": [
      "\u001b[1;31m---------------------------------------------------------------------------\u001b[0m",
      "\u001b[1;31mNameError\u001b[0m                                 Traceback (most recent call last)",
      "Cell \u001b[1;32mIn[21], line 1\u001b[0m\n\u001b[1;32m----> 1\u001b[0m \u001b[38;5;28mprint\u001b[39m(\u001b[43mi2\u001b[49m)\n",
      "\u001b[1;31mNameError\u001b[0m: name 'i2' is not defined"
     ]
    }
   ],
   "source": [
    "print(i2) # name 'i2' is not defined오류 발생"
   ]
  },
  {
   "cell_type": "code",
   "execution_count": 24,
   "id": "6f85be0f-addf-4aba-89dc-c7654500e6cf",
   "metadata": {},
   "outputs": [
    {
     "name": "stdout",
     "output_type": "stream",
     "text": [
      "10\n",
      "10.5\n"
     ]
    }
   ],
   "source": [
    "i = 10 # 정수리터널\n",
    "print(i)\n",
    "i = 10.5 # 실수리터널\n",
    "print(i)"
   ]
  },
  {
   "cell_type": "code",
   "execution_count": 37,
   "id": "86b2efb6-cdd4-4f80-8293-e99bfe464c50",
   "metadata": {},
   "outputs": [
    {
     "name": "stdout",
     "output_type": "stream",
     "text": [
      "20\n",
      "20\n",
      "5.0\n",
      "5.0\n",
      "3.3333333333333335\n",
      "1\n",
      "3.3333333333333335\n",
      "3\n",
      "3\n",
      "1000\n",
      "100\n"
     ]
    }
   ],
   "source": [
    "# 숫자 연산자 : +, - , *, / , %, //, **\n",
    "print(10 * 2)\n",
    "a = 10\n",
    "b = 2\n",
    "print(a * b)\n",
    "print(10 / 2)\n",
    "print(a / b)\n",
    "# 나머지  : %\n",
    "print( 10 / 3)\n",
    "print( 10 % 3)\n",
    "#  몫 연산자\n",
    "print(10 / 3)\n",
    "print(10 // 3)\n",
    "a = 10\n",
    "b = 3\n",
    "print( a // b )\n",
    "# 제곱승 연산자 : \n",
    "print( 10 ** 3)\n",
    "print( 10 ** 2)"
   ]
  },
  {
   "cell_type": "code",
   "execution_count": 60,
   "id": "618643d0-44ec-4d38-b850-d551080e8505",
   "metadata": {},
   "outputs": [
    {
     "name": "stdout",
     "output_type": "stream",
     "text": [
      "10\n",
      "apple\n",
      "apple1\n",
      "이숭무\n",
      "이숭무\n",
      "10\n",
      "10\n",
      "이숭무\n"
     ]
    }
   ],
   "source": [
    "# 숫자리터널\n",
    "# 문자리터널 : \"a\", \"apple\", \"이숭무\", \"\", ''\n",
    "a = 10 # 정수리터널 변수\n",
    "b = a\n",
    "print(b)\n",
    "이숭무 = \"apple\"\n",
    "print(이숭무)\n",
    "이숭무 = 'apple1'\n",
    "print(이숭무)\n",
    "a = \"10\" # 문자리터널\n",
    "a = 10\n",
    "#20 = \"a\" : 숫자는 변수로 사용할 수 없다.\n",
    "str1 = \"이숭무\"\n",
    "print(str1)\n",
    "str1  = '이숭무'\n",
    "print(str1)\n",
    "print(\"10\") #문자리터널\n",
    "print('10') \n",
    "이2 = \"이숭무\"\n",
    "print(이2)"
   ]
  },
  {
   "cell_type": "code",
   "execution_count": 59,
   "id": "c2456595-3faf-4f5e-adfd-f48b23bba0ab",
   "metadata": {},
   "outputs": [
    {
     "name": "stdout",
     "output_type": "stream",
     "text": [
      "20\n",
      "1010\n",
      "python is fun\n",
      "python is fun\n",
      "이숭무이숭무이숭무\n",
      "이숭무이숭무이숭무\n"
     ]
    }
   ],
   "source": [
    "# 문자리터널 연산자 : + , *\n",
    "print(10 + 10)\n",
    "print(\"10\" + \"10\") #  연결연산자.\n",
    "print(\"python\" + \" is fun\")\n",
    "a = \"python\"\n",
    "b = \"is\"\n",
    "c =\"fun\"\n",
    "print(a + \" \" + b + \" \" + c)\n",
    "str1 = \"이숭무\"\n",
    "print(\"이숭무이숭무이숭무\")\n",
    "print(\"이숭무\" * 3) #반복연산자\n"
   ]
  },
  {
   "cell_type": "code",
   "execution_count": 88,
   "id": "e8f443f7-2d16-4124-8a19-81455420fc75",
   "metadata": {},
   "outputs": [
    {
     "name": "stdout",
     "output_type": "stream",
     "text": [
      "Life is short,\n",
      "You need python\n",
      "Life's short,\n",
      "You need python\n",
      "Life is short,\n",
      "\"You need python\"\n",
      "Life is short,\n",
      "\"You need python\"\n",
      "Life's short,\n",
      "You need python\n",
      "Life's \n",
      "short,\n",
      "\"You need python\"\n"
     ]
    }
   ],
   "source": [
    "str1 = \"Life is short,\\nYou need python\" #escape문자 : \\\n",
    "print(str1)\n",
    "str1 = 'Life\\'s short,\\nYou need python'\n",
    "print(str1)\n",
    "str1 = \"Life is short,\\n\\\"You need python\\\"\"\n",
    "print(str1)\n",
    "str1 = 'Life is short,\\n\"You need python\"'\n",
    "print(str1)\n",
    "str1 = \"Life's short,\\nYou need python\"\n",
    "print(str1)\n",
    "str1 = \"Life's short,\\n\\\"You need python\\\"\"\n",
    "print(str1)"
   ]
  },
  {
   "cell_type": "code",
   "execution_count": 92,
   "id": "b9e1524c-a8aa-498e-8a13-bb90f6284ea8",
   "metadata": {},
   "outputs": [
    {
     "name": "stdout",
     "output_type": "stream",
     "text": [
      "You need pytho \n",
      "Life's short\n",
      "You need pytho \n",
      "Life's short\n"
     ]
    }
   ],
   "source": [
    "str1 = \"\"\"You need pytho \n",
    "Life's short\"\"\"\n",
    "print(str1)\n",
    "str1 = '''You need pytho \n",
    "Life's short'''\n",
    "print(str1)\n",
    "# 문자열을 표기하는 방법 : \" \" ,' ' ,\"\"\" \"\"\", ''' '''"
   ]
  },
  {
   "cell_type": "code",
   "execution_count": 96,
   "id": "1801b428-84af-45d2-99d2-bd063f9a00b7",
   "metadata": {},
   "outputs": [
    {
     "name": "stdout",
     "output_type": "stream",
     "text": [
      "Life is short, You need python\n",
      "30\n",
      "Life is short, You need python\n"
     ]
    }
   ],
   "source": [
    "str1 = \"Life is short, You need python\"\n",
    "print(str1)\n",
    "print(len(str1))\n",
    "print(str1)"
   ]
  },
  {
   "cell_type": "code",
   "execution_count": 107,
   "id": "c67750b4-65fb-454d-9364-80cb860e6013",
   "metadata": {},
   "outputs": [
    {
     "name": "stdout",
     "output_type": "stream",
     "text": [
      "Life is short\n",
      "h\n",
      "L\n",
      "t\n",
      "13\n",
      "t\n",
      "f\n",
      "f\n"
     ]
    }
   ],
   "source": [
    "# 문자열 인덱싱 indexing : index을 이용하는 것 : index는 문자가 가지고 있는 고유의 번호(0 부터)\n",
    "str1 =  \"Life is short\"\n",
    "#        0123456789012 # index\n",
    "#                  1\n",
    "print(str1)\n",
    "print(str1[9])\n",
    "print(str1[0])\n",
    "print(str1[12])\n",
    "print(len(str1))\n",
    "print(str1[len(str1) -1])\n",
    "print(str1[2])\n",
    "print(\"Life is short\"[2])"
   ]
  },
  {
   "cell_type": "code",
   "execution_count": 113,
   "id": "73332e94-0938-46d9-8f92-f5b586c880af",
   "metadata": {},
   "outputs": [
    {
     "name": "stdout",
     "output_type": "stream",
     "text": [
      "t\n",
      "t\n",
      "L\n",
      "L\n",
      "t\n",
      "t\n",
      "L\n",
      "L\n"
     ]
    }
   ],
   "source": [
    "str1 =  \"Life is short\"\n",
    "#                  111\n",
    "#        0123456789012\n",
    "#        1111\n",
    "#       -3210987654321\n",
    "print(str1[12])\n",
    "print(str1[-1])\n",
    "print(str1[0])\n",
    "print(str1[-13])\n",
    "print(str1[12])\n",
    "print(str1[len(str1)-1])\n",
    "print(str1[-13])\n",
    "print(str1[-len(str1)])"
   ]
  },
  {
   "cell_type": "code",
   "execution_count": 115,
   "id": "7e2bfb99-bb3e-4395-94db-def28956af2d",
   "metadata": {},
   "outputs": [
    {
     "name": "stdout",
     "output_type": "stream",
     "text": [
      "L\n",
      "i\n",
      "f\n",
      "e\n",
      "Life\n"
     ]
    }
   ],
   "source": [
    "str1 =  \"Life is short\"\n",
    "# Life를 출력하자.\n",
    "print(str1[0])\n",
    "print(str1[1])\n",
    "print(str1[2])\n",
    "print(str1[3])\n",
    "print(str1[0] + str1[1] + str1[2] + str1[3])"
   ]
  },
  {
   "cell_type": "code",
   "execution_count": 120,
   "id": "8e6d67fc-8a0c-4b3c-a21d-f43ea0ed707d",
   "metadata": {},
   "outputs": [
    {
     "name": "stdout",
     "output_type": "stream",
     "text": [
      "Life\n",
      "Life\n",
      "Lif\n",
      "short\n",
      "short\n",
      "is sho\n",
      "e is \n"
     ]
    }
   ],
   "source": [
    "#slicing\n",
    "str1 =  \"Life is short\"\n",
    "#                  111\n",
    "#        0123456789012\n",
    "#        1111\n",
    "#       -3210987654321\n",
    "# life\n",
    "print(str1[0:0 + 4])\n",
    "print(str1[0:4]) # 0부터 4전까지만 가져오기 (0,1,2,3)\n",
    "print(str1[0:3]) # 0부터 3전까지만 가져오기 (0,1,2)\n",
    "# short  \n",
    "print(str1[8:8+5])\n",
    "print(str1[8:13])\n",
    "# index5번부터 6글자 가져오기\n",
    "print(str1[5:5+6])\n",
    "idx = 3\n",
    "cnt = 5\n",
    "print(str1[idx:idx+cnt])"
   ]
  },
  {
   "cell_type": "code",
   "execution_count": 130,
   "id": "dbadcd0b-a1a6-445a-8786-05334290ec26",
   "metadata": {},
   "outputs": [
    {
     "name": "stdout",
     "output_type": "stream",
     "text": [
      "e\n",
      "h\n",
      "is to\n",
      "o\n",
      "is too sh\n",
      "oo sh\n",
      "too\n",
      "too\n",
      "too\n",
      "too\n"
     ]
    }
   ],
   "source": [
    "str1 =  \"Life is too short\" # index : 문자가 가지고 있는 고유의 번호\n",
    "#                  1111111\n",
    "#        01234567890123456\n",
    "#        11111111\n",
    "#       -76543210987654321\n",
    "print(str1[3])  # indexing\n",
    "print(str1[-4]) \n",
    "print(str1[5:10])\n",
    "print(str1[-8:10])\n",
    "print(str1[5:-3])\n",
    "print(str1[-8:-3])\n",
    "#too : 8번부터 3글자\n",
    "print(str1[8:8+3])\n",
    "print(str1[8:-9+3])\n",
    "print(str1[8:-6])\n",
    "print(str1[-9:11])"
   ]
  },
  {
   "cell_type": "code",
   "execution_count": 159,
   "id": "2ae13f3e-fa34-4a7b-aec9-4099991caefc",
   "metadata": {},
   "outputs": [
    {
     "data": {
      "text/plain": [
       "13"
      ]
     },
     "execution_count": 159,
     "metadata": {},
     "output_type": "execute_result"
    }
   ],
   "source": [
    "# 날짜(년,월,일)와 이름을 분리하여 출력\n",
    "a = \"20010331Rainy\"\n",
    "\n",
    "print(a[0:0+8])\n",
    "print(a[8:]) # 마지막 index는 지정해주지 않아도 된다.\n",
    "print(a[:0+8]) # 첫 index는 0이므로 지정하지 않아도 된다.\n",
    "#년\n",
    "print(a[:4])\n",
    "#월\n",
    "print(a[4:4+2])\n",
    "#일\n",
    "print(a[6:6+2])\n"
   ]
  },
  {
   "cell_type": "code",
   "execution_count": 139,
   "id": "ebf0804c-e093-461f-bc08-2d632cf47027",
   "metadata": {},
   "outputs": [
    {
     "name": "stdout",
     "output_type": "stream",
     "text": [
      "Life is too short\n",
      "Life is too short\n",
      "Life is too short\n",
      "17\n",
      "Life is too short\n"
     ]
    }
   ],
   "source": [
    "print(str1)\n",
    "print(str1[0:len(str1)])\n",
    "print(str1[0:17])\n",
    "print(len(str1))\n",
    "print(str1[:])"
   ]
  },
  {
   "cell_type": "code",
   "execution_count": 149,
   "id": "f697a0c6-f0c6-493f-9a69-df1530f24702",
   "metadata": {
    "scrolled": true
   },
   "outputs": [
    {
     "name": "stdout",
     "output_type": "stream",
     "text": [
      "Life is too short\n",
      "Lf stosot\n",
      "trohs oot si efiL\n",
      "f stos\n",
      "fe is too sh\n",
      "hs oot si ef\n"
     ]
    }
   ],
   "source": [
    "# 하나 건너서 출력\n",
    "print(str1[:])\n",
    "print(str1[::2])\n",
    "#reverse\n",
    "print(str1[::-1])\n",
    "# 2번부터 13번까지 하나 건너서 출력\n",
    "print(str1[2:14:2])\n",
    "# 13번부터 2번까지 reverse\n",
    "print(str1[2:14])\n",
    "print(str1[13:1:-1])"
   ]
  },
  {
   "cell_type": "code",
   "execution_count": 154,
   "id": "3d28aa72-21b2-4d61-b3ba-34942dfafd09",
   "metadata": {},
   "outputs": [
    {
     "name": "stdout",
     "output_type": "stream",
     "text": [
      "i\n",
      "python\n"
     ]
    }
   ],
   "source": [
    "str1=\"pithon\" \n",
    "print(str1[1])\n",
    "#str1[1] = 'y'#문자열은 index를 이용해서 수정 할 수 없다. \n",
    "print(str1[0] + 'y' + str1[2:])"
   ]
  },
  {
   "cell_type": "code",
   "execution_count": 165,
   "id": "415b7181-6675-4ea1-82bc-4f725814f112",
   "metadata": {},
   "outputs": [
    {
     "name": "stdout",
     "output_type": "stream",
     "text": [
      "나의 이름은 이상범이고 나이는 30살입니다.\n",
      "나의 이름은 이상범이고 나이는 30살입니다.\n",
      "나의 나이는 20살입니다.\n",
      "나의 나이는 30살입니다.\n",
      "나의 나이는 30살입니다.\n"
     ]
    }
   ],
   "source": [
    "# 포맷문자열 포매팅\n",
    "'나의 이름은 이숭무이고 나이는 20살입니다.'\n",
    "name = '이상범'\n",
    "age = 30\n",
    "print('나의 이름은 ' + name + '이고 나이는 ' + str(age) + '살입니다.')\n",
    "print('나의 이름은 %s이고 나이는 %d살입니다.' % (name, age))\n",
    "# 포맷문자 : %s:string:문자열 , %d:10진정수 : deciaml , %f:실수 :float , %c:문자 :charecter\n",
    "print('나의 나이는 20살입니다.')\n",
    "print('나의 나이는 %d살입니다.'  % age)\n",
    "print('나의 나이는 %d살입니다.'  % (age))"
   ]
  },
  {
   "cell_type": "code",
   "execution_count": 169,
   "id": "72afb30b-16c0-4eb1-8347-8765c849e94c",
   "metadata": {},
   "outputs": [
    {
     "name": "stdout",
     "output_type": "stream",
     "text": [
      "이상범의 계좌번호는 2222이고 잔액은 1000입니다.\n"
     ]
    }
   ],
   "source": [
    "'이숭무의 계좌번호는 1111이고 잔액은 100입니다.'\n",
    "name='이상범'\n",
    "account = '2222'\n",
    "money=1000\n",
    "result = '%s의 계좌번호는 %s이고 잔액은 %d입니다.' % (name, account, money)\n",
    "print(result)"
   ]
  },
  {
   "cell_type": "code",
   "execution_count": 180,
   "id": "35b954a6-8e1c-4f18-8d86-f9b1e588a658",
   "metadata": {},
   "outputs": [
    {
     "name": "stdout",
     "output_type": "stream",
     "text": [
      "이상범의 나이는 30살이고 키는 173.550000입니다\n",
      "이상범의 나이는 30살이고 키는 173.6입니다\n",
      "이상범의 나이는 30살이고 키는 173.5555555555입니다\n",
      "이상범의 나이는 30살이고 키는 173.6입니다\n",
      "이상범의 나이는 30살이고 키는 173.6입니다\n",
      "이상범의 나이는 30살이고 키는 173.55입니다\n"
     ]
    }
   ],
   "source": [
    "\"이숭무의 나이는 20살이고 키는 175.3입니다\"\n",
    "height = 173.55\n",
    "print(\"%s의 나이는 %d살이고 키는 %f입니다\" % (name, age, height))\n",
    "print(\"%s의 나이는 %d살이고 키는 %5.1f입니다\" % (name, age, height))\n",
    "height = 173.5555555555\n",
    "print(\"%s의 나이는 %d살이고 키는 %14.10f입니다\" % (name, age, height))\n",
    "height = 173.55\n",
    "print(\"%s의 나이는 %d살이고 키는 %4.1f입니다\" % (name, age, height))\n",
    "print(\"%s의 나이는 %d살이고 키는 %.1f입니다\" % (name, age, height))\n",
    "print(\"%s의 나이는 %s살이고 키는 %s입니다\" % (name, age, height))"
   ]
  },
  {
   "cell_type": "code",
   "execution_count": 182,
   "id": "daefaf26-2bd7-4419-b6b0-9136590c7be0",
   "metadata": {},
   "outputs": [
    {
     "name": "stdout",
     "output_type": "stream",
     "text": [
      "            이상범의 나이는         30살이고 키는      173.6입니다\n",
      "이상범            의 나이는 30        살이고 키는 173.6     입니다\n"
     ]
    }
   ],
   "source": [
    "# 정렬 : -는 왼쪽정렬, +는 오른쪽 정렬 \n",
    "\"         이숭무의 나이는         20살이고 키는        175.3입니다\"\n",
    "\"이숭무의          나이는 20        살이고 키는 175.3       입니다\"\n",
    "print(\"%15s의 나이는 %10d살이고 키는 %10.1f입니다\" % (name, age, height))\n",
    "print(\"%-15s의 나이는 %-10d살이고 키는 %-10.1f입니다\" % (name, age, height))"
   ]
  },
  {
   "cell_type": "code",
   "execution_count": 189,
   "id": "d221dbe2-4353-4481-89a8-a6b2d2e03b54",
   "metadata": {},
   "outputs": [
    {
     "name": "stdout",
     "output_type": "stream",
     "text": [
      "이상범의 나이는 30살이고 키는 173.550000입니다\n",
      "이상범의 나이는 30살이고 키는 173.55입니다\n",
      "이상범의 나이는 30살이고 이상범의 키는 173.550000입니다\n",
      "이상범의 나이는 30살이고 이상범의 키는 173.55입니다\n",
      "이상범의 나이는 30살이고 이상범의 키는 173.55입니다\n"
     ]
    }
   ],
   "source": [
    "# format 함수를 사용한 포매팅\n",
    "#str1, a, i, b : 변수\n",
    "#len(), str(), int(), print(), format() :함수\n",
    "height =  173.55\n",
    "'이숭무의 나이는 20살이고 키는 173.5입니다'\n",
    "print('%s의 나이는 %d살이고 키는 %f입니다' % (name, age, height) )\n",
    "print('{1}의 나이는 {0}살이고 키는 {2}입니다'.format(age, name, height));\n",
    "#                                                   0    1      2\n",
    "'이숭무의 나이는 20살이고 이숭무의 키는 173.5입니다'\n",
    "print('%s의 나이는 %d살이고 %s의 키는 %f입니다' % (name, age ,name, height))\n",
    "print('{1}의 나이는 {0}살이고 {1}의 키는 {2}입니다'.format(age,name,height));\n",
    "print('{1}의 나이는 {0}살이고 {1}의 키는 {2}입니다'.format(age,name,173.55));"
   ]
  },
  {
   "cell_type": "code",
   "execution_count": 199,
   "id": "b54daf31-8586-444e-ba42-27118f2e6836",
   "metadata": {},
   "outputs": [
    {
     "name": "stdout",
     "output_type": "stream",
     "text": [
      "이상범의 나이는 30살이고 키는 175.5입니다\n",
      "이상범의 나이는 30살이고 키는 175.5입니다\n",
      "이상범의 나이는 30살이고 키는 173.55입니다\n",
      "이상범의 나이는 30살이고 키는 173.55입니다\n",
      "이상범의 나이는 30살이고 키는 173.55입니다\n"
     ]
    }
   ],
   "source": [
    "# format함수에 이름으로 넣기\n",
    "'이숭무의 나이는 20살이고 키는 173.5입니다'\n",
    "print('{1}의 나이는 {0}살이고 키는 {2}입니다'.format(30, '이상범', 175.5))\n",
    "print('{1}의 나이는 {0}살이고 키는 {h}입니다'.format(age, name, h = 175.5))\n",
    "print('{1}의 나이는 {0}살이고 키는 {2}입니다'.format(age, name, height))\n",
    "print('{1}의 나이는 {0}살이고 키는 {h}입니다'.format(age, name, h = height))\n",
    "# print('{1}의 나이는 {a}살이고 키는 {h}입니다'.format(a = age, name, h = height))\n",
    "# positional argument follows keyword argument\n",
    "print('{n}의 나이는 {0}살이고 키는 {h}입니다'.format(age, n=name, h = height))"
   ]
  },
  {
   "cell_type": "code",
   "execution_count": 222,
   "id": "8411e5bc-f537-49d3-8ce7-985a720c3e2c",
   "metadata": {},
   "outputs": [
    {
     "name": "stdout",
     "output_type": "stream",
     "text": [
      "       이장범의 나이는         30살이고 키는      173.5입니다\n",
      "이장범       의 나이는         30살이고 키는      173.5입니다\n",
      "이장범       의 나이는         30살이고 키는      173.5입니다\n",
      "       이장범의 나이는         30살이고 키는      173.5입니다\n",
      "이장범       의 나이는 30        살이고 키는 173.5     입니다\n",
      "   이장범    의 나이는     30    살이고 키는   173.5   입니다\n",
      "---이장범----의 나이는 !!!!30!!!!살이고 키는 **173.5***입니다\n",
      "이장범의 나이는         30살이고 키는      173.5입니다\n",
      "{ 이숭무 }의 나이는         30살이고 키는      173.5입니다\n",
      "{ 2 }의 나이는         30살이고 키는      173.5입니다\n"
     ]
    }
   ],
   "source": [
    "#format함수를 이용한 정렬\n",
    "'이숭무의 나이는 20살이고 키는 173.5입니다'\n",
    "print(\"%10s의 나이는 %10d살이고 키는 %10.1f입니다\" % (name, age, height))\n",
    "print('{1:10}의 나이는 {0:10}살이고 키는 {2:10}입니다'.format(age, name, height))\n",
    "# 문자는 왼쪽 숫자 오른쪽\n",
    "print('{1:10}의 나이는 {0:10}살이고 키는 {2:10}입니다'.format(age, name, height))\n",
    "print('{1:>10}의 나이는 {0:>10}살이고 키는 {2:>10}입니다'.format(age, name, height))\n",
    "print('{1:<10}의 나이는 {0:<10}살이고 키는 {2:<10}입니다'.format(age, name, height))\n",
    "print('{1:^10}의 나이는 {0:^10}살이고 키는 {2:^10}입니다'.format(age, name, height))\n",
    "print('{1:-^10}의 나이는 {0:!^10}살이고 키는 {2:*^10}입니다'.format(age, name, height))\n",
    "print('{이숭무}의 나이는 {0:10}살이고 키는 {1:10.1f}입니다'.format(age, height, 이숭무=name))\n",
    "print('{{ 이숭무 }}의 나이는 {0:10}살이고 키는 {1:10.1f}입니다'.format(age, height))\n",
    "print('{{ 2 }}의 나이는 {0:10}살이고 키는 {1:10.1f}입니다'.format(age, height, name))\n",
    "# {{ 2 }}하면 문자가 오게 된다."
   ]
  },
  {
   "cell_type": "code",
   "execution_count": 223,
   "id": "c7fd5115-6fc7-4d1e-af9d-4f818a882a02",
   "metadata": {},
   "outputs": [
    {
     "name": "stdout",
     "output_type": "stream",
     "text": [
      "이장범의 나이는 30살이고 키는 173.5입니다\n",
      "이장범의 나이는 30살이고 키는 173.5입니다\n",
      "이장범의 나이는 30살이고 키는 173.5입니다\n",
      "이장범의 나이는 30살이고 키는 173.5입니다\n"
     ]
    }
   ],
   "source": [
    "#f 문자열 포매팅\n",
    "name='이장범'\n",
    "age=30\n",
    "height = 173.5\n",
    "'이숭무의 나이는 20살이고 키는 173.5입니다'\n",
    "print(\"%s의 나이는 %d살이고 키는 %.1f입니다\" % (name, age, height)) # c언어타입\n",
    "print('{1}의 나이는 {0}살이고 키는 {2}입니다'.format(age, name, height))\n",
    "print(f'{name}의 나이는 {age}살이고 키는 {height}입니다')\n",
    "result = f'{name}의 나이는 {age}살이고 키는 {height}입니다'\n",
    "print(result)"
   ]
  },
  {
   "cell_type": "code",
   "execution_count": 230,
   "id": "8249d9d8-287c-461a-b9e3-28fca868ac8a",
   "metadata": {},
   "outputs": [
    {
     "name": "stdout",
     "output_type": "stream",
     "text": [
      "hobby\n",
      "5\n",
      "5\n",
      "2\n",
      "2\n",
      "pithon\n",
      "1\n"
     ]
    }
   ],
   "source": [
    "# 문자열 가공 : 문자열 함수\n",
    "a = \"hobby\"\n",
    "print(a)\n",
    "# 문자열의 길이\n",
    "print(len(a)) # len : length\n",
    "print(len(\"hobby\"))\n",
    "# 특정문자의 갯수\n",
    "print(a.count('b'))\n",
    "print(\"hobby\".count('b'))\n",
    "print(str1)\n",
    "print(str1.count(\"i\"))"
   ]
  },
  {
   "cell_type": "code",
   "execution_count": 239,
   "id": "5ca7f45a-2d51-4759-991e-b7f3f0fdf719",
   "metadata": {},
   "outputs": [
    {
     "name": "stdout",
     "output_type": "stream",
     "text": [
      "Lite is too short, You need python\n",
      "too\n",
      "8\n",
      "too\n",
      "too\n",
      "2\n"
     ]
    }
   ],
   "source": [
    "str1 = \"Lite is too short, You need python\"\n",
    "#                 1          2         3\n",
    "#       0123456789012344567890123456789012\n",
    "print(str1)\n",
    "print(str1[8:8+3])\n",
    "#index함수\n",
    "# too에 해당하는 index를 가져오기\n",
    "idx = str1.index(\"too\")\n",
    "print(idx)\n",
    "print(str1[idx:idx + 3])\n",
    "cnt = len(\"too\")\n",
    "print(str1[str1.index(\"too\"):str1.index(\"too\") + cnt])\n",
    "\n",
    "idx =  str1.index('t') #왼쪽에서 첫번째 만나는 문자열의 index\n",
    "print(idx)\n",
    "\n"
   ]
  },
  {
   "cell_type": "code",
   "execution_count": 245,
   "id": "1e2d2748-257f-4e6f-8eb5-de781ad995ec",
   "metadata": {},
   "outputs": [
    {
     "name": "stdout",
     "output_type": "stream",
     "text": [
      "Lite is too short, You need python\n",
      "ite is too\n",
      "5\n",
      "is too sho\n"
     ]
    }
   ],
   "source": [
    "print(str1)\n",
    "##str1에서 첫번째 i가 있는 문자부터 10글자\n",
    "idx = str1.index(\"i\")\n",
    "print(str1[idx:idx+10])\n",
    "\n",
    "## str1에서 첫번째 is가 있는 문자부터 10글자\n",
    "idx = str1.index(\"is\")\n",
    "print(idx)\n",
    "print(str1[idx:idx+10])"
   ]
  },
  {
   "cell_type": "code",
   "execution_count": 250,
   "id": "8d84f784-3daa-4f0d-bb51-b1870bdb54f1",
   "metadata": {},
   "outputs": [
    {
     "name": "stdout",
     "output_type": "stream",
     "text": [
      "5\n",
      "1\n",
      "5\n",
      "5\n",
      "is too sho\n",
      "Lite is too short, You need python\n"
     ]
    }
   ],
   "source": [
    "### 두번째 i부터 10글자\n",
    "#Lite is too short, You need python\n",
    "#012345678\n",
    "idx = str1.index('i', 2) # 2는 첫번째 i의 index에 1더하기\n",
    "print(idx)\n",
    "\n",
    "ix = str1.index('i') # 첫번째 i의 index를 가져오기\n",
    "print(ix)\n",
    "\n",
    "# 두번째 i의 index 가져오기\n",
    "idx = str1.index('i',ix + 1) # 첫번째 i의 index에서 두번째  i의 index를 찾기 위해 첫번째 i의 index에 1을 더한다.\n",
    "print(idx)\n",
    "idx = str1.index('i',str1.index('i') + 1)\n",
    "print(idx)\n",
    "\n",
    "print(str1[idx:idx+10])\n"
   ]
  },
  {
   "cell_type": "code",
   "execution_count": 251,
   "id": "26f9f6f2-383f-4e03-85b9-c55f79721ec2",
   "metadata": {},
   "outputs": [
    {
     "name": "stdout",
     "output_type": "stream",
     "text": [
      "16\n"
     ]
    }
   ],
   "source": [
    "# 3번째 t의 index를 가져오시오\n",
    "idx = str1.index('t' , str1.index('t', str1.index('t') + 1) + 1)\n",
    "print(idx)"
   ]
  },
  {
   "cell_type": "code",
   "execution_count": 254,
   "id": "fdbc8889-a5fb-4024-a996-c42935f479d0",
   "metadata": {},
   "outputs": [
    {
     "name": "stdout",
     "output_type": "stream",
     "text": [
      "30\n",
      "tho\n"
     ]
    }
   ],
   "source": [
    "# Lite is too short, You need python\n",
    "# 0123456789...\n",
    "#                            -654321\n",
    "#마지막에 있는 't'\n",
    "idx = str1.rindex('t')\n",
    "print(idx)\n",
    "print(str1[idx:idx+3])"
   ]
  },
  {
   "cell_type": "code",
   "execution_count": 264,
   "id": "4ec18507-4679-40f9-8818-daeed9d8131d",
   "metadata": {},
   "outputs": [
    {
     "name": "stdout",
     "output_type": "stream",
     "text": [
      "8\n",
      "2\n",
      "16\n",
      "30\n",
      "-1\n"
     ]
    }
   ],
   "source": [
    "#find : index처럼 문자열의 index를 가져온다.\n",
    "idx = str1.find(\"too\")\n",
    "print(idx)\n",
    "idx = str1.find('t')\n",
    "print(idx)\n",
    "# 세번째 t의 index를 가져오기\n",
    "idx = str1.find( 't' , str1.find('t', str1.find('t') + 1) + 1 )\n",
    "print(idx)\n",
    "# 마지막 't'의 index\n",
    "idx = str1.rfind('t')\n",
    "print(idx)\n",
    "# find와 index의 차이점\n",
    "print(str1.find('zoo')) # 찿는 문자열의 index가 없다면 -1 값을 가져온다.\n",
    "# print(str1.index('zoo')) # 찾는 문자열이 없으면 오류 발생"
   ]
  },
  {
   "cell_type": "code",
   "execution_count": 270,
   "id": "2f435255-1f30-420c-9ab0-f7925173544d",
   "metadata": {},
   "outputs": [
    {
     "name": "stdout",
     "output_type": "stream",
     "text": [
      "Lite is too short, You need python\n",
      "lite is too short, you need python\n",
      "Lite is too short, You need python\n",
      "LITE IS TOO SHORT, YOU NEED PYTHON\n",
      "LITE IS TOO SHORT, YOU NEED PYTHON\n",
      "Lite is too short, You need python\n"
     ]
    }
   ],
   "source": [
    "print(str1)\n",
    "# 문자열을 모두 소문자로 출력\n",
    "print(str1.lower())\n",
    "print(str1) # 원본 값은 변경되지 않는다.\n",
    "# 문자열을 모두 대문자로 출력\n",
    "print(str1.upper())\n",
    "str2= str1.upper()\n",
    "print(str2)\n",
    "print(str1)# 원본 값은 변경되지 않는다."
   ]
  },
  {
   "cell_type": "code",
   "execution_count": 277,
   "id": "4405a928-53db-49aa-9d2c-73769df365df",
   "metadata": {},
   "outputs": [
    {
     "name": "stdout",
     "output_type": "stream",
     "text": [
      "같다\n"
     ]
    }
   ],
   "source": [
    "str2 = \"    highalnd0     \"\n",
    "if str2 == \"highalnd0\":\n",
    "    print(\"같다\")\n",
    "else:\n",
    "    print(\"다르다\")"
   ]
  },
  {
   "cell_type": "code",
   "execution_count": 280,
   "id": "9a3dc948-3134-4b28-b222-f1bc1ed47cba",
   "metadata": {},
   "outputs": [
    {
     "name": "stdout",
     "output_type": "stream",
     "text": [
      "    highalnd0     \n",
      "highalnd0\n",
      "같다\n"
     ]
    }
   ],
   "source": [
    "#양옆에 있는 공백문자 지우기 : strip()\n",
    "print(str2)\n",
    "result = str2.strip()\n",
    "print(result)\n",
    "if str2.strip() == \"highalnd0\":\n",
    "    print(\"같다\")\n",
    "else:\n",
    "    print(\"다르다\")"
   ]
  },
  {
   "cell_type": "code",
   "execution_count": 293,
   "id": "52f9f1e8-3dd1-41e4-a900-4e430335951a",
   "metadata": {},
   "outputs": [
    {
     "name": "stdout",
     "output_type": "stream",
     "text": [
      "Life is too short\n",
      "   Life is too short\n",
      "Life is too short    \n",
      "Life is too short\n",
      "abLife is too short\n",
      "Life is too shortab\n",
      "Life is too short\n",
      "Life is too short\n",
      "Life is too short\n"
     ]
    }
   ],
   "source": [
    "str3 = \"   Life is too short    \"; #중간에 있는 공백문자는 정상적인 데이터이다.\n",
    "result = str3.strip()\n",
    "print(result)\n",
    "result = str3.rstrip()\n",
    "print(result)\n",
    "result = str3.lstrip()\n",
    "print(result)\n",
    "str3 = \"abLife is too shortab\";\n",
    "result = str3.strip(\"ab\")\n",
    "print(result)\n",
    "result = str3.rstrip(\"ab\")\n",
    "print(result)\n",
    "result = str3.lstrip(\"ab\")\n",
    "print(result)\n",
    "str3 = \"abcdLife is too shortcdab\";\n",
    "result = str3.strip(\"ab\").strip(\"cd\")\n",
    "print(result)\n",
    "str3 = \"    abLife is too shortab      \" ;\n",
    "result = str3.strip().strip(\"ab\");\n",
    "print(result)\n",
    "str3 = \"    abcdLife is too shortcdab      \" ;\n",
    "result = str3.strip().strip(\"ab\").strip(\"cd\");\n",
    "print(result)"
   ]
  },
  {
   "cell_type": "code",
   "execution_count": 295,
   "id": "b5f2b607-6817-4427-8fd8-375cf4457c47",
   "metadata": {},
   "outputs": [
    {
     "name": "stdout",
     "output_type": "stream",
     "text": [
      "Your leg is too short\n",
      "Life is too short\n"
     ]
    }
   ],
   "source": [
    "### # 문자열 대체하기\n",
    "str1 = \"Life is too short\"\n",
    "str2 = str1.replace(\"Life\", \"Your leg\");\n",
    "print(str2)\n",
    "print(str1)"
   ]
  },
  {
   "cell_type": "code",
   "execution_count": 300,
   "id": "4aedf757-893d-4f39-8524-16086b637169",
   "metadata": {},
   "outputs": [
    {
     "name": "stdout",
     "output_type": "stream",
     "text": [
      "['Life', 'is', 'too', 'short']\n",
      "['Life', 'is', 'too', 'short']\n"
     ]
    }
   ],
   "source": [
    "# 쪼개기 : split : 결과는 리스트가 된다.\n",
    "str1 = \"Life is too short\"\n",
    "str2 = str1.split()\n",
    "print(str2) # ['Life', 'is', 'too', 'short'] : 리스트\n",
    "\n",
    "str1 = \"Life:is:too:short\"\n",
    "str2 = str1.split(\":\")\n",
    "print(str2)"
   ]
  },
  {
   "cell_type": "code",
   "execution_count": null,
   "id": "67c81470-e008-45da-b1df-4e38164ee7eb",
   "metadata": {},
   "outputs": [],
   "source": []
  },
  {
   "cell_type": "code",
   "execution_count": null,
   "id": "ea3f3eeb-6427-467f-80bd-6fbcccd5f76d",
   "metadata": {},
   "outputs": [],
   "source": []
  },
  {
   "cell_type": "code",
   "execution_count": null,
   "id": "87673763-9dce-45c9-a932-5c2fb380fa7e",
   "metadata": {},
   "outputs": [],
   "source": []
  }
 ],
 "metadata": {
  "kernelspec": {
   "display_name": "Python 3 (ipykernel)",
   "language": "python",
   "name": "python3"
  },
  "language_info": {
   "codemirror_mode": {
    "name": "ipython",
    "version": 3
   },
   "file_extension": ".py",
   "mimetype": "text/x-python",
   "name": "python",
   "nbconvert_exporter": "python",
   "pygments_lexer": "ipython3",
   "version": "3.12.0"
  }
 },
 "nbformat": 4,
 "nbformat_minor": 5
}
